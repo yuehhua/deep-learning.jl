{
 "cells": [
  {
   "cell_type": "markdown",
   "metadata": {},
   "source": [
    "# $\\beta$-variational autoencoder"
   ]
  },
  {
   "cell_type": "code",
   "execution_count": 1,
   "metadata": {},
   "outputs": [
    {
     "name": "stderr",
     "output_type": "stream",
     "text": [
      "WARNING: using Distributions.params in module Main conflicts with an existing identifier.\n"
     ]
    }
   ],
   "source": [
    "using Flux, Flux.Data.MNIST\n",
    "using Flux: @epochs, throttle, params\n",
    "using Distributions\n",
    "import Distributions: logpdf"
   ]
  },
  {
   "cell_type": "markdown",
   "metadata": {},
   "source": [
    "**For numerically stable, extend distributions slightly to have a logpdf for `p` close to 1 or 0.**"
   ]
  },
  {
   "cell_type": "code",
   "execution_count": 2,
   "metadata": {},
   "outputs": [
    {
     "data": {
      "text/plain": [
       "logpdf (generic function with 62 methods)"
      ]
     },
     "execution_count": 2,
     "metadata": {},
     "output_type": "execute_result"
    }
   ],
   "source": [
    "logpdf(b::Bernoulli, y::Bool) = y * log(b.p + eps()) + (1 - y) * log(1 - b.p + eps())"
   ]
  },
  {
   "cell_type": "markdown",
   "metadata": {},
   "source": [
    "# Load data"
   ]
  },
  {
   "cell_type": "code",
   "execution_count": 3,
   "metadata": {},
   "outputs": [],
   "source": [
    "X = MNIST.images();"
   ]
  },
  {
   "cell_type": "markdown",
   "metadata": {},
   "source": [
    "## Binarise"
   ]
  },
  {
   "cell_type": "code",
   "execution_count": 4,
   "metadata": {},
   "outputs": [
    {
     "data": {
      "text/plain": [
       "784×60000 BitArray{2}:\n",
       " false  false  false  false  false  …  false  false  false  false  false\n",
       " false  false  false  false  false     false  false  false  false  false\n",
       " false  false  false  false  false     false  false  false  false  false\n",
       " false  false  false  false  false     false  false  false  false  false\n",
       " false  false  false  false  false     false  false  false  false  false\n",
       " false  false  false  false  false  …  false  false  false  false  false\n",
       " false  false  false  false  false     false  false  false  false  false\n",
       " false  false  false  false  false     false  false  false  false  false\n",
       " false  false  false  false  false     false  false  false  false  false\n",
       " false  false  false  false  false     false  false  false  false  false\n",
       " false  false  false  false  false  …  false  false  false  false  false\n",
       " false  false  false  false  false     false  false  false  false  false\n",
       " false  false  false  false  false     false  false  false  false  false\n",
       "     ⋮                              ⋱      ⋮                            \n",
       " false  false  false  false  false     false  false  false  false  false\n",
       " false  false  false  false  false     false  false  false  false  false\n",
       " false  false  false  false  false     false  false  false  false  false\n",
       " false  false  false  false  false  …  false  false  false  false  false\n",
       " false  false  false  false  false     false  false  false  false  false\n",
       " false  false  false  false  false     false  false  false  false  false\n",
       " false  false  false  false  false     false  false  false  false  false\n",
       " false  false  false  false  false     false  false  false  false  false\n",
       " false  false  false  false  false  …  false  false  false  false  false\n",
       " false  false  false  false  false     false  false  false  false  false\n",
       " false  false  false  false  false     false  false  false  false  false\n",
       " false  false  false  false  false     false  false  false  false  false"
      ]
     },
     "execution_count": 4,
     "metadata": {},
     "output_type": "execute_result"
    }
   ],
   "source": [
    "X = float.(hcat(vec.(X)...)) .> 0.5"
   ]
  },
  {
   "cell_type": "markdown",
   "metadata": {},
   "source": [
    "## Mini-batches"
   ]
  },
  {
   "cell_type": "code",
   "execution_count": 5,
   "metadata": {},
   "outputs": [
    {
     "data": {
      "text/plain": [
       "600-element Array{BitArray{2},1}:\n",
       " [false false … false false; false false … false false; … ; false false … false false; false false … false false]\n",
       " [false false … false false; false false … false false; … ; false false … false false; false false … false false]\n",
       " [false false … false false; false false … false false; … ; false false … false false; false false … false false]\n",
       " [false false … false false; false false … false false; … ; false false … false false; false false … false false]\n",
       " [false false … false false; false false … false false; … ; false false … false false; false false … false false]\n",
       " [false false … false false; false false … false false; … ; false false … false false; false false … false false]\n",
       " [false false … false false; false false … false false; … ; false false … false false; false false … false false]\n",
       " [false false … false false; false false … false false; … ; false false … false false; false false … false false]\n",
       " [false false … false false; false false … false false; … ; false false … false false; false false … false false]\n",
       " [false false … false false; false false … false false; … ; false false … false false; false false … false false]\n",
       " [false false … false false; false false … false false; … ; false false … false false; false false … false false]\n",
       " [false false … false false; false false … false false; … ; false false … false false; false false … false false]\n",
       " [false false … false false; false false … false false; … ; false false … false false; false false … false false]\n",
       " ⋮                                                                                                               \n",
       " [false false … false false; false false … false false; … ; false false … false false; false false … false false]\n",
       " [false false … false false; false false … false false; … ; false false … false false; false false … false false]\n",
       " [false false … false false; false false … false false; … ; false false … false false; false false … false false]\n",
       " [false false … false false; false false … false false; … ; false false … false false; false false … false false]\n",
       " [false false … false false; false false … false false; … ; false false … false false; false false … false false]\n",
       " [false false … false false; false false … false false; … ; false false … false false; false false … false false]\n",
       " [false false … false false; false false … false false; … ; false false … false false; false false … false false]\n",
       " [false false … false false; false false … false false; … ; false false … false false; false false … false false]\n",
       " [false false … false false; false false … false false; … ; false false … false false; false false … false false]\n",
       " [false false … false false; false false … false false; … ; false false … false false; false false … false false]\n",
       " [false false … false false; false false … false false; … ; false false … false false; false false … false false]\n",
       " [false false … false false; false false … false false; … ; false false … false false; false false … false false]"
      ]
     },
     "execution_count": 5,
     "metadata": {},
     "output_type": "execute_result"
    }
   ],
   "source": [
    "N, M = size(X, 2), 100\n",
    "data = [X[:,i] for i in Iterators.partition(1:N,M)]"
   ]
  },
  {
   "cell_type": "markdown",
   "metadata": {},
   "source": [
    "# Define Model"
   ]
  },
  {
   "cell_type": "code",
   "execution_count": 6,
   "metadata": {},
   "outputs": [
    {
     "data": {
      "text/plain": [
       "Chain(Dense(5, 500, tanh), Dense(500, 784, NNlib.σ))"
      ]
     },
     "execution_count": 6,
     "metadata": {},
     "output_type": "execute_result"
    }
   ],
   "source": [
    "# Dimensions (D -> Dh -> Dz -> Dh -> D)\n",
    "Dz, Dh, D = 5, 500, 28^2\n",
    "β = 1.5\n",
    "\n",
    "# Encoder\n",
    "A, μ, logσ = Dense(D, Dh, tanh), Dense(Dh, Dz), Dense(Dh, Dz)\n",
    "g(X) = (h = A(X); (μ(h), logσ(h)))\n",
    "z(μ, logσ) = μ + exp(logσ) * randn()\n",
    "\n",
    "# Decoder\n",
    "f = Chain(Dense(Dz, Dh, tanh), Dense(Dh, D, σ))"
   ]
  },
  {
   "cell_type": "markdown",
   "metadata": {},
   "source": [
    "# Loss function and ELBO"
   ]
  },
  {
   "cell_type": "code",
   "execution_count": 7,
   "metadata": {},
   "outputs": [
    {
     "data": {
      "text/plain": [
       "modelsample (generic function with 1 method)"
      ]
     },
     "execution_count": 7,
     "metadata": {},
     "output_type": "execute_result"
    }
   ],
   "source": [
    "# KL-divergence between approximation posterior and N(0, 1) prior.\n",
    "kl_q_p(μ, logσ) = 0.5 * sum(exp.(2 .* logσ) + μ.^2 .- 1 .+ logσ.^2)\n",
    "\n",
    "# logp(x|z) - conditional probability of data given latents.\n",
    "logp_x_z(x, z) = sum(logpdf.(Bernoulli.(f(z)), x))\n",
    "\n",
    "# Monte Carlo estimator of mean ELBO using M samples.\n",
    "L̄(X) = ((μ̂, logσ̂) = g(X); (logp_x_z(X, z.(μ̂, logσ̂)) - β * kl_q_p(μ̂, logσ̂)) / M)\n",
    "\n",
    "loss(X) = -L̄(X) + 0.01 * sum(x->sum(x.^2), params(f))\n",
    "\n",
    "# Sample from the learned model.\n",
    "modelsample() = rand.(Bernoulli.(f(z.(zeros(Dz), zeros(Dz)))))"
   ]
  },
  {
   "cell_type": "markdown",
   "metadata": {},
   "source": [
    "# Learning"
   ]
  },
  {
   "cell_type": "code",
   "execution_count": 8,
   "metadata": {},
   "outputs": [
    {
     "name": "stderr",
     "output_type": "stream",
     "text": [
      "┌ Info: Epoch 1\n",
      "└ @ Main /home/pika/.julia/packages/Flux/rcN9D/src/optimise/train.jl:93\n"
     ]
    },
    {
     "name": "stdout",
     "output_type": "stream",
     "text": [
      "-(L̄(X[:, rand(1:N, M)])) = 543.4741079735873 (tracked)\n",
      "-(L̄(X[:, rand(1:N, M)])) = 240.77436031284057 (tracked)\n",
      "-(L̄(X[:, rand(1:N, M)])) = 214.55491107573835 (tracked)\n",
      "-(L̄(X[:, rand(1:N, M)])) = 202.6194659295882 (tracked)\n",
      "-(L̄(X[:, rand(1:N, M)])) = 196.061716175536 (tracked)\n",
      "-(L̄(X[:, rand(1:N, M)])) = 229.71551460594156 (tracked)\n",
      "-(L̄(X[:, rand(1:N, M)])) = 190.74841643774397 (tracked)\n",
      "-(L̄(X[:, rand(1:N, M)])) = 182.52543165371193 (tracked)\n",
      "-(L̄(X[:, rand(1:N, M)])) = 178.50423430269012 (tracked)\n",
      "-(L̄(X[:, rand(1:N, M)])) = 182.71750069258906 (tracked)\n",
      "-(L̄(X[:, rand(1:N, M)])) = 186.8326452119993 (tracked)\n",
      "-(L̄(X[:, rand(1:N, M)])) = 176.69945552584286 (tracked)\n",
      "-(L̄(X[:, rand(1:N, M)])) = 176.52656385132178 (tracked)\n",
      "-(L̄(X[:, rand(1:N, M)])) = 178.5466491467675 (tracked)\n",
      "-(L̄(X[:, rand(1:N, M)])) = 174.33262594283798 (tracked)\n",
      "-(L̄(X[:, rand(1:N, M)])) = 182.798034980013 (tracked)\n",
      "-(L̄(X[:, rand(1:N, M)])) = 172.04000194800375 (tracked)\n",
      "-(L̄(X[:, rand(1:N, M)])) = 174.84039228913494 (tracked)\n",
      "-(L̄(X[:, rand(1:N, M)])) = 178.03814998494718 (tracked)\n",
      "-(L̄(X[:, rand(1:N, M)])) = 174.6355404483381 (tracked)\n"
     ]
    },
    {
     "name": "stderr",
     "output_type": "stream",
     "text": [
      "┌ Info: Epoch 2\n",
      "└ @ Main /home/pika/.julia/packages/Flux/rcN9D/src/optimise/train.jl:93\n"
     ]
    },
    {
     "name": "stdout",
     "output_type": "stream",
     "text": [
      "-(L̄(X[:, rand(1:N, M)])) = 176.7694080113036 (tracked)\n",
      "-(L̄(X[:, rand(1:N, M)])) = 163.58063721559668 (tracked)\n",
      "-(L̄(X[:, rand(1:N, M)])) = 178.51966218664376 (tracked)\n",
      "-(L̄(X[:, rand(1:N, M)])) = 171.40585714926885 (tracked)\n",
      "-(L̄(X[:, rand(1:N, M)])) = 170.13388389106186 (tracked)\n",
      "-(L̄(X[:, rand(1:N, M)])) = 163.19634013803807 (tracked)\n",
      "-(L̄(X[:, rand(1:N, M)])) = 172.48401042392106 (tracked)\n",
      "-(L̄(X[:, rand(1:N, M)])) = 170.60879724307378 (tracked)\n",
      "-(L̄(X[:, rand(1:N, M)])) = 169.51257890430148 (tracked)\n",
      "-(L̄(X[:, rand(1:N, M)])) = 168.75875447803827 (tracked)\n",
      "-(L̄(X[:, rand(1:N, M)])) = 167.13314345343005 (tracked)\n",
      "-(L̄(X[:, rand(1:N, M)])) = 167.88887663319517 (tracked)\n",
      "-(L̄(X[:, rand(1:N, M)])) = 167.29259625839924 (tracked)\n",
      "-(L̄(X[:, rand(1:N, M)])) = 159.64977281491463 (tracked)\n",
      "-(L̄(X[:, rand(1:N, M)])) = 165.939097913098 (tracked)\n",
      "-(L̄(X[:, rand(1:N, M)])) = 163.31506943301912 (tracked)\n",
      "-(L̄(X[:, rand(1:N, M)])) = 156.61848813372083 (tracked)\n",
      "-(L̄(X[:, rand(1:N, M)])) = 153.81674585553685 (tracked)\n",
      "-(L̄(X[:, rand(1:N, M)])) = 160.78025633107242 (tracked)\n",
      "-(L̄(X[:, rand(1:N, M)])) = 155.51879787956534 (tracked)\n"
     ]
    },
    {
     "name": "stderr",
     "output_type": "stream",
     "text": [
      "┌ Info: Epoch 3\n",
      "└ @ Main /home/pika/.julia/packages/Flux/rcN9D/src/optimise/train.jl:93\n"
     ]
    },
    {
     "name": "stdout",
     "output_type": "stream",
     "text": [
      "-(L̄(X[:, rand(1:N, M)])) = 161.09267978767036 (tracked)\n",
      "-(L̄(X[:, rand(1:N, M)])) = 152.08125992721168 (tracked)\n",
      "-(L̄(X[:, rand(1:N, M)])) = 159.77174894245704 (tracked)\n",
      "-(L̄(X[:, rand(1:N, M)])) = 153.62701131948194 (tracked)\n",
      "-(L̄(X[:, rand(1:N, M)])) = 160.52247998460555 (tracked)\n",
      "-(L̄(X[:, rand(1:N, M)])) = 157.66476805463665 (tracked)\n",
      "-(L̄(X[:, rand(1:N, M)])) = 163.35711716697972 (tracked)\n",
      "-(L̄(X[:, rand(1:N, M)])) = 162.9161286389841 (tracked)\n",
      "-(L̄(X[:, rand(1:N, M)])) = 160.8087336119899 (tracked)\n",
      "-(L̄(X[:, rand(1:N, M)])) = 162.7831659362523 (tracked)\n",
      "-(L̄(X[:, rand(1:N, M)])) = 158.56166254924574 (tracked)\n",
      "-(L̄(X[:, rand(1:N, M)])) = 154.35628903260533 (tracked)\n",
      "-(L̄(X[:, rand(1:N, M)])) = 164.78654371710377 (tracked)\n",
      "-(L̄(X[:, rand(1:N, M)])) = 151.18449950755928 (tracked)\n",
      "-(L̄(X[:, rand(1:N, M)])) = 161.45906718603118 (tracked)\n",
      "-(L̄(X[:, rand(1:N, M)])) = 157.00063626283873 (tracked)\n",
      "-(L̄(X[:, rand(1:N, M)])) = 155.6758089627048 (tracked)\n",
      "-(L̄(X[:, rand(1:N, M)])) = 146.42607172773845 (tracked)\n",
      "-(L̄(X[:, rand(1:N, M)])) = 155.50077937095796 (tracked)\n",
      "-(L̄(X[:, rand(1:N, M)])) = 155.8783644400041 (tracked)\n"
     ]
    },
    {
     "name": "stderr",
     "output_type": "stream",
     "text": [
      "┌ Info: Epoch 4\n",
      "└ @ Main /home/pika/.julia/packages/Flux/rcN9D/src/optimise/train.jl:93\n"
     ]
    },
    {
     "name": "stdout",
     "output_type": "stream",
     "text": [
      "-(L̄(X[:, rand(1:N, M)])) = 149.95255968988707 (tracked)\n",
      "-(L̄(X[:, rand(1:N, M)])) = 151.4364823374859 (tracked)\n",
      "-(L̄(X[:, rand(1:N, M)])) = 157.60619066195696 (tracked)\n",
      "-(L̄(X[:, rand(1:N, M)])) = 153.8723283826835 (tracked)\n",
      "-(L̄(X[:, rand(1:N, M)])) = 155.04766869792473 (tracked)\n",
      "-(L̄(X[:, rand(1:N, M)])) = 157.9817558567911 (tracked)\n",
      "-(L̄(X[:, rand(1:N, M)])) = 155.83468796389738 (tracked)\n",
      "-(L̄(X[:, rand(1:N, M)])) = 150.25107150850647 (tracked)\n",
      "-(L̄(X[:, rand(1:N, M)])) = 151.20531800119207 (tracked)\n",
      "-(L̄(X[:, rand(1:N, M)])) = 151.30437006258734 (tracked)\n",
      "-(L̄(X[:, rand(1:N, M)])) = 146.03711623705402 (tracked)\n",
      "-(L̄(X[:, rand(1:N, M)])) = 160.52275485397394 (tracked)\n",
      "-(L̄(X[:, rand(1:N, M)])) = 158.16557467679297 (tracked)\n",
      "-(L̄(X[:, rand(1:N, M)])) = 155.2483544970169 (tracked)\n",
      "-(L̄(X[:, rand(1:N, M)])) = 153.878413088408 (tracked)\n",
      "-(L̄(X[:, rand(1:N, M)])) = 153.14098868843067 (tracked)\n",
      "-(L̄(X[:, rand(1:N, M)])) = 143.96702156600406 (tracked)\n",
      "-(L̄(X[:, rand(1:N, M)])) = 158.20997452777158 (tracked)\n",
      "-(L̄(X[:, rand(1:N, M)])) = 152.12329778602464 (tracked)\n",
      "-(L̄(X[:, rand(1:N, M)])) = 156.5566376761748 (tracked)\n",
      "-(L̄(X[:, rand(1:N, M)])) = 148.58907878030868 (tracked)\n",
      "-(L̄(X[:, rand(1:N, M)])) = 150.45226085955966 (tracked)\n"
     ]
    },
    {
     "name": "stderr",
     "output_type": "stream",
     "text": [
      "┌ Info: Epoch 5\n",
      "└ @ Main /home/pika/.julia/packages/Flux/rcN9D/src/optimise/train.jl:93\n"
     ]
    },
    {
     "name": "stdout",
     "output_type": "stream",
     "text": [
      "-(L̄(X[:, rand(1:N, M)])) = 148.37397200927887 (tracked)\n",
      "-(L̄(X[:, rand(1:N, M)])) = 153.94518502696067 (tracked)\n",
      "-(L̄(X[:, rand(1:N, M)])) = 149.77077032238122 (tracked)\n",
      "-(L̄(X[:, rand(1:N, M)])) = 151.06459035170104 (tracked)\n",
      "-(L̄(X[:, rand(1:N, M)])) = 152.01470811981812 (tracked)\n",
      "-(L̄(X[:, rand(1:N, M)])) = 143.10409909813978 (tracked)\n",
      "-(L̄(X[:, rand(1:N, M)])) = 151.14902791476433 (tracked)\n",
      "-(L̄(X[:, rand(1:N, M)])) = 145.92168819153693 (tracked)\n",
      "-(L̄(X[:, rand(1:N, M)])) = 151.1257209156018 (tracked)\n",
      "-(L̄(X[:, rand(1:N, M)])) = 155.18631440696055 (tracked)\n",
      "-(L̄(X[:, rand(1:N, M)])) = 148.9823239459329 (tracked)\n",
      "-(L̄(X[:, rand(1:N, M)])) = 154.90394443267053 (tracked)\n",
      "-(L̄(X[:, rand(1:N, M)])) = 147.19398818731966 (tracked)\n",
      "-(L̄(X[:, rand(1:N, M)])) = 150.13252773829743 (tracked)\n",
      "-(L̄(X[:, rand(1:N, M)])) = 155.07548314383388 (tracked)\n",
      "-(L̄(X[:, rand(1:N, M)])) = 137.3824091669641 (tracked)\n",
      "-(L̄(X[:, rand(1:N, M)])) = 150.9803126706165 (tracked)\n",
      "-(L̄(X[:, rand(1:N, M)])) = 153.55468075082035 (tracked)\n",
      "-(L̄(X[:, rand(1:N, M)])) = 154.33293797338783 (tracked)\n",
      "-(L̄(X[:, rand(1:N, M)])) = 151.11573677877527 (tracked)\n",
      "-(L̄(X[:, rand(1:N, M)])) = 155.91173548168732 (tracked)\n"
     ]
    },
    {
     "name": "stderr",
     "output_type": "stream",
     "text": [
      "┌ Info: Epoch 6\n",
      "└ @ Main /home/pika/.julia/packages/Flux/rcN9D/src/optimise/train.jl:93\n"
     ]
    },
    {
     "name": "stdout",
     "output_type": "stream",
     "text": [
      "-(L̄(X[:, rand(1:N, M)])) = 149.14822855222482 (tracked)\n",
      "-(L̄(X[:, rand(1:N, M)])) = 150.2908843766514 (tracked)\n",
      "-(L̄(X[:, rand(1:N, M)])) = 142.34307568393243 (tracked)\n",
      "-(L̄(X[:, rand(1:N, M)])) = 155.90217932080563 (tracked)\n",
      "-(L̄(X[:, rand(1:N, M)])) = 153.32342775878413 (tracked)\n",
      "-(L̄(X[:, rand(1:N, M)])) = 145.67369976270925 (tracked)\n",
      "-(L̄(X[:, rand(1:N, M)])) = 154.37190423537285 (tracked)\n",
      "-(L̄(X[:, rand(1:N, M)])) = 145.08667806127238 (tracked)\n",
      "-(L̄(X[:, rand(1:N, M)])) = 144.82554396232786 (tracked)\n",
      "-(L̄(X[:, rand(1:N, M)])) = 150.1980765930353 (tracked)\n",
      "-(L̄(X[:, rand(1:N, M)])) = 149.30187899428412 (tracked)\n",
      "-(L̄(X[:, rand(1:N, M)])) = 145.14639419716897 (tracked)\n",
      "-(L̄(X[:, rand(1:N, M)])) = 153.97729106679836 (tracked)\n",
      "-(L̄(X[:, rand(1:N, M)])) = 152.63574428892716 (tracked)\n",
      "-(L̄(X[:, rand(1:N, M)])) = 141.55000648203554 (tracked)\n",
      "-(L̄(X[:, rand(1:N, M)])) = 154.76577390255719 (tracked)\n",
      "-(L̄(X[:, rand(1:N, M)])) = 155.2906961504228 (tracked)\n",
      "-(L̄(X[:, rand(1:N, M)])) = 147.9548799611477 (tracked)\n",
      "-(L̄(X[:, rand(1:N, M)])) = 145.40700924740202 (tracked)\n",
      "-(L̄(X[:, rand(1:N, M)])) = 144.55739035668728 (tracked)\n"
     ]
    },
    {
     "name": "stderr",
     "output_type": "stream",
     "text": [
      "┌ Info: Epoch 7\n",
      "└ @ Main /home/pika/.julia/packages/Flux/rcN9D/src/optimise/train.jl:93\n"
     ]
    },
    {
     "name": "stdout",
     "output_type": "stream",
     "text": [
      "-(L̄(X[:, rand(1:N, M)])) = 148.01814564221402 (tracked)\n",
      "-(L̄(X[:, rand(1:N, M)])) = 144.79265698143644 (tracked)\n",
      "-(L̄(X[:, rand(1:N, M)])) = 163.0880628639331 (tracked)\n",
      "-(L̄(X[:, rand(1:N, M)])) = 142.94253328528745 (tracked)\n",
      "-(L̄(X[:, rand(1:N, M)])) = 152.75367991155096 (tracked)\n",
      "-(L̄(X[:, rand(1:N, M)])) = 145.61398402269947 (tracked)\n",
      "-(L̄(X[:, rand(1:N, M)])) = 145.95199194974074 (tracked)\n",
      "-(L̄(X[:, rand(1:N, M)])) = 140.79064909178007 (tracked)\n",
      "-(L̄(X[:, rand(1:N, M)])) = 155.47965718125667 (tracked)\n",
      "-(L̄(X[:, rand(1:N, M)])) = 148.87593292571233 (tracked)\n",
      "-(L̄(X[:, rand(1:N, M)])) = 145.4982064315091 (tracked)\n",
      "-(L̄(X[:, rand(1:N, M)])) = 144.68238414638628 (tracked)\n",
      "-(L̄(X[:, rand(1:N, M)])) = 156.3014173827816 (tracked)\n",
      "-(L̄(X[:, rand(1:N, M)])) = 153.01518464845148 (tracked)\n",
      "-(L̄(X[:, rand(1:N, M)])) = 153.49789434140573 (tracked)\n",
      "-(L̄(X[:, rand(1:N, M)])) = 155.3980577320025 (tracked)\n",
      "-(L̄(X[:, rand(1:N, M)])) = 147.17813916096048 (tracked)\n",
      "-(L̄(X[:, rand(1:N, M)])) = 152.7966560813106 (tracked)\n",
      "-(L̄(X[:, rand(1:N, M)])) = 144.2624101761293 (tracked)\n",
      "-(L̄(X[:, rand(1:N, M)])) = 145.4528962803932 (tracked)\n"
     ]
    },
    {
     "name": "stderr",
     "output_type": "stream",
     "text": [
      "┌ Info: Epoch 8\n",
      "└ @ Main /home/pika/.julia/packages/Flux/rcN9D/src/optimise/train.jl:93\n"
     ]
    },
    {
     "name": "stdout",
     "output_type": "stream",
     "text": [
      "-(L̄(X[:, rand(1:N, M)])) = 145.69178738348367 (tracked)\n",
      "-(L̄(X[:, rand(1:N, M)])) = 145.03059457378646 (tracked)\n",
      "-(L̄(X[:, rand(1:N, M)])) = 153.68878188256065 (tracked)\n",
      "-(L̄(X[:, rand(1:N, M)])) = 149.70149028870503 (tracked)\n",
      "-(L̄(X[:, rand(1:N, M)])) = 151.63543402318442 (tracked)\n",
      "-(L̄(X[:, rand(1:N, M)])) = 154.08904601822772 (tracked)\n",
      "-(L̄(X[:, rand(1:N, M)])) = 152.38501227682318 (tracked)\n",
      "-(L̄(X[:, rand(1:N, M)])) = 144.64228973274848 (tracked)\n",
      "-(L̄(X[:, rand(1:N, M)])) = 143.75462604496522 (tracked)\n",
      "-(L̄(X[:, rand(1:N, M)])) = 150.3079787636872 (tracked)\n",
      "-(L̄(X[:, rand(1:N, M)])) = 136.8346077583917 (tracked)\n",
      "-(L̄(X[:, rand(1:N, M)])) = 138.6232755949978 (tracked)\n",
      "-(L̄(X[:, rand(1:N, M)])) = 150.9411427728309 (tracked)\n",
      "-(L̄(X[:, rand(1:N, M)])) = 157.14455847874189 (tracked)\n",
      "-(L̄(X[:, rand(1:N, M)])) = 139.79865725888712 (tracked)\n",
      "-(L̄(X[:, rand(1:N, M)])) = 144.63669022121633 (tracked)\n",
      "-(L̄(X[:, rand(1:N, M)])) = 152.58803841932263 (tracked)\n",
      "-(L̄(X[:, rand(1:N, M)])) = 143.9998291081239 (tracked)\n"
     ]
    },
    {
     "name": "stderr",
     "output_type": "stream",
     "text": [
      "┌ Info: Epoch 9\n",
      "└ @ Main /home/pika/.julia/packages/Flux/rcN9D/src/optimise/train.jl:93\n"
     ]
    },
    {
     "name": "stdout",
     "output_type": "stream",
     "text": [
      "-(L̄(X[:, rand(1:N, M)])) = 154.67025227613965 (tracked)\n",
      "-(L̄(X[:, rand(1:N, M)])) = 140.05794553858078 (tracked)\n",
      "-(L̄(X[:, rand(1:N, M)])) = 151.84244307685066 (tracked)\n",
      "-(L̄(X[:, rand(1:N, M)])) = 146.5560710661267 (tracked)\n",
      "-(L̄(X[:, rand(1:N, M)])) = 144.33194537413357 (tracked)\n",
      "-(L̄(X[:, rand(1:N, M)])) = 146.18949128316967 (tracked)\n",
      "-(L̄(X[:, rand(1:N, M)])) = 145.44932236031562 (tracked)\n",
      "-(L̄(X[:, rand(1:N, M)])) = 142.44041401622647 (tracked)\n",
      "-(L̄(X[:, rand(1:N, M)])) = 145.2582109542259 (tracked)\n",
      "-(L̄(X[:, rand(1:N, M)])) = 147.52041034419204 (tracked)\n",
      "-(L̄(X[:, rand(1:N, M)])) = 143.495032425886 (tracked)\n",
      "-(L̄(X[:, rand(1:N, M)])) = 149.47049631054148 (tracked)\n",
      "-(L̄(X[:, rand(1:N, M)])) = 148.48016334982924 (tracked)\n",
      "-(L̄(X[:, rand(1:N, M)])) = 146.43666520401402 (tracked)\n",
      "-(L̄(X[:, rand(1:N, M)])) = 149.18736640463985 (tracked)\n",
      "-(L̄(X[:, rand(1:N, M)])) = 151.96899008231364 (tracked)\n",
      "-(L̄(X[:, rand(1:N, M)])) = 147.09192625900977 (tracked)\n",
      "-(L̄(X[:, rand(1:N, M)])) = 142.3205121500237 (tracked)\n"
     ]
    },
    {
     "name": "stderr",
     "output_type": "stream",
     "text": [
      "┌ Info: Epoch 10\n",
      "└ @ Main /home/pika/.julia/packages/Flux/rcN9D/src/optimise/train.jl:93\n"
     ]
    },
    {
     "name": "stdout",
     "output_type": "stream",
     "text": [
      "-(L̄(X[:, rand(1:N, M)])) = 146.01713837483206 (tracked)\n",
      "-(L̄(X[:, rand(1:N, M)])) = 149.4676124294938 (tracked)\n",
      "-(L̄(X[:, rand(1:N, M)])) = 139.2853205014667 (tracked)\n",
      "-(L̄(X[:, rand(1:N, M)])) = 138.43811662813982 (tracked)\n",
      "-(L̄(X[:, rand(1:N, M)])) = 143.5935785430124 (tracked)\n",
      "-(L̄(X[:, rand(1:N, M)])) = 152.00983110291057 (tracked)\n",
      "-(L̄(X[:, rand(1:N, M)])) = 150.20575321995221 (tracked)\n",
      "-(L̄(X[:, rand(1:N, M)])) = 152.40143788468592 (tracked)\n",
      "-(L̄(X[:, rand(1:N, M)])) = 146.60731551609481 (tracked)\n",
      "-(L̄(X[:, rand(1:N, M)])) = 148.28766532721644 (tracked)\n",
      "-(L̄(X[:, rand(1:N, M)])) = 155.15046255220884 (tracked)\n",
      "-(L̄(X[:, rand(1:N, M)])) = 147.79844296798484 (tracked)\n",
      "-(L̄(X[:, rand(1:N, M)])) = 149.24441069570747 (tracked)\n",
      "-(L̄(X[:, rand(1:N, M)])) = 145.35524750719068 (tracked)\n",
      "-(L̄(X[:, rand(1:N, M)])) = 153.46057624228789 (tracked)\n"
     ]
    }
   ],
   "source": [
    "evalcb = throttle(() -> @show(-L̄(X[:, rand(1:N, M)])), 30)\n",
    "opt = ADAM(params(A, μ, logσ, f))\n",
    "@epochs 10 Flux.train!(loss, zip(data), opt, cb=evalcb)"
   ]
  },
  {
   "cell_type": "markdown",
   "metadata": {},
   "source": [
    "# Sample Output"
   ]
  },
  {
   "cell_type": "code",
   "execution_count": 9,
   "metadata": {},
   "outputs": [],
   "source": [
    "using Images\n",
    "\n",
    "img(x) = Gray.(reshape(x, 28, 28))\n",
    "\n",
    "cd(@__DIR__)\n",
    "sample = hcat(img.([modelsample() for i = 1:10])...)\n",
    "save(\"beta-vae-sample.png\", sample)"
   ]
  },
  {
   "cell_type": "code",
   "execution_count": null,
   "metadata": {},
   "outputs": [],
   "source": []
  }
 ],
 "metadata": {
  "kernelspec": {
   "display_name": "Julia 1.0.2",
   "language": "julia",
   "name": "julia-1.0"
  },
  "language_info": {
   "file_extension": ".jl",
   "mimetype": "application/julia",
   "name": "julia",
   "version": "1.0.2"
  }
 },
 "nbformat": 4,
 "nbformat_minor": 2
}
