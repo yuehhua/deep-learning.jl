{
 "cells": [
  {
   "cell_type": "markdown",
   "metadata": {},
   "source": [
    "# Variational autoencoder"
   ]
  },
  {
   "cell_type": "code",
   "execution_count": 1,
   "metadata": {},
   "outputs": [],
   "source": [
    "using Flux, Flux.Data.MNIST\n",
    "using Flux: throttle, params\n",
    "using Juno: @progress"
   ]
  },
  {
   "cell_type": "markdown",
   "metadata": {},
   "source": [
    "**For numerically stable, extend distributions slightly to have a logpdf for `p` close to 1 or 0.**"
   ]
  },
  {
   "cell_type": "code",
   "execution_count": 2,
   "metadata": {},
   "outputs": [
    {
     "name": "stderr",
     "output_type": "stream",
     "text": [
      "WARNING: using Distributions.params in module Main conflicts with an existing identifier.\n"
     ]
    },
    {
     "data": {
      "text/plain": [
       "logpdf (generic function with 62 methods)"
      ]
     },
     "execution_count": 2,
     "metadata": {},
     "output_type": "execute_result"
    }
   ],
   "source": [
    "using Distributions\n",
    "import Distributions: logpdf\n",
    "logpdf(b::Bernoulli, y::Bool) = y * log(b.p + eps()) + (1 - y) * log(1 - b.p + eps())"
   ]
  },
  {
   "cell_type": "markdown",
   "metadata": {},
   "source": [
    "# Load data"
   ]
  },
  {
   "cell_type": "code",
   "execution_count": 3,
   "metadata": {},
   "outputs": [],
   "source": [
    "X = MNIST.images();"
   ]
  },
  {
   "cell_type": "markdown",
   "metadata": {},
   "source": [
    "## Binarise"
   ]
  },
  {
   "cell_type": "code",
   "execution_count": 4,
   "metadata": {},
   "outputs": [
    {
     "data": {
      "text/plain": [
       "784×60000 BitArray{2}:\n",
       " false  false  false  false  false  …  false  false  false  false  false\n",
       " false  false  false  false  false     false  false  false  false  false\n",
       " false  false  false  false  false     false  false  false  false  false\n",
       " false  false  false  false  false     false  false  false  false  false\n",
       " false  false  false  false  false     false  false  false  false  false\n",
       " false  false  false  false  false  …  false  false  false  false  false\n",
       " false  false  false  false  false     false  false  false  false  false\n",
       " false  false  false  false  false     false  false  false  false  false\n",
       " false  false  false  false  false     false  false  false  false  false\n",
       " false  false  false  false  false     false  false  false  false  false\n",
       " false  false  false  false  false  …  false  false  false  false  false\n",
       " false  false  false  false  false     false  false  false  false  false\n",
       " false  false  false  false  false     false  false  false  false  false\n",
       "     ⋮                              ⋱      ⋮                            \n",
       " false  false  false  false  false     false  false  false  false  false\n",
       " false  false  false  false  false     false  false  false  false  false\n",
       " false  false  false  false  false     false  false  false  false  false\n",
       " false  false  false  false  false  …  false  false  false  false  false\n",
       " false  false  false  false  false     false  false  false  false  false\n",
       " false  false  false  false  false     false  false  false  false  false\n",
       " false  false  false  false  false     false  false  false  false  false\n",
       " false  false  false  false  false     false  false  false  false  false\n",
       " false  false  false  false  false  …  false  false  false  false  false\n",
       " false  false  false  false  false     false  false  false  false  false\n",
       " false  false  false  false  false     false  false  false  false  false\n",
       " false  false  false  false  false     false  false  false  false  false"
      ]
     },
     "execution_count": 4,
     "metadata": {},
     "output_type": "execute_result"
    }
   ],
   "source": [
    "X = float.(hcat(vec.(X)...)) .> 0.5"
   ]
  },
  {
   "cell_type": "markdown",
   "metadata": {},
   "source": [
    "## Mini-batches"
   ]
  },
  {
   "cell_type": "code",
   "execution_count": 5,
   "metadata": {},
   "outputs": [
    {
     "data": {
      "text/plain": [
       "600-element Array{BitArray{2},1}:\n",
       " [false false … false false; false false … false false; … ; false false … false false; false false … false false]\n",
       " [false false … false false; false false … false false; … ; false false … false false; false false … false false]\n",
       " [false false … false false; false false … false false; … ; false false … false false; false false … false false]\n",
       " [false false … false false; false false … false false; … ; false false … false false; false false … false false]\n",
       " [false false … false false; false false … false false; … ; false false … false false; false false … false false]\n",
       " [false false … false false; false false … false false; … ; false false … false false; false false … false false]\n",
       " [false false … false false; false false … false false; … ; false false … false false; false false … false false]\n",
       " [false false … false false; false false … false false; … ; false false … false false; false false … false false]\n",
       " [false false … false false; false false … false false; … ; false false … false false; false false … false false]\n",
       " [false false … false false; false false … false false; … ; false false … false false; false false … false false]\n",
       " [false false … false false; false false … false false; … ; false false … false false; false false … false false]\n",
       " [false false … false false; false false … false false; … ; false false … false false; false false … false false]\n",
       " [false false … false false; false false … false false; … ; false false … false false; false false … false false]\n",
       " ⋮                                                                                                               \n",
       " [false false … false false; false false … false false; … ; false false … false false; false false … false false]\n",
       " [false false … false false; false false … false false; … ; false false … false false; false false … false false]\n",
       " [false false … false false; false false … false false; … ; false false … false false; false false … false false]\n",
       " [false false … false false; false false … false false; … ; false false … false false; false false … false false]\n",
       " [false false … false false; false false … false false; … ; false false … false false; false false … false false]\n",
       " [false false … false false; false false … false false; … ; false false … false false; false false … false false]\n",
       " [false false … false false; false false … false false; … ; false false … false false; false false … false false]\n",
       " [false false … false false; false false … false false; … ; false false … false false; false false … false false]\n",
       " [false false … false false; false false … false false; … ; false false … false false; false false … false false]\n",
       " [false false … false false; false false … false false; … ; false false … false false; false false … false false]\n",
       " [false false … false false; false false … false false; … ; false false … false false; false false … false false]\n",
       " [false false … false false; false false … false false; … ; false false … false false; false false … false false]"
      ]
     },
     "execution_count": 5,
     "metadata": {},
     "output_type": "execute_result"
    }
   ],
   "source": [
    "N, M = size(X, 2), 100\n",
    "data = [X[:,i] for i in Iterators.partition(1:N,M)]"
   ]
  },
  {
   "cell_type": "markdown",
   "metadata": {},
   "source": [
    "# Define Model"
   ]
  },
  {
   "cell_type": "code",
   "execution_count": 6,
   "metadata": {},
   "outputs": [
    {
     "data": {
      "text/plain": [
       "Chain(Dense(5, 500, tanh), Dense(500, 784, NNlib.σ))"
      ]
     },
     "execution_count": 6,
     "metadata": {},
     "output_type": "execute_result"
    }
   ],
   "source": [
    "# Dimensions (D -> Dh -> Dz -> Dh -> D)\n",
    "Dz, Dh, D = 5, 500, 28^2\n",
    "\n",
    "# Encoder\n",
    "A, μ, logσ = Dense(D, Dh, tanh), Dense(Dh, Dz), Dense(Dh, Dz)\n",
    "g(X) = (h = A(X); (μ(h), logσ(h)))\n",
    "z(μ, logσ) = μ + exp(logσ) * randn()\n",
    "\n",
    "# Decoder\n",
    "f = Chain(Dense(Dz, Dh, tanh), Dense(Dh, D, σ))"
   ]
  },
  {
   "cell_type": "markdown",
   "metadata": {},
   "source": [
    "# Loss function and ELBO"
   ]
  },
  {
   "cell_type": "code",
   "execution_count": 7,
   "metadata": {},
   "outputs": [
    {
     "data": {
      "text/plain": [
       "modelsample (generic function with 1 method)"
      ]
     },
     "execution_count": 7,
     "metadata": {},
     "output_type": "execute_result"
    }
   ],
   "source": [
    "# KL-divergence between approximation posterior and N(0, 1) prior.\n",
    "kl_q_p(μ, logσ) = 0.5 * sum(exp.(2 .* logσ) + μ.^2 .- 1 .+ logσ.^2)\n",
    "\n",
    "# logp(x|z) - conditional probability of data given latents.\n",
    "logp_x_z(x, z) = sum(logpdf.(Bernoulli.(f(z)), x))\n",
    "\n",
    "# Monte Carlo estimator of mean ELBO using M samples.\n",
    "L̄(X) = ((μ̂, logσ̂) = g(X); (logp_x_z(X, z.(μ̂, logσ̂)) - kl_q_p(μ̂, logσ̂)) / M)\n",
    "\n",
    "loss(X) = -L̄(X) + 0.01 * sum(x->sum(x.^2), params(f))\n",
    "\n",
    "# Sample from the learned model.\n",
    "modelsample() = rand.(Bernoulli.(f(z.(zeros(Dz), zeros(Dz)))))"
   ]
  },
  {
   "cell_type": "markdown",
   "metadata": {},
   "source": [
    "# Learning"
   ]
  },
  {
   "cell_type": "code",
   "execution_count": 8,
   "metadata": {},
   "outputs": [
    {
     "name": "stdout",
     "output_type": "stream",
     "text": [
      "Epoch 1\n",
      "-(L̄(X[:, rand(1:N, M)])) = 545.1419619182199 (tracked)\n",
      "-(L̄(X[:, rand(1:N, M)])) = 209.64264420630295 (tracked)\n",
      "-(L̄(X[:, rand(1:N, M)])) = 190.1063487606253 (tracked)\n",
      "-(L̄(X[:, rand(1:N, M)])) = 186.31947967277557 (tracked)\n",
      "-(L̄(X[:, rand(1:N, M)])) = 183.81528556072715 (tracked)\n",
      "-(L̄(X[:, rand(1:N, M)])) = 173.3504006933128 (tracked)\n",
      "-(L̄(X[:, rand(1:N, M)])) = 178.7215420450704 (tracked)\n",
      "-(L̄(X[:, rand(1:N, M)])) = 177.792189159248 (tracked)\n",
      "-(L̄(X[:, rand(1:N, M)])) = 168.01247836758571 (tracked)\n",
      "-(L̄(X[:, rand(1:N, M)])) = 181.54266353444308 (tracked)\n",
      "-(L̄(X[:, rand(1:N, M)])) = 167.59280986056675 (tracked)\n",
      "-(L̄(X[:, rand(1:N, M)])) = 171.32855676469953 (tracked)\n",
      "-(L̄(X[:, rand(1:N, M)])) = 166.5451867455273 (tracked)\n",
      "-(L̄(X[:, rand(1:N, M)])) = 173.43650763305786 (tracked)\n",
      "Epoch 2\n",
      "-(L̄(X[:, rand(1:N, M)])) = 172.0884107137738 (tracked)\n",
      "-(L̄(X[:, rand(1:N, M)])) = 182.1772309214022 (tracked)\n",
      "-(L̄(X[:, rand(1:N, M)])) = 189.42716652112756 (tracked)\n",
      "-(L̄(X[:, rand(1:N, M)])) = 166.14564618306417 (tracked)\n",
      "-(L̄(X[:, rand(1:N, M)])) = 169.75492271492502 (tracked)\n",
      "-(L̄(X[:, rand(1:N, M)])) = 160.55930138498178 (tracked)\n",
      "-(L̄(X[:, rand(1:N, M)])) = 161.33453798099808 (tracked)\n",
      "-(L̄(X[:, rand(1:N, M)])) = 157.94848861816632 (tracked)\n",
      "-(L̄(X[:, rand(1:N, M)])) = 161.61231481806348 (tracked)\n",
      "-(L̄(X[:, rand(1:N, M)])) = 157.87139849180602 (tracked)\n",
      "-(L̄(X[:, rand(1:N, M)])) = 156.98463743212162 (tracked)\n",
      "-(L̄(X[:, rand(1:N, M)])) = 156.8895732887803 (tracked)\n",
      "Epoch 3\n",
      "-(L̄(X[:, rand(1:N, M)])) = 161.28234332043039 (tracked)\n",
      "-(L̄(X[:, rand(1:N, M)])) = 154.88469853108776 (tracked)\n",
      "-(L̄(X[:, rand(1:N, M)])) = 152.34028049188754 (tracked)\n",
      "-(L̄(X[:, rand(1:N, M)])) = 158.4868948155949 (tracked)\n",
      "-(L̄(X[:, rand(1:N, M)])) = 149.68305061171964 (tracked)\n",
      "-(L̄(X[:, rand(1:N, M)])) = 152.4053229108395 (tracked)\n",
      "-(L̄(X[:, rand(1:N, M)])) = 147.33991782928297 (tracked)\n",
      "-(L̄(X[:, rand(1:N, M)])) = 153.84348747306552 (tracked)\n",
      "-(L̄(X[:, rand(1:N, M)])) = 147.57634674959337 (tracked)\n",
      "-(L̄(X[:, rand(1:N, M)])) = 147.0095254750876 (tracked)\n",
      "Epoch 4\n",
      "-(L̄(X[:, rand(1:N, M)])) = 150.1618591253557 (tracked)\n",
      "-(L̄(X[:, rand(1:N, M)])) = 144.51874506149613 (tracked)\n",
      "-(L̄(X[:, rand(1:N, M)])) = 148.67857063244068 (tracked)\n",
      "-(L̄(X[:, rand(1:N, M)])) = 143.2956343611954 (tracked)\n",
      "-(L̄(X[:, rand(1:N, M)])) = 143.0972051687261 (tracked)\n",
      "-(L̄(X[:, rand(1:N, M)])) = 154.51013062680263 (tracked)\n",
      "-(L̄(X[:, rand(1:N, M)])) = 154.64495281596757 (tracked)\n",
      "-(L̄(X[:, rand(1:N, M)])) = 143.07351118240504 (tracked)\n",
      "-(L̄(X[:, rand(1:N, M)])) = 142.3420253729231 (tracked)\n",
      "-(L̄(X[:, rand(1:N, M)])) = 144.81480571939565 (tracked)\n",
      "-(L̄(X[:, rand(1:N, M)])) = 147.12621134784658 (tracked)\n",
      "Epoch 5\n",
      "-(L̄(X[:, rand(1:N, M)])) = 156.51581588734544 (tracked)\n",
      "-(L̄(X[:, rand(1:N, M)])) = 141.60821739484948 (tracked)\n",
      "-(L̄(X[:, rand(1:N, M)])) = 148.91572862316698 (tracked)\n",
      "-(L̄(X[:, rand(1:N, M)])) = 139.27556607563426 (tracked)\n",
      "-(L̄(X[:, rand(1:N, M)])) = 150.44365707174947 (tracked)\n",
      "-(L̄(X[:, rand(1:N, M)])) = 147.66339887998697 (tracked)\n",
      "-(L̄(X[:, rand(1:N, M)])) = 142.17206608179015 (tracked)\n",
      "-(L̄(X[:, rand(1:N, M)])) = 139.5999954783955 (tracked)\n",
      "-(L̄(X[:, rand(1:N, M)])) = 139.29075301462103 (tracked)\n",
      "-(L̄(X[:, rand(1:N, M)])) = 142.02878415009496 (tracked)\n",
      "Epoch 6\n",
      "-(L̄(X[:, rand(1:N, M)])) = 144.39320148906342 (tracked)\n",
      "-(L̄(X[:, rand(1:N, M)])) = 141.31622275003275 (tracked)\n",
      "-(L̄(X[:, rand(1:N, M)])) = 140.92162407347863 (tracked)\n",
      "-(L̄(X[:, rand(1:N, M)])) = 140.4944876586262 (tracked)\n",
      "-(L̄(X[:, rand(1:N, M)])) = 146.24431145924802 (tracked)\n",
      "-(L̄(X[:, rand(1:N, M)])) = 145.87263558948746 (tracked)\n",
      "-(L̄(X[:, rand(1:N, M)])) = 140.3740126670008 (tracked)\n",
      "-(L̄(X[:, rand(1:N, M)])) = 132.78339247657712 (tracked)\n",
      "-(L̄(X[:, rand(1:N, M)])) = 138.8662578188337 (tracked)\n",
      "Epoch 7\n",
      "-(L̄(X[:, rand(1:N, M)])) = 140.652781472294 (tracked)\n",
      "-(L̄(X[:, rand(1:N, M)])) = 144.89524062747455 (tracked)\n",
      "-(L̄(X[:, rand(1:N, M)])) = 137.3723151191764 (tracked)\n",
      "-(L̄(X[:, rand(1:N, M)])) = 138.77535503899904 (tracked)\n",
      "-(L̄(X[:, rand(1:N, M)])) = 145.4239369204531 (tracked)\n",
      "-(L̄(X[:, rand(1:N, M)])) = 139.42290388469883 (tracked)\n",
      "-(L̄(X[:, rand(1:N, M)])) = 142.27364507224098 (tracked)\n",
      "-(L̄(X[:, rand(1:N, M)])) = 142.87308737590956 (tracked)\n",
      "Epoch 8\n",
      "-(L̄(X[:, rand(1:N, M)])) = 135.28230683964742 (tracked)\n",
      "-(L̄(X[:, rand(1:N, M)])) = 148.51326686714913 (tracked)\n",
      "-(L̄(X[:, rand(1:N, M)])) = 145.5912286966645 (tracked)\n",
      "-(L̄(X[:, rand(1:N, M)])) = 141.8118871763508 (tracked)\n",
      "-(L̄(X[:, rand(1:N, M)])) = 140.89615735871533 (tracked)\n",
      "-(L̄(X[:, rand(1:N, M)])) = 146.69234570762958 (tracked)\n",
      "-(L̄(X[:, rand(1:N, M)])) = 138.48161779265445 (tracked)\n",
      "-(L̄(X[:, rand(1:N, M)])) = 143.05185120598287 (tracked)\n",
      "-(L̄(X[:, rand(1:N, M)])) = 146.87695816063157 (tracked)\n",
      "Epoch 9\n",
      "-(L̄(X[:, rand(1:N, M)])) = 142.77331986815597 (tracked)\n",
      "-(L̄(X[:, rand(1:N, M)])) = 142.20380635206072 (tracked)\n",
      "-(L̄(X[:, rand(1:N, M)])) = 136.0077740352942 (tracked)\n",
      "-(L̄(X[:, rand(1:N, M)])) = 135.52362067793325 (tracked)\n",
      "-(L̄(X[:, rand(1:N, M)])) = 137.17457257089546 (tracked)\n",
      "-(L̄(X[:, rand(1:N, M)])) = 137.96075151494523 (tracked)\n",
      "-(L̄(X[:, rand(1:N, M)])) = 142.75844938893567 (tracked)\n",
      "-(L̄(X[:, rand(1:N, M)])) = 144.68168296673014 (tracked)\n",
      "-(L̄(X[:, rand(1:N, M)])) = 144.81338895933214 (tracked)\n",
      "Epoch 10\n",
      "-(L̄(X[:, rand(1:N, M)])) = 141.98851087197144 (tracked)\n",
      "-(L̄(X[:, rand(1:N, M)])) = 138.2655725723837 (tracked)\n",
      "-(L̄(X[:, rand(1:N, M)])) = 147.4276467051215 (tracked)\n",
      "-(L̄(X[:, rand(1:N, M)])) = 138.74737733977253 (tracked)\n",
      "-(L̄(X[:, rand(1:N, M)])) = 143.79700913841364 (tracked)\n",
      "-(L̄(X[:, rand(1:N, M)])) = 145.8157410843931 (tracked)\n",
      "-(L̄(X[:, rand(1:N, M)])) = 133.95046266998324 (tracked)\n",
      "-(L̄(X[:, rand(1:N, M)])) = 146.328354414264 (tracked)\n"
     ]
    }
   ],
   "source": [
    "evalcb = throttle(() -> @show(-L̄(X[:, rand(1:N, M)])), 30)\n",
    "opt = ADAM(params(A, μ, logσ, f))\n",
    "@progress for i = 1:10\n",
    "  println(\"Epoch $i\")\n",
    "  Flux.train!(loss, zip(data), opt, cb=evalcb)\n",
    "end"
   ]
  },
  {
   "cell_type": "markdown",
   "metadata": {},
   "source": [
    "# Sample Output"
   ]
  },
  {
   "cell_type": "code",
   "execution_count": 9,
   "metadata": {},
   "outputs": [],
   "source": [
    "using Images\n",
    "\n",
    "img(x) = Gray.(reshape(x, 28, 28))\n",
    "\n",
    "cd(@__DIR__)\n",
    "sample = hcat(img.([modelsample() for i = 1:10])...)\n",
    "save(\"vae-sample.png\", sample)"
   ]
  },
  {
   "cell_type": "code",
   "execution_count": null,
   "metadata": {},
   "outputs": [],
   "source": []
  }
 ],
 "metadata": {
  "kernelspec": {
   "display_name": "Julia 1.0.0",
   "language": "julia",
   "name": "julia-1.0"
  },
  "language_info": {
   "file_extension": ".jl",
   "mimetype": "application/julia",
   "name": "julia",
   "version": "1.0.0"
  }
 },
 "nbformat": 4,
 "nbformat_minor": 2
}
