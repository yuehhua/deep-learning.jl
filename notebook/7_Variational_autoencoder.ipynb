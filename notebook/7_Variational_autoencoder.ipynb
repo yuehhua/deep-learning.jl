{
 "cells": [
  {
   "cell_type": "markdown",
   "metadata": {},
   "source": [
    "# Variational autoencoder"
   ]
  },
  {
   "cell_type": "code",
   "execution_count": 1,
   "metadata": {},
   "outputs": [
    {
     "name": "stderr",
     "output_type": "stream",
     "text": [
      "WARNING: using Distributions.params in module Main conflicts with an existing identifier.\n"
     ]
    }
   ],
   "source": [
    "using Flux, Flux.Data.MNIST\n",
    "using Flux: @epochs, throttle, params\n",
    "using Distributions\n",
    "import Distributions: logpdf\n",
    "using CuArrays"
   ]
  },
  {
   "cell_type": "markdown",
   "metadata": {},
   "source": [
    "**For numerically stable, extend distributions slightly to have a logpdf for `p` close to 1 or 0.**"
   ]
  },
  {
   "cell_type": "code",
   "execution_count": 2,
   "metadata": {},
   "outputs": [
    {
     "data": {
      "text/plain": [
       "logpdf (generic function with 64 methods)"
      ]
     },
     "execution_count": 2,
     "metadata": {},
     "output_type": "execute_result"
    }
   ],
   "source": [
    "logpdf(b::Bernoulli, y::Bool) = y * log(b.p + eps()) + (1 - y) * log(1 - b.p + eps())"
   ]
  },
  {
   "cell_type": "markdown",
   "metadata": {},
   "source": [
    "# Load data"
   ]
  },
  {
   "cell_type": "code",
   "execution_count": 3,
   "metadata": {},
   "outputs": [],
   "source": [
    "X = MNIST.images();"
   ]
  },
  {
   "cell_type": "markdown",
   "metadata": {},
   "source": [
    "## Binarise"
   ]
  },
  {
   "cell_type": "code",
   "execution_count": 4,
   "metadata": {},
   "outputs": [
    {
     "data": {
      "text/plain": [
       "784×60000 BitArray{2}:\n",
       " 0  0  0  0  0  0  0  0  0  0  0  0  0  …  0  0  0  0  0  0  0  0  0  0  0  0\n",
       " 0  0  0  0  0  0  0  0  0  0  0  0  0     0  0  0  0  0  0  0  0  0  0  0  0\n",
       " 0  0  0  0  0  0  0  0  0  0  0  0  0     0  0  0  0  0  0  0  0  0  0  0  0\n",
       " 0  0  0  0  0  0  0  0  0  0  0  0  0     0  0  0  0  0  0  0  0  0  0  0  0\n",
       " 0  0  0  0  0  0  0  0  0  0  0  0  0     0  0  0  0  0  0  0  0  0  0  0  0\n",
       " 0  0  0  0  0  0  0  0  0  0  0  0  0  …  0  0  0  0  0  0  0  0  0  0  0  0\n",
       " 0  0  0  0  0  0  0  0  0  0  0  0  0     0  0  0  0  0  0  0  0  0  0  0  0\n",
       " 0  0  0  0  0  0  0  0  0  0  0  0  0     0  0  0  0  0  0  0  0  0  0  0  0\n",
       " 0  0  0  0  0  0  0  0  0  0  0  0  0     0  0  0  0  0  0  0  0  0  0  0  0\n",
       " 0  0  0  0  0  0  0  0  0  0  0  0  0     0  0  0  0  0  0  0  0  0  0  0  0\n",
       " 0  0  0  0  0  0  0  0  0  0  0  0  0  …  0  0  0  0  0  0  0  0  0  0  0  0\n",
       " 0  0  0  0  0  0  0  0  0  0  0  0  0     0  0  0  0  0  0  0  0  0  0  0  0\n",
       " 0  0  0  0  0  0  0  0  0  0  0  0  0     0  0  0  0  0  0  0  0  0  0  0  0\n",
       " ⋮              ⋮              ⋮        ⋱        ⋮              ⋮            \n",
       " 0  0  0  0  0  0  0  0  0  0  0  0  0     0  0  0  0  0  0  0  0  0  0  0  0\n",
       " 0  0  0  0  0  0  0  0  0  0  0  0  0     0  0  0  0  0  0  0  0  0  0  0  0\n",
       " 0  0  0  0  0  0  0  0  0  0  0  0  0     0  0  0  0  0  0  0  0  0  0  0  0\n",
       " 0  0  0  0  0  0  0  0  0  0  0  0  0  …  0  0  0  0  0  0  0  0  0  0  0  0\n",
       " 0  0  0  0  0  0  0  0  0  0  0  0  0     0  0  0  0  0  0  0  0  0  0  0  0\n",
       " 0  0  0  0  0  0  0  0  0  0  0  0  0     0  0  0  0  0  0  0  0  0  0  0  0\n",
       " 0  0  0  0  0  0  0  0  0  0  0  0  0     0  0  0  0  0  0  0  0  0  0  0  0\n",
       " 0  0  0  0  0  0  0  0  0  0  0  0  0     0  0  0  0  0  0  0  0  0  0  0  0\n",
       " 0  0  0  0  0  0  0  0  0  0  0  0  0  …  0  0  0  0  0  0  0  0  0  0  0  0\n",
       " 0  0  0  0  0  0  0  0  0  0  0  0  0     0  0  0  0  0  0  0  0  0  0  0  0\n",
       " 0  0  0  0  0  0  0  0  0  0  0  0  0     0  0  0  0  0  0  0  0  0  0  0  0\n",
       " 0  0  0  0  0  0  0  0  0  0  0  0  0     0  0  0  0  0  0  0  0  0  0  0  0"
      ]
     },
     "execution_count": 4,
     "metadata": {},
     "output_type": "execute_result"
    }
   ],
   "source": [
    "X = float.(hcat(vec.(X)...)) .> 0.5"
   ]
  },
  {
   "cell_type": "markdown",
   "metadata": {},
   "source": [
    "## Mini-batches"
   ]
  },
  {
   "cell_type": "code",
   "execution_count": 5,
   "metadata": {},
   "outputs": [
    {
     "data": {
      "text/plain": [
       "600-element Array{BitArray{2},1}:\n",
       " [0 0 … 0 0; 0 0 … 0 0; … ; 0 0 … 0 0; 0 0 … 0 0]\n",
       " [0 0 … 0 0; 0 0 … 0 0; … ; 0 0 … 0 0; 0 0 … 0 0]\n",
       " [0 0 … 0 0; 0 0 … 0 0; … ; 0 0 … 0 0; 0 0 … 0 0]\n",
       " [0 0 … 0 0; 0 0 … 0 0; … ; 0 0 … 0 0; 0 0 … 0 0]\n",
       " [0 0 … 0 0; 0 0 … 0 0; … ; 0 0 … 0 0; 0 0 … 0 0]\n",
       " [0 0 … 0 0; 0 0 … 0 0; … ; 0 0 … 0 0; 0 0 … 0 0]\n",
       " [0 0 … 0 0; 0 0 … 0 0; … ; 0 0 … 0 0; 0 0 … 0 0]\n",
       " [0 0 … 0 0; 0 0 … 0 0; … ; 0 0 … 0 0; 0 0 … 0 0]\n",
       " [0 0 … 0 0; 0 0 … 0 0; … ; 0 0 … 0 0; 0 0 … 0 0]\n",
       " [0 0 … 0 0; 0 0 … 0 0; … ; 0 0 … 0 0; 0 0 … 0 0]\n",
       " [0 0 … 0 0; 0 0 … 0 0; … ; 0 0 … 0 0; 0 0 … 0 0]\n",
       " [0 0 … 0 0; 0 0 … 0 0; … ; 0 0 … 0 0; 0 0 … 0 0]\n",
       " [0 0 … 0 0; 0 0 … 0 0; … ; 0 0 … 0 0; 0 0 … 0 0]\n",
       " ⋮                                               \n",
       " [0 0 … 0 0; 0 0 … 0 0; … ; 0 0 … 0 0; 0 0 … 0 0]\n",
       " [0 0 … 0 0; 0 0 … 0 0; … ; 0 0 … 0 0; 0 0 … 0 0]\n",
       " [0 0 … 0 0; 0 0 … 0 0; … ; 0 0 … 0 0; 0 0 … 0 0]\n",
       " [0 0 … 0 0; 0 0 … 0 0; … ; 0 0 … 0 0; 0 0 … 0 0]\n",
       " [0 0 … 0 0; 0 0 … 0 0; … ; 0 0 … 0 0; 0 0 … 0 0]\n",
       " [0 0 … 0 0; 0 0 … 0 0; … ; 0 0 … 0 0; 0 0 … 0 0]\n",
       " [0 0 … 0 0; 0 0 … 0 0; … ; 0 0 … 0 0; 0 0 … 0 0]\n",
       " [0 0 … 0 0; 0 0 … 0 0; … ; 0 0 … 0 0; 0 0 … 0 0]\n",
       " [0 0 … 0 0; 0 0 … 0 0; … ; 0 0 … 0 0; 0 0 … 0 0]\n",
       " [0 0 … 0 0; 0 0 … 0 0; … ; 0 0 … 0 0; 0 0 … 0 0]\n",
       " [0 0 … 0 0; 0 0 … 0 0; … ; 0 0 … 0 0; 0 0 … 0 0]\n",
       " [0 0 … 0 0; 0 0 … 0 0; … ; 0 0 … 0 0; 0 0 … 0 0]"
      ]
     },
     "execution_count": 5,
     "metadata": {},
     "output_type": "execute_result"
    }
   ],
   "source": [
    "N, M = size(X, 2), 100\n",
    "data = [X[:,i] for i in Iterators.partition(1:N,M)]"
   ]
  },
  {
   "cell_type": "markdown",
   "metadata": {},
   "source": [
    "# Define Model"
   ]
  },
  {
   "cell_type": "code",
   "execution_count": 6,
   "metadata": {},
   "outputs": [
    {
     "data": {
      "text/plain": [
       "Chain(Dense(5, 500, tanh), Dense(500, 784, σ))"
      ]
     },
     "execution_count": 6,
     "metadata": {},
     "output_type": "execute_result"
    }
   ],
   "source": [
    "# Dimensions (D -> Dh -> Dz -> Dh -> D)\n",
    "Dz, Dh, D = 5, 500, 28^2\n",
    "\n",
    "# Encoder\n",
    "A, μ, logσ = Dense(D, Dh, tanh), Dense(Dh, Dz), Dense(Dh, Dz)\n",
    "g(X) = (h = A(X); (μ(h), logσ(h)))\n",
    "z(μ, logσ) = μ + exp(logσ) * randn()\n",
    "\n",
    "# Decoder\n",
    "f = Chain(Dense(Dz, Dh, tanh), Dense(Dh, D, σ))"
   ]
  },
  {
   "cell_type": "markdown",
   "metadata": {},
   "source": [
    "# Loss function and ELBO"
   ]
  },
  {
   "cell_type": "code",
   "execution_count": 7,
   "metadata": {},
   "outputs": [
    {
     "data": {
      "text/plain": [
       "modelsample (generic function with 1 method)"
      ]
     },
     "execution_count": 7,
     "metadata": {},
     "output_type": "execute_result"
    }
   ],
   "source": [
    "# KL-divergence between approximation posterior and N(0, 1) prior.\n",
    "kl_q_p(μ, logσ) = 0.5 * sum(exp.(2 .* logσ) + μ.^2 .- 1 .+ logσ.^2)\n",
    "\n",
    "# logp(x|z) - conditional probability of data given latents.\n",
    "logp_x_z(x, z) = sum(logpdf.(Bernoulli.(f(z)), x))\n",
    "\n",
    "# Monte Carlo estimator of mean ELBO using M samples.\n",
    "L̄(X) = ((μ̂, logσ̂) = g(X); (logp_x_z(X, z.(μ̂, logσ̂)) - kl_q_p(μ̂, logσ̂)) / M)\n",
    "\n",
    "loss(X) = -L̄(X) + 0.01 * sum(x->sum(x.^2), params(f))\n",
    "\n",
    "# Sample from the learned model.\n",
    "modelsample() = rand.(Bernoulli.(f(z.(zeros(Dz), zeros(Dz)))))"
   ]
  },
  {
   "cell_type": "markdown",
   "metadata": {},
   "source": [
    "# Learning"
   ]
  },
  {
   "cell_type": "code",
   "execution_count": 8,
   "metadata": {},
   "outputs": [
    {
     "name": "stderr",
     "output_type": "stream",
     "text": [
      "┌ Info: Epoch 1\n",
      "└ @ Main /home/yuehhua/.julia/packages/Flux/2i5P1/src/optimise/train.jl:99\n"
     ]
    },
    {
     "name": "stdout",
     "output_type": "stream",
     "text": [
      "-(L̄(X[:, rand(1:N, M)])) = 541.7407199471362\n",
      "-(L̄(X[:, rand(1:N, M)])) = 214.72542568485625\n",
      "-(L̄(X[:, rand(1:N, M)])) = 203.42657103518593\n",
      "-(L̄(X[:, rand(1:N, M)])) = 178.949635427151\n",
      "-(L̄(X[:, rand(1:N, M)])) = 168.35816658830868\n",
      "-(L̄(X[:, rand(1:N, M)])) = 166.11557725417492\n",
      "-(L̄(X[:, rand(1:N, M)])) = 161.6899527789075\n",
      "-(L̄(X[:, rand(1:N, M)])) = 162.28474149098153\n",
      "-(L̄(X[:, rand(1:N, M)])) = 165.8272966943006\n",
      "-(L̄(X[:, rand(1:N, M)])) = 162.09767988431912\n",
      "-(L̄(X[:, rand(1:N, M)])) = 158.76872763982703\n",
      "-(L̄(X[:, rand(1:N, M)])) = 164.4417796971319\n",
      "-(L̄(X[:, rand(1:N, M)])) = 159.081885643022\n",
      "-(L̄(X[:, rand(1:N, M)])) = 161.23722101419753\n",
      "-(L̄(X[:, rand(1:N, M)])) = 161.77759667428683\n",
      "-(L̄(X[:, rand(1:N, M)])) = 153.07368635785858\n",
      "-(L̄(X[:, rand(1:N, M)])) = 165.53754977210403\n",
      "-(L̄(X[:, rand(1:N, M)])) = 158.68665603439223\n",
      "-(L̄(X[:, rand(1:N, M)])) = 159.85287863820696\n",
      "-(L̄(X[:, rand(1:N, M)])) = 152.5075388574712\n",
      "-(L̄(X[:, rand(1:N, M)])) = 158.66419254779237\n"
     ]
    },
    {
     "name": "stderr",
     "output_type": "stream",
     "text": [
      "┌ Info: Epoch 2\n",
      "└ @ Main /home/yuehhua/.julia/packages/Flux/2i5P1/src/optimise/train.jl:99\n"
     ]
    },
    {
     "name": "stdout",
     "output_type": "stream",
     "text": [
      "-(L̄(X[:, rand(1:N, M)])) = 160.00149858271052\n",
      "-(L̄(X[:, rand(1:N, M)])) = 151.71590312286938\n",
      "-(L̄(X[:, rand(1:N, M)])) = 163.90929956831903\n",
      "-(L̄(X[:, rand(1:N, M)])) = 153.4392633687689\n",
      "-(L̄(X[:, rand(1:N, M)])) = 158.433274002692\n",
      "-(L̄(X[:, rand(1:N, M)])) = 160.99774749311234\n",
      "-(L̄(X[:, rand(1:N, M)])) = 152.44432808291148\n",
      "-(L̄(X[:, rand(1:N, M)])) = 147.62808525842908\n",
      "-(L̄(X[:, rand(1:N, M)])) = 154.0421915229954\n",
      "-(L̄(X[:, rand(1:N, M)])) = 154.0824997119272\n",
      "-(L̄(X[:, rand(1:N, M)])) = 152.7086095439197\n",
      "-(L̄(X[:, rand(1:N, M)])) = 149.4225534575111\n",
      "-(L̄(X[:, rand(1:N, M)])) = 154.1972294082436\n",
      "-(L̄(X[:, rand(1:N, M)])) = 151.50959506262186\n",
      "-(L̄(X[:, rand(1:N, M)])) = 147.23162035360374\n",
      "-(L̄(X[:, rand(1:N, M)])) = 146.96179113028577\n",
      "-(L̄(X[:, rand(1:N, M)])) = 153.2261914242795\n",
      "-(L̄(X[:, rand(1:N, M)])) = 154.0460852788691\n",
      "-(L̄(X[:, rand(1:N, M)])) = 146.2673600046214\n",
      "-(L̄(X[:, rand(1:N, M)])) = 148.2154728050556\n",
      "-(L̄(X[:, rand(1:N, M)])) = 145.804277765859\n"
     ]
    },
    {
     "name": "stderr",
     "output_type": "stream",
     "text": [
      "┌ Info: Epoch 3\n",
      "└ @ Main /home/yuehhua/.julia/packages/Flux/2i5P1/src/optimise/train.jl:99\n"
     ]
    },
    {
     "name": "stdout",
     "output_type": "stream",
     "text": [
      "-(L̄(X[:, rand(1:N, M)])) = 146.31888691208675\n",
      "-(L̄(X[:, rand(1:N, M)])) = 153.56963807462282\n",
      "-(L̄(X[:, rand(1:N, M)])) = 144.53128907218118\n",
      "-(L̄(X[:, rand(1:N, M)])) = 142.96883256775283\n",
      "-(L̄(X[:, rand(1:N, M)])) = 142.9206558103404\n",
      "-(L̄(X[:, rand(1:N, M)])) = 147.82756559052058\n",
      "-(L̄(X[:, rand(1:N, M)])) = 136.80241449713876\n",
      "-(L̄(X[:, rand(1:N, M)])) = 152.32872547586925\n",
      "-(L̄(X[:, rand(1:N, M)])) = 153.0723823611273\n",
      "-(L̄(X[:, rand(1:N, M)])) = 134.6572933325032\n",
      "-(L̄(X[:, rand(1:N, M)])) = 137.89286961284571\n",
      "-(L̄(X[:, rand(1:N, M)])) = 138.28334377038868\n",
      "-(L̄(X[:, rand(1:N, M)])) = 149.65103820508196\n",
      "-(L̄(X[:, rand(1:N, M)])) = 144.50743019817085\n",
      "-(L̄(X[:, rand(1:N, M)])) = 144.5439524659022\n",
      "-(L̄(X[:, rand(1:N, M)])) = 148.48878576926822\n",
      "-(L̄(X[:, rand(1:N, M)])) = 143.99685338017315\n",
      "-(L̄(X[:, rand(1:N, M)])) = 138.7548153688293\n",
      "-(L̄(X[:, rand(1:N, M)])) = 144.3353897796557\n",
      "-(L̄(X[:, rand(1:N, M)])) = 140.30453984206812\n",
      "-(L̄(X[:, rand(1:N, M)])) = 145.83519640052916\n"
     ]
    },
    {
     "name": "stderr",
     "output_type": "stream",
     "text": [
      "┌ Info: Epoch 4\n",
      "└ @ Main /home/yuehhua/.julia/packages/Flux/2i5P1/src/optimise/train.jl:99\n"
     ]
    },
    {
     "name": "stdout",
     "output_type": "stream",
     "text": [
      "-(L̄(X[:, rand(1:N, M)])) = 137.2877073039475\n",
      "-(L̄(X[:, rand(1:N, M)])) = 142.99763633894116\n",
      "-(L̄(X[:, rand(1:N, M)])) = 136.98130086938318\n",
      "-(L̄(X[:, rand(1:N, M)])) = 141.26412767172903\n",
      "-(L̄(X[:, rand(1:N, M)])) = 136.36386909596737\n",
      "-(L̄(X[:, rand(1:N, M)])) = 136.73048534462498\n",
      "-(L̄(X[:, rand(1:N, M)])) = 133.06010498018858\n",
      "-(L̄(X[:, rand(1:N, M)])) = 144.53486410328708\n",
      "-(L̄(X[:, rand(1:N, M)])) = 138.24347598779622\n",
      "-(L̄(X[:, rand(1:N, M)])) = 131.99620245504636\n",
      "-(L̄(X[:, rand(1:N, M)])) = 140.0788668223345\n",
      "-(L̄(X[:, rand(1:N, M)])) = 130.2924765732042\n",
      "-(L̄(X[:, rand(1:N, M)])) = 125.57503011433022\n",
      "-(L̄(X[:, rand(1:N, M)])) = 138.4472476514121\n",
      "-(L̄(X[:, rand(1:N, M)])) = 137.2665038060604\n",
      "-(L̄(X[:, rand(1:N, M)])) = 140.25453512310403\n",
      "-(L̄(X[:, rand(1:N, M)])) = 138.424042005107\n",
      "-(L̄(X[:, rand(1:N, M)])) = 134.90956021556147\n",
      "-(L̄(X[:, rand(1:N, M)])) = 144.12979759831967\n",
      "-(L̄(X[:, rand(1:N, M)])) = 135.24004261731295\n",
      "-(L̄(X[:, rand(1:N, M)])) = 145.0475359891398\n"
     ]
    },
    {
     "name": "stderr",
     "output_type": "stream",
     "text": [
      "┌ Info: Epoch 5\n",
      "└ @ Main /home/yuehhua/.julia/packages/Flux/2i5P1/src/optimise/train.jl:99\n"
     ]
    },
    {
     "name": "stdout",
     "output_type": "stream",
     "text": [
      "-(L̄(X[:, rand(1:N, M)])) = 141.23085189531287\n",
      "-(L̄(X[:, rand(1:N, M)])) = 135.64594545162075\n",
      "-(L̄(X[:, rand(1:N, M)])) = 131.6279254702832\n",
      "-(L̄(X[:, rand(1:N, M)])) = 135.01854771250046\n",
      "-(L̄(X[:, rand(1:N, M)])) = 131.81703623994454\n",
      "-(L̄(X[:, rand(1:N, M)])) = 125.24471367662046\n",
      "-(L̄(X[:, rand(1:N, M)])) = 135.66779950591106\n",
      "-(L̄(X[:, rand(1:N, M)])) = 135.4343034850009\n",
      "-(L̄(X[:, rand(1:N, M)])) = 137.38026688799556\n",
      "-(L̄(X[:, rand(1:N, M)])) = 141.02832094429385\n",
      "-(L̄(X[:, rand(1:N, M)])) = 137.38136639958958\n",
      "-(L̄(X[:, rand(1:N, M)])) = 128.31415298478296\n",
      "-(L̄(X[:, rand(1:N, M)])) = 134.31674668308258\n",
      "-(L̄(X[:, rand(1:N, M)])) = 136.8816689340441\n",
      "-(L̄(X[:, rand(1:N, M)])) = 133.238344359209\n",
      "-(L̄(X[:, rand(1:N, M)])) = 126.13597576343417\n",
      "-(L̄(X[:, rand(1:N, M)])) = 135.42933487029214\n",
      "-(L̄(X[:, rand(1:N, M)])) = 145.2054170586898\n",
      "-(L̄(X[:, rand(1:N, M)])) = 129.5815836797302\n",
      "-(L̄(X[:, rand(1:N, M)])) = 130.32190254418228\n",
      "-(L̄(X[:, rand(1:N, M)])) = 137.75822334166395\n"
     ]
    },
    {
     "name": "stderr",
     "output_type": "stream",
     "text": [
      "┌ Info: Epoch 6\n",
      "└ @ Main /home/yuehhua/.julia/packages/Flux/2i5P1/src/optimise/train.jl:99\n"
     ]
    },
    {
     "name": "stdout",
     "output_type": "stream",
     "text": [
      "-(L̄(X[:, rand(1:N, M)])) = 124.43256893404993\n",
      "-(L̄(X[:, rand(1:N, M)])) = 135.3573067865918\n",
      "-(L̄(X[:, rand(1:N, M)])) = 134.072460658761\n",
      "-(L̄(X[:, rand(1:N, M)])) = 134.86230712844244\n",
      "-(L̄(X[:, rand(1:N, M)])) = 132.22009275193986\n",
      "-(L̄(X[:, rand(1:N, M)])) = 143.21634645943945\n",
      "-(L̄(X[:, rand(1:N, M)])) = 136.79634253621\n",
      "-(L̄(X[:, rand(1:N, M)])) = 123.95255920937639\n",
      "-(L̄(X[:, rand(1:N, M)])) = 135.6306750636356\n",
      "-(L̄(X[:, rand(1:N, M)])) = 136.41036356343216\n",
      "-(L̄(X[:, rand(1:N, M)])) = 133.66321689231404\n",
      "-(L̄(X[:, rand(1:N, M)])) = 132.689269008089\n",
      "-(L̄(X[:, rand(1:N, M)])) = 132.053161661826\n",
      "-(L̄(X[:, rand(1:N, M)])) = 135.22932583088695\n",
      "-(L̄(X[:, rand(1:N, M)])) = 135.8441041146297\n",
      "-(L̄(X[:, rand(1:N, M)])) = 131.31795596068673\n",
      "-(L̄(X[:, rand(1:N, M)])) = 134.59723121150373\n",
      "-(L̄(X[:, rand(1:N, M)])) = 133.05931851910805\n",
      "-(L̄(X[:, rand(1:N, M)])) = 128.68801453266065\n",
      "-(L̄(X[:, rand(1:N, M)])) = 128.00283682868064\n",
      "-(L̄(X[:, rand(1:N, M)])) = 135.99474114196863\n",
      "-(L̄(X[:, rand(1:N, M)])) = 128.93398634917753\n"
     ]
    },
    {
     "name": "stderr",
     "output_type": "stream",
     "text": [
      "┌ Info: Epoch 7\n",
      "└ @ Main /home/yuehhua/.julia/packages/Flux/2i5P1/src/optimise/train.jl:99\n"
     ]
    },
    {
     "name": "stdout",
     "output_type": "stream",
     "text": [
      "-(L̄(X[:, rand(1:N, M)])) = 132.3460609423721\n",
      "-(L̄(X[:, rand(1:N, M)])) = 125.81402237485617\n",
      "-(L̄(X[:, rand(1:N, M)])) = 134.76487686266591\n",
      "-(L̄(X[:, rand(1:N, M)])) = 128.90412946179475\n",
      "-(L̄(X[:, rand(1:N, M)])) = 132.3820590902147\n",
      "-(L̄(X[:, rand(1:N, M)])) = 131.7298368579205\n",
      "-(L̄(X[:, rand(1:N, M)])) = 127.66921957165178\n",
      "-(L̄(X[:, rand(1:N, M)])) = 131.7079428250923\n",
      "-(L̄(X[:, rand(1:N, M)])) = 127.63573944433406\n",
      "-(L̄(X[:, rand(1:N, M)])) = 132.2774497812939\n",
      "-(L̄(X[:, rand(1:N, M)])) = 125.7099616179973\n",
      "-(L̄(X[:, rand(1:N, M)])) = 118.2077991860798\n",
      "-(L̄(X[:, rand(1:N, M)])) = 136.5077901732908\n",
      "-(L̄(X[:, rand(1:N, M)])) = 129.01942027243243\n",
      "-(L̄(X[:, rand(1:N, M)])) = 136.41528663699458\n",
      "-(L̄(X[:, rand(1:N, M)])) = 128.3770027791361\n",
      "-(L̄(X[:, rand(1:N, M)])) = 128.93468242539961\n",
      "-(L̄(X[:, rand(1:N, M)])) = 131.10025885401643\n",
      "-(L̄(X[:, rand(1:N, M)])) = 131.58259326197927\n",
      "-(L̄(X[:, rand(1:N, M)])) = 136.73560041451046\n",
      "-(L̄(X[:, rand(1:N, M)])) = 132.78834650688322\n"
     ]
    },
    {
     "name": "stderr",
     "output_type": "stream",
     "text": [
      "┌ Info: Epoch 8\n",
      "└ @ Main /home/yuehhua/.julia/packages/Flux/2i5P1/src/optimise/train.jl:99\n"
     ]
    },
    {
     "name": "stdout",
     "output_type": "stream",
     "text": [
      "-(L̄(X[:, rand(1:N, M)])) = 137.20050910200743\n",
      "-(L̄(X[:, rand(1:N, M)])) = 124.97475658341934\n",
      "-(L̄(X[:, rand(1:N, M)])) = 131.1826719268621\n",
      "-(L̄(X[:, rand(1:N, M)])) = 124.1062471538006\n",
      "-(L̄(X[:, rand(1:N, M)])) = 130.5517732147109\n",
      "-(L̄(X[:, rand(1:N, M)])) = 134.4693057460509\n",
      "-(L̄(X[:, rand(1:N, M)])) = 135.81367418990152\n",
      "-(L̄(X[:, rand(1:N, M)])) = 128.97625616887817\n",
      "-(L̄(X[:, rand(1:N, M)])) = 126.22570015033911\n",
      "-(L̄(X[:, rand(1:N, M)])) = 130.111358489403\n",
      "-(L̄(X[:, rand(1:N, M)])) = 129.77108926536698\n",
      "-(L̄(X[:, rand(1:N, M)])) = 137.1032484912227\n",
      "-(L̄(X[:, rand(1:N, M)])) = 125.87769412423397\n",
      "-(L̄(X[:, rand(1:N, M)])) = 125.42826411698377\n",
      "-(L̄(X[:, rand(1:N, M)])) = 135.23202535304387\n",
      "-(L̄(X[:, rand(1:N, M)])) = 127.98343883175403\n",
      "-(L̄(X[:, rand(1:N, M)])) = 126.81926483220508\n",
      "-(L̄(X[:, rand(1:N, M)])) = 128.48574922011738\n",
      "-(L̄(X[:, rand(1:N, M)])) = 130.43180665656374\n",
      "-(L̄(X[:, rand(1:N, M)])) = 130.62384782153353\n",
      "-(L̄(X[:, rand(1:N, M)])) = 133.0666470797613\n"
     ]
    },
    {
     "name": "stderr",
     "output_type": "stream",
     "text": [
      "┌ Info: Epoch 9\n",
      "└ @ Main /home/yuehhua/.julia/packages/Flux/2i5P1/src/optimise/train.jl:99\n"
     ]
    },
    {
     "name": "stdout",
     "output_type": "stream",
     "text": [
      "-(L̄(X[:, rand(1:N, M)])) = 127.50709408314026\n",
      "-(L̄(X[:, rand(1:N, M)])) = 131.6725899108759\n",
      "-(L̄(X[:, rand(1:N, M)])) = 129.75330867859145\n",
      "-(L̄(X[:, rand(1:N, M)])) = 134.83446792560386\n",
      "-(L̄(X[:, rand(1:N, M)])) = 129.29871138123738\n",
      "-(L̄(X[:, rand(1:N, M)])) = 127.07453776939288\n",
      "-(L̄(X[:, rand(1:N, M)])) = 127.94491788283246\n",
      "-(L̄(X[:, rand(1:N, M)])) = 128.11025828312594\n",
      "-(L̄(X[:, rand(1:N, M)])) = 133.40850346262152\n",
      "-(L̄(X[:, rand(1:N, M)])) = 133.32116635936697\n",
      "-(L̄(X[:, rand(1:N, M)])) = 124.28105485657272\n",
      "-(L̄(X[:, rand(1:N, M)])) = 130.87517488548463\n",
      "-(L̄(X[:, rand(1:N, M)])) = 125.89372276239594\n",
      "-(L̄(X[:, rand(1:N, M)])) = 124.293003087255\n",
      "-(L̄(X[:, rand(1:N, M)])) = 136.1065192523239\n",
      "-(L̄(X[:, rand(1:N, M)])) = 117.82473142352879\n",
      "-(L̄(X[:, rand(1:N, M)])) = 129.1981870449076\n",
      "-(L̄(X[:, rand(1:N, M)])) = 128.93357918492367\n",
      "-(L̄(X[:, rand(1:N, M)])) = 132.97258756643896\n",
      "-(L̄(X[:, rand(1:N, M)])) = 134.16351897969582\n",
      "-(L̄(X[:, rand(1:N, M)])) = 127.27849901463647\n",
      "-(L̄(X[:, rand(1:N, M)])) = 129.5723733862246\n"
     ]
    },
    {
     "name": "stderr",
     "output_type": "stream",
     "text": [
      "┌ Info: Epoch 10\n",
      "└ @ Main /home/yuehhua/.julia/packages/Flux/2i5P1/src/optimise/train.jl:99\n"
     ]
    },
    {
     "name": "stdout",
     "output_type": "stream",
     "text": [
      "-(L̄(X[:, rand(1:N, M)])) = 129.20964146867274\n",
      "-(L̄(X[:, rand(1:N, M)])) = 132.90283011545074\n",
      "-(L̄(X[:, rand(1:N, M)])) = 128.9843533844208\n",
      "-(L̄(X[:, rand(1:N, M)])) = 126.99632415814597\n",
      "-(L̄(X[:, rand(1:N, M)])) = 126.96973657689297\n",
      "-(L̄(X[:, rand(1:N, M)])) = 129.0894753582221\n",
      "-(L̄(X[:, rand(1:N, M)])) = 132.41385536695032\n",
      "-(L̄(X[:, rand(1:N, M)])) = 130.1043488807083\n",
      "-(L̄(X[:, rand(1:N, M)])) = 129.83812437088037\n",
      "-(L̄(X[:, rand(1:N, M)])) = 130.60964084425422\n",
      "-(L̄(X[:, rand(1:N, M)])) = 124.15753863690945\n",
      "-(L̄(X[:, rand(1:N, M)])) = 126.28980945958959\n",
      "-(L̄(X[:, rand(1:N, M)])) = 127.93809608478801\n",
      "-(L̄(X[:, rand(1:N, M)])) = 132.6159145454623\n",
      "-(L̄(X[:, rand(1:N, M)])) = 126.59785462932248\n",
      "-(L̄(X[:, rand(1:N, M)])) = 125.81240481052157\n",
      "-(L̄(X[:, rand(1:N, M)])) = 128.38346555866875\n",
      "-(L̄(X[:, rand(1:N, M)])) = 123.04236860123191\n",
      "-(L̄(X[:, rand(1:N, M)])) = 137.06697659413277\n"
     ]
    }
   ],
   "source": [
    "evalcb = throttle(() -> @show(-L̄(X[:, rand(1:N, M)])), 30)\n",
    "opt = ADAM()\n",
    "@epochs 10 Flux.train!(loss, params(A, μ, logσ, f), zip(data), opt, cb=evalcb)"
   ]
  },
  {
   "cell_type": "markdown",
   "metadata": {},
   "source": [
    "# Sample Output"
   ]
  },
  {
   "cell_type": "code",
   "execution_count": 9,
   "metadata": {},
   "outputs": [
    {
     "name": "stderr",
     "output_type": "stream",
     "text": [
      "WARNING: using Images.data in module Main conflicts with an existing identifier.\n"
     ]
    }
   ],
   "source": [
    "using Images\n",
    "\n",
    "img(x) = Gray.(reshape(x, 28, 28))\n",
    "\n",
    "cd(@__DIR__)\n",
    "sample = hcat(img.([modelsample() for i = 1:10])...)\n",
    "save(\"vae-sample.png\", sample)"
   ]
  },
  {
   "cell_type": "code",
   "execution_count": null,
   "metadata": {},
   "outputs": [],
   "source": []
  }
 ],
 "metadata": {
  "kernelspec": {
   "display_name": "Julia 1.3.1",
   "language": "julia",
   "name": "julia-1.3"
  },
  "language_info": {
   "file_extension": ".jl",
   "mimetype": "application/julia",
   "name": "julia",
   "version": "1.3.1"
  }
 },
 "nbformat": 4,
 "nbformat_minor": 4
}
