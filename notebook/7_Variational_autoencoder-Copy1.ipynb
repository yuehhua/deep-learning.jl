{
 "cells": [
  {
   "cell_type": "markdown",
   "metadata": {},
   "source": [
    "# Variational autoencoder"
   ]
  },
  {
   "cell_type": "code",
   "execution_count": 1,
   "metadata": {},
   "outputs": [
    {
     "name": "stderr",
     "output_type": "stream",
     "text": [
      "WARNING: using Distributions.params in module Main conflicts with an existing identifier.\n"
     ]
    }
   ],
   "source": [
    "using Flux, Flux.Data.MNIST\n",
    "using Flux: @epochs, throttle, params\n",
    "using Distributions\n",
    "import Distributions: logpdf"
   ]
  },
  {
   "cell_type": "markdown",
   "metadata": {},
   "source": [
    "**For numerically stable, extend distributions slightly to have a logpdf for `p` close to 1 or 0.**"
   ]
  },
  {
   "cell_type": "code",
   "execution_count": 2,
   "metadata": {},
   "outputs": [
    {
     "data": {
      "text/plain": [
       "logpdf (generic function with 62 methods)"
      ]
     },
     "execution_count": 2,
     "metadata": {},
     "output_type": "execute_result"
    }
   ],
   "source": [
    "logpdf(b::Bernoulli, y::Bool) = y * log(b.p + eps()) + (1 - y) * log(1 - b.p + eps())"
   ]
  },
  {
   "cell_type": "markdown",
   "metadata": {},
   "source": [
    "# Load data"
   ]
  },
  {
   "cell_type": "code",
   "execution_count": 3,
   "metadata": {},
   "outputs": [],
   "source": [
    "X = MNIST.images();"
   ]
  },
  {
   "cell_type": "markdown",
   "metadata": {},
   "source": [
    "## Binarise"
   ]
  },
  {
   "cell_type": "code",
   "execution_count": 4,
   "metadata": {},
   "outputs": [
    {
     "data": {
      "text/plain": [
       "784×60000 BitArray{2}:\n",
       " false  false  false  false  false  …  false  false  false  false  false\n",
       " false  false  false  false  false     false  false  false  false  false\n",
       " false  false  false  false  false     false  false  false  false  false\n",
       " false  false  false  false  false     false  false  false  false  false\n",
       " false  false  false  false  false     false  false  false  false  false\n",
       " false  false  false  false  false  …  false  false  false  false  false\n",
       " false  false  false  false  false     false  false  false  false  false\n",
       " false  false  false  false  false     false  false  false  false  false\n",
       " false  false  false  false  false     false  false  false  false  false\n",
       " false  false  false  false  false     false  false  false  false  false\n",
       " false  false  false  false  false  …  false  false  false  false  false\n",
       " false  false  false  false  false     false  false  false  false  false\n",
       " false  false  false  false  false     false  false  false  false  false\n",
       "     ⋮                              ⋱      ⋮                            \n",
       " false  false  false  false  false     false  false  false  false  false\n",
       " false  false  false  false  false     false  false  false  false  false\n",
       " false  false  false  false  false     false  false  false  false  false\n",
       " false  false  false  false  false  …  false  false  false  false  false\n",
       " false  false  false  false  false     false  false  false  false  false\n",
       " false  false  false  false  false     false  false  false  false  false\n",
       " false  false  false  false  false     false  false  false  false  false\n",
       " false  false  false  false  false     false  false  false  false  false\n",
       " false  false  false  false  false  …  false  false  false  false  false\n",
       " false  false  false  false  false     false  false  false  false  false\n",
       " false  false  false  false  false     false  false  false  false  false\n",
       " false  false  false  false  false     false  false  false  false  false"
      ]
     },
     "execution_count": 4,
     "metadata": {},
     "output_type": "execute_result"
    }
   ],
   "source": [
    "X = float.(hcat(vec.(X)...)) .> 0.5"
   ]
  },
  {
   "cell_type": "markdown",
   "metadata": {},
   "source": [
    "## Mini-batches"
   ]
  },
  {
   "cell_type": "code",
   "execution_count": 5,
   "metadata": {},
   "outputs": [
    {
     "data": {
      "text/plain": [
       "600-element Array{BitArray{2},1}:\n",
       " [false false … false false; false false … false false; … ; false false … false false; false false … false false]\n",
       " [false false … false false; false false … false false; … ; false false … false false; false false … false false]\n",
       " [false false … false false; false false … false false; … ; false false … false false; false false … false false]\n",
       " [false false … false false; false false … false false; … ; false false … false false; false false … false false]\n",
       " [false false … false false; false false … false false; … ; false false … false false; false false … false false]\n",
       " [false false … false false; false false … false false; … ; false false … false false; false false … false false]\n",
       " [false false … false false; false false … false false; … ; false false … false false; false false … false false]\n",
       " [false false … false false; false false … false false; … ; false false … false false; false false … false false]\n",
       " [false false … false false; false false … false false; … ; false false … false false; false false … false false]\n",
       " [false false … false false; false false … false false; … ; false false … false false; false false … false false]\n",
       " [false false … false false; false false … false false; … ; false false … false false; false false … false false]\n",
       " [false false … false false; false false … false false; … ; false false … false false; false false … false false]\n",
       " [false false … false false; false false … false false; … ; false false … false false; false false … false false]\n",
       " ⋮                                                                                                               \n",
       " [false false … false false; false false … false false; … ; false false … false false; false false … false false]\n",
       " [false false … false false; false false … false false; … ; false false … false false; false false … false false]\n",
       " [false false … false false; false false … false false; … ; false false … false false; false false … false false]\n",
       " [false false … false false; false false … false false; … ; false false … false false; false false … false false]\n",
       " [false false … false false; false false … false false; … ; false false … false false; false false … false false]\n",
       " [false false … false false; false false … false false; … ; false false … false false; false false … false false]\n",
       " [false false … false false; false false … false false; … ; false false … false false; false false … false false]\n",
       " [false false … false false; false false … false false; … ; false false … false false; false false … false false]\n",
       " [false false … false false; false false … false false; … ; false false … false false; false false … false false]\n",
       " [false false … false false; false false … false false; … ; false false … false false; false false … false false]\n",
       " [false false … false false; false false … false false; … ; false false … false false; false false … false false]\n",
       " [false false … false false; false false … false false; … ; false false … false false; false false … false false]"
      ]
     },
     "execution_count": 5,
     "metadata": {},
     "output_type": "execute_result"
    }
   ],
   "source": [
    "N, M = size(X, 2), 100\n",
    "data = [X[:,i] for i in Iterators.partition(1:N,M)]"
   ]
  },
  {
   "cell_type": "markdown",
   "metadata": {},
   "source": [
    "# Define Model"
   ]
  },
  {
   "cell_type": "code",
   "execution_count": 6,
   "metadata": {},
   "outputs": [
    {
     "data": {
      "text/plain": [
       "Chain(Dense(5, 500, tanh), Dense(500, 784, NNlib.σ))"
      ]
     },
     "execution_count": 6,
     "metadata": {},
     "output_type": "execute_result"
    }
   ],
   "source": [
    "# Dimensions (D -> Dh -> Dz -> Dh -> D)\n",
    "Dz, Dh, D = 5, 500, 28^2\n",
    "\n",
    "# Encoder\n",
    "A, μ, logσ = Dense(D, Dh, tanh), Dense(Dh, Dz), Dense(Dh, Dz)\n",
    "g(X) = (h = A(X); (μ(h), logσ(h)))\n",
    "z(μ, logσ) = μ + exp(logσ) * randn()\n",
    "\n",
    "# Decoder\n",
    "f = Chain(Dense(Dz, Dh, tanh), Dense(Dh, D, σ))"
   ]
  },
  {
   "cell_type": "markdown",
   "metadata": {},
   "source": [
    "# Loss function and ELBO"
   ]
  },
  {
   "cell_type": "code",
   "execution_count": 7,
   "metadata": {},
   "outputs": [
    {
     "data": {
      "text/plain": [
       "modelsample (generic function with 1 method)"
      ]
     },
     "execution_count": 7,
     "metadata": {},
     "output_type": "execute_result"
    }
   ],
   "source": [
    "# KL-divergence between approximation posterior and N(0, 1) prior.\n",
    "kl_q_p(μ, logσ) = 0.5 * sum(exp.(2 .* logσ) + μ.^2 .- 1 .+ logσ.^2)\n",
    "\n",
    "# logp(x|z) - conditional probability of data given latents.\n",
    "logp_x_z(x, z) = sum(logpdf.(Bernoulli.(f(z)), x))\n",
    "\n",
    "# Monte Carlo estimator of mean ELBO using M samples.\n",
    "L̄(X) = ((μ̂, logσ̂) = g(X); (logp_x_z(X, z.(μ̂, logσ̂)) - kl_q_p(μ̂, logσ̂)) / M)\n",
    "\n",
    "loss(X) = -L̄(X) + 0.01 * sum(x->sum(x.^2), params(f))\n",
    "\n",
    "# Sample from the learned model.\n",
    "modelsample() = rand.(Bernoulli.(f(z.(zeros(Dz), zeros(Dz)))))"
   ]
  },
  {
   "cell_type": "markdown",
   "metadata": {},
   "source": [
    "# Learning"
   ]
  },
  {
   "cell_type": "code",
   "execution_count": 8,
   "metadata": {},
   "outputs": [
    {
     "name": "stderr",
     "output_type": "stream",
     "text": [
      "┌ Info: Epoch 1\n",
      "└ @ Main /home/pika/.julia/packages/Flux/rcN9D/src/optimise/train.jl:93\n"
     ]
    },
    {
     "name": "stdout",
     "output_type": "stream",
     "text": [
      "-(L̄(X[:, rand(1:N, M)])) = 542.0929128283901 (tracked)\n",
      "-(L̄(X[:, rand(1:N, M)])) = 205.08832708267968 (tracked)\n",
      "-(L̄(X[:, rand(1:N, M)])) = 206.43163041940676 (tracked)\n",
      "-(L̄(X[:, rand(1:N, M)])) = 181.38805021263047 (tracked)\n",
      "-(L̄(X[:, rand(1:N, M)])) = 185.15896372249222 (tracked)\n",
      "-(L̄(X[:, rand(1:N, M)])) = 174.9184993861609 (tracked)\n",
      "-(L̄(X[:, rand(1:N, M)])) = 215.1296003483748 (tracked)\n",
      "-(L̄(X[:, rand(1:N, M)])) = 176.91684689593768 (tracked)\n",
      "-(L̄(X[:, rand(1:N, M)])) = 179.122474319477 (tracked)\n",
      "-(L̄(X[:, rand(1:N, M)])) = 180.98286084084492 (tracked)\n",
      "-(L̄(X[:, rand(1:N, M)])) = 179.37794052383742 (tracked)\n",
      "-(L̄(X[:, rand(1:N, M)])) = 177.09325260981902 (tracked)\n",
      "-(L̄(X[:, rand(1:N, M)])) = 174.00850289109755 (tracked)\n",
      "-(L̄(X[:, rand(1:N, M)])) = 197.59559573942732 (tracked)\n",
      "-(L̄(X[:, rand(1:N, M)])) = 171.95256627032757 (tracked)\n",
      "-(L̄(X[:, rand(1:N, M)])) = 170.05080043329653 (tracked)\n",
      "-(L̄(X[:, rand(1:N, M)])) = 167.28943506765296 (tracked)\n"
     ]
    },
    {
     "name": "stderr",
     "output_type": "stream",
     "text": [
      "┌ Info: Epoch 2\n",
      "└ @ Main /home/pika/.julia/packages/Flux/rcN9D/src/optimise/train.jl:93\n"
     ]
    },
    {
     "name": "stdout",
     "output_type": "stream",
     "text": [
      "-(L̄(X[:, rand(1:N, M)])) = 168.1690423427329 (tracked)\n",
      "-(L̄(X[:, rand(1:N, M)])) = 163.68600247944403 (tracked)\n",
      "-(L̄(X[:, rand(1:N, M)])) = 167.88095225489644 (tracked)\n",
      "-(L̄(X[:, rand(1:N, M)])) = 162.73749244302337 (tracked)\n",
      "-(L̄(X[:, rand(1:N, M)])) = 171.8528419659619 (tracked)\n",
      "-(L̄(X[:, rand(1:N, M)])) = 161.33095713054314 (tracked)\n",
      "-(L̄(X[:, rand(1:N, M)])) = 161.76333643397456 (tracked)\n",
      "-(L̄(X[:, rand(1:N, M)])) = 169.1126078009159 (tracked)\n",
      "-(L̄(X[:, rand(1:N, M)])) = 168.7599280162136 (tracked)\n",
      "-(L̄(X[:, rand(1:N, M)])) = 160.1875805625217 (tracked)\n",
      "-(L̄(X[:, rand(1:N, M)])) = 163.73816553498938 (tracked)\n",
      "-(L̄(X[:, rand(1:N, M)])) = 160.98363750796742 (tracked)\n",
      "-(L̄(X[:, rand(1:N, M)])) = 158.7329207990596 (tracked)\n",
      "-(L̄(X[:, rand(1:N, M)])) = 160.48544402634593 (tracked)\n",
      "-(L̄(X[:, rand(1:N, M)])) = 164.38535738452575 (tracked)\n",
      "-(L̄(X[:, rand(1:N, M)])) = 156.3895800110892 (tracked)\n",
      "-(L̄(X[:, rand(1:N, M)])) = 156.01398422555522 (tracked)\n",
      "-(L̄(X[:, rand(1:N, M)])) = 150.1959093447134 (tracked)\n",
      "-(L̄(X[:, rand(1:N, M)])) = 146.04553573648522 (tracked)\n",
      "-(L̄(X[:, rand(1:N, M)])) = 161.17157509601364 (tracked)\n"
     ]
    },
    {
     "name": "stderr",
     "output_type": "stream",
     "text": [
      "┌ Info: Epoch 3\n",
      "└ @ Main /home/pika/.julia/packages/Flux/rcN9D/src/optimise/train.jl:93\n"
     ]
    },
    {
     "name": "stdout",
     "output_type": "stream",
     "text": [
      "-(L̄(X[:, rand(1:N, M)])) = 160.94709461366676 (tracked)\n",
      "-(L̄(X[:, rand(1:N, M)])) = 151.30388485045353 (tracked)\n",
      "-(L̄(X[:, rand(1:N, M)])) = 159.13916966282903 (tracked)\n",
      "-(L̄(X[:, rand(1:N, M)])) = 160.18204786871732 (tracked)\n",
      "-(L̄(X[:, rand(1:N, M)])) = 147.7312966250457 (tracked)\n",
      "-(L̄(X[:, rand(1:N, M)])) = 160.05107746671618 (tracked)\n",
      "-(L̄(X[:, rand(1:N, M)])) = 156.12186400584065 (tracked)\n",
      "-(L̄(X[:, rand(1:N, M)])) = 155.38799586520753 (tracked)\n",
      "-(L̄(X[:, rand(1:N, M)])) = 160.62002188379273 (tracked)\n",
      "-(L̄(X[:, rand(1:N, M)])) = 154.41236882535483 (tracked)\n",
      "-(L̄(X[:, rand(1:N, M)])) = 147.50718578271562 (tracked)\n",
      "-(L̄(X[:, rand(1:N, M)])) = 144.39227857556693 (tracked)\n",
      "-(L̄(X[:, rand(1:N, M)])) = 160.06601522541843 (tracked)\n",
      "-(L̄(X[:, rand(1:N, M)])) = 155.9396264717974 (tracked)\n",
      "-(L̄(X[:, rand(1:N, M)])) = 154.91876677416352 (tracked)\n",
      "-(L̄(X[:, rand(1:N, M)])) = 154.59438122714351 (tracked)\n",
      "-(L̄(X[:, rand(1:N, M)])) = 154.0936982605125 (tracked)\n",
      "-(L̄(X[:, rand(1:N, M)])) = 148.3490528332308 (tracked)\n",
      "-(L̄(X[:, rand(1:N, M)])) = 157.0404229861755 (tracked)\n",
      "-(L̄(X[:, rand(1:N, M)])) = 146.47173718592137 (tracked)\n"
     ]
    },
    {
     "name": "stderr",
     "output_type": "stream",
     "text": [
      "┌ Info: Epoch 4\n",
      "└ @ Main /home/pika/.julia/packages/Flux/rcN9D/src/optimise/train.jl:93\n"
     ]
    },
    {
     "name": "stdout",
     "output_type": "stream",
     "text": [
      "-(L̄(X[:, rand(1:N, M)])) = 149.43081962833406 (tracked)\n",
      "-(L̄(X[:, rand(1:N, M)])) = 138.05056456240925 (tracked)\n",
      "-(L̄(X[:, rand(1:N, M)])) = 150.17141162455013 (tracked)\n",
      "-(L̄(X[:, rand(1:N, M)])) = 155.37724689034505 (tracked)\n",
      "-(L̄(X[:, rand(1:N, M)])) = 148.64465218387934 (tracked)\n",
      "-(L̄(X[:, rand(1:N, M)])) = 155.92280943439363 (tracked)\n",
      "-(L̄(X[:, rand(1:N, M)])) = 146.90806642049114 (tracked)\n",
      "-(L̄(X[:, rand(1:N, M)])) = 140.9093476289216 (tracked)\n",
      "-(L̄(X[:, rand(1:N, M)])) = 148.70137558452237 (tracked)\n",
      "-(L̄(X[:, rand(1:N, M)])) = 147.2514002752761 (tracked)\n",
      "-(L̄(X[:, rand(1:N, M)])) = 150.10552402263156 (tracked)\n",
      "-(L̄(X[:, rand(1:N, M)])) = 150.79976751896356 (tracked)\n",
      "-(L̄(X[:, rand(1:N, M)])) = 145.8295040120485 (tracked)\n",
      "-(L̄(X[:, rand(1:N, M)])) = 153.84659755741467 (tracked)\n",
      "-(L̄(X[:, rand(1:N, M)])) = 138.40415161878266 (tracked)\n",
      "-(L̄(X[:, rand(1:N, M)])) = 151.9916207113665 (tracked)\n",
      "-(L̄(X[:, rand(1:N, M)])) = 150.06713840748512 (tracked)\n",
      "-(L̄(X[:, rand(1:N, M)])) = 142.98404299250467 (tracked)\n",
      "-(L̄(X[:, rand(1:N, M)])) = 144.31880613738124 (tracked)\n",
      "-(L̄(X[:, rand(1:N, M)])) = 148.68234263550127 (tracked)\n"
     ]
    },
    {
     "name": "stderr",
     "output_type": "stream",
     "text": [
      "┌ Info: Epoch 5\n",
      "└ @ Main /home/pika/.julia/packages/Flux/rcN9D/src/optimise/train.jl:93\n"
     ]
    },
    {
     "name": "stdout",
     "output_type": "stream",
     "text": [
      "-(L̄(X[:, rand(1:N, M)])) = 151.54420817493363 (tracked)\n",
      "-(L̄(X[:, rand(1:N, M)])) = 144.0577219911603 (tracked)\n",
      "-(L̄(X[:, rand(1:N, M)])) = 148.29251346344944 (tracked)\n",
      "-(L̄(X[:, rand(1:N, M)])) = 146.83100293662457 (tracked)\n",
      "-(L̄(X[:, rand(1:N, M)])) = 136.77907422242785 (tracked)\n",
      "-(L̄(X[:, rand(1:N, M)])) = 149.24549967532704 (tracked)\n",
      "-(L̄(X[:, rand(1:N, M)])) = 139.95622558953954 (tracked)\n",
      "-(L̄(X[:, rand(1:N, M)])) = 148.67244643743095 (tracked)\n",
      "-(L̄(X[:, rand(1:N, M)])) = 154.13369972618392 (tracked)\n",
      "-(L̄(X[:, rand(1:N, M)])) = 150.54587660915914 (tracked)\n",
      "-(L̄(X[:, rand(1:N, M)])) = 146.4512983480999 (tracked)\n",
      "-(L̄(X[:, rand(1:N, M)])) = 148.36728495802504 (tracked)\n",
      "-(L̄(X[:, rand(1:N, M)])) = 153.27226045851657 (tracked)\n",
      "-(L̄(X[:, rand(1:N, M)])) = 155.2193676677311 (tracked)\n",
      "-(L̄(X[:, rand(1:N, M)])) = 148.18016509386456 (tracked)\n",
      "-(L̄(X[:, rand(1:N, M)])) = 139.86612814000236 (tracked)\n",
      "-(L̄(X[:, rand(1:N, M)])) = 134.65123744432094 (tracked)\n",
      "-(L̄(X[:, rand(1:N, M)])) = 143.6793663145825 (tracked)\n",
      "-(L̄(X[:, rand(1:N, M)])) = 143.14276943315852 (tracked)\n",
      "-(L̄(X[:, rand(1:N, M)])) = 140.45662359177587 (tracked)\n",
      "-(L̄(X[:, rand(1:N, M)])) = 146.23387061930396 (tracked)\n",
      "-(L̄(X[:, rand(1:N, M)])) = 147.07083749032475 (tracked)\n"
     ]
    },
    {
     "name": "stderr",
     "output_type": "stream",
     "text": [
      "┌ Info: Epoch 6\n",
      "└ @ Main /home/pika/.julia/packages/Flux/rcN9D/src/optimise/train.jl:93\n"
     ]
    },
    {
     "name": "stdout",
     "output_type": "stream",
     "text": [
      "-(L̄(X[:, rand(1:N, M)])) = 147.79741595087543 (tracked)\n",
      "-(L̄(X[:, rand(1:N, M)])) = 134.7905320200619 (tracked)\n",
      "-(L̄(X[:, rand(1:N, M)])) = 143.55133415104854 (tracked)\n",
      "-(L̄(X[:, rand(1:N, M)])) = 148.99191687704575 (tracked)\n",
      "-(L̄(X[:, rand(1:N, M)])) = 149.61290345507504 (tracked)\n",
      "-(L̄(X[:, rand(1:N, M)])) = 137.46537069113884 (tracked)\n",
      "-(L̄(X[:, rand(1:N, M)])) = 140.48501599080492 (tracked)\n",
      "-(L̄(X[:, rand(1:N, M)])) = 143.62370435741275 (tracked)\n",
      "-(L̄(X[:, rand(1:N, M)])) = 146.91530390816285 (tracked)\n",
      "-(L̄(X[:, rand(1:N, M)])) = 137.8475386742256 (tracked)\n",
      "-(L̄(X[:, rand(1:N, M)])) = 139.94949838847558 (tracked)\n",
      "-(L̄(X[:, rand(1:N, M)])) = 144.18276743024455 (tracked)\n",
      "-(L̄(X[:, rand(1:N, M)])) = 139.4991547028534 (tracked)\n",
      "-(L̄(X[:, rand(1:N, M)])) = 140.09036822946592 (tracked)\n",
      "-(L̄(X[:, rand(1:N, M)])) = 150.23671124406494 (tracked)\n",
      "-(L̄(X[:, rand(1:N, M)])) = 141.11936961271175 (tracked)\n",
      "-(L̄(X[:, rand(1:N, M)])) = 140.23412770686565 (tracked)\n",
      "-(L̄(X[:, rand(1:N, M)])) = 140.66163527406476 (tracked)\n",
      "-(L̄(X[:, rand(1:N, M)])) = 141.44292573079505 (tracked)\n",
      "-(L̄(X[:, rand(1:N, M)])) = 136.33528387364632 (tracked)\n",
      "-(L̄(X[:, rand(1:N, M)])) = 145.68622930032217 (tracked)\n",
      "-(L̄(X[:, rand(1:N, M)])) = 147.5020748643528 (tracked)\n"
     ]
    },
    {
     "name": "stderr",
     "output_type": "stream",
     "text": [
      "┌ Info: Epoch 7\n",
      "└ @ Main /home/pika/.julia/packages/Flux/rcN9D/src/optimise/train.jl:93\n"
     ]
    },
    {
     "name": "stdout",
     "output_type": "stream",
     "text": [
      "-(L̄(X[:, rand(1:N, M)])) = 142.92914120796334 (tracked)\n",
      "-(L̄(X[:, rand(1:N, M)])) = 146.67537522372317 (tracked)\n",
      "-(L̄(X[:, rand(1:N, M)])) = 144.3272918811263 (tracked)\n",
      "-(L̄(X[:, rand(1:N, M)])) = 144.55527750896286 (tracked)\n",
      "-(L̄(X[:, rand(1:N, M)])) = 140.28225607315866 (tracked)\n",
      "-(L̄(X[:, rand(1:N, M)])) = 144.07523308068997 (tracked)\n",
      "-(L̄(X[:, rand(1:N, M)])) = 140.1079661837167 (tracked)\n",
      "-(L̄(X[:, rand(1:N, M)])) = 145.26741369019513 (tracked)\n",
      "-(L̄(X[:, rand(1:N, M)])) = 151.9680310788665 (tracked)\n",
      "-(L̄(X[:, rand(1:N, M)])) = 139.02908772469118 (tracked)\n",
      "-(L̄(X[:, rand(1:N, M)])) = 151.69924881117498 (tracked)\n",
      "-(L̄(X[:, rand(1:N, M)])) = 139.0472593806305 (tracked)\n",
      "-(L̄(X[:, rand(1:N, M)])) = 142.9458492033643 (tracked)\n",
      "-(L̄(X[:, rand(1:N, M)])) = 142.69552345800648 (tracked)\n",
      "-(L̄(X[:, rand(1:N, M)])) = 139.76789872937087 (tracked)\n",
      "-(L̄(X[:, rand(1:N, M)])) = 141.5780372327885 (tracked)\n",
      "-(L̄(X[:, rand(1:N, M)])) = 141.20873912304765 (tracked)\n",
      "-(L̄(X[:, rand(1:N, M)])) = 148.0832482796864 (tracked)\n",
      "-(L̄(X[:, rand(1:N, M)])) = 141.8303118927258 (tracked)\n",
      "-(L̄(X[:, rand(1:N, M)])) = 139.28597073845077 (tracked)\n"
     ]
    },
    {
     "name": "stderr",
     "output_type": "stream",
     "text": [
      "┌ Info: Epoch 8\n",
      "└ @ Main /home/pika/.julia/packages/Flux/rcN9D/src/optimise/train.jl:93\n"
     ]
    },
    {
     "name": "stdout",
     "output_type": "stream",
     "text": [
      "-(L̄(X[:, rand(1:N, M)])) = 139.11206863939242 (tracked)\n",
      "-(L̄(X[:, rand(1:N, M)])) = 144.91808872644856 (tracked)\n",
      "-(L̄(X[:, rand(1:N, M)])) = 140.4021858324071 (tracked)\n",
      "-(L̄(X[:, rand(1:N, M)])) = 144.28464967714044 (tracked)\n",
      "-(L̄(X[:, rand(1:N, M)])) = 141.4348317637279 (tracked)\n",
      "-(L̄(X[:, rand(1:N, M)])) = 142.687456995621 (tracked)\n",
      "-(L̄(X[:, rand(1:N, M)])) = 135.4119736237354 (tracked)\n",
      "-(L̄(X[:, rand(1:N, M)])) = 142.8763791243594 (tracked)\n",
      "-(L̄(X[:, rand(1:N, M)])) = 147.93450297858726 (tracked)\n",
      "-(L̄(X[:, rand(1:N, M)])) = 146.6739343173246 (tracked)\n",
      "-(L̄(X[:, rand(1:N, M)])) = 147.15512975051698 (tracked)\n",
      "-(L̄(X[:, rand(1:N, M)])) = 137.72001398373612 (tracked)\n",
      "-(L̄(X[:, rand(1:N, M)])) = 148.3405668535239 (tracked)\n",
      "-(L̄(X[:, rand(1:N, M)])) = 131.6126510622325 (tracked)\n",
      "-(L̄(X[:, rand(1:N, M)])) = 149.485785379957 (tracked)\n",
      "-(L̄(X[:, rand(1:N, M)])) = 141.6196108069408 (tracked)\n",
      "-(L̄(X[:, rand(1:N, M)])) = 139.66397761530564 (tracked)\n",
      "-(L̄(X[:, rand(1:N, M)])) = 141.61014476553441 (tracked)\n",
      "-(L̄(X[:, rand(1:N, M)])) = 148.0547356058999 (tracked)\n",
      "-(L̄(X[:, rand(1:N, M)])) = 133.88933917651568 (tracked)\n"
     ]
    },
    {
     "name": "stderr",
     "output_type": "stream",
     "text": [
      "┌ Info: Epoch 9\n",
      "└ @ Main /home/pika/.julia/packages/Flux/rcN9D/src/optimise/train.jl:93\n"
     ]
    },
    {
     "name": "stdout",
     "output_type": "stream",
     "text": [
      "-(L̄(X[:, rand(1:N, M)])) = 132.97107074322946 (tracked)\n",
      "-(L̄(X[:, rand(1:N, M)])) = 139.82380012162855 (tracked)\n",
      "-(L̄(X[:, rand(1:N, M)])) = 148.19628431710896 (tracked)\n",
      "-(L̄(X[:, rand(1:N, M)])) = 141.78914167545847 (tracked)\n",
      "-(L̄(X[:, rand(1:N, M)])) = 145.83798394084272 (tracked)\n",
      "-(L̄(X[:, rand(1:N, M)])) = 136.63728904646268 (tracked)\n",
      "-(L̄(X[:, rand(1:N, M)])) = 144.04774098883559 (tracked)\n",
      "-(L̄(X[:, rand(1:N, M)])) = 129.4133392661895 (tracked)\n",
      "-(L̄(X[:, rand(1:N, M)])) = 153.4273533254705 (tracked)\n",
      "-(L̄(X[:, rand(1:N, M)])) = 146.4512702046793 (tracked)\n",
      "-(L̄(X[:, rand(1:N, M)])) = 144.10743648667446 (tracked)\n",
      "-(L̄(X[:, rand(1:N, M)])) = 139.66101003383645 (tracked)\n",
      "-(L̄(X[:, rand(1:N, M)])) = 138.2356980218178 (tracked)\n",
      "-(L̄(X[:, rand(1:N, M)])) = 141.40592359720006 (tracked)\n",
      "-(L̄(X[:, rand(1:N, M)])) = 140.43334738333658 (tracked)\n",
      "-(L̄(X[:, rand(1:N, M)])) = 136.87264699114462 (tracked)\n",
      "-(L̄(X[:, rand(1:N, M)])) = 145.2556824884992 (tracked)\n",
      "-(L̄(X[:, rand(1:N, M)])) = 139.70182570914704 (tracked)\n"
     ]
    },
    {
     "name": "stderr",
     "output_type": "stream",
     "text": [
      "┌ Info: Epoch 10\n",
      "└ @ Main /home/pika/.julia/packages/Flux/rcN9D/src/optimise/train.jl:93\n"
     ]
    },
    {
     "name": "stdout",
     "output_type": "stream",
     "text": [
      "-(L̄(X[:, rand(1:N, M)])) = 134.10255477322974 (tracked)\n",
      "-(L̄(X[:, rand(1:N, M)])) = 138.12326341688254 (tracked)\n",
      "-(L̄(X[:, rand(1:N, M)])) = 148.69689151047191 (tracked)\n",
      "-(L̄(X[:, rand(1:N, M)])) = 140.27286575320394 (tracked)\n",
      "-(L̄(X[:, rand(1:N, M)])) = 131.82066912697522 (tracked)\n",
      "-(L̄(X[:, rand(1:N, M)])) = 131.61621000402707 (tracked)\n",
      "-(L̄(X[:, rand(1:N, M)])) = 139.21766624812915 (tracked)\n",
      "-(L̄(X[:, rand(1:N, M)])) = 143.0022087346481 (tracked)\n",
      "-(L̄(X[:, rand(1:N, M)])) = 141.56783694043352 (tracked)\n",
      "-(L̄(X[:, rand(1:N, M)])) = 134.93557489788893 (tracked)\n",
      "-(L̄(X[:, rand(1:N, M)])) = 141.05538176062032 (tracked)\n",
      "-(L̄(X[:, rand(1:N, M)])) = 149.3557305959455 (tracked)\n",
      "-(L̄(X[:, rand(1:N, M)])) = 132.8707477605601 (tracked)\n",
      "-(L̄(X[:, rand(1:N, M)])) = 141.74805251690756 (tracked)\n",
      "-(L̄(X[:, rand(1:N, M)])) = 137.75329347434334 (tracked)\n",
      "-(L̄(X[:, rand(1:N, M)])) = 152.1999455134351 (tracked)\n",
      "-(L̄(X[:, rand(1:N, M)])) = 135.60470290092246 (tracked)\n",
      "-(L̄(X[:, rand(1:N, M)])) = 138.72780700611708 (tracked)\n"
     ]
    }
   ],
   "source": [
    "evalcb = throttle(() -> @show(-L̄(X[:, rand(1:N, M)])), 30)\n",
    "opt = ADAM(params(A, μ, logσ, f))\n",
    "@epochs 10 Flux.train!(loss, zip(data), opt, cb=evalcb)"
   ]
  },
  {
   "cell_type": "markdown",
   "metadata": {},
   "source": [
    "# Sample Output"
   ]
  },
  {
   "cell_type": "code",
   "execution_count": 9,
   "metadata": {},
   "outputs": [],
   "source": [
    "using Images\n",
    "\n",
    "img(x) = Gray.(reshape(x, 28, 28))\n",
    "\n",
    "cd(@__DIR__)\n",
    "sample = hcat(img.([modelsample() for i = 1:10])...)\n",
    "save(\"vae-sample.png\", sample)"
   ]
  },
  {
   "cell_type": "code",
   "execution_count": null,
   "metadata": {},
   "outputs": [],
   "source": []
  }
 ],
 "metadata": {
  "kernelspec": {
   "display_name": "Julia 1.0.2",
   "language": "julia",
   "name": "julia-1.0"
  },
  "language_info": {
   "file_extension": ".jl",
   "mimetype": "application/julia",
   "name": "julia",
   "version": "1.0.2"
  }
 },
 "nbformat": 4,
 "nbformat_minor": 2
}
