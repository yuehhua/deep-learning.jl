{
 "cells": [
  {
   "cell_type": "markdown",
   "metadata": {},
   "source": [
    "# Linear regression"
   ]
  },
  {
   "cell_type": "code",
   "execution_count": 1,
   "metadata": {},
   "outputs": [],
   "source": [
    "using Flux\n",
    "using Flux: Params\n",
    "using DelimitedFiles: readdlm\n",
    "using Statistics: mean, std"
   ]
  },
  {
   "cell_type": "markdown",
   "metadata": {},
   "source": [
    "## Download data"
   ]
  },
  {
   "cell_type": "code",
   "execution_count": 2,
   "metadata": {},
   "outputs": [
    {
     "data": {
      "text/plain": [
       "true"
      ]
     },
     "execution_count": 2,
     "metadata": {},
     "output_type": "execute_result"
    }
   ],
   "source": [
    "isfile(\"housing.data\") ||\n",
    "    download(\"https://raw.githubusercontent.com/MikeInnes/notebooks/master/housing.data\", \"housing.data\")"
   ]
  },
  {
   "cell_type": "markdown",
   "metadata": {},
   "source": [
    "## Read data"
   ]
  },
  {
   "cell_type": "code",
   "execution_count": 3,
   "metadata": {},
   "outputs": [
    {
     "data": {
      "text/plain": [
       "14×505 LinearAlgebra.Adjoint{Float64,Array{Float64,2}}:\n",
       "   0.02731    0.02729    0.03237  …    0.06076    0.10959    0.04741\n",
       "   0.0        0.0        0.0           0.0        0.0        0.0    \n",
       "   7.07       7.07       2.18         11.93      11.93      11.93   \n",
       "   0.0        0.0        0.0           0.0        0.0        0.0    \n",
       "   0.469      0.469      0.458         0.573      0.573      0.573  \n",
       "   6.421      7.185      6.998    …    6.976      6.794      6.03   \n",
       "  78.9       61.1       45.8          91.0       89.3       80.8    \n",
       "   4.9671     4.9671     6.0622        2.1675     2.3889     2.505  \n",
       "   2.0        2.0        3.0           1.0        1.0        1.0    \n",
       " 242.0      242.0      222.0         273.0      273.0      273.0    \n",
       "  17.8       17.8       18.7      …   21.0       21.0       21.0    \n",
       " 396.9      392.83     394.63        396.9      393.45     396.9    \n",
       "   9.14       4.03       2.94          5.64       6.48       7.88   \n",
       "  21.6       34.7       33.4          23.9       22.0       11.9    "
      ]
     },
     "execution_count": 3,
     "metadata": {},
     "output_type": "execute_result"
    }
   ],
   "source": [
    "rawdata = readdlm(\"housing.data\")'"
   ]
  },
  {
   "cell_type": "markdown",
   "metadata": {},
   "source": [
    "## The last feature (the price of the house) is our target"
   ]
  },
  {
   "cell_type": "code",
   "execution_count": 4,
   "metadata": {},
   "outputs": [
    {
     "data": {
      "text/plain": [
       "1×505 Array{Float64,2}:\n",
       " 21.6  34.7  33.4  36.2  28.7  22.9  …  16.8  22.4  20.6  23.9  22.0  11.9"
      ]
     },
     "execution_count": 4,
     "metadata": {},
     "output_type": "execute_result"
    }
   ],
   "source": [
    "x = rawdata[1:13,:]\n",
    "y = rawdata[14:14,:]"
   ]
  },
  {
   "cell_type": "markdown",
   "metadata": {},
   "source": [
    "## Normalization"
   ]
  },
  {
   "cell_type": "markdown",
   "metadata": {},
   "source": [
    "$\\LARGE z = \\frac{x - \\mu}{\\sigma}$"
   ]
  },
  {
   "cell_type": "code",
   "execution_count": 5,
   "metadata": {},
   "outputs": [
    {
     "data": {
      "text/plain": [
       "13×505 Array{Float64,2}:\n",
       " -0.417416  -0.417418  -0.416828  …  -0.41353   -0.407858  -0.415081\n",
       " -0.486234  -0.486234  -0.486234     -0.486234  -0.486234  -0.486234\n",
       " -0.595732  -0.595732  -1.30899       0.11315    0.11315    0.11315 \n",
       " -0.272618  -0.272618  -0.272618     -0.272618  -0.272618  -0.272618\n",
       " -0.739098  -0.739098  -0.833934      0.15753    0.15753    0.15753 \n",
       "  0.194741   1.28121    1.01528   …   0.983996   0.725177  -0.361293\n",
       "  0.366208  -0.265527  -0.808535      0.795646   0.735312   0.433641\n",
       "  0.556346   0.556346   1.0759       -0.771891  -0.66685   -0.611768\n",
       " -0.868939  -0.868939  -0.754097     -0.983782  -0.983782  -0.983782\n",
       " -0.987128  -0.987128  -1.10573      -0.803294  -0.803294  -0.803294\n",
       " -0.306024  -0.306024   0.110158  …   1.17373    1.17373    1.17373 \n",
       "  0.441136   0.396591   0.416291      0.441136   0.403377   0.441136\n",
       " -0.494157  -1.20985   -1.36251      -0.984357  -0.866709  -0.670629"
      ]
     },
     "execution_count": 5,
     "metadata": {},
     "output_type": "execute_result"
    }
   ],
   "source": [
    "x = (x .- mean(x; dims=2)) ./ std(x; dims=2)"
   ]
  },
  {
   "cell_type": "markdown",
   "metadata": {},
   "source": [
    "## Model"
   ]
  },
  {
   "cell_type": "code",
   "execution_count": 6,
   "metadata": {},
   "outputs": [
    {
     "data": {
      "text/plain": [
       "predict (generic function with 1 method)"
      ]
     },
     "execution_count": 6,
     "metadata": {},
     "output_type": "execute_result"
    }
   ],
   "source": [
    "predict(x) = W*x .+ b"
   ]
  },
  {
   "cell_type": "code",
   "execution_count": 7,
   "metadata": {},
   "outputs": [
    {
     "data": {
      "text/plain": [
       "1-element Array{Float64,1}:\n",
       " 0.0"
      ]
     },
     "execution_count": 7,
     "metadata": {},
     "output_type": "execute_result"
    }
   ],
   "source": [
    "W = randn(1,13)/10\n",
    "b = zeros(1)"
   ]
  },
  {
   "cell_type": "markdown",
   "metadata": {},
   "source": [
    "## *Using CUDA*"
   ]
  },
  {
   "cell_type": "raw",
   "metadata": {},
   "source": [
    "using CuArrays\n",
    "W, b, x, y = (W, b, x, y) |> gpu"
   ]
  },
  {
   "cell_type": "markdown",
   "metadata": {},
   "source": [
    "## Loss function"
   ]
  },
  {
   "cell_type": "markdown",
   "metadata": {},
   "source": [
    "$\\LARGE MSE = \\frac{1}{n} \\sum (y - \\hat{y})^2$"
   ]
  },
  {
   "cell_type": "code",
   "execution_count": 8,
   "metadata": {},
   "outputs": [
    {
     "data": {
      "text/plain": [
       "error (generic function with 1 method)"
      ]
     },
     "execution_count": 8,
     "metadata": {},
     "output_type": "execute_result"
    }
   ],
   "source": [
    "error(ŷ, y) = sum((y .- ŷ).^2)/size(y, 2)"
   ]
  },
  {
   "cell_type": "code",
   "execution_count": 9,
   "metadata": {},
   "outputs": [
    {
     "data": {
      "text/plain": [
       "loss (generic function with 1 method)"
      ]
     },
     "execution_count": 9,
     "metadata": {},
     "output_type": "execute_result"
    }
   ],
   "source": [
    "loss(x, y) = error(predict(x), y)"
   ]
  },
  {
   "cell_type": "markdown",
   "metadata": {},
   "source": [
    "## Training"
   ]
  },
  {
   "cell_type": "code",
   "execution_count": 10,
   "metadata": {},
   "outputs": [
    {
     "data": {
      "text/plain": [
       "Params([[-0.039133249866796886 0.012734918741883905 … -0.05713428179488063 0.003810605069356343], [0.0]])"
      ]
     },
     "execution_count": 10,
     "metadata": {},
     "output_type": "execute_result"
    }
   ],
   "source": [
    "η = 0.1\n",
    "θ = Params([W, b])"
   ]
  },
  {
   "cell_type": "code",
   "execution_count": 11,
   "metadata": {},
   "outputs": [
    {
     "data": {
      "text/plain": [
       "gradient_descent (generic function with 1 method)"
      ]
     },
     "execution_count": 11,
     "metadata": {},
     "output_type": "execute_result"
    }
   ],
   "source": [
    "function gradient_descent(θ, η, epochs)\n",
    "    for i = 1:epochs\n",
    "        g = gradient(() -> loss(x, y), θ)\n",
    "\n",
    "        for t in θ\n",
    "            Flux.Optimise.update!(t, -g[t]*η)\n",
    "        end\n",
    "        @show loss(x, y)\n",
    "    end\n",
    "end"
   ]
  },
  {
   "cell_type": "code",
   "execution_count": 12,
   "metadata": {},
   "outputs": [
    {
     "name": "stdout",
     "output_type": "stream",
     "text": [
      "loss(x, y) = 368.56687884438264\n",
      "loss(x, y) = 242.83971652460696\n",
      "loss(x, y) = 163.60913928441454\n",
      "loss(x, y) = 113.1203960261956\n",
      "loss(x, y) = 80.87832588801336\n",
      "loss(x, y) = 60.257473564140895\n",
      "loss(x, y) = 47.04745096819794\n",
      "loss(x, y) = 38.56824915774533\n",
      "loss(x, y) = 33.112100222352545\n",
      "loss(x, y) = 29.589732492216456\n",
      "loss(x, y) = 27.305769555671095\n",
      "loss(x, y) = 25.815932142994292\n",
      "loss(x, y) = 24.83614424081683\n",
      "loss(x, y) = 24.18461950807681\n",
      "loss(x, y) = 23.74492913479998\n",
      "loss(x, y) = 23.442431711230686\n",
      "loss(x, y) = 23.229220423860788\n",
      "loss(x, y) = 23.074503754181624\n",
      "loss(x, y) = 22.958454829645277\n",
      "loss(x, y) = 22.868276486144218\n"
     ]
    }
   ],
   "source": [
    "gradient_descent(θ, η, 20)"
   ]
  },
  {
   "cell_type": "markdown",
   "metadata": {},
   "source": [
    "## Prediction"
   ]
  },
  {
   "cell_type": "code",
   "execution_count": 13,
   "metadata": {},
   "outputs": [
    {
     "data": {
      "text/plain": [
       "1-element Array{Float64,1}:\n",
       " 1.1493213895439822"
      ]
     },
     "execution_count": 13,
     "metadata": {},
     "output_type": "execute_result"
    }
   ],
   "source": [
    "predict(x[:, 1]) / y[1]"
   ]
  },
  {
   "cell_type": "code",
   "execution_count": null,
   "metadata": {},
   "outputs": [],
   "source": []
  }
 ],
 "metadata": {
  "kernelspec": {
   "display_name": "Julia 1.3.1",
   "language": "julia",
   "name": "julia-1.3"
  },
  "language_info": {
   "file_extension": ".jl",
   "mimetype": "application/julia",
   "name": "julia",
   "version": "1.3.1"
  }
 },
 "nbformat": 4,
 "nbformat_minor": 4
}
