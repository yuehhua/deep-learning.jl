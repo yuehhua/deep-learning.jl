{
 "cells": [
  {
   "cell_type": "markdown",
   "metadata": {},
   "source": [
    "# 想要自己設計 layer 的話可以照著以下的方法做喔！"
   ]
  },
  {
   "cell_type": "code",
   "execution_count": 1,
   "metadata": {},
   "outputs": [],
   "source": [
    "using Flux"
   ]
  },
  {
   "cell_type": "code",
   "execution_count": 2,
   "metadata": {},
   "outputs": [],
   "source": [
    "struct NewLayer\n",
    "    W\n",
    "    b\n",
    "end"
   ]
  },
  {
   "cell_type": "markdown",
   "metadata": {},
   "source": [
    "以上先設計新的 layer 所需要的資料結構，他需要存下什麼樣的資料，設計原則大概就跟物件導向語言的物件設計一樣。"
   ]
  },
  {
   "cell_type": "code",
   "execution_count": 3,
   "metadata": {},
   "outputs": [
    {
     "data": {
      "text/plain": [
       "NewLayer"
      ]
     },
     "execution_count": 3,
     "metadata": {},
     "output_type": "execute_result"
    }
   ],
   "source": [
    "NewLayer(in::Integer, out::Integer) = NewLayer(param(randn(out, in)), param(randn(out)))"
   ]
  },
  {
   "cell_type": "markdown",
   "metadata": {},
   "source": [
    "以上是設計資料結構的 constructor，在 init 的過程中，需要先將參數先用 `param()` 包裝起來才放進資料結構中，這邊也包含了初始化的 `randn()` 部份，所以只需要給 input 跟 output 的 node 數目即可。"
   ]
  },
  {
   "cell_type": "code",
   "execution_count": 4,
   "metadata": {},
   "outputs": [],
   "source": [
    "(l::NewLayer)(x) = l.W * x .+ l.b"
   ]
  },
  {
   "cell_type": "markdown",
   "metadata": {},
   "source": [
    "以上定義了 `NewLayer` 成為一個 functor-like object，他是可以被呼叫的，而呼叫的行為就是讓 layer 做運算。"
   ]
  },
  {
   "cell_type": "code",
   "execution_count": 5,
   "metadata": {},
   "outputs": [
    {
     "data": {
      "text/plain": [
       "NewLayer(Flux.Tracker.TrackedReal{Float64}[0.146725 (tracked) 2.06947 (tracked) … -0.117895 (tracked) 0.517919 (tracked); 0.609375 (tracked) -0.190005 (tracked) … 1.34832 (tracked) -1.05552 (tracked); … ; 0.965386 (tracked) 0.621816 (tracked) … 0.602642 (tracked) 0.0926126 (tracked); 0.362264 (tracked) -0.894842 (tracked) … 0.954788 (tracked) 1.05607 (tracked)], Flux.Tracker.TrackedReal{Float64}[-0.100032 (tracked), -0.555592 (tracked), 0.0046995 (tracked), 0.370029 (tracked), 1.25888 (tracked)])"
      ]
     },
     "execution_count": 5,
     "metadata": {},
     "output_type": "execute_result"
    }
   ],
   "source": [
    "layer = NewLayer(10, 5)"
   ]
  },
  {
   "cell_type": "code",
   "execution_count": 6,
   "metadata": {},
   "outputs": [
    {
     "data": {
      "text/plain": [
       "Tracked 5-element Array{Float64,1}:\n",
       "  1.344510926337606 \n",
       "  1.5994662203123062\n",
       " -1.2026897882671637\n",
       "  2.4667059519240397\n",
       "  3.9459872097490845"
      ]
     },
     "execution_count": 6,
     "metadata": {},
     "output_type": "execute_result"
    }
   ],
   "source": [
    "layer(rand(10))"
   ]
  },
  {
   "cell_type": "markdown",
   "metadata": {},
   "source": [
    "除此之外，`Chain` 可以寫成以下這樣，符號請用 `\\circ<tab>`"
   ]
  },
  {
   "cell_type": "code",
   "execution_count": 7,
   "metadata": {},
   "outputs": [
    {
     "data": {
      "text/plain": [
       "#52 (generic function with 1 method)"
      ]
     },
     "execution_count": 7,
     "metadata": {},
     "output_type": "execute_result"
    }
   ],
   "source": [
    "Dense(10, 2) ∘ Dense(2, 5)"
   ]
  },
  {
   "cell_type": "markdown",
   "metadata": {},
   "source": [
    "額外說明，`Chain` 其實可以支援一般的函數喔！"
   ]
  },
  {
   "cell_type": "code",
   "execution_count": 8,
   "metadata": {},
   "outputs": [
    {
     "data": {
      "text/plain": [
       "Chain(getfield(Main, Symbol(\"##3#5\"))(), getfield(Main, Symbol(\"##4#6\"))())"
      ]
     },
     "execution_count": 8,
     "metadata": {},
     "output_type": "execute_result"
    }
   ],
   "source": [
    "Chain(x -> x + 5, x -> x*2)"
   ]
  },
  {
   "cell_type": "code",
   "execution_count": null,
   "metadata": {},
   "outputs": [],
   "source": []
  }
 ],
 "metadata": {
  "kernelspec": {
   "display_name": "Julia 1.0.1",
   "language": "julia",
   "name": "julia-1.0"
  },
  "language_info": {
   "file_extension": ".jl",
   "mimetype": "application/julia",
   "name": "julia",
   "version": "1.0.1"
  }
 },
 "nbformat": 4,
 "nbformat_minor": 2
}
