{
 "cells": [
  {
   "cell_type": "markdown",
   "metadata": {},
   "source": [
    "# 想要自己設計 layer 的話可以照著以下的方法做喔！"
   ]
  },
  {
   "cell_type": "code",
   "execution_count": 1,
   "metadata": {},
   "outputs": [],
   "source": [
    "using Flux"
   ]
  },
  {
   "cell_type": "code",
   "execution_count": 2,
   "metadata": {},
   "outputs": [],
   "source": [
    "struct NewLayer\n",
    "    W\n",
    "    b\n",
    "end"
   ]
  },
  {
   "cell_type": "markdown",
   "metadata": {},
   "source": [
    "以上先設計新的 layer 所需要的資料結構，他需要存下什麼樣的資料，設計原則大概就跟物件導向語言的物件設計一樣。"
   ]
  },
  {
   "cell_type": "code",
   "execution_count": 3,
   "metadata": {},
   "outputs": [
    {
     "data": {
      "text/plain": [
       "NewLayer"
      ]
     },
     "execution_count": 3,
     "metadata": {},
     "output_type": "execute_result"
    }
   ],
   "source": [
    "NewLayer(in::Integer, out::Integer) = NewLayer(param(randn(out, in)), param(randn(out)))"
   ]
  },
  {
   "cell_type": "markdown",
   "metadata": {},
   "source": [
    "以上是設計資料結構的 constructor，在 init 的過程中，需要先將參數先用 `param()` 包裝起來才放進資料結構中，這邊也包含了初始化的 `randn()` 部份，所以只需要給 input 跟 output 的 node 數目即可。"
   ]
  },
  {
   "cell_type": "code",
   "execution_count": 4,
   "metadata": {},
   "outputs": [],
   "source": [
    "(l::NewLayer)(x) = l.W * x .+ l.b"
   ]
  },
  {
   "cell_type": "markdown",
   "metadata": {},
   "source": [
    "以上定義了 `NewLayer` 成為一個 functor-like object，他是可以被呼叫的，而呼叫的行為就是讓 layer 做運算。"
   ]
  },
  {
   "cell_type": "code",
   "execution_count": 5,
   "metadata": {},
   "outputs": [
    {
     "data": {
      "text/plain": [
       "NewLayer(Flux.Tracker.TrackedReal{Float64}[0.637874 (tracked) -2.9587 (tracked) … -0.953287 (tracked) -0.459733 (tracked); -0.34244 (tracked) -1.61319 (tracked) … 0.595043 (tracked) 1.66641 (tracked); … ; 1.30144 (tracked) -0.836992 (tracked) … 1.09197 (tracked) -1.99602 (tracked); 2.82686 (tracked) 0.841997 (tracked) … -1.33623 (tracked) -0.794999 (tracked)], Flux.Tracker.TrackedReal{Float64}[0.212747 (tracked), -0.299411 (tracked), -0.369703 (tracked), -0.306648 (tracked), -0.545403 (tracked)])"
      ]
     },
     "execution_count": 5,
     "metadata": {},
     "output_type": "execute_result"
    }
   ],
   "source": [
    "layer = NewLayer(10, 5)"
   ]
  },
  {
   "cell_type": "code",
   "execution_count": 6,
   "metadata": {},
   "outputs": [
    {
     "data": {
      "text/plain": [
       "Tracked 5-element Array{Float64,1}:\n",
       " -0.4283886173402299  \n",
       "  0.18509334674065858 \n",
       " -1.1798140124234313  \n",
       " -0.054898956054612646\n",
       "  2.368771847945985   "
      ]
     },
     "execution_count": 6,
     "metadata": {},
     "output_type": "execute_result"
    }
   ],
   "source": [
    "layer(rand(10))"
   ]
  },
  {
   "cell_type": "markdown",
   "metadata": {},
   "source": [
    "除此之外，`Chain` 可以寫成以下這樣，符號請用 `\\circ<tab>`"
   ]
  },
  {
   "cell_type": "code",
   "execution_count": 7,
   "metadata": {},
   "outputs": [
    {
     "data": {
      "text/plain": [
       "#52 (generic function with 1 method)"
      ]
     },
     "execution_count": 7,
     "metadata": {},
     "output_type": "execute_result"
    }
   ],
   "source": [
    "Dense(10, 2) ∘ Dense(2, 5)"
   ]
  },
  {
   "cell_type": "markdown",
   "metadata": {},
   "source": [
    "額外說明，`Chain` 其實可以支援一般的函數喔！"
   ]
  },
  {
   "cell_type": "code",
   "execution_count": 8,
   "metadata": {},
   "outputs": [
    {
     "data": {
      "text/plain": [
       "Chain(getfield(Main, Symbol(\"##3#5\"))(), getfield(Main, Symbol(\"##4#6\"))())"
      ]
     },
     "execution_count": 8,
     "metadata": {},
     "output_type": "execute_result"
    }
   ],
   "source": [
    "Chain(x -> x + 5, x -> x*2)"
   ]
  },
  {
   "cell_type": "code",
   "execution_count": null,
   "metadata": {},
   "outputs": [],
   "source": []
  }
 ],
 "metadata": {
  "kernelspec": {
   "display_name": "Julia 1.0.2",
   "language": "julia",
   "name": "julia-1.0"
  },
  "language_info": {
   "file_extension": ".jl",
   "mimetype": "application/julia",
   "name": "julia",
   "version": "1.0.2"
  }
 },
 "nbformat": 4,
 "nbformat_minor": 2
}
