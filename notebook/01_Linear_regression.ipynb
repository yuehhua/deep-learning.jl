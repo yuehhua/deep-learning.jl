{
 "cells": [
  {
   "cell_type": "markdown",
   "metadata": {},
   "source": [
    "# Linear regression"
   ]
  },
  {
   "cell_type": "code",
   "execution_count": 1,
   "metadata": {},
   "outputs": [],
   "source": [
    "using Flux\n",
    "using Flux: Params\n",
    "using DelimitedFiles: readdlm\n",
    "using Statistics: mean, std"
   ]
  },
  {
   "cell_type": "markdown",
   "metadata": {},
   "source": [
    "## Download data"
   ]
  },
  {
   "cell_type": "code",
   "execution_count": 2,
   "metadata": {},
   "outputs": [
    {
     "data": {
      "text/plain": [
       "true"
      ]
     },
     "execution_count": 2,
     "metadata": {},
     "output_type": "execute_result"
    }
   ],
   "source": [
    "isfile(\"housing.data\") ||\n",
    "    download(\"https://raw.githubusercontent.com/MikeInnes/notebooks/master/housing.data\", \"housing.data\")"
   ]
  },
  {
   "cell_type": "markdown",
   "metadata": {},
   "source": [
    "## Read data"
   ]
  },
  {
   "cell_type": "code",
   "execution_count": 3,
   "metadata": {},
   "outputs": [
    {
     "data": {
      "text/plain": [
       "14×505 LinearAlgebra.Adjoint{Float64,Array{Float64,2}}:\n",
       "   0.02731    0.02729    0.03237  …    0.06076    0.10959    0.04741\n",
       "   0.0        0.0        0.0           0.0        0.0        0.0\n",
       "   7.07       7.07       2.18         11.93      11.93      11.93\n",
       "   0.0        0.0        0.0           0.0        0.0        0.0\n",
       "   0.469      0.469      0.458         0.573      0.573      0.573\n",
       "   6.421      7.185      6.998    …    6.976      6.794      6.03\n",
       "  78.9       61.1       45.8          91.0       89.3       80.8\n",
       "   4.9671     4.9671     6.0622        2.1675     2.3889     2.505\n",
       "   2.0        2.0        3.0           1.0        1.0        1.0\n",
       " 242.0      242.0      222.0         273.0      273.0      273.0\n",
       "  17.8       17.8       18.7      …   21.0       21.0       21.0\n",
       " 396.9      392.83     394.63        396.9      393.45     396.9\n",
       "   9.14       4.03       2.94          5.64       6.48       7.88\n",
       "  21.6       34.7       33.4          23.9       22.0       11.9"
      ]
     },
     "execution_count": 3,
     "metadata": {},
     "output_type": "execute_result"
    }
   ],
   "source": [
    "rawdata = readdlm(\"housing.data\")'"
   ]
  },
  {
   "cell_type": "markdown",
   "metadata": {},
   "source": [
    "## The last feature (the price of the house) is our target"
   ]
  },
  {
   "cell_type": "code",
   "execution_count": 4,
   "metadata": {},
   "outputs": [
    {
     "data": {
      "text/plain": [
       "1×505 Array{Float64,2}:\n",
       " 21.6  34.7  33.4  36.2  28.7  22.9  …  16.8  22.4  20.6  23.9  22.0  11.9"
      ]
     },
     "execution_count": 4,
     "metadata": {},
     "output_type": "execute_result"
    }
   ],
   "source": [
    "x = rawdata[1:13,:]\n",
    "y = rawdata[14:14,:]"
   ]
  },
  {
   "cell_type": "markdown",
   "metadata": {},
   "source": [
    "## Normalization"
   ]
  },
  {
   "cell_type": "markdown",
   "metadata": {},
   "source": [
    "$\\LARGE z = \\frac{x - \\mu}{\\sigma}$"
   ]
  },
  {
   "cell_type": "code",
   "execution_count": 5,
   "metadata": {},
   "outputs": [
    {
     "data": {
      "text/plain": [
       "13×505 Array{Float64,2}:\n",
       " -0.417416  -0.417418  -0.416828  …  -0.41353   -0.407858  -0.415081\n",
       " -0.486234  -0.486234  -0.486234     -0.486234  -0.486234  -0.486234\n",
       " -0.595732  -0.595732  -1.30899       0.11315    0.11315    0.11315\n",
       " -0.272618  -0.272618  -0.272618     -0.272618  -0.272618  -0.272618\n",
       " -0.739098  -0.739098  -0.833934      0.15753    0.15753    0.15753\n",
       "  0.194741   1.28121    1.01528   …   0.983996   0.725177  -0.361293\n",
       "  0.366208  -0.265527  -0.808535      0.795646   0.735312   0.433641\n",
       "  0.556346   0.556346   1.0759       -0.771891  -0.66685   -0.611768\n",
       " -0.868939  -0.868939  -0.754097     -0.983782  -0.983782  -0.983782\n",
       " -0.987128  -0.987128  -1.10573      -0.803294  -0.803294  -0.803294\n",
       " -0.306024  -0.306024   0.110158  …   1.17373    1.17373    1.17373\n",
       "  0.441136   0.396591   0.416291      0.441136   0.403377   0.441136\n",
       " -0.494157  -1.20985   -1.36251      -0.984357  -0.866709  -0.670629"
      ]
     },
     "execution_count": 5,
     "metadata": {},
     "output_type": "execute_result"
    }
   ],
   "source": [
    "x = (x .- mean(x; dims=2)) ./ std(x; dims=2)"
   ]
  },
  {
   "cell_type": "markdown",
   "metadata": {},
   "source": [
    "## Model"
   ]
  },
  {
   "cell_type": "code",
   "execution_count": 6,
   "metadata": {},
   "outputs": [
    {
     "data": {
      "text/plain": [
       "predict (generic function with 1 method)"
      ]
     },
     "execution_count": 6,
     "metadata": {},
     "output_type": "execute_result"
    }
   ],
   "source": [
    "predict(x) = W*x .+ b"
   ]
  },
  {
   "cell_type": "code",
   "execution_count": 7,
   "metadata": {},
   "outputs": [
    {
     "data": {
      "text/plain": [
       "1-element Array{Float64,1}:\n",
       " 0.0"
      ]
     },
     "execution_count": 7,
     "metadata": {},
     "output_type": "execute_result"
    }
   ],
   "source": [
    "W = randn(1,13)/10\n",
    "b = zeros(1)"
   ]
  },
  {
   "cell_type": "markdown",
   "metadata": {},
   "source": [
    "## *Using CUDA*"
   ]
  },
  {
   "cell_type": "raw",
   "metadata": {},
   "source": [
    "using CuArrays\n",
    "W, b, x, y = (W, b, x, y) |> gpu"
   ]
  },
  {
   "cell_type": "markdown",
   "metadata": {},
   "source": [
    "## Loss function"
   ]
  },
  {
   "cell_type": "markdown",
   "metadata": {},
   "source": [
    "$\\LARGE MSE = \\frac{1}{n} \\sum (y - \\hat{y})^2$"
   ]
  },
  {
   "cell_type": "code",
   "execution_count": 8,
   "metadata": {},
   "outputs": [
    {
     "data": {
      "text/plain": [
       "error (generic function with 1 method)"
      ]
     },
     "execution_count": 8,
     "metadata": {},
     "output_type": "execute_result"
    }
   ],
   "source": [
    "error(ŷ, y) = sum((y .- ŷ).^2)/size(y, 2)"
   ]
  },
  {
   "cell_type": "code",
   "execution_count": 9,
   "metadata": {},
   "outputs": [
    {
     "data": {
      "text/plain": [
       "loss (generic function with 1 method)"
      ]
     },
     "execution_count": 9,
     "metadata": {},
     "output_type": "execute_result"
    }
   ],
   "source": [
    "loss(x, y) = error(predict(x), y)"
   ]
  },
  {
   "cell_type": "markdown",
   "metadata": {},
   "source": [
    "## Training"
   ]
  },
  {
   "cell_type": "code",
   "execution_count": 10,
   "metadata": {},
   "outputs": [
    {
     "data": {
      "text/plain": [
       "Params([[0.02322542840801122 -0.13784367119273286 … 0.05606042900287531 -0.2828255856841579], [0.0]])"
      ]
     },
     "execution_count": 10,
     "metadata": {},
     "output_type": "execute_result"
    }
   ],
   "source": [
    "η = 0.1\n",
    "θ = Params([W, b])"
   ]
  },
  {
   "cell_type": "code",
   "execution_count": 11,
   "metadata": {},
   "outputs": [
    {
     "data": {
      "text/plain": [
       "gradient_descent (generic function with 1 method)"
      ]
     },
     "execution_count": 11,
     "metadata": {},
     "output_type": "execute_result"
    }
   ],
   "source": [
    "function gradient_descent(θ, η, epochs)\n",
    "    for i = 1:epochs\n",
    "        g = gradient(() -> loss(x, y), θ)\n",
    "\n",
    "        for t in θ\n",
    "            Flux.Optimise.update!(t, g[t]*η)\n",
    "        end\n",
    "        @show loss(x, y)\n",
    "    end\n",
    "end"
   ]
  },
  {
   "cell_type": "code",
   "execution_count": 12,
   "metadata": {},
   "outputs": [
    {
     "name": "stdout",
     "output_type": "stream",
     "text": [
      "loss(x, y) = 366.1106337485248\n",
      "loss(x, y) = 241.2162899010843\n",
      "loss(x, y) = 162.51118064201128\n",
      "loss(x, y) = 112.35793407038291\n",
      "loss(x, y) = 80.33338497248339\n",
      "loss(x, y) = 59.855942952679776\n",
      "loss(x, y) = 46.74217920620763\n",
      "loss(x, y) = 38.3288323757638\n",
      "loss(x, y) = 32.918658810260034\n",
      "loss(x, y) = 29.429080437472678\n",
      "loss(x, y) = 27.169031183891864\n",
      "loss(x, y) = 25.697042582225638\n",
      "loss(x, y) = 24.730894887692607\n",
      "loss(x, y) = 24.090043200650026\n",
      "loss(x, y) = 23.65889943092555\n",
      "loss(x, y) = 23.36339864959412\n",
      "loss(x, y) = 23.15603428332601\n",
      "loss(x, y) = 23.006296193281067\n",
      "loss(x, y) = 22.894557854416117\n",
      "loss(x, y) = 22.80816662225014\n",
      "loss(x, y) = 22.738941917892944\n",
      "loss(x, y) = 22.681573580123132\n",
      "loss(x, y) = 22.632595994752535\n",
      "loss(x, y) = 22.589730660683557\n",
      "loss(x, y) = 22.551464610800814\n",
      "loss(x, y) = 22.516779876594253\n",
      "loss(x, y) = 22.484979723883324\n",
      "loss(x, y) = 22.455576916945702\n",
      "loss(x, y) = 22.428221762586652\n",
      "loss(x, y) = 22.4026556815411\n",
      "loss(x, y) = 22.37868117331912\n",
      "loss(x, y) = 22.356142318512788\n",
      "loss(x, y) = 22.334912062357727\n",
      "loss(x, y) = 22.314883868878606\n",
      "loss(x, y) = 22.295966197477174\n",
      "loss(x, y) = 22.278078806948198\n",
      "loss(x, y) = 22.261150246777024\n",
      "loss(x, y) = 22.24511612336263\n",
      "loss(x, y) = 22.229917875115937\n",
      "loss(x, y) = 22.215501884422473\n",
      "loss(x, y) = 22.201818814956123\n",
      "loss(x, y) = 22.1888231017936\n",
      "loss(x, y) = 22.17647254690785\n",
      "loss(x, y) = 22.164727988853464\n",
      "loss(x, y) = 22.153553025970268\n",
      "loss(x, y) = 22.142913779258233\n",
      "loss(x, y) = 22.13277868552839\n",
      "loss(x, y) = 22.123118314349295\n",
      "loss(x, y) = 22.113905204231795\n",
      "loss(x, y) = 22.105113714771566\n"
     ]
    }
   ],
   "source": [
    "gradient_descent(θ, η, 50)"
   ]
  },
  {
   "cell_type": "markdown",
   "metadata": {},
   "source": [
    "## Prediction"
   ]
  },
  {
   "cell_type": "code",
   "execution_count": 13,
   "metadata": {},
   "outputs": [
    {
     "data": {
      "text/plain": [
       "1-element Array{Float64,1}:\n",
       " 1.1577046102469288"
      ]
     },
     "execution_count": 13,
     "metadata": {},
     "output_type": "execute_result"
    }
   ],
   "source": [
    "predict(x[:, 1]) / y[1]"
   ]
  },
  {
   "cell_type": "code",
   "execution_count": null,
   "metadata": {},
   "outputs": [],
   "source": []
  }
 ],
 "metadata": {
  "kernelspec": {
   "display_name": "Julia 1.4.0",
   "language": "julia",
   "name": "julia-1.4"
  },
  "language_info": {
   "file_extension": ".jl",
   "mimetype": "application/julia",
   "name": "julia",
   "version": "1.4.2"
  }
 },
 "nbformat": 4,
 "nbformat_minor": 4
}
