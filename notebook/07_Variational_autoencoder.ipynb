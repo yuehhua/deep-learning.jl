{
 "cells": [
  {
   "cell_type": "markdown",
   "metadata": {},
   "source": [
    "# Variational autoencoder"
   ]
  },
  {
   "cell_type": "code",
   "execution_count": 1,
   "metadata": {},
   "outputs": [
    {
     "name": "stderr",
     "output_type": "stream",
     "text": [
      "WARNING: using Distributions.params in module Main conflicts with an existing identifier.\n"
     ]
    }
   ],
   "source": [
    "using Flux, Flux.Data.MNIST\n",
    "using Flux: @epochs, throttle, params\n",
    "using Distributions\n",
    "import Distributions: logpdf"
   ]
  },
  {
   "cell_type": "markdown",
   "metadata": {},
   "source": [
    "**For numerically stable, extend distributions slightly to have a logpdf for `p` close to 1 or 0.**"
   ]
  },
  {
   "cell_type": "code",
   "execution_count": 2,
   "metadata": {},
   "outputs": [
    {
     "data": {
      "text/plain": [
       "logpdf (generic function with 64 methods)"
      ]
     },
     "execution_count": 2,
     "metadata": {},
     "output_type": "execute_result"
    }
   ],
   "source": [
    "logpdf(b::Bernoulli, y::Bool) = y * log(b.p + eps()) + (1 - y) * log(1 - b.p + eps())"
   ]
  },
  {
   "cell_type": "markdown",
   "metadata": {},
   "source": [
    "# Load data"
   ]
  },
  {
   "cell_type": "code",
   "execution_count": 3,
   "metadata": {},
   "outputs": [],
   "source": [
    "X = MNIST.images();"
   ]
  },
  {
   "cell_type": "markdown",
   "metadata": {},
   "source": [
    "## Binarise"
   ]
  },
  {
   "cell_type": "code",
   "execution_count": 4,
   "metadata": {},
   "outputs": [
    {
     "data": {
      "text/plain": [
       "784×60000 BitArray{2}:\n",
       " 0  0  0  0  0  0  0  0  0  0  0  0  0  …  0  0  0  0  0  0  0  0  0  0  0  0\n",
       " 0  0  0  0  0  0  0  0  0  0  0  0  0     0  0  0  0  0  0  0  0  0  0  0  0\n",
       " 0  0  0  0  0  0  0  0  0  0  0  0  0     0  0  0  0  0  0  0  0  0  0  0  0\n",
       " 0  0  0  0  0  0  0  0  0  0  0  0  0     0  0  0  0  0  0  0  0  0  0  0  0\n",
       " 0  0  0  0  0  0  0  0  0  0  0  0  0     0  0  0  0  0  0  0  0  0  0  0  0\n",
       " 0  0  0  0  0  0  0  0  0  0  0  0  0  …  0  0  0  0  0  0  0  0  0  0  0  0\n",
       " 0  0  0  0  0  0  0  0  0  0  0  0  0     0  0  0  0  0  0  0  0  0  0  0  0\n",
       " 0  0  0  0  0  0  0  0  0  0  0  0  0     0  0  0  0  0  0  0  0  0  0  0  0\n",
       " 0  0  0  0  0  0  0  0  0  0  0  0  0     0  0  0  0  0  0  0  0  0  0  0  0\n",
       " 0  0  0  0  0  0  0  0  0  0  0  0  0     0  0  0  0  0  0  0  0  0  0  0  0\n",
       " 0  0  0  0  0  0  0  0  0  0  0  0  0  …  0  0  0  0  0  0  0  0  0  0  0  0\n",
       " 0  0  0  0  0  0  0  0  0  0  0  0  0     0  0  0  0  0  0  0  0  0  0  0  0\n",
       " 0  0  0  0  0  0  0  0  0  0  0  0  0     0  0  0  0  0  0  0  0  0  0  0  0\n",
       " ⋮              ⋮              ⋮        ⋱        ⋮              ⋮           \n",
       " 0  0  0  0  0  0  0  0  0  0  0  0  0     0  0  0  0  0  0  0  0  0  0  0  0\n",
       " 0  0  0  0  0  0  0  0  0  0  0  0  0     0  0  0  0  0  0  0  0  0  0  0  0\n",
       " 0  0  0  0  0  0  0  0  0  0  0  0  0     0  0  0  0  0  0  0  0  0  0  0  0\n",
       " 0  0  0  0  0  0  0  0  0  0  0  0  0  …  0  0  0  0  0  0  0  0  0  0  0  0\n",
       " 0  0  0  0  0  0  0  0  0  0  0  0  0     0  0  0  0  0  0  0  0  0  0  0  0\n",
       " 0  0  0  0  0  0  0  0  0  0  0  0  0     0  0  0  0  0  0  0  0  0  0  0  0\n",
       " 0  0  0  0  0  0  0  0  0  0  0  0  0     0  0  0  0  0  0  0  0  0  0  0  0\n",
       " 0  0  0  0  0  0  0  0  0  0  0  0  0     0  0  0  0  0  0  0  0  0  0  0  0\n",
       " 0  0  0  0  0  0  0  0  0  0  0  0  0  …  0  0  0  0  0  0  0  0  0  0  0  0\n",
       " 0  0  0  0  0  0  0  0  0  0  0  0  0     0  0  0  0  0  0  0  0  0  0  0  0\n",
       " 0  0  0  0  0  0  0  0  0  0  0  0  0     0  0  0  0  0  0  0  0  0  0  0  0\n",
       " 0  0  0  0  0  0  0  0  0  0  0  0  0     0  0  0  0  0  0  0  0  0  0  0  0"
      ]
     },
     "execution_count": 4,
     "metadata": {},
     "output_type": "execute_result"
    }
   ],
   "source": [
    "X = float.(hcat(vec.(X)...)) .> 0.5"
   ]
  },
  {
   "cell_type": "markdown",
   "metadata": {},
   "source": [
    "## Mini-batches"
   ]
  },
  {
   "cell_type": "code",
   "execution_count": 5,
   "metadata": {},
   "outputs": [
    {
     "data": {
      "text/plain": [
       "600-element Array{BitArray{2},1}:\n",
       " [0 0 … 0 0; 0 0 … 0 0; … ; 0 0 … 0 0; 0 0 … 0 0]\n",
       " [0 0 … 0 0; 0 0 … 0 0; … ; 0 0 … 0 0; 0 0 … 0 0]\n",
       " [0 0 … 0 0; 0 0 … 0 0; … ; 0 0 … 0 0; 0 0 … 0 0]\n",
       " [0 0 … 0 0; 0 0 … 0 0; … ; 0 0 … 0 0; 0 0 … 0 0]\n",
       " [0 0 … 0 0; 0 0 … 0 0; … ; 0 0 … 0 0; 0 0 … 0 0]\n",
       " [0 0 … 0 0; 0 0 … 0 0; … ; 0 0 … 0 0; 0 0 … 0 0]\n",
       " [0 0 … 0 0; 0 0 … 0 0; … ; 0 0 … 0 0; 0 0 … 0 0]\n",
       " [0 0 … 0 0; 0 0 … 0 0; … ; 0 0 … 0 0; 0 0 … 0 0]\n",
       " [0 0 … 0 0; 0 0 … 0 0; … ; 0 0 … 0 0; 0 0 … 0 0]\n",
       " [0 0 … 0 0; 0 0 … 0 0; … ; 0 0 … 0 0; 0 0 … 0 0]\n",
       " [0 0 … 0 0; 0 0 … 0 0; … ; 0 0 … 0 0; 0 0 … 0 0]\n",
       " [0 0 … 0 0; 0 0 … 0 0; … ; 0 0 … 0 0; 0 0 … 0 0]\n",
       " [0 0 … 0 0; 0 0 … 0 0; … ; 0 0 … 0 0; 0 0 … 0 0]\n",
       " ⋮\n",
       " [0 0 … 0 0; 0 0 … 0 0; … ; 0 0 … 0 0; 0 0 … 0 0]\n",
       " [0 0 … 0 0; 0 0 … 0 0; … ; 0 0 … 0 0; 0 0 … 0 0]\n",
       " [0 0 … 0 0; 0 0 … 0 0; … ; 0 0 … 0 0; 0 0 … 0 0]\n",
       " [0 0 … 0 0; 0 0 … 0 0; … ; 0 0 … 0 0; 0 0 … 0 0]\n",
       " [0 0 … 0 0; 0 0 … 0 0; … ; 0 0 … 0 0; 0 0 … 0 0]\n",
       " [0 0 … 0 0; 0 0 … 0 0; … ; 0 0 … 0 0; 0 0 … 0 0]\n",
       " [0 0 … 0 0; 0 0 … 0 0; … ; 0 0 … 0 0; 0 0 … 0 0]\n",
       " [0 0 … 0 0; 0 0 … 0 0; … ; 0 0 … 0 0; 0 0 … 0 0]\n",
       " [0 0 … 0 0; 0 0 … 0 0; … ; 0 0 … 0 0; 0 0 … 0 0]\n",
       " [0 0 … 0 0; 0 0 … 0 0; … ; 0 0 … 0 0; 0 0 … 0 0]\n",
       " [0 0 … 0 0; 0 0 … 0 0; … ; 0 0 … 0 0; 0 0 … 0 0]\n",
       " [0 0 … 0 0; 0 0 … 0 0; … ; 0 0 … 0 0; 0 0 … 0 0]"
      ]
     },
     "execution_count": 5,
     "metadata": {},
     "output_type": "execute_result"
    }
   ],
   "source": [
    "N, M = size(X, 2), 100\n",
    "data = [X[:,i] for i in Iterators.partition(1:N,M)]"
   ]
  },
  {
   "cell_type": "markdown",
   "metadata": {},
   "source": [
    "# Define Model"
   ]
  },
  {
   "cell_type": "code",
   "execution_count": 6,
   "metadata": {},
   "outputs": [
    {
     "data": {
      "text/plain": [
       "Chain(Dense(5, 500, tanh), Dense(500, 784, σ))"
      ]
     },
     "execution_count": 6,
     "metadata": {},
     "output_type": "execute_result"
    }
   ],
   "source": [
    "# Dimensions (D -> Dh -> Dz -> Dh -> D)\n",
    "Dz, Dh, D = 5, 500, 28^2\n",
    "\n",
    "# Encoder\n",
    "A, μ, logσ = Dense(D, Dh, tanh), Dense(Dh, Dz), Dense(Dh, Dz)\n",
    "g(X) = (h = A(X); (μ(h), logσ(h)))\n",
    "z(μ, logσ) = μ + exp(logσ) * randn()\n",
    "\n",
    "# Decoder\n",
    "f = Chain(Dense(Dz, Dh, tanh), Dense(Dh, D, σ))"
   ]
  },
  {
   "cell_type": "markdown",
   "metadata": {},
   "source": [
    "# Loss function and ELBO"
   ]
  },
  {
   "cell_type": "code",
   "execution_count": 7,
   "metadata": {},
   "outputs": [
    {
     "data": {
      "text/plain": [
       "modelsample (generic function with 1 method)"
      ]
     },
     "execution_count": 7,
     "metadata": {},
     "output_type": "execute_result"
    }
   ],
   "source": [
    "# KL-divergence between approximation posterior and N(0, 1) prior.\n",
    "kl_q_p(μ, logσ) = 0.5 * sum(exp.(2 .* logσ) + μ.^2 .- 1 .+ logσ.^2)\n",
    "\n",
    "# logp(x|z) - conditional probability of data given latents.\n",
    "logp_x_z(x, z) = sum(logpdf.(Bernoulli.(f(z)), x))\n",
    "\n",
    "# Monte Carlo estimator of mean ELBO using M samples.\n",
    "L̄(X) = ((μ̂, logσ̂) = g(X); (logp_x_z(X, z.(μ̂, logσ̂)) - kl_q_p(μ̂, logσ̂)) / M)\n",
    "\n",
    "loss(X) = -L̄(X) + 0.01 * sum(x->sum(x.^2), params(f))\n",
    "\n",
    "# Sample from the learned model.\n",
    "modelsample() = rand.(Bernoulli.(f(z.(zeros(Dz), zeros(Dz)))))"
   ]
  },
  {
   "cell_type": "markdown",
   "metadata": {},
   "source": [
    "# Learning"
   ]
  },
  {
   "cell_type": "code",
   "execution_count": 8,
   "metadata": {},
   "outputs": [
    {
     "name": "stderr",
     "output_type": "stream",
     "text": [
      "┌ Info: Epoch 1\n",
      "└ @ Main /home/yuehhua/.julia/packages/Flux/Fj3bt/src/optimise/train.jl:121\n"
     ]
    },
    {
     "name": "stdout",
     "output_type": "stream",
     "text": [
      "-(L̄(X[:, rand(1:N, M)])) = 543.2253876344163\n",
      "-(L̄(X[:, rand(1:N, M)])) = 210.90770182909597\n",
      "-(L̄(X[:, rand(1:N, M)])) = 182.37667903594695\n",
      "-(L̄(X[:, rand(1:N, M)])) = 176.8284544304646\n",
      "-(L̄(X[:, rand(1:N, M)])) = 166.23625509264545\n",
      "-(L̄(X[:, rand(1:N, M)])) = 164.13378323882003\n",
      "-(L̄(X[:, rand(1:N, M)])) = 166.2227478943171\n",
      "-(L̄(X[:, rand(1:N, M)])) = 167.46112752433044\n",
      "-(L̄(X[:, rand(1:N, M)])) = 165.69806285103962\n",
      "-(L̄(X[:, rand(1:N, M)])) = 162.4959224058759\n",
      "-(L̄(X[:, rand(1:N, M)])) = 159.14507198446748\n",
      "-(L̄(X[:, rand(1:N, M)])) = 165.51285004401856\n",
      "-(L̄(X[:, rand(1:N, M)])) = 162.4391337805895\n",
      "-(L̄(X[:, rand(1:N, M)])) = 158.4599822592562\n"
     ]
    },
    {
     "name": "stderr",
     "output_type": "stream",
     "text": [
      "┌ Info: Epoch 2\n",
      "└ @ Main /home/yuehhua/.julia/packages/Flux/Fj3bt/src/optimise/train.jl:121\n"
     ]
    },
    {
     "name": "stdout",
     "output_type": "stream",
     "text": [
      "-(L̄(X[:, rand(1:N, M)])) = 161.03412204020972\n",
      "-(L̄(X[:, rand(1:N, M)])) = 156.7389618437368\n",
      "-(L̄(X[:, rand(1:N, M)])) = 158.1771271355005\n",
      "-(L̄(X[:, rand(1:N, M)])) = 160.88672806869374\n",
      "-(L̄(X[:, rand(1:N, M)])) = 155.79862867113846\n",
      "-(L̄(X[:, rand(1:N, M)])) = 160.02524540488443\n",
      "-(L̄(X[:, rand(1:N, M)])) = 150.3229243267442\n",
      "-(L̄(X[:, rand(1:N, M)])) = 155.1546929795795\n",
      "-(L̄(X[:, rand(1:N, M)])) = 158.97106259231666\n",
      "-(L̄(X[:, rand(1:N, M)])) = 151.70704697131768\n",
      "-(L̄(X[:, rand(1:N, M)])) = 155.14125917124053\n",
      "-(L̄(X[:, rand(1:N, M)])) = 154.15639887942905\n",
      "-(L̄(X[:, rand(1:N, M)])) = 145.10338762876364\n",
      "-(L̄(X[:, rand(1:N, M)])) = 164.4805176921039\n"
     ]
    },
    {
     "name": "stderr",
     "output_type": "stream",
     "text": [
      "┌ Info: Epoch 3\n",
      "└ @ Main /home/yuehhua/.julia/packages/Flux/Fj3bt/src/optimise/train.jl:121\n"
     ]
    },
    {
     "name": "stdout",
     "output_type": "stream",
     "text": [
      "-(L̄(X[:, rand(1:N, M)])) = 148.51659831133435\n",
      "-(L̄(X[:, rand(1:N, M)])) = 153.5461828286335\n",
      "-(L̄(X[:, rand(1:N, M)])) = 147.2820018498238\n",
      "-(L̄(X[:, rand(1:N, M)])) = 148.86039214863516\n",
      "-(L̄(X[:, rand(1:N, M)])) = 151.0876332741134\n",
      "-(L̄(X[:, rand(1:N, M)])) = 150.71910344321128\n",
      "-(L̄(X[:, rand(1:N, M)])) = 149.4393017566366\n",
      "-(L̄(X[:, rand(1:N, M)])) = 151.50084433905374\n",
      "-(L̄(X[:, rand(1:N, M)])) = 148.03157701201147\n",
      "-(L̄(X[:, rand(1:N, M)])) = 150.7750336383714\n",
      "-(L̄(X[:, rand(1:N, M)])) = 143.9872031495771\n",
      "-(L̄(X[:, rand(1:N, M)])) = 146.48314006619918\n",
      "-(L̄(X[:, rand(1:N, M)])) = 152.95312741773247\n"
     ]
    },
    {
     "name": "stderr",
     "output_type": "stream",
     "text": [
      "┌ Info: Epoch 4\n",
      "└ @ Main /home/yuehhua/.julia/packages/Flux/Fj3bt/src/optimise/train.jl:121\n"
     ]
    },
    {
     "name": "stdout",
     "output_type": "stream",
     "text": [
      "-(L̄(X[:, rand(1:N, M)])) = 148.17424985604464\n",
      "-(L̄(X[:, rand(1:N, M)])) = 151.7466289691474\n",
      "-(L̄(X[:, rand(1:N, M)])) = 146.4476323311858\n",
      "-(L̄(X[:, rand(1:N, M)])) = 145.74483143940458\n",
      "-(L̄(X[:, rand(1:N, M)])) = 144.53607755980426\n",
      "-(L̄(X[:, rand(1:N, M)])) = 150.01887649783197\n",
      "-(L̄(X[:, rand(1:N, M)])) = 144.7111089045797\n",
      "-(L̄(X[:, rand(1:N, M)])) = 137.4631344712804\n",
      "-(L̄(X[:, rand(1:N, M)])) = 144.50302983320714\n",
      "-(L̄(X[:, rand(1:N, M)])) = 146.95350558937076\n",
      "-(L̄(X[:, rand(1:N, M)])) = 139.26244098124513\n",
      "-(L̄(X[:, rand(1:N, M)])) = 142.86931438422022\n",
      "-(L̄(X[:, rand(1:N, M)])) = 145.04857109110947\n"
     ]
    },
    {
     "name": "stderr",
     "output_type": "stream",
     "text": [
      "┌ Info: Epoch 5\n",
      "└ @ Main /home/yuehhua/.julia/packages/Flux/Fj3bt/src/optimise/train.jl:121\n"
     ]
    },
    {
     "name": "stdout",
     "output_type": "stream",
     "text": [
      "-(L̄(X[:, rand(1:N, M)])) = 146.78166291085452\n",
      "-(L̄(X[:, rand(1:N, M)])) = 149.55042317698576\n",
      "-(L̄(X[:, rand(1:N, M)])) = 143.42558181554992\n",
      "-(L̄(X[:, rand(1:N, M)])) = 149.40420360091608\n",
      "-(L̄(X[:, rand(1:N, M)])) = 144.96669214455568\n",
      "-(L̄(X[:, rand(1:N, M)])) = 143.76979748001227\n",
      "-(L̄(X[:, rand(1:N, M)])) = 145.42393278857972\n",
      "-(L̄(X[:, rand(1:N, M)])) = 140.62927204255107\n",
      "-(L̄(X[:, rand(1:N, M)])) = 143.26140974259715\n",
      "-(L̄(X[:, rand(1:N, M)])) = 135.53553238240622\n",
      "-(L̄(X[:, rand(1:N, M)])) = 140.0573741000583\n",
      "-(L̄(X[:, rand(1:N, M)])) = 142.98340302800239\n",
      "-(L̄(X[:, rand(1:N, M)])) = 139.90787737949992\n",
      "-(L̄(X[:, rand(1:N, M)])) = 147.9919342269344\n"
     ]
    },
    {
     "name": "stderr",
     "output_type": "stream",
     "text": [
      "┌ Info: Epoch 6\n",
      "└ @ Main /home/yuehhua/.julia/packages/Flux/Fj3bt/src/optimise/train.jl:121\n"
     ]
    },
    {
     "name": "stdout",
     "output_type": "stream",
     "text": [
      "-(L̄(X[:, rand(1:N, M)])) = 156.53304805578634\n",
      "-(L̄(X[:, rand(1:N, M)])) = 140.47259311682149\n",
      "-(L̄(X[:, rand(1:N, M)])) = 138.26591734950435\n",
      "-(L̄(X[:, rand(1:N, M)])) = 144.86717807820867\n",
      "-(L̄(X[:, rand(1:N, M)])) = 142.68051808334687\n",
      "-(L̄(X[:, rand(1:N, M)])) = 142.32425259448482\n",
      "-(L̄(X[:, rand(1:N, M)])) = 147.95957363093913\n",
      "-(L̄(X[:, rand(1:N, M)])) = 148.02098878033357\n",
      "-(L̄(X[:, rand(1:N, M)])) = 148.4827426125895\n",
      "-(L̄(X[:, rand(1:N, M)])) = 141.2648393738112\n",
      "-(L̄(X[:, rand(1:N, M)])) = 139.77244143318464\n",
      "-(L̄(X[:, rand(1:N, M)])) = 147.81476616221343\n",
      "-(L̄(X[:, rand(1:N, M)])) = 138.44730365311068\n"
     ]
    },
    {
     "name": "stderr",
     "output_type": "stream",
     "text": [
      "┌ Info: Epoch 7\n",
      "└ @ Main /home/yuehhua/.julia/packages/Flux/Fj3bt/src/optimise/train.jl:121\n"
     ]
    },
    {
     "name": "stdout",
     "output_type": "stream",
     "text": [
      "-(L̄(X[:, rand(1:N, M)])) = 139.30169455894173\n",
      "-(L̄(X[:, rand(1:N, M)])) = 146.2446533589009\n",
      "-(L̄(X[:, rand(1:N, M)])) = 140.2470440994723\n",
      "-(L̄(X[:, rand(1:N, M)])) = 142.60571132366624\n",
      "-(L̄(X[:, rand(1:N, M)])) = 147.51699421115313\n",
      "-(L̄(X[:, rand(1:N, M)])) = 138.03915898617404\n",
      "-(L̄(X[:, rand(1:N, M)])) = 139.78039568775898\n",
      "-(L̄(X[:, rand(1:N, M)])) = 140.31444011523843\n",
      "-(L̄(X[:, rand(1:N, M)])) = 142.8195495008625\n",
      "-(L̄(X[:, rand(1:N, M)])) = 147.44421428530913\n",
      "-(L̄(X[:, rand(1:N, M)])) = 144.54885158765296\n",
      "-(L̄(X[:, rand(1:N, M)])) = 143.573021558816\n",
      "-(L̄(X[:, rand(1:N, M)])) = 137.66572906063965\n",
      "-(L̄(X[:, rand(1:N, M)])) = 136.61115505613074\n"
     ]
    },
    {
     "name": "stderr",
     "output_type": "stream",
     "text": [
      "┌ Info: Epoch 8\n",
      "└ @ Main /home/yuehhua/.julia/packages/Flux/Fj3bt/src/optimise/train.jl:121\n"
     ]
    },
    {
     "name": "stdout",
     "output_type": "stream",
     "text": [
      "-(L̄(X[:, rand(1:N, M)])) = 139.57253036017062\n",
      "-(L̄(X[:, rand(1:N, M)])) = 148.89092090742378\n",
      "-(L̄(X[:, rand(1:N, M)])) = 149.26619897792014\n",
      "-(L̄(X[:, rand(1:N, M)])) = 143.243834831569\n",
      "-(L̄(X[:, rand(1:N, M)])) = 147.86138192998067\n",
      "-(L̄(X[:, rand(1:N, M)])) = 148.0655915586063\n",
      "-(L̄(X[:, rand(1:N, M)])) = 147.8141323817697\n",
      "-(L̄(X[:, rand(1:N, M)])) = 145.4305581754671\n",
      "-(L̄(X[:, rand(1:N, M)])) = 138.2097762034181\n",
      "-(L̄(X[:, rand(1:N, M)])) = 134.9522158469559\n",
      "-(L̄(X[:, rand(1:N, M)])) = 134.5969250614072\n",
      "-(L̄(X[:, rand(1:N, M)])) = 139.542342818872\n",
      "-(L̄(X[:, rand(1:N, M)])) = 136.93176063659178\n",
      "-(L̄(X[:, rand(1:N, M)])) = 137.45656662160923\n"
     ]
    },
    {
     "name": "stderr",
     "output_type": "stream",
     "text": [
      "┌ Info: Epoch 9\n",
      "└ @ Main /home/yuehhua/.julia/packages/Flux/Fj3bt/src/optimise/train.jl:121\n"
     ]
    },
    {
     "name": "stdout",
     "output_type": "stream",
     "text": [
      "-(L̄(X[:, rand(1:N, M)])) = 148.29414316052817\n",
      "-(L̄(X[:, rand(1:N, M)])) = 139.59843323808767\n",
      "-(L̄(X[:, rand(1:N, M)])) = 136.7469974385336\n",
      "-(L̄(X[:, rand(1:N, M)])) = 140.03094821240018\n",
      "-(L̄(X[:, rand(1:N, M)])) = 141.66299899141615\n",
      "-(L̄(X[:, rand(1:N, M)])) = 139.63165820842949\n",
      "-(L̄(X[:, rand(1:N, M)])) = 136.05798960674645\n",
      "-(L̄(X[:, rand(1:N, M)])) = 133.51882811158828\n",
      "-(L̄(X[:, rand(1:N, M)])) = 137.002564251954\n",
      "-(L̄(X[:, rand(1:N, M)])) = 144.94032442533734\n",
      "-(L̄(X[:, rand(1:N, M)])) = 139.91165662733604\n",
      "-(L̄(X[:, rand(1:N, M)])) = 149.01580826369454\n",
      "-(L̄(X[:, rand(1:N, M)])) = 139.45007465023917\n"
     ]
    },
    {
     "name": "stderr",
     "output_type": "stream",
     "text": [
      "┌ Info: Epoch 10\n",
      "└ @ Main /home/yuehhua/.julia/packages/Flux/Fj3bt/src/optimise/train.jl:121\n"
     ]
    },
    {
     "name": "stdout",
     "output_type": "stream",
     "text": [
      "-(L̄(X[:, rand(1:N, M)])) = 147.49770785587486\n",
      "-(L̄(X[:, rand(1:N, M)])) = 141.5444633022392\n",
      "-(L̄(X[:, rand(1:N, M)])) = 139.3365246722247\n",
      "-(L̄(X[:, rand(1:N, M)])) = 143.209801681998\n",
      "-(L̄(X[:, rand(1:N, M)])) = 140.38463613252443\n",
      "-(L̄(X[:, rand(1:N, M)])) = 143.2812841633853\n",
      "-(L̄(X[:, rand(1:N, M)])) = 137.4326181092248\n",
      "-(L̄(X[:, rand(1:N, M)])) = 148.74905374253748\n",
      "-(L̄(X[:, rand(1:N, M)])) = 135.08367360663794\n",
      "-(L̄(X[:, rand(1:N, M)])) = 140.7546174413095\n",
      "-(L̄(X[:, rand(1:N, M)])) = 130.7631354278858\n",
      "-(L̄(X[:, rand(1:N, M)])) = 144.48058290052003\n",
      "-(L̄(X[:, rand(1:N, M)])) = 140.47611935270174\n",
      "-(L̄(X[:, rand(1:N, M)])) = 143.75693510937379\n"
     ]
    }
   ],
   "source": [
    "evalcb = throttle(() -> @show(-L̄(X[:, rand(1:N, M)])), 30)\n",
    "opt = ADAM()\n",
    "@epochs 10 Flux.train!(loss, params(A, μ, logσ, f), zip(data), opt, cb=evalcb)"
   ]
  },
  {
   "cell_type": "markdown",
   "metadata": {},
   "source": [
    "# Sample Output"
   ]
  },
  {
   "cell_type": "code",
   "execution_count": 9,
   "metadata": {},
   "outputs": [
    {
     "name": "stderr",
     "output_type": "stream",
     "text": [
      "┌ Info: Precompiling Images [916415d5-f1e6-5110-898d-aaa5f9f070e0]\n",
      "└ @ Base loading.jl:1260\n",
      "WARNING: using Images.data in module Main conflicts with an existing identifier.\n",
      "┌ Info: Precompiling ImageMagick [6218d12a-5da1-5696-b52f-db25d2ecc6d1]\n",
      "└ @ Base loading.jl:1260\n"
     ]
    }
   ],
   "source": [
    "using Images\n",
    "\n",
    "img(x) = Gray.(reshape(x, 28, 28))\n",
    "\n",
    "cd(@__DIR__)\n",
    "sample = hcat(img.([modelsample() for i = 1:10])...)\n",
    "save(\"vae-sample.png\", sample)"
   ]
  },
  {
   "cell_type": "code",
   "execution_count": null,
   "metadata": {},
   "outputs": [],
   "source": []
  }
 ],
 "metadata": {
  "kernelspec": {
   "display_name": "Julia 1.4.2",
   "language": "julia",
   "name": "julia-1.4"
  },
  "language_info": {
   "file_extension": ".jl",
   "mimetype": "application/julia",
   "name": "julia",
   "version": "1.4.2"
  }
 },
 "nbformat": 4,
 "nbformat_minor": 4
}
