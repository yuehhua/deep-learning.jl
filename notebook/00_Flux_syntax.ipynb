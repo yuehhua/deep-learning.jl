{
 "cells": [
  {
   "cell_type": "markdown",
   "metadata": {},
   "source": [
    "# 想要自己設計 layer 的話可以照著以下的方法做喔！"
   ]
  },
  {
   "cell_type": "code",
   "execution_count": 1,
   "metadata": {},
   "outputs": [],
   "source": [
    "using Flux"
   ]
  },
  {
   "cell_type": "code",
   "execution_count": 2,
   "metadata": {},
   "outputs": [],
   "source": [
    "struct NewLayer\n",
    "    W\n",
    "    b\n",
    "end"
   ]
  },
  {
   "cell_type": "markdown",
   "metadata": {},
   "source": [
    "以上先設計新的 layer 所需要的資料結構，他需要存下什麼樣的資料，設計原則大概就跟物件導向語言的物件設計一樣。"
   ]
  },
  {
   "cell_type": "code",
   "execution_count": 3,
   "metadata": {},
   "outputs": [
    {
     "data": {
      "text/plain": [
       "NewLayer"
      ]
     },
     "execution_count": 3,
     "metadata": {},
     "output_type": "execute_result"
    }
   ],
   "source": [
    "NewLayer(in::Integer, out::Integer) = NewLayer(randn(out, in), randn(out))"
   ]
  },
  {
   "cell_type": "markdown",
   "metadata": {},
   "source": [
    "以上是設計資料結構的 constructor，在 init 的過程中，需要先將參數先用 `param()` 包裝起來才放進資料結構中，這邊也包含了初始化的 `randn()` 部份，所以只需要給 input 跟 output 的 node 數目即可。"
   ]
  },
  {
   "cell_type": "code",
   "execution_count": 4,
   "metadata": {},
   "outputs": [],
   "source": [
    "(l::NewLayer)(x) = l.W * x .+ l.b"
   ]
  },
  {
   "cell_type": "markdown",
   "metadata": {},
   "source": [
    "以上定義了 `NewLayer` 成為一個 functor-like object，他是可以被呼叫的，而呼叫的行為就是讓 layer 做運算。"
   ]
  },
  {
   "cell_type": "code",
   "execution_count": 5,
   "metadata": {},
   "outputs": [
    {
     "data": {
      "text/plain": [
       "NewLayer([-0.886886872805939 0.7464529160922242 … 0.8658703266111303 -0.09365306164621788; 0.3852130166670699 -0.5777766233608991 … -0.14516118707978223 -2.6789641455427287; … ; 0.7822938648840118 2.541689560976651 … -0.2449479674547702 0.40375982597245996; 0.31885561386814004 2.2017399850165513 … -2.06350155048073 -0.2862595056000881], [-0.7546113846988637, 1.7183335755040976, 1.1635512601496967, -1.0564176148715483, 0.7440234811124862])"
      ]
     },
     "execution_count": 5,
     "metadata": {},
     "output_type": "execute_result"
    }
   ],
   "source": [
    "layer = NewLayer(10, 5)"
   ]
  },
  {
   "cell_type": "code",
   "execution_count": 6,
   "metadata": {},
   "outputs": [
    {
     "data": {
      "text/plain": [
       "5-element Array{Float64,1}:\n",
       " -3.577267591856105\n",
       "  0.07648541949335042\n",
       " -3.2953517974364015\n",
       " -1.1578656271507808\n",
       "  3.1192305200609196"
      ]
     },
     "execution_count": 6,
     "metadata": {},
     "output_type": "execute_result"
    }
   ],
   "source": [
    "layer(rand(10))"
   ]
  },
  {
   "cell_type": "markdown",
   "metadata": {},
   "source": [
    "除此之外，`Chain` 可以寫成以下這樣，符號請用 `\\circ<tab>`"
   ]
  },
  {
   "cell_type": "code",
   "execution_count": 7,
   "metadata": {},
   "outputs": [
    {
     "data": {
      "text/plain": [
       "#64 (generic function with 1 method)"
      ]
     },
     "execution_count": 7,
     "metadata": {},
     "output_type": "execute_result"
    }
   ],
   "source": [
    "Dense(10, 2) ∘ Dense(2, 5)"
   ]
  },
  {
   "cell_type": "markdown",
   "metadata": {},
   "source": [
    "額外說明，`Chain` 其實可以支援一般的函數喔！"
   ]
  },
  {
   "cell_type": "code",
   "execution_count": 8,
   "metadata": {},
   "outputs": [
    {
     "data": {
      "text/plain": [
       "Chain(#3, #4)"
      ]
     },
     "execution_count": 8,
     "metadata": {},
     "output_type": "execute_result"
    }
   ],
   "source": [
    "Chain(x -> x + 5, x -> x*2)"
   ]
  },
  {
   "cell_type": "code",
   "execution_count": null,
   "metadata": {},
   "outputs": [],
   "source": []
  }
 ],
 "metadata": {
  "kernelspec": {
   "display_name": "Julia 1.4.0",
   "language": "julia",
   "name": "julia-1.4"
  },
  "language_info": {
   "file_extension": ".jl",
   "mimetype": "application/julia",
   "name": "julia",
   "version": "1.4.2"
  }
 },
 "nbformat": 4,
 "nbformat_minor": 4
}
