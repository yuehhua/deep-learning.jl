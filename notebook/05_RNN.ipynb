{
 "cells": [
  {
   "cell_type": "markdown",
   "metadata": {},
   "source": [
    "# Recurrent neural network"
   ]
  },
  {
   "cell_type": "markdown",
   "metadata": {},
   "source": [
    "Character-level language model"
   ]
  },
  {
   "cell_type": "markdown",
   "metadata": {},
   "source": [
    "<img src=\"http://karpathy.github.io/assets/rnn/charseq.jpeg\">"
   ]
  },
  {
   "cell_type": "code",
   "execution_count": 1,
   "metadata": {},
   "outputs": [],
   "source": [
    "using Flux\n",
    "using Flux: @epochs, onehot, chunk, batchseq, throttle, crossentropy\n",
    "using StatsBase: wsample\n",
    "using Base.Iterators: partition\n",
    "# using CuArrays"
   ]
  },
  {
   "cell_type": "markdown",
   "metadata": {},
   "source": [
    "## Download data"
   ]
  },
  {
   "cell_type": "code",
   "execution_count": 2,
   "metadata": {},
   "outputs": [
    {
     "data": {
      "text/plain": [
       "true"
      ]
     },
     "execution_count": 2,
     "metadata": {},
     "output_type": "execute_result"
    }
   ],
   "source": [
    "isfile(\"input.txt\") ||\n",
    "  download(\"http://cs.stanford.edu/people/karpathy/char-rnn/shakespeare_input.txt\", \"input.txt\")CuArrays"
   ]
  },
  {
   "cell_type": "markdown",
   "metadata": {},
   "source": [
    "## Preprocessing"
   ]
  },
  {
   "cell_type": "code",
   "execution_count": 3,
   "metadata": {},
   "outputs": [],
   "source": [
    "text = collect(String(read(\"input.txt\")))\n",
    "alphabet = [unique(text)..., '_']\n",
    "text = map(ch -> onehot(ch, alphabet), text)\n",
    "stop = onehot('_', alphabet);"
   ]
  },
  {
   "cell_type": "code",
   "execution_count": 4,
   "metadata": {},
   "outputs": [
    {
     "data": {
      "text/plain": [
       "50"
      ]
     },
     "execution_count": 4,
     "metadata": {},
     "output_type": "execute_result"
    }
   ],
   "source": [
    "N = length(alphabet)\n",
    "seqlen = 50\n",
    "nbatch = 50"
   ]
  },
  {
   "cell_type": "code",
   "execution_count": 5,
   "metadata": {},
   "outputs": [],
   "source": [
    "Xs = collect(partition(batchseq(chunk(text, nbatch), stop), seqlen))\n",
    "Ys = collect(partition(batchseq(chunk(text[2:end], nbatch), stop), seqlen));"
   ]
  },
  {
   "cell_type": "markdown",
   "metadata": {},
   "source": [
    "## Model"
   ]
  },
  {
   "cell_type": "code",
   "execution_count": 6,
   "metadata": {},
   "outputs": [
    {
     "data": {
      "text/plain": [
       "Chain(Recur(LSTMCell(68, 128)), Recur(LSTMCell(128, 128)), Dense(128, 68), softmax)"
      ]
     },
     "execution_count": 6,
     "metadata": {},
     "output_type": "execute_result"
    }
   ],
   "source": [
    "m = Chain(\n",
    "    LSTM(N, 128),\n",
    "    LSTM(128, 128),\n",
    "    Dense(128, N),\n",
    "    softmax)"
   ]
  },
  {
   "cell_type": "markdown",
   "metadata": {},
   "source": [
    "## Loss function"
   ]
  },
  {
   "cell_type": "code",
   "execution_count": 7,
   "metadata": {},
   "outputs": [
    {
     "data": {
      "text/plain": [
       "loss (generic function with 1 method)"
      ]
     },
     "execution_count": 7,
     "metadata": {},
     "output_type": "execute_result"
    }
   ],
   "source": [
    "function loss(xs, ys)\n",
    "    l = sum(crossentropy.(m.(xs), ys))\n",
    "    Flux.reset!(m)\n",
    "    return l\n",
    "end"
   ]
  },
  {
   "cell_type": "markdown",
   "metadata": {},
   "source": [
    "## Optimizer"
   ]
  },
  {
   "cell_type": "code",
   "execution_count": 8,
   "metadata": {},
   "outputs": [
    {
     "data": {
      "text/plain": [
       "evalcb (generic function with 1 method)"
      ]
     },
     "execution_count": 8,
     "metadata": {},
     "output_type": "execute_result"
    }
   ],
   "source": [
    "opt = ADAM(0.01)\n",
    "evalcb() = @show loss(Xs[5], Ys[5])"
   ]
  },
  {
   "cell_type": "markdown",
   "metadata": {},
   "source": [
    "## Training"
   ]
  },
  {
   "cell_type": "code",
   "execution_count": 9,
   "metadata": {},
   "outputs": [
    {
     "name": "stderr",
     "output_type": "stream",
     "text": [
      "┌ Info: Epoch 1\n",
      "└ @ Main /home/yuehhua/.julia/packages/Flux/Fj3bt/src/optimise/train.jl:121\n"
     ]
    },
    {
     "name": "stdout",
     "output_type": "stream",
     "text": [
      "loss(Xs[5], Ys[5]) = 196.86156f0\n",
      "loss(Xs[5], Ys[5]) = 170.97137f0\n",
      "loss(Xs[5], Ys[5]) = 169.84167f0\n",
      "loss(Xs[5], Ys[5]) = 168.2907f0\n",
      "loss(Xs[5], Ys[5]) = 168.31401f0\n",
      "loss(Xs[5], Ys[5]) = 168.37509f0\n",
      "loss(Xs[5], Ys[5]) = 167.86536f0\n",
      "loss(Xs[5], Ys[5]) = 168.34f0\n",
      "loss(Xs[5], Ys[5]) = 167.99153f0\n",
      "loss(Xs[5], Ys[5]) = 167.98141f0\n",
      "loss(Xs[5], Ys[5]) = 167.77316f0\n",
      "loss(Xs[5], Ys[5]) = 168.76381f0\n",
      "loss(Xs[5], Ys[5]) = 168.41063f0\n",
      "loss(Xs[5], Ys[5]) = 168.70741f0\n",
      "loss(Xs[5], Ys[5]) = 168.80412f0\n",
      "loss(Xs[5], Ys[5]) = 168.1425f0\n",
      "loss(Xs[5], Ys[5]) = 168.09239f0\n",
      "loss(Xs[5], Ys[5]) = 168.80937f0\n",
      "loss(Xs[5], Ys[5]) = 168.13542f0\n",
      "loss(Xs[5], Ys[5]) = 167.81508f0\n",
      "loss(Xs[5], Ys[5]) = 167.99681f0\n",
      "loss(Xs[5], Ys[5]) = 168.23538f0\n",
      "loss(Xs[5], Ys[5]) = 168.37451f0\n",
      "loss(Xs[5], Ys[5]) = 167.92474f0\n",
      "loss(Xs[5], Ys[5]) = 168.17537f0\n",
      "loss(Xs[5], Ys[5]) = 168.06491f0\n",
      "loss(Xs[5], Ys[5]) = 167.89027f0\n",
      "loss(Xs[5], Ys[5]) = 169.08005f0\n",
      "loss(Xs[5], Ys[5]) = 168.41383f0\n",
      "loss(Xs[5], Ys[5]) = 167.57692f0\n",
      "loss(Xs[5], Ys[5]) = 168.22372f0\n",
      "loss(Xs[5], Ys[5]) = 168.61049f0\n",
      "loss(Xs[5], Ys[5]) = 167.74951f0\n",
      "loss(Xs[5], Ys[5]) = 168.23303f0\n",
      "loss(Xs[5], Ys[5]) = 168.49443f0\n",
      "loss(Xs[5], Ys[5]) = 167.9739f0\n",
      "loss(Xs[5], Ys[5]) = 168.80527f0\n",
      "loss(Xs[5], Ys[5]) = 167.47755f0\n",
      "loss(Xs[5], Ys[5]) = 167.79637f0\n"
     ]
    },
    {
     "name": "stderr",
     "output_type": "stream",
     "text": [
      "┌ Info: Epoch 2\n",
      "└ @ Main /home/yuehhua/.julia/packages/Flux/Fj3bt/src/optimise/train.jl:121\n"
     ]
    },
    {
     "name": "stdout",
     "output_type": "stream",
     "text": [
      "loss(Xs[5], Ys[5]) = 168.86028f0\n",
      "loss(Xs[5], Ys[5]) = 167.71144f0\n",
      "loss(Xs[5], Ys[5]) = 168.09505f0\n",
      "loss(Xs[5], Ys[5]) = 168.1105f0\n",
      "loss(Xs[5], Ys[5]) = 167.88829f0\n",
      "loss(Xs[5], Ys[5]) = 167.9789f0\n",
      "loss(Xs[5], Ys[5]) = 168.57298f0\n",
      "loss(Xs[5], Ys[5]) = 169.61935f0\n",
      "loss(Xs[5], Ys[5]) = 168.56584f0\n",
      "loss(Xs[5], Ys[5]) = 168.31723f0\n",
      "loss(Xs[5], Ys[5]) = 168.2282f0\n",
      "loss(Xs[5], Ys[5]) = 168.36494f0\n",
      "loss(Xs[5], Ys[5]) = 168.01097f0\n",
      "loss(Xs[5], Ys[5]) = 167.95918f0\n",
      "loss(Xs[5], Ys[5]) = 167.87367f0\n",
      "loss(Xs[5], Ys[5]) = 168.13208f0\n",
      "loss(Xs[5], Ys[5]) = 168.22087f0\n",
      "loss(Xs[5], Ys[5]) = 168.4778f0\n",
      "loss(Xs[5], Ys[5]) = 167.998f0\n",
      "loss(Xs[5], Ys[5]) = 168.08685f0\n",
      "loss(Xs[5], Ys[5]) = 169.03027f0\n",
      "loss(Xs[5], Ys[5]) = 168.1971f0\n",
      "loss(Xs[5], Ys[5]) = 168.80812f0\n",
      "loss(Xs[5], Ys[5]) = 168.26886f0\n",
      "loss(Xs[5], Ys[5]) = 168.06998f0\n",
      "loss(Xs[5], Ys[5]) = 168.33766f0\n",
      "loss(Xs[5], Ys[5]) = 167.91548f0\n",
      "loss(Xs[5], Ys[5]) = 168.3306f0\n",
      "loss(Xs[5], Ys[5]) = 168.75117f0\n",
      "loss(Xs[5], Ys[5]) = 167.84532f0\n",
      "loss(Xs[5], Ys[5]) = 168.6877f0\n",
      "loss(Xs[5], Ys[5]) = 167.95662f0\n",
      "loss(Xs[5], Ys[5]) = 168.12936f0\n",
      "loss(Xs[5], Ys[5]) = 168.31686f0\n",
      "loss(Xs[5], Ys[5]) = 168.24051f0\n",
      "loss(Xs[5], Ys[5]) = 168.27394f0\n",
      "loss(Xs[5], Ys[5]) = 168.86676f0\n",
      "loss(Xs[5], Ys[5]) = 168.71878f0\n",
      "loss(Xs[5], Ys[5]) = 168.2599f0\n",
      "loss(Xs[5], Ys[5]) = 168.53548f0\n",
      "loss(Xs[5], Ys[5]) = 168.043f0\n",
      "loss(Xs[5], Ys[5]) = 168.10234f0\n",
      "loss(Xs[5], Ys[5]) = 168.13663f0\n",
      "loss(Xs[5], Ys[5]) = 168.56413f0\n",
      "loss(Xs[5], Ys[5]) = 167.84473f0\n",
      "loss(Xs[5], Ys[5]) = 168.02449f0\n",
      "loss(Xs[5], Ys[5]) = 168.49619f0\n",
      "loss(Xs[5], Ys[5]) = 168.6846f0\n",
      "loss(Xs[5], Ys[5]) = 168.21318f0\n",
      "loss(Xs[5], Ys[5]) = 167.93437f0\n"
     ]
    },
    {
     "name": "stderr",
     "output_type": "stream",
     "text": [
      "┌ Info: Epoch 3\n",
      "└ @ Main /home/yuehhua/.julia/packages/Flux/Fj3bt/src/optimise/train.jl:121\n"
     ]
    },
    {
     "name": "stdout",
     "output_type": "stream",
     "text": [
      "loss(Xs[5], Ys[5]) = 168.85965f0\n",
      "loss(Xs[5], Ys[5]) = 169.08943f0\n",
      "loss(Xs[5], Ys[5]) = 167.57013f0\n",
      "loss(Xs[5], Ys[5]) = 168.09193f0\n",
      "loss(Xs[5], Ys[5]) = 168.608f0\n",
      "loss(Xs[5], Ys[5]) = 167.98546f0\n",
      "loss(Xs[5], Ys[5]) = 167.77333f0\n",
      "loss(Xs[5], Ys[5]) = 168.18277f0\n",
      "loss(Xs[5], Ys[5]) = 168.55247f0\n",
      "loss(Xs[5], Ys[5]) = 168.12564f0\n",
      "loss(Xs[5], Ys[5]) = 167.95721f0\n",
      "loss(Xs[5], Ys[5]) = 167.70203f0\n",
      "loss(Xs[5], Ys[5]) = 168.66528f0\n",
      "loss(Xs[5], Ys[5]) = 168.03331f0\n",
      "loss(Xs[5], Ys[5]) = 168.69386f0\n",
      "loss(Xs[5], Ys[5]) = 168.06055f0\n",
      "loss(Xs[5], Ys[5]) = 167.77472f0\n",
      "loss(Xs[5], Ys[5]) = 168.18085f0\n",
      "loss(Xs[5], Ys[5]) = 168.06151f0\n",
      "loss(Xs[5], Ys[5]) = 168.09793f0\n",
      "loss(Xs[5], Ys[5]) = 167.93472f0\n",
      "loss(Xs[5], Ys[5]) = 168.13292f0\n",
      "loss(Xs[5], Ys[5]) = 167.89159f0\n",
      "loss(Xs[5], Ys[5]) = 168.53117f0\n",
      "loss(Xs[5], Ys[5]) = 168.07262f0\n",
      "loss(Xs[5], Ys[5]) = 167.54462f0\n",
      "loss(Xs[5], Ys[5]) = 168.16495f0\n",
      "loss(Xs[5], Ys[5]) = 167.94301f0\n",
      "loss(Xs[5], Ys[5]) = 168.0119f0\n",
      "loss(Xs[5], Ys[5]) = 167.85399f0\n",
      "loss(Xs[5], Ys[5]) = 167.11371f0\n"
     ]
    },
    {
     "name": "stderr",
     "output_type": "stream",
     "text": [
      "┌ Info: Epoch 4\n",
      "└ @ Main /home/yuehhua/.julia/packages/Flux/Fj3bt/src/optimise/train.jl:121\n"
     ]
    },
    {
     "name": "stdout",
     "output_type": "stream",
     "text": [
      "loss(Xs[5], Ys[5]) = 167.75409f0\n",
      "loss(Xs[5], Ys[5]) = 166.96684f0\n",
      "loss(Xs[5], Ys[5]) = 166.83955f0\n",
      "loss(Xs[5], Ys[5]) = 166.24744f0\n",
      "loss(Xs[5], Ys[5]) = 166.25064f0\n",
      "loss(Xs[5], Ys[5]) = 166.3023f0\n",
      "loss(Xs[5], Ys[5]) = 167.10817f0\n",
      "loss(Xs[5], Ys[5]) = 166.7003f0\n",
      "loss(Xs[5], Ys[5]) = 165.81107f0\n",
      "loss(Xs[5], Ys[5]) = 166.7902f0\n",
      "loss(Xs[5], Ys[5]) = 166.6875f0\n",
      "loss(Xs[5], Ys[5]) = 166.05988f0\n",
      "loss(Xs[5], Ys[5]) = 166.2498f0\n",
      "loss(Xs[5], Ys[5]) = 167.28523f0\n",
      "loss(Xs[5], Ys[5]) = 166.96425f0\n",
      "loss(Xs[5], Ys[5]) = 167.23903f0\n",
      "loss(Xs[5], Ys[5]) = 167.67125f0\n",
      "loss(Xs[5], Ys[5]) = 166.71468f0\n",
      "loss(Xs[5], Ys[5]) = 167.1204f0\n",
      "loss(Xs[5], Ys[5]) = 166.32086f0\n",
      "loss(Xs[5], Ys[5]) = 166.57033f0\n",
      "loss(Xs[5], Ys[5]) = 162.51767f0\n",
      "loss(Xs[5], Ys[5]) = 163.29483f0\n",
      "loss(Xs[5], Ys[5]) = 160.952f0\n",
      "loss(Xs[5], Ys[5]) = 158.83852f0\n",
      "loss(Xs[5], Ys[5]) = 156.06624f0\n",
      "loss(Xs[5], Ys[5]) = 158.57404f0\n",
      "loss(Xs[5], Ys[5]) = 165.76793f0\n",
      "loss(Xs[5], Ys[5]) = 167.9492f0\n",
      "loss(Xs[5], Ys[5]) = 166.44243f0\n",
      "loss(Xs[5], Ys[5]) = 165.62473f0\n",
      "loss(Xs[5], Ys[5]) = 163.47702f0\n",
      "loss(Xs[5], Ys[5]) = 162.17972f0\n",
      "loss(Xs[5], Ys[5]) = 162.89749f0\n",
      "loss(Xs[5], Ys[5]) = 160.03569f0\n",
      "loss(Xs[5], Ys[5]) = 160.87933f0\n",
      "loss(Xs[5], Ys[5]) = 162.2727f0\n",
      "loss(Xs[5], Ys[5]) = 160.20589f0\n",
      "loss(Xs[5], Ys[5]) = 165.91382f0\n"
     ]
    },
    {
     "name": "stderr",
     "output_type": "stream",
     "text": [
      "┌ Info: Epoch 5\n",
      "└ @ Main /home/yuehhua/.julia/packages/Flux/Fj3bt/src/optimise/train.jl:121\n"
     ]
    },
    {
     "name": "stdout",
     "output_type": "stream",
     "text": [
      "loss(Xs[5], Ys[5]) = 165.95465f0\n",
      "loss(Xs[5], Ys[5]) = 165.1177f0\n",
      "loss(Xs[5], Ys[5]) = 166.04535f0\n",
      "loss(Xs[5], Ys[5]) = 161.67506f0\n",
      "loss(Xs[5], Ys[5]) = 163.0157f0\n",
      "loss(Xs[5], Ys[5]) = 160.49889f0\n",
      "loss(Xs[5], Ys[5]) = 161.75159f0\n",
      "loss(Xs[5], Ys[5]) = 162.60327f0\n",
      "loss(Xs[5], Ys[5]) = 160.52194f0\n",
      "loss(Xs[5], Ys[5]) = 156.73265f0\n",
      "loss(Xs[5], Ys[5]) = 162.00941f0\n",
      "loss(Xs[5], Ys[5]) = 159.91368f0\n",
      "loss(Xs[5], Ys[5]) = 164.69412f0\n",
      "loss(Xs[5], Ys[5]) = 160.67368f0\n",
      "loss(Xs[5], Ys[5]) = 160.52255f0\n",
      "loss(Xs[5], Ys[5]) = 160.85634f0\n",
      "loss(Xs[5], Ys[5]) = 160.27924f0\n",
      "loss(Xs[5], Ys[5]) = 162.32668f0\n",
      "loss(Xs[5], Ys[5]) = 160.86368f0\n",
      "loss(Xs[5], Ys[5]) = 159.58076f0\n",
      "loss(Xs[5], Ys[5]) = 159.10443f0\n",
      "loss(Xs[5], Ys[5]) = 156.72688f0\n",
      "loss(Xs[5], Ys[5]) = 160.04004f0\n",
      "loss(Xs[5], Ys[5]) = 159.62425f0\n",
      "loss(Xs[5], Ys[5]) = 158.40779f0\n",
      "loss(Xs[5], Ys[5]) = 161.83722f0\n",
      "loss(Xs[5], Ys[5]) = 159.83101f0\n",
      "loss(Xs[5], Ys[5]) = 160.95677f0\n",
      "loss(Xs[5], Ys[5]) = 156.9528f0\n",
      "loss(Xs[5], Ys[5]) = 162.33778f0\n",
      "loss(Xs[5], Ys[5]) = 159.58012f0\n",
      "loss(Xs[5], Ys[5]) = 155.31647f0\n",
      "loss(Xs[5], Ys[5]) = 159.29158f0\n",
      "loss(Xs[5], Ys[5]) = 161.21428f0\n",
      "loss(Xs[5], Ys[5]) = 158.78783f0\n",
      "loss(Xs[5], Ys[5]) = 157.86237f0\n"
     ]
    },
    {
     "name": "stderr",
     "output_type": "stream",
     "text": [
      "┌ Info: Epoch 6\n",
      "└ @ Main /home/yuehhua/.julia/packages/Flux/Fj3bt/src/optimise/train.jl:121\n"
     ]
    },
    {
     "name": "stdout",
     "output_type": "stream",
     "text": [
      "loss(Xs[5], Ys[5]) = 153.9273f0\n",
      "loss(Xs[5], Ys[5]) = 157.1446f0\n",
      "loss(Xs[5], Ys[5]) = 159.2383f0\n",
      "loss(Xs[5], Ys[5]) = 156.92119f0\n",
      "loss(Xs[5], Ys[5]) = 156.89168f0\n",
      "loss(Xs[5], Ys[5]) = 157.43753f0\n",
      "loss(Xs[5], Ys[5]) = 159.29897f0\n",
      "loss(Xs[5], Ys[5]) = 154.6009f0\n",
      "loss(Xs[5], Ys[5]) = 158.611f0\n",
      "loss(Xs[5], Ys[5]) = 158.73991f0\n",
      "loss(Xs[5], Ys[5]) = 159.66612f0\n",
      "loss(Xs[5], Ys[5]) = 159.44124f0\n",
      "loss(Xs[5], Ys[5]) = 161.84943f0\n",
      "loss(Xs[5], Ys[5]) = 165.27264f0\n",
      "loss(Xs[5], Ys[5]) = 166.86641f0\n",
      "loss(Xs[5], Ys[5]) = 165.97522f0\n",
      "loss(Xs[5], Ys[5]) = 164.99353f0\n",
      "loss(Xs[5], Ys[5]) = 165.46254f0\n",
      "loss(Xs[5], Ys[5]) = 164.8418f0\n",
      "loss(Xs[5], Ys[5]) = 161.4043f0\n",
      "loss(Xs[5], Ys[5]) = 159.93138f0\n",
      "loss(Xs[5], Ys[5]) = 160.40009f0\n",
      "loss(Xs[5], Ys[5]) = 161.48247f0\n",
      "loss(Xs[5], Ys[5]) = 160.57643f0\n",
      "loss(Xs[5], Ys[5]) = 159.40736f0\n",
      "loss(Xs[5], Ys[5]) = 160.96165f0\n",
      "loss(Xs[5], Ys[5]) = 162.41617f0\n",
      "loss(Xs[5], Ys[5]) = 164.19185f0\n",
      "loss(Xs[5], Ys[5]) = 164.68063f0\n",
      "loss(Xs[5], Ys[5]) = 163.5438f0\n",
      "loss(Xs[5], Ys[5]) = 164.54291f0\n",
      "loss(Xs[5], Ys[5]) = 163.36128f0\n",
      "loss(Xs[5], Ys[5]) = 160.33241f0\n",
      "loss(Xs[5], Ys[5]) = 164.29947f0\n",
      "loss(Xs[5], Ys[5]) = 165.60097f0\n",
      "loss(Xs[5], Ys[5]) = 162.5445f0\n",
      "loss(Xs[5], Ys[5]) = 163.53578f0\n",
      "loss(Xs[5], Ys[5]) = 164.45609f0\n",
      "loss(Xs[5], Ys[5]) = 163.90707f0\n"
     ]
    },
    {
     "name": "stderr",
     "output_type": "stream",
     "text": [
      "┌ Info: Epoch 7\n",
      "└ @ Main /home/yuehhua/.julia/packages/Flux/Fj3bt/src/optimise/train.jl:121\n"
     ]
    },
    {
     "name": "stdout",
     "output_type": "stream",
     "text": [
      "loss(Xs[5], Ys[5]) = 164.85988f0\n",
      "loss(Xs[5], Ys[5]) = 163.82465f0\n",
      "loss(Xs[5], Ys[5]) = 164.01785f0\n",
      "loss(Xs[5], Ys[5]) = 162.23225f0\n",
      "loss(Xs[5], Ys[5]) = 161.79378f0\n",
      "loss(Xs[5], Ys[5]) = 159.81462f0\n",
      "loss(Xs[5], Ys[5]) = 160.57309f0\n",
      "loss(Xs[5], Ys[5]) = 160.58485f0\n",
      "loss(Xs[5], Ys[5]) = 159.5646f0\n",
      "loss(Xs[5], Ys[5]) = 163.64143f0\n",
      "loss(Xs[5], Ys[5]) = 166.32063f0\n",
      "loss(Xs[5], Ys[5]) = 163.49265f0\n",
      "loss(Xs[5], Ys[5]) = 165.03557f0\n",
      "loss(Xs[5], Ys[5]) = 164.09793f0\n",
      "loss(Xs[5], Ys[5]) = 165.29993f0\n",
      "loss(Xs[5], Ys[5]) = 164.5456f0\n",
      "loss(Xs[5], Ys[5]) = 163.16197f0\n",
      "loss(Xs[5], Ys[5]) = 163.34367f0\n",
      "loss(Xs[5], Ys[5]) = 162.01894f0\n",
      "loss(Xs[5], Ys[5]) = 163.60205f0\n",
      "loss(Xs[5], Ys[5]) = 164.60349f0\n",
      "loss(Xs[5], Ys[5]) = 163.55638f0\n",
      "loss(Xs[5], Ys[5]) = 164.69257f0\n",
      "loss(Xs[5], Ys[5]) = 164.73477f0\n",
      "loss(Xs[5], Ys[5]) = 164.4086f0\n",
      "loss(Xs[5], Ys[5]) = 165.74472f0\n",
      "loss(Xs[5], Ys[5]) = 163.0393f0\n",
      "loss(Xs[5], Ys[5]) = 163.28673f0\n",
      "loss(Xs[5], Ys[5]) = 164.5841f0\n",
      "loss(Xs[5], Ys[5]) = 164.83788f0\n",
      "loss(Xs[5], Ys[5]) = 163.27342f0\n",
      "loss(Xs[5], Ys[5]) = 164.16643f0\n",
      "loss(Xs[5], Ys[5]) = 163.25728f0\n",
      "loss(Xs[5], Ys[5]) = 163.26799f0\n",
      "loss(Xs[5], Ys[5]) = 163.58694f0\n",
      "loss(Xs[5], Ys[5]) = 163.9408f0\n",
      "loss(Xs[5], Ys[5]) = 162.1433f0\n",
      "loss(Xs[5], Ys[5]) = 162.98387f0\n",
      "loss(Xs[5], Ys[5]) = 161.15263f0\n",
      "loss(Xs[5], Ys[5]) = 162.25746f0\n",
      "loss(Xs[5], Ys[5]) = 160.94377f0\n",
      "loss(Xs[5], Ys[5]) = 158.51974f0\n",
      "loss(Xs[5], Ys[5]) = 160.20633f0\n"
     ]
    },
    {
     "name": "stderr",
     "output_type": "stream",
     "text": [
      "┌ Info: Epoch 8\n",
      "└ @ Main /home/yuehhua/.julia/packages/Flux/Fj3bt/src/optimise/train.jl:121\n"
     ]
    },
    {
     "name": "stdout",
     "output_type": "stream",
     "text": [
      "loss(Xs[5], Ys[5]) = 159.11238f0\n",
      "loss(Xs[5], Ys[5]) = 156.66805f0\n",
      "loss(Xs[5], Ys[5]) = 160.08514f0\n",
      "loss(Xs[5], Ys[5]) = 159.78325f0\n",
      "loss(Xs[5], Ys[5]) = 161.66917f0\n",
      "loss(Xs[5], Ys[5]) = 158.90451f0\n",
      "loss(Xs[5], Ys[5]) = 156.35321f0\n",
      "loss(Xs[5], Ys[5]) = 159.9816f0\n",
      "loss(Xs[5], Ys[5]) = 160.54498f0\n",
      "loss(Xs[5], Ys[5]) = 155.75562f0\n",
      "loss(Xs[5], Ys[5]) = 156.60582f0\n",
      "loss(Xs[5], Ys[5]) = 155.89784f0\n",
      "loss(Xs[5], Ys[5]) = 156.42815f0\n",
      "loss(Xs[5], Ys[5]) = 157.31784f0\n",
      "loss(Xs[5], Ys[5]) = 155.60796f0\n",
      "loss(Xs[5], Ys[5]) = 155.92268f0\n",
      "loss(Xs[5], Ys[5]) = 157.10999f0\n",
      "loss(Xs[5], Ys[5]) = 155.6836f0\n",
      "loss(Xs[5], Ys[5]) = 155.79846f0\n",
      "loss(Xs[5], Ys[5]) = 156.40143f0\n",
      "loss(Xs[5], Ys[5]) = 152.168f0\n",
      "loss(Xs[5], Ys[5]) = 156.70766f0\n",
      "loss(Xs[5], Ys[5]) = 154.47385f0\n",
      "loss(Xs[5], Ys[5]) = 153.82005f0\n",
      "loss(Xs[5], Ys[5]) = 155.04102f0\n",
      "loss(Xs[5], Ys[5]) = 154.01598f0\n",
      "loss(Xs[5], Ys[5]) = 153.91731f0\n",
      "loss(Xs[5], Ys[5]) = 154.34875f0\n",
      "loss(Xs[5], Ys[5]) = 157.37431f0\n",
      "loss(Xs[5], Ys[5]) = 155.24422f0\n",
      "loss(Xs[5], Ys[5]) = 158.08453f0\n",
      "loss(Xs[5], Ys[5]) = 154.89017f0\n",
      "loss(Xs[5], Ys[5]) = 154.60788f0\n",
      "loss(Xs[5], Ys[5]) = 157.43584f0\n",
      "loss(Xs[5], Ys[5]) = 155.97803f0\n",
      "loss(Xs[5], Ys[5]) = 153.19003f0\n",
      "loss(Xs[5], Ys[5]) = 156.15536f0\n",
      "loss(Xs[5], Ys[5]) = 154.84682f0\n",
      "loss(Xs[5], Ys[5]) = 156.02504f0\n",
      "loss(Xs[5], Ys[5]) = 155.73914f0\n",
      "loss(Xs[5], Ys[5]) = 156.77078f0\n",
      "loss(Xs[5], Ys[5]) = 157.37473f0\n",
      "loss(Xs[5], Ys[5]) = 160.7572f0\n",
      "loss(Xs[5], Ys[5]) = 167.73386f0\n",
      "loss(Xs[5], Ys[5]) = 160.19884f0\n",
      "loss(Xs[5], Ys[5]) = 160.51038f0\n",
      "loss(Xs[5], Ys[5]) = 161.39479f0\n",
      "loss(Xs[5], Ys[5]) = 158.83046f0\n"
     ]
    },
    {
     "name": "stderr",
     "output_type": "stream",
     "text": [
      "┌ Info: Epoch 9\n",
      "└ @ Main /home/yuehhua/.julia/packages/Flux/Fj3bt/src/optimise/train.jl:121\n"
     ]
    },
    {
     "name": "stdout",
     "output_type": "stream",
     "text": [
      "loss(Xs[5], Ys[5]) = 158.10129f0\n",
      "loss(Xs[5], Ys[5]) = 162.8939f0\n",
      "loss(Xs[5], Ys[5]) = 160.13332f0\n",
      "loss(Xs[5], Ys[5]) = 161.37737f0\n",
      "loss(Xs[5], Ys[5]) = 163.46797f0\n",
      "loss(Xs[5], Ys[5]) = 163.2606f0\n",
      "loss(Xs[5], Ys[5]) = 169.87912f0\n",
      "loss(Xs[5], Ys[5]) = 165.47482f0\n",
      "loss(Xs[5], Ys[5]) = 165.43983f0\n",
      "loss(Xs[5], Ys[5]) = 167.01282f0\n",
      "loss(Xs[5], Ys[5]) = 166.0133f0\n",
      "loss(Xs[5], Ys[5]) = 166.09746f0\n",
      "loss(Xs[5], Ys[5]) = 164.38905f0\n",
      "loss(Xs[5], Ys[5]) = 166.08128f0\n",
      "loss(Xs[5], Ys[5]) = 164.15329f0\n",
      "loss(Xs[5], Ys[5]) = 164.22894f0\n",
      "loss(Xs[5], Ys[5]) = 162.99115f0\n",
      "loss(Xs[5], Ys[5]) = 162.27116f0\n",
      "loss(Xs[5], Ys[5]) = 164.93349f0\n",
      "loss(Xs[5], Ys[5]) = 162.51253f0\n",
      "loss(Xs[5], Ys[5]) = 164.2315f0\n",
      "loss(Xs[5], Ys[5]) = 165.78026f0\n",
      "loss(Xs[5], Ys[5]) = 163.5426f0\n",
      "loss(Xs[5], Ys[5]) = 162.89192f0\n",
      "loss(Xs[5], Ys[5]) = 161.86746f0\n",
      "loss(Xs[5], Ys[5]) = 162.60977f0\n",
      "loss(Xs[5], Ys[5]) = 162.72746f0\n",
      "loss(Xs[5], Ys[5]) = 163.26643f0\n",
      "loss(Xs[5], Ys[5]) = 163.12744f0\n",
      "loss(Xs[5], Ys[5]) = 164.5717f0\n",
      "loss(Xs[5], Ys[5]) = 161.64304f0\n",
      "loss(Xs[5], Ys[5]) = 164.20891f0\n",
      "loss(Xs[5], Ys[5]) = 162.29543f0\n",
      "loss(Xs[5], Ys[5]) = 162.27777f0\n",
      "loss(Xs[5], Ys[5]) = 162.19263f0\n",
      "loss(Xs[5], Ys[5]) = 161.27043f0\n",
      "loss(Xs[5], Ys[5]) = 162.90494f0\n",
      "loss(Xs[5], Ys[5]) = 162.86034f0\n",
      "loss(Xs[5], Ys[5]) = 161.20557f0\n",
      "loss(Xs[5], Ys[5]) = 160.86964f0\n",
      "loss(Xs[5], Ys[5]) = 160.74564f0\n",
      "loss(Xs[5], Ys[5]) = 160.23346f0\n",
      "loss(Xs[5], Ys[5]) = 159.05656f0\n",
      "loss(Xs[5], Ys[5]) = 159.95528f0\n",
      "loss(Xs[5], Ys[5]) = 159.37852f0\n",
      "loss(Xs[5], Ys[5]) = 158.72531f0\n",
      "loss(Xs[5], Ys[5]) = 158.71257f0\n"
     ]
    },
    {
     "name": "stderr",
     "output_type": "stream",
     "text": [
      "┌ Info: Epoch 10\n",
      "└ @ Main /home/yuehhua/.julia/packages/Flux/Fj3bt/src/optimise/train.jl:121\n"
     ]
    },
    {
     "name": "stdout",
     "output_type": "stream",
     "text": [
      "loss(Xs[5], Ys[5]) = 159.06087f0\n",
      "loss(Xs[5], Ys[5]) = 157.6897f0\n",
      "loss(Xs[5], Ys[5]) = 157.03465f0\n",
      "loss(Xs[5], Ys[5]) = 158.1379f0\n",
      "loss(Xs[5], Ys[5]) = 160.42711f0\n",
      "loss(Xs[5], Ys[5]) = 160.628f0\n",
      "loss(Xs[5], Ys[5]) = 160.90392f0\n",
      "loss(Xs[5], Ys[5]) = 159.52496f0\n",
      "loss(Xs[5], Ys[5]) = 160.11284f0\n",
      "loss(Xs[5], Ys[5]) = 163.84242f0\n",
      "loss(Xs[5], Ys[5]) = 161.8139f0\n",
      "loss(Xs[5], Ys[5]) = 161.48235f0\n",
      "loss(Xs[5], Ys[5]) = 161.15024f0\n",
      "loss(Xs[5], Ys[5]) = 159.46169f0\n",
      "loss(Xs[5], Ys[5]) = 158.91043f0\n",
      "loss(Xs[5], Ys[5]) = 159.99918f0\n",
      "loss(Xs[5], Ys[5]) = 159.62012f0\n",
      "loss(Xs[5], Ys[5]) = 158.04338f0\n",
      "loss(Xs[5], Ys[5]) = 159.36693f0\n",
      "loss(Xs[5], Ys[5]) = 157.99722f0\n",
      "loss(Xs[5], Ys[5]) = 156.91681f0\n",
      "loss(Xs[5], Ys[5]) = 157.537f0\n",
      "loss(Xs[5], Ys[5]) = 157.55412f0\n",
      "loss(Xs[5], Ys[5]) = 160.57976f0\n",
      "loss(Xs[5], Ys[5]) = 158.43204f0\n",
      "loss(Xs[5], Ys[5]) = 160.33777f0\n",
      "loss(Xs[5], Ys[5]) = 160.06976f0\n",
      "loss(Xs[5], Ys[5]) = 160.64545f0\n",
      "loss(Xs[5], Ys[5]) = 167.16983f0\n",
      "loss(Xs[5], Ys[5]) = 166.75732f0\n",
      "loss(Xs[5], Ys[5]) = 166.96861f0\n",
      "loss(Xs[5], Ys[5]) = 166.07028f0\n",
      "loss(Xs[5], Ys[5]) = 164.4873f0\n",
      "loss(Xs[5], Ys[5]) = 163.681f0\n",
      "loss(Xs[5], Ys[5]) = 163.02658f0\n",
      "loss(Xs[5], Ys[5]) = 164.0089f0\n",
      "loss(Xs[5], Ys[5]) = 162.59512f0\n",
      "loss(Xs[5], Ys[5]) = 162.31198f0\n",
      "loss(Xs[5], Ys[5]) = 161.91022f0\n",
      "loss(Xs[5], Ys[5]) = 162.71045f0\n",
      "loss(Xs[5], Ys[5]) = 160.8914f0\n",
      "loss(Xs[5], Ys[5]) = 162.9174f0\n",
      "loss(Xs[5], Ys[5]) = 162.37718f0\n",
      "loss(Xs[5], Ys[5]) = 163.3675f0\n",
      "loss(Xs[5], Ys[5]) = 161.31023f0\n",
      "loss(Xs[5], Ys[5]) = 163.56023f0\n",
      "loss(Xs[5], Ys[5]) = 163.38286f0\n",
      "loss(Xs[5], Ys[5]) = 161.32803f0\n"
     ]
    }
   ],
   "source": [
    "@epochs 10 Flux.train!(loss, params(m), zip(Xs, Ys), opt, cb=throttle(evalcb, 30))"
   ]
  },
  {
   "cell_type": "markdown",
   "metadata": {},
   "source": [
    "## Sampling"
   ]
  },
  {
   "cell_type": "code",
   "execution_count": 12,
   "metadata": {},
   "outputs": [
    {
     "data": {
      "text/plain": [
       "sample (generic function with 1 method)"
      ]
     },
     "execution_count": 12,
     "metadata": {},
     "output_type": "execute_result"
    }
   ],
   "source": [
    "function sample(m, alphabet, len; temp=1)\n",
    "    Flux.reset!(m)\n",
    "    buf = IOBuffer()\n",
    "    c = rand(alphabet)\n",
    "    for i = 1:len\n",
    "        write(buf, c)\n",
    "        c = wsample(alphabet, m(onehot(c, alphabet)))\n",
    "    end\n",
    "    return String(take!(buf))\n",
    "end"
   ]
  },
  {
   "cell_type": "code",
   "execution_count": 13,
   "metadata": {},
   "outputs": [
    {
     "name": "stdout",
     "output_type": "stream",
     "text": [
      "it lp\n",
      "iaafeiwaw \n",
      "ta rto\n",
      "idnpabaie ay  B utnWnftier lYs\n",
      "toydsa hhhy ,rs: te Ralieirreowd enrrn w.nl?g yiiwn gstn E\n",
      "e arpi\n",
      ",,bt doootrnaslub o,bG  l  gesd E oOtgnlrholnnnrp uLt ados  aueo \n",
      "\n",
      "   eetilyayu  ttl  mnlo?:slayp  yfst  d s\n",
      "lb  iytmHeEl:\n",
      " ptunioofbA nndoeww ft:\n",
      "JmVrtuyrCd n bytuotp no  oCrc\n",
      "Fed  meto;rU\n",
      "l rshl 'oelsnnd.  rswS ynd.yekwtmh\n",
      "m renf.np\n",
      "etm,wIliodem swetepanucm.\n",
      "n sog mbL n yts wil.orndtsuwo hoy:w urld u y sebH\n",
      "erefcrusLwrwno\n",
      "m\n",
      "tdyo\n",
      "ederooS ,erHphw E\n",
      "frrs,  tAlnon huwuys r hi aSue,Bs:ystPerh  h  uhnoTmwouP uuUsErry  ,tEshtt,cestm\n",
      "ac dDn,uet smtEefsTlENGaR rBihm\n",
      "e rd, y   b\n",
      "\n",
      "ch he wSr   t noA\n",
      "ir u dmepa ;e t d?  .svy  rusrhw oeMese seIUtilt:Cp  icpeo 'Fhvutrlt yyrAo auid mono'uY teE\n",
      "tftutesos lAhkgirwl:m\n",
      "t cl \n",
      "hm K e hpaBhekswfbe\n",
      "HeAk,oGlittonet mu :t\n",
      "rs,oeIwu?,ESHTrncttn lrm\n",
      "nolrnrd.es jT :vt rebe r\n",
      "lh,f G nlmnf :ryyidVks\n",
      "n rfWtCarodmIs \n",
      "ve.uA wledosi  aeu:bo,AlN hwksooy\n",
      "e\n",
      "setmEnocno I:wturt  es .t\n",
      "tyo?rmwertelinfL tolseogyA    . t,dfk \n",
      "ac fyynywursOod,ybprL e au:Stt,e\n"
     ]
    }
   ],
   "source": [
    "sample(m, alphabet, 1000) |> println"
   ]
  },
  {
   "cell_type": "code",
   "execution_count": null,
   "metadata": {},
   "outputs": [],
   "source": []
  }
 ],
 "metadata": {
  "kernelspec": {
   "display_name": "Julia 1.4.0",
   "language": "julia",
   "name": "julia-1.4"
  },
  "language_info": {
   "file_extension": ".jl",
   "mimetype": "application/julia",
   "name": "julia",
   "version": "1.4.2"
  }
 },
 "nbformat": 4,
 "nbformat_minor": 4
}
