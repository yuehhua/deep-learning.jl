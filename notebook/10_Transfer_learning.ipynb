{
 "cells": [
  {
   "cell_type": "markdown",
   "metadata": {},
   "source": [
    "# Pre-train model - VGG19"
   ]
  },
  {
   "cell_type": "code",
   "execution_count": 1,
   "metadata": {},
   "outputs": [],
   "source": [
    "using MLDatasets\n",
    "using Flux, CuArrays\n",
    "using Flux: @epochs, onehotbatch, onecold, logitcrossentropy, throttle\n",
    "using Base.Iterators: repeated, partition\n",
    "using Statistics: mean"
   ]
  },
  {
   "cell_type": "markdown",
   "metadata": {},
   "source": [
    "## Load data"
   ]
  },
  {
   "cell_type": "markdown",
   "metadata": {},
   "source": [
    "Classify CIFAR10 with a convolutional network"
   ]
  },
  {
   "cell_type": "code",
   "execution_count": 2,
   "metadata": {},
   "outputs": [
    {
     "data": {
      "text/plain": [
       "(FixedPointNumbers.Normed{UInt8,8}[0.62N0f8 0.596N0f8 … 0.239N0f8 0.212N0f8; 0.624N0f8 0.592N0f8 … 0.192N0f8 0.22N0f8; … ; 0.494N0f8 0.49N0f8 … 0.114N0f8 0.133N0f8; 0.455N0f8 0.467N0f8 … 0.078N0f8 0.082N0f8]\n",
       "\n",
       "FixedPointNumbers.Normed{UInt8,8}[0.439N0f8 0.439N0f8 … 0.455N0f8 0.42N0f8; 0.435N0f8 0.431N0f8 … 0.4N0f8 0.412N0f8; … ; 0.357N0f8 0.357N0f8 … 0.322N0f8 0.329N0f8; 0.333N0f8 0.345N0f8 … 0.251N0f8 0.263N0f8]\n",
       "\n",
       "FixedPointNumbers.Normed{UInt8,8}[0.192N0f8 0.2N0f8 … 0.659N0f8 0.627N0f8; 0.184N0f8 0.157N0f8 … 0.58N0f8 0.584N0f8; … ; 0.141N0f8 0.125N0f8 … 0.494N0f8 0.506N0f8; 0.129N0f8 0.133N0f8 … 0.42N0f8 0.431N0f8]\n",
       "\n",
       "FixedPointNumbers.Normed{UInt8,8}[0.922N0f8 0.933N0f8 … 0.322N0f8 0.333N0f8; 0.906N0f8 0.922N0f8 … 0.18N0f8 0.243N0f8; … ; 0.914N0f8 0.925N0f8 … 0.725N0f8 0.706N0f8; 0.91N0f8 0.922N0f8 … 0.733N0f8 0.729N0f8]\n",
       "\n",
       "FixedPointNumbers.Normed{UInt8,8}[0.922N0f8 0.933N0f8 … 0.376N0f8 0.396N0f8; 0.906N0f8 0.922N0f8 … 0.224N0f8 0.294N0f8; … ; 0.914N0f8 0.925N0f8 … 0.784N0f8 0.765N0f8; 0.91N0f8 0.922N0f8 … 0.792N0f8 0.784N0f8]\n",
       "\n",
       "FixedPointNumbers.Normed{UInt8,8}[0.922N0f8 0.933N0f8 … 0.322N0f8 0.325N0f8; 0.906N0f8 0.922N0f8 … 0.141N0f8 0.188N0f8; … ; 0.914N0f8 0.925N0f8 … 0.769N0f8 0.749N0f8; 0.91N0f8 0.922N0f8 … 0.784N0f8 0.78N0f8]\n",
       "\n",
       "FixedPointNumbers.Normed{UInt8,8}[0.62N0f8 0.667N0f8 … 0.09N0f8 0.11N0f8; 0.62N0f8 0.675N0f8 … 0.106N0f8 0.118N0f8; … ; 0.929N0f8 0.965N0f8 … 0.016N0f8 0.016N0f8; 0.933N0f8 0.965N0f8 … 0.02N0f8 0.027N0f8]\n",
       "\n",
       "FixedPointNumbers.Normed{UInt8,8}[0.745N0f8 0.784N0f8 … 0.133N0f8 0.161N0f8; 0.733N0f8 0.78N0f8 … 0.149N0f8 0.169N0f8; … ; 0.937N0f8 0.965N0f8 … 0.024N0f8 0.02N0f8; 0.945N0f8 0.969N0f8 … 0.027N0f8 0.031N0f8]\n",
       "\n",
       "FixedPointNumbers.Normed{UInt8,8}[0.871N0f8 0.898N0f8 … 0.153N0f8 0.184N0f8; 0.855N0f8 0.886N0f8 … 0.169N0f8 0.196N0f8; … ; 0.953N0f8 0.98N0f8 … 0.012N0f8 0.012N0f8; 0.965N0f8 0.984N0f8 … 0.012N0f8 0.027N0f8]\n",
       "\n",
       "...\n",
       "\n",
       "FixedPointNumbers.Normed{UInt8,8}[0.078N0f8 0.082N0f8 … 0.129N0f8 0.122N0f8; 0.075N0f8 0.078N0f8 … 0.133N0f8 0.125N0f8; … ; 0.047N0f8 0.039N0f8 … 0.106N0f8 0.102N0f8; 0.051N0f8 0.047N0f8 … 0.098N0f8 0.098N0f8]\n",
       "\n",
       "FixedPointNumbers.Normed{UInt8,8}[0.059N0f8 0.063N0f8 … 0.098N0f8 0.09N0f8; 0.055N0f8 0.063N0f8 … 0.102N0f8 0.094N0f8; … ; 0.043N0f8 0.035N0f8 … 0.094N0f8 0.09N0f8; 0.047N0f8 0.043N0f8 … 0.086N0f8 0.078N0f8]\n",
       "\n",
       "FixedPointNumbers.Normed{UInt8,8}[0.047N0f8 0.051N0f8 … 0.055N0f8 0.047N0f8; 0.043N0f8 0.051N0f8 … 0.059N0f8 0.051N0f8; … ; 0.035N0f8 0.027N0f8 … 0.22N0f8 0.208N0f8; 0.039N0f8 0.035N0f8 … 0.184N0f8 0.184N0f8]\n",
       "\n",
       "FixedPointNumbers.Normed{UInt8,8}[0.098N0f8 0.047N0f8 … 0.404N0f8 0.373N0f8; 0.059N0f8 0.078N0f8 … 0.408N0f8 0.373N0f8; … ; 0.361N0f8 0.584N0f8 … 0.388N0f8 0.373N0f8; 0.294N0f8 0.408N0f8 … 0.361N0f8 0.361N0f8]\n",
       "\n",
       "FixedPointNumbers.Normed{UInt8,8}[0.157N0f8 0.098N0f8 … 0.518N0f8 0.494N0f8; 0.141N0f8 0.145N0f8 … 0.514N0f8 0.482N0f8; … ; 0.443N0f8 0.659N0f8 … 0.498N0f8 0.482N0f8; 0.349N0f8 0.459N0f8 … 0.475N0f8 0.471N0f8]\n",
       "\n",
       "FixedPointNumbers.Normed{UInt8,8}[0.047N0f8 0.024N0f8 … 0.325N0f8 0.306N0f8; 0.012N0f8 0.027N0f8 … 0.325N0f8 0.298N0f8; … ; 0.439N0f8 0.694N0f8 … 0.329N0f8 0.318N0f8; 0.361N0f8 0.514N0f8 … 0.31N0f8 0.314N0f8]\n",
       "\n",
       "FixedPointNumbers.Normed{UInt8,8}[0.286N0f8 0.271N0f8 … 0.451N0f8 0.455N0f8; 0.384N0f8 0.329N0f8 … 0.482N0f8 0.475N0f8; … ; 0.529N0f8 0.278N0f8 … 0.259N0f8 0.267N0f8; 0.796N0f8 0.471N0f8 … 0.106N0f8 0.106N0f8]\n",
       "\n",
       "FixedPointNumbers.Normed{UInt8,8}[0.306N0f8 0.286N0f8 … 0.475N0f8 0.471N0f8; 0.404N0f8 0.349N0f8 … 0.486N0f8 0.478N0f8; … ; 0.584N0f8 0.322N0f8 … 0.255N0f8 0.255N0f8; 0.843N0f8 0.522N0f8 … 0.106N0f8 0.102N0f8]\n",
       "\n",
       "FixedPointNumbers.Normed{UInt8,8}[0.294N0f8 0.275N0f8 … 0.357N0f8 0.353N0f8; 0.443N0f8 0.38N0f8 … 0.373N0f8 0.369N0f8; … ; 0.604N0f8 0.314N0f8 … 0.231N0f8 0.227N0f8; 0.875N0f8 0.529N0f8 … 0.106N0f8 0.102N0f8], [3, 8, 8, 0, 6, 6, 1, 6, 3, 1  …  7, 0, 3, 5, 3, 8, 3, 5, 1, 7])"
      ]
     },
     "execution_count": 2,
     "metadata": {},
     "output_type": "execute_result"
    }
   ],
   "source": [
    "train_x, train_y = CIFAR10.traindata()\n",
    "test_x,  test_y  = CIFAR10.testdata()"
   ]
  },
  {
   "cell_type": "code",
   "execution_count": 3,
   "metadata": {},
   "outputs": [
    {
     "data": {
      "text/plain": [
       "10×10000 Flux.OneHotMatrix{Array{Flux.OneHotVector,1}}:\n",
       " 0  0  0  1  0  0  0  0  0  0  1  0  0  …  0  0  0  1  0  0  0  0  0  0  0  0\n",
       " 0  0  0  0  0  0  1  0  0  1  0  0  0     0  0  0  0  0  0  0  0  0  0  1  0\n",
       " 0  0  0  0  0  0  0  0  0  0  0  0  0     0  1  0  0  0  0  0  0  0  0  0  0\n",
       " 1  0  0  0  0  0  0  0  1  0  0  0  0     0  0  0  0  1  0  1  0  1  0  0  0\n",
       " 0  0  0  0  0  0  0  0  0  0  0  0  0     0  0  0  0  0  0  0  0  0  0  0  0\n",
       " 0  0  0  0  0  0  0  0  0  0  0  0  1  …  0  0  0  0  0  1  0  0  0  1  0  0\n",
       " 0  0  0  0  1  1  0  1  0  0  0  0  0     0  0  0  0  0  0  0  0  0  0  0  0\n",
       " 0  0  0  0  0  0  0  0  0  0  0  0  0     0  0  1  0  0  0  0  0  0  0  0  1\n",
       " 0  1  1  0  0  0  0  0  0  0  0  0  0     1  0  0  0  0  0  0  1  0  0  0  0\n",
       " 0  0  0  0  0  0  0  0  0  0  0  1  0     0  0  0  0  0  0  0  0  0  0  0  0"
      ]
     },
     "execution_count": 3,
     "metadata": {},
     "output_type": "execute_result"
    }
   ],
   "source": [
    "train_x = Float64.(train_x / 255)\n",
    "train_y = onehotbatch(train_y, 0:9)\n",
    "test_x = Float64.(test_x / 255)\n",
    "test_y = onehotbatch(test_y, 0:9)"
   ]
  },
  {
   "cell_type": "markdown",
   "metadata": {},
   "source": [
    "## Preprocessing"
   ]
  },
  {
   "cell_type": "code",
   "execution_count": 4,
   "metadata": {},
   "outputs": [],
   "source": [
    "# Partition into batches of size 1,000\n",
    "train = [(train_x[:, :, :, i:(i+999)], train_y[:, i:(i+999)]) for i = 1:1000:50_000];\n",
    "train = gpu.(train);"
   ]
  },
  {
   "cell_type": "code",
   "execution_count": 5,
   "metadata": {},
   "outputs": [],
   "source": [
    "# Prepare test set (first 1,000 images)\n",
    "test_x = test_x[:, :, :, 1:1000] |> gpu\n",
    "test_y = test_y[:, 1:1000] |> gpu;"
   ]
  },
  {
   "cell_type": "markdown",
   "metadata": {},
   "source": [
    "## Model"
   ]
  },
  {
   "cell_type": "code",
   "execution_count": 6,
   "metadata": {},
   "outputs": [
    {
     "data": {
      "text/plain": [
       "vgg19 (generic function with 1 method)"
      ]
     },
     "execution_count": 6,
     "metadata": {},
     "output_type": "execute_result"
    }
   ],
   "source": [
    "vgg19() = Chain(\n",
    "  Conv((3, 3), 3 => 64, relu, pad=(1, 1), stride=(1, 1)),\n",
    "  BatchNorm(64),\n",
    "  Conv((3, 3), 64 => 64, relu, pad=(1, 1), stride=(1, 1)),\n",
    "  BatchNorm(64),\n",
    "  MaxPool((2, 2)),\n",
    "  Conv((3, 3), 64 => 128, relu, pad=(1, 1), stride=(1, 1)),\n",
    "  BatchNorm(128),\n",
    "  Conv((3, 3), 128 => 128, relu, pad=(1, 1), stride=(1, 1)),\n",
    "  BatchNorm(128),\n",
    "  MaxPool((2, 2)),\n",
    "  Conv((3, 3), 128 => 256, relu, pad=(1, 1), stride=(1, 1)),\n",
    "  BatchNorm(256),\n",
    "  Conv((3, 3), 256 => 256, relu, pad=(1, 1), stride=(1, 1)),\n",
    "  BatchNorm(256),\n",
    "  Conv((3, 3), 256 => 256, relu, pad=(1, 1), stride=(1, 1)),\n",
    "  BatchNorm(256),\n",
    "  Conv((3, 3), 256 => 256, relu, pad=(1, 1), stride=(1, 1)),\n",
    "  MaxPool((2, 2)),\n",
    "  Conv((3, 3), 256 => 512, relu, pad=(1, 1), stride=(1, 1)),\n",
    "  BatchNorm(512),\n",
    "  Conv((3, 3), 512 => 512, relu, pad=(1, 1), stride=(1, 1)),\n",
    "  BatchNorm(512),\n",
    "  Conv((3, 3), 512 => 512, relu, pad=(1, 1), stride=(1, 1)),\n",
    "  BatchNorm(512),\n",
    "  Conv((3, 3), 512 => 512, relu, pad=(1, 1), stride=(1, 1)),\n",
    "  MaxPool((2, 2)),\n",
    "  Conv((3, 3), 512 => 512, relu, pad=(1, 1), stride=(1, 1)),\n",
    "  BatchNorm(512),\n",
    "  Conv((3, 3), 512 => 512, relu, pad=(1, 1), stride=(1, 1)),\n",
    "  BatchNorm(512),\n",
    "  Conv((3, 3), 512 => 512, relu, pad=(1, 1), stride=(1, 1)),\n",
    "  BatchNorm(512),\n",
    "  Conv((3, 3), 512 => 512, relu, pad=(1, 1), stride=(1, 1)),\n",
    "  MaxPool((2, 2)),\n",
    "  flatten,\n",
    "  Dense(512, 4096, relu),\n",
    "  Dropout(0.5),\n",
    "  Dense(4096, 4096, relu),\n",
    "  Dropout(0.5),\n",
    "  Dense(4096, 10),\n",
    "  softmax) |> gpu"
   ]
  },
  {
   "cell_type": "code",
   "execution_count": 7,
   "metadata": {},
   "outputs": [
    {
     "data": {
      "text/plain": [
       "10×1000 CuArray{Float32,2,Nothing}:\n",
       " 0.1  0.1  0.1  0.1  0.1  0.1  0.1  0.1  …  0.1  0.1  0.1  0.1  0.1  0.1  0.1\n",
       " 0.1  0.1  0.1  0.1  0.1  0.1  0.1  0.1     0.1  0.1  0.1  0.1  0.1  0.1  0.1\n",
       " 0.1  0.1  0.1  0.1  0.1  0.1  0.1  0.1     0.1  0.1  0.1  0.1  0.1  0.1  0.1\n",
       " 0.1  0.1  0.1  0.1  0.1  0.1  0.1  0.1     0.1  0.1  0.1  0.1  0.1  0.1  0.1\n",
       " 0.1  0.1  0.1  0.1  0.1  0.1  0.1  0.1     0.1  0.1  0.1  0.1  0.1  0.1  0.1\n",
       " 0.1  0.1  0.1  0.1  0.1  0.1  0.1  0.1  …  0.1  0.1  0.1  0.1  0.1  0.1  0.1\n",
       " 0.1  0.1  0.1  0.1  0.1  0.1  0.1  0.1     0.1  0.1  0.1  0.1  0.1  0.1  0.1\n",
       " 0.1  0.1  0.1  0.1  0.1  0.1  0.1  0.1     0.1  0.1  0.1  0.1  0.1  0.1  0.1\n",
       " 0.1  0.1  0.1  0.1  0.1  0.1  0.1  0.1     0.1  0.1  0.1  0.1  0.1  0.1  0.1\n",
       " 0.1  0.1  0.1  0.1  0.1  0.1  0.1  0.1     0.1  0.1  0.1  0.1  0.1  0.1  0.1"
      ]
     },
     "execution_count": 7,
     "metadata": {},
     "output_type": "execute_result"
    }
   ],
   "source": [
    "m = vgg19()\n",
    "m(train[1][1])  # test if model works"
   ]
  },
  {
   "cell_type": "markdown",
   "metadata": {},
   "source": [
    "## Loss function"
   ]
  },
  {
   "cell_type": "code",
   "execution_count": 8,
   "metadata": {},
   "outputs": [
    {
     "data": {
      "text/plain": [
       "loss (generic function with 1 method)"
      ]
     },
     "execution_count": 8,
     "metadata": {},
     "output_type": "execute_result"
    }
   ],
   "source": [
    "loss(x, y) = logitcrossentropy(m(x), y)"
   ]
  },
  {
   "cell_type": "code",
   "execution_count": 9,
   "metadata": {},
   "outputs": [
    {
     "data": {
      "text/plain": [
       "accuracy (generic function with 1 method)"
      ]
     },
     "execution_count": 9,
     "metadata": {},
     "output_type": "execute_result"
    }
   ],
   "source": [
    "accuracy(x, y) = mean(onecold(m(x)) .== onecold(y))"
   ]
  },
  {
   "cell_type": "markdown",
   "metadata": {},
   "source": [
    "## Optimizer"
   ]
  },
  {
   "cell_type": "code",
   "execution_count": 10,
   "metadata": {},
   "outputs": [
    {
     "data": {
      "text/plain": [
       "ADAM(0.001, (0.9, 0.999), IdDict{Any,Any}())"
      ]
     },
     "execution_count": 10,
     "metadata": {},
     "output_type": "execute_result"
    }
   ],
   "source": [
    "evalcb() = @show(accuracy(test_x, test_y))\n",
    "opt = ADAM()"
   ]
  },
  {
   "cell_type": "markdown",
   "metadata": {},
   "source": [
    "## Training"
   ]
  },
  {
   "cell_type": "code",
   "execution_count": 11,
   "metadata": {},
   "outputs": [
    {
     "name": "stderr",
     "output_type": "stream",
     "text": [
      "┌ Info: Epoch 1\n",
      "└ @ Main /home/yuehhua/.julia/packages/Flux/Fj3bt/src/optimise/train.jl:121\n",
      "┌ Warning: Performing scalar operations on GPU arrays: This is very slow, consider disallowing these operations with `allowscalar(false)`\n",
      "└ @ GPUArrays /home/yuehhua/.julia/packages/GPUArrays/JqOUg/src/host/indexing.jl:43\n"
     ]
    },
    {
     "name": "stdout",
     "output_type": "stream",
     "text": [
      "accuracy(test_x, test_y) = 0.089\n",
      "accuracy(test_x, test_y) = 0.103\n",
      "accuracy(test_x, test_y) = 0.103\n",
      "accuracy(test_x, test_y) = 0.103\n",
      "accuracy(test_x, test_y) = 0.103\n",
      "accuracy(test_x, test_y) = 0.103\n",
      "accuracy(test_x, test_y) = 0.103\n"
     ]
    },
    {
     "name": "stderr",
     "output_type": "stream",
     "text": [
      "┌ Info: Epoch 2\n",
      "└ @ Main /home/yuehhua/.julia/packages/Flux/Fj3bt/src/optimise/train.jl:121\n"
     ]
    },
    {
     "name": "stdout",
     "output_type": "stream",
     "text": [
      "accuracy(test_x, test_y) = 0.103\n",
      "accuracy(test_x, test_y) = 0.103\n",
      "accuracy(test_x, test_y) = 0.103\n",
      "accuracy(test_x, test_y) = 0.103\n",
      "accuracy(test_x, test_y) = 0.103\n",
      "accuracy(test_x, test_y) = 0.103\n",
      "accuracy(test_x, test_y) = 0.103\n"
     ]
    },
    {
     "name": "stderr",
     "output_type": "stream",
     "text": [
      "┌ Info: Epoch 3\n",
      "└ @ Main /home/yuehhua/.julia/packages/Flux/Fj3bt/src/optimise/train.jl:121\n"
     ]
    },
    {
     "name": "stdout",
     "output_type": "stream",
     "text": [
      "accuracy(test_x, test_y) = 0.103\n",
      "accuracy(test_x, test_y) = 0.103\n",
      "accuracy(test_x, test_y) = 0.103\n",
      "accuracy(test_x, test_y) = 0.103\n",
      "accuracy(test_x, test_y) = 0.103\n",
      "accuracy(test_x, test_y) = 0.103\n",
      "accuracy(test_x, test_y) = 0.103\n"
     ]
    },
    {
     "name": "stderr",
     "output_type": "stream",
     "text": [
      "┌ Info: Epoch 4\n",
      "└ @ Main /home/yuehhua/.julia/packages/Flux/Fj3bt/src/optimise/train.jl:121\n"
     ]
    },
    {
     "name": "stdout",
     "output_type": "stream",
     "text": [
      "accuracy(test_x, test_y) = 0.103\n",
      "accuracy(test_x, test_y) = 0.103\n",
      "accuracy(test_x, test_y) = 0.103\n",
      "accuracy(test_x, test_y) = 0.103\n",
      "accuracy(test_x, test_y) = 0.103\n",
      "accuracy(test_x, test_y) = 0.103\n",
      "accuracy(test_x, test_y) = 0.103\n"
     ]
    },
    {
     "name": "stderr",
     "output_type": "stream",
     "text": [
      "┌ Info: Epoch 5\n",
      "└ @ Main /home/yuehhua/.julia/packages/Flux/Fj3bt/src/optimise/train.jl:121\n"
     ]
    },
    {
     "name": "stdout",
     "output_type": "stream",
     "text": [
      "accuracy(test_x, test_y) = 0.103\n",
      "accuracy(test_x, test_y) = 0.103\n",
      "accuracy(test_x, test_y) = 0.103\n",
      "accuracy(test_x, test_y) = 0.103\n",
      "accuracy(test_x, test_y) = 0.103\n",
      "accuracy(test_x, test_y) = 0.103\n",
      "accuracy(test_x, test_y) = 0.103\n"
     ]
    },
    {
     "name": "stderr",
     "output_type": "stream",
     "text": [
      "┌ Info: Epoch 6\n",
      "└ @ Main /home/yuehhua/.julia/packages/Flux/Fj3bt/src/optimise/train.jl:121\n"
     ]
    },
    {
     "name": "stdout",
     "output_type": "stream",
     "text": [
      "accuracy(test_x, test_y) = 0.103\n",
      "accuracy(test_x, test_y) = 0.103\n",
      "accuracy(test_x, test_y) = 0.103\n",
      "accuracy(test_x, test_y) = 0.103\n",
      "accuracy(test_x, test_y) = 0.103\n",
      "accuracy(test_x, test_y) = 0.103\n",
      "accuracy(test_x, test_y) = 0.103\n"
     ]
    },
    {
     "name": "stderr",
     "output_type": "stream",
     "text": [
      "┌ Info: Epoch 7\n",
      "└ @ Main /home/yuehhua/.julia/packages/Flux/Fj3bt/src/optimise/train.jl:121\n"
     ]
    },
    {
     "name": "stdout",
     "output_type": "stream",
     "text": [
      "accuracy(test_x, test_y) = 0.103\n",
      "accuracy(test_x, test_y) = 0.103\n",
      "accuracy(test_x, test_y) = 0.103\n",
      "accuracy(test_x, test_y) = 0.103\n",
      "accuracy(test_x, test_y) = 0.103\n",
      "accuracy(test_x, test_y) = 0.103\n",
      "accuracy(test_x, test_y) = 0.103\n"
     ]
    },
    {
     "name": "stderr",
     "output_type": "stream",
     "text": [
      "┌ Info: Epoch 8\n",
      "└ @ Main /home/yuehhua/.julia/packages/Flux/Fj3bt/src/optimise/train.jl:121\n"
     ]
    },
    {
     "name": "stdout",
     "output_type": "stream",
     "text": [
      "accuracy(test_x, test_y) = 0.103\n",
      "accuracy(test_x, test_y) = 0.103\n",
      "accuracy(test_x, test_y) = 0.103\n",
      "accuracy(test_x, test_y) = 0.103\n",
      "accuracy(test_x, test_y) = 0.103\n",
      "accuracy(test_x, test_y) = 0.103\n",
      "accuracy(test_x, test_y) = 0.103\n"
     ]
    },
    {
     "name": "stderr",
     "output_type": "stream",
     "text": [
      "┌ Info: Epoch 9\n",
      "└ @ Main /home/yuehhua/.julia/packages/Flux/Fj3bt/src/optimise/train.jl:121\n"
     ]
    },
    {
     "name": "stdout",
     "output_type": "stream",
     "text": [
      "accuracy(test_x, test_y) = 0.103\n",
      "accuracy(test_x, test_y) = 0.103\n",
      "accuracy(test_x, test_y) = 0.103\n",
      "accuracy(test_x, test_y) = 0.103\n",
      "accuracy(test_x, test_y) = 0.103\n",
      "accuracy(test_x, test_y) = 0.103\n",
      "accuracy(test_x, test_y) = 0.103\n"
     ]
    },
    {
     "name": "stderr",
     "output_type": "stream",
     "text": [
      "┌ Info: Epoch 10\n",
      "└ @ Main /home/yuehhua/.julia/packages/Flux/Fj3bt/src/optimise/train.jl:121\n"
     ]
    },
    {
     "name": "stdout",
     "output_type": "stream",
     "text": [
      "accuracy(test_x, test_y) = 0.103\n",
      "accuracy(test_x, test_y) = 0.103\n",
      "accuracy(test_x, test_y) = 0.103\n",
      "accuracy(test_x, test_y) = 0.103\n",
      "accuracy(test_x, test_y) = 0.103\n",
      "accuracy(test_x, test_y) = 0.103\n",
      "accuracy(test_x, test_y) = 0.103\n"
     ]
    }
   ],
   "source": [
    "@epochs 10 Flux.train!(loss, params(m[36:end]), train, opt, cb=throttle(evalcb, 10))"
   ]
  },
  {
   "cell_type": "code",
   "execution_count": null,
   "metadata": {},
   "outputs": [],
   "source": []
  }
 ],
 "metadata": {
  "kernelspec": {
   "display_name": "Julia 1.4.2",
   "language": "julia",
   "name": "julia-1.4"
  },
  "language_info": {
   "file_extension": ".jl",
   "mimetype": "application/julia",
   "name": "julia",
   "version": "1.4.2"
  }
 },
 "nbformat": 4,
 "nbformat_minor": 4
}
