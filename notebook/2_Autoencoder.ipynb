{
 "cells": [
  {
   "cell_type": "markdown",
   "metadata": {},
   "source": [
    "# Autoencoder"
   ]
  },
  {
   "cell_type": "markdown",
   "metadata": {},
   "source": [
    "Package `Images` and `ImageMagick` are needed."
   ]
  },
  {
   "cell_type": "code",
   "execution_count": 1,
   "metadata": {},
   "outputs": [],
   "source": [
    "using Flux, Flux.Data.MNIST\n",
    "using Flux: @epochs, onehotbatch, mse, throttle\n",
    "using Base.Iterators: partition"
   ]
  },
  {
   "cell_type": "markdown",
   "metadata": {},
   "source": [
    "## Load data"
   ]
  },
  {
   "cell_type": "code",
   "execution_count": 2,
   "metadata": {},
   "outputs": [],
   "source": [
    "# Encode MNIST images as compressed vectors that can later be decoded back into images.\n",
    "imgs = MNIST.images();"
   ]
  },
  {
   "cell_type": "code",
   "execution_count": 3,
   "metadata": {},
   "outputs": [],
   "source": [
    "# Partition into batches of size 1000\n",
    "data = [float(hcat(vec.(imgs)...)) for imgs in partition(imgs, 1000)];"
   ]
  },
  {
   "cell_type": "markdown",
   "metadata": {},
   "source": [
    "## Model"
   ]
  },
  {
   "cell_type": "code",
   "execution_count": 4,
   "metadata": {},
   "outputs": [
    {
     "data": {
      "text/plain": [
       "Chain(Dense(784, 32, relu), Dense(32, 784, relu))"
      ]
     },
     "execution_count": 4,
     "metadata": {},
     "output_type": "execute_result"
    }
   ],
   "source": [
    "N = 32 # Size of the encoding\n",
    "\n",
    "encoder = Dense(28^2, N, relu)\n",
    "decoder = Dense(N, 28^2, relu)\n",
    "\n",
    "m = Chain(encoder, decoder)"
   ]
  },
  {
   "cell_type": "markdown",
   "metadata": {},
   "source": [
    "## Loss function"
   ]
  },
  {
   "cell_type": "code",
   "execution_count": 5,
   "metadata": {},
   "outputs": [
    {
     "data": {
      "text/plain": [
       "loss (generic function with 1 method)"
      ]
     },
     "execution_count": 5,
     "metadata": {},
     "output_type": "execute_result"
    }
   ],
   "source": [
    "loss(x) = mse(m(x), x)"
   ]
  },
  {
   "cell_type": "markdown",
   "metadata": {},
   "source": [
    "## Optimizer"
   ]
  },
  {
   "cell_type": "markdown",
   "metadata": {},
   "source": [
    "Evaluation callback function"
   ]
  },
  {
   "cell_type": "code",
   "execution_count": 6,
   "metadata": {},
   "outputs": [
    {
     "data": {
      "text/plain": [
       "ADAM(0.001, (0.9, 0.999), IdDict{Any,Any}())"
      ]
     },
     "execution_count": 6,
     "metadata": {},
     "output_type": "execute_result"
    }
   ],
   "source": [
    "evalcb = throttle(() -> @show(loss(data[1])), 10)\n",
    "opt = ADAM()"
   ]
  },
  {
   "cell_type": "markdown",
   "metadata": {},
   "source": [
    "## Training"
   ]
  },
  {
   "cell_type": "code",
   "execution_count": 7,
   "metadata": {},
   "outputs": [
    {
     "name": "stderr",
     "output_type": "stream",
     "text": [
      "┌ Info: Epoch 1\n",
      "└ @ Main /home/yuehhua/.julia/packages/Flux/2i5P1/src/optimise/train.jl:99\n"
     ]
    },
    {
     "name": "stdout",
     "output_type": "stream",
     "text": [
      "loss(data[1]) = 0.10198192405514445\n",
      "loss(data[1]) = 0.09329526919395476\n",
      "loss(data[1]) = 0.08480317839952525\n",
      "loss(data[1]) = 0.07687969855579678\n",
      "loss(data[1]) = 0.0704605695707707\n",
      "loss(data[1]) = 0.06624697607165259\n",
      "loss(data[1]) = 0.06339369960105612\n",
      "loss(data[1]) = 0.061584227817640606\n",
      "loss(data[1]) = 0.05991603237391989\n",
      "loss(data[1]) = 0.05797558678584206\n",
      "loss(data[1]) = 0.05589186258902266\n",
      "loss(data[1]) = 0.05376184919410346\n",
      "loss(data[1]) = 0.05181396076403669\n",
      "loss(data[1]) = 0.049990004702938344\n",
      "loss(data[1]) = 0.04822352548346777\n"
     ]
    },
    {
     "name": "stderr",
     "output_type": "stream",
     "text": [
      "┌ Info: Epoch 2\n",
      "└ @ Main /home/yuehhua/.julia/packages/Flux/2i5P1/src/optimise/train.jl:99\n"
     ]
    },
    {
     "name": "stdout",
     "output_type": "stream",
     "text": [
      "loss(data[1]) = 0.046479092977078446\n",
      "loss(data[1]) = 0.044722812414763474\n",
      "loss(data[1]) = 0.04311381999873915\n",
      "loss(data[1]) = 0.04168233012975945\n",
      "loss(data[1]) = 0.040362363803873744\n",
      "loss(data[1]) = 0.03915851543536165\n",
      "loss(data[1]) = 0.03800651892741241\n",
      "loss(data[1]) = 0.036910688408067674\n",
      "loss(data[1]) = 0.0357922192472344\n",
      "loss(data[1]) = 0.03473011137537648\n",
      "loss(data[1]) = 0.03385541809221263\n",
      "loss(data[1]) = 0.03297559844193548\n",
      "loss(data[1]) = 0.03220470289981109\n",
      "loss(data[1]) = 0.03156101867347058\n",
      "loss(data[1]) = 0.03084506864345676\n"
     ]
    },
    {
     "name": "stderr",
     "output_type": "stream",
     "text": [
      "┌ Info: Epoch 3\n",
      "└ @ Main /home/yuehhua/.julia/packages/Flux/2i5P1/src/optimise/train.jl:99\n"
     ]
    },
    {
     "name": "stdout",
     "output_type": "stream",
     "text": [
      "loss(data[1]) = 0.030061033262188088\n",
      "loss(data[1]) = 0.029366746009795247\n",
      "loss(data[1]) = 0.028845320008677327\n",
      "loss(data[1]) = 0.028368300633456755\n",
      "loss(data[1]) = 0.027779128019652995\n",
      "loss(data[1]) = 0.027224191096114386\n",
      "loss(data[1]) = 0.026875181001271987\n",
      "loss(data[1]) = 0.026463312140465656\n",
      "loss(data[1]) = 0.02599412082088445\n",
      "loss(data[1]) = 0.025580061543330156\n",
      "loss(data[1]) = 0.02527431734596715\n",
      "loss(data[1]) = 0.024861847602127198\n",
      "loss(data[1]) = 0.024504343886634517\n",
      "loss(data[1]) = 0.02417441940055002\n",
      "loss(data[1]) = 0.02384312598818848\n"
     ]
    },
    {
     "name": "stderr",
     "output_type": "stream",
     "text": [
      "┌ Info: Epoch 4\n",
      "└ @ Main /home/yuehhua/.julia/packages/Flux/2i5P1/src/optimise/train.jl:99\n"
     ]
    },
    {
     "name": "stdout",
     "output_type": "stream",
     "text": [
      "loss(data[1]) = 0.023455921017546476\n",
      "loss(data[1]) = 0.023139236129541562\n",
      "loss(data[1]) = 0.022874373065838643\n",
      "loss(data[1]) = 0.022597287273806596\n",
      "loss(data[1]) = 0.02230199491772898\n",
      "loss(data[1]) = 0.022042057524876542\n",
      "loss(data[1]) = 0.021840955605840547\n",
      "loss(data[1]) = 0.021577619810620802\n",
      "loss(data[1]) = 0.021370233075295633\n",
      "loss(data[1]) = 0.02113111286512837\n",
      "loss(data[1]) = 0.02096089615727962\n",
      "loss(data[1]) = 0.02075819816071669\n",
      "loss(data[1]) = 0.020543427525220006\n",
      "loss(data[1]) = 0.02037074114825104\n",
      "loss(data[1]) = 0.020191940940464913\n"
     ]
    },
    {
     "name": "stderr",
     "output_type": "stream",
     "text": [
      "┌ Info: Epoch 5\n",
      "└ @ Main /home/yuehhua/.julia/packages/Flux/2i5P1/src/optimise/train.jl:99\n"
     ]
    },
    {
     "name": "stdout",
     "output_type": "stream",
     "text": [
      "loss(data[1]) = 0.019941063314698932\n",
      "loss(data[1]) = 0.019791061754766057\n",
      "loss(data[1]) = 0.01960693027115865\n",
      "loss(data[1]) = 0.019456742205425228\n",
      "loss(data[1]) = 0.01928390982837343\n",
      "loss(data[1]) = 0.019143734025688842\n",
      "loss(data[1]) = 0.01903434071604811\n",
      "loss(data[1]) = 0.01885409038331693\n",
      "loss(data[1]) = 0.018746390636598737\n",
      "loss(data[1]) = 0.018558651606137934\n",
      "loss(data[1]) = 0.01843731679959365\n",
      "loss(data[1]) = 0.018281980985416432\n",
      "loss(data[1]) = 0.01813634684258975\n",
      "loss(data[1]) = 0.01797165512807349\n",
      "loss(data[1]) = 0.017857163244587845\n"
     ]
    },
    {
     "name": "stderr",
     "output_type": "stream",
     "text": [
      "┌ Info: Epoch 6\n",
      "└ @ Main /home/yuehhua/.julia/packages/Flux/2i5P1/src/optimise/train.jl:99\n"
     ]
    },
    {
     "name": "stdout",
     "output_type": "stream",
     "text": [
      "loss(data[1]) = 0.017628806078106855\n",
      "loss(data[1]) = 0.017483612051681228\n",
      "loss(data[1]) = 0.017376730739975085\n",
      "loss(data[1]) = 0.017253727668885523\n",
      "loss(data[1]) = 0.01711098399057115\n",
      "loss(data[1]) = 0.017004178488847416\n",
      "loss(data[1]) = 0.01692958183644551\n",
      "loss(data[1]) = 0.01678798489593995\n",
      "loss(data[1]) = 0.01673292765351836\n",
      "loss(data[1]) = 0.016609407384690394\n",
      "loss(data[1]) = 0.016557257341416082\n",
      "loss(data[1]) = 0.016457967808757083\n",
      "loss(data[1]) = 0.016351236663412694\n",
      "loss(data[1]) = 0.01626824584461809\n",
      "loss(data[1]) = 0.01620034647043706\n"
     ]
    },
    {
     "name": "stderr",
     "output_type": "stream",
     "text": [
      "┌ Info: Epoch 7\n",
      "└ @ Main /home/yuehhua/.julia/packages/Flux/2i5P1/src/optimise/train.jl:99\n"
     ]
    },
    {
     "name": "stdout",
     "output_type": "stream",
     "text": [
      "loss(data[1]) = 0.016064412377830444\n",
      "loss(data[1]) = 0.015965978689774233\n",
      "loss(data[1]) = 0.015929268235421963\n",
      "loss(data[1]) = 0.015856010209101188\n",
      "loss(data[1]) = 0.01576412885070873\n",
      "loss(data[1]) = 0.01569620540871551\n",
      "loss(data[1]) = 0.015674920541536547\n",
      "loss(data[1]) = 0.01557576015949725\n",
      "loss(data[1]) = 0.015551715051129386\n",
      "loss(data[1]) = 0.015476205424077223\n",
      "loss(data[1]) = 0.01545749269807157\n",
      "loss(data[1]) = 0.01538973326481256\n",
      "loss(data[1]) = 0.015312492255264817\n",
      "loss(data[1]) = 0.015260923952296336\n",
      "loss(data[1]) = 0.015214457427852355\n"
     ]
    },
    {
     "name": "stderr",
     "output_type": "stream",
     "text": [
      "┌ Info: Epoch 8\n",
      "└ @ Main /home/yuehhua/.julia/packages/Flux/2i5P1/src/optimise/train.jl:99\n"
     ]
    },
    {
     "name": "stdout",
     "output_type": "stream",
     "text": [
      "loss(data[1]) = 0.015119306483456437\n",
      "loss(data[1]) = 0.015039645283523587\n",
      "loss(data[1]) = 0.015057447078583868\n",
      "loss(data[1]) = 0.014984819298099679\n",
      "loss(data[1]) = 0.014931646734518094\n",
      "loss(data[1]) = 0.014881696174369312\n",
      "loss(data[1]) = 0.014882715861900875\n",
      "loss(data[1]) = 0.014811002204524951\n",
      "loss(data[1]) = 0.014802739108632446\n",
      "loss(data[1]) = 0.01475281949535716\n",
      "loss(data[1]) = 0.014757662400246408\n",
      "loss(data[1]) = 0.014702735850471793\n",
      "loss(data[1]) = 0.014650846857443488\n",
      "loss(data[1]) = 0.014607535358138225\n",
      "loss(data[1]) = 0.014584196573505731\n"
     ]
    },
    {
     "name": "stderr",
     "output_type": "stream",
     "text": [
      "┌ Info: Epoch 9\n",
      "└ @ Main /home/yuehhua/.julia/packages/Flux/2i5P1/src/optimise/train.jl:99\n"
     ]
    },
    {
     "name": "stdout",
     "output_type": "stream",
     "text": [
      "loss(data[1]) = 0.014512652148318003\n",
      "loss(data[1]) = 0.014440865979096093\n",
      "loss(data[1]) = 0.014488150961347392\n",
      "loss(data[1]) = 0.014415174603554832\n",
      "loss(data[1]) = 0.01439031698662705\n",
      "loss(data[1]) = 0.01434740995870472\n",
      "loss(data[1]) = 0.01435921406212487\n",
      "loss(data[1]) = 0.014308646800560978\n",
      "loss(data[1]) = 0.01430581533229613\n",
      "loss(data[1]) = 0.01427598980245602\n",
      "loss(data[1]) = 0.014293835496236522\n",
      "loss(data[1]) = 0.014248941350340796\n",
      "loss(data[1]) = 0.014211355461671604\n",
      "loss(data[1]) = 0.01417088456822883\n",
      "loss(data[1]) = 0.01416675423567998\n"
     ]
    },
    {
     "name": "stderr",
     "output_type": "stream",
     "text": [
      "┌ Info: Epoch 10\n",
      "└ @ Main /home/yuehhua/.julia/packages/Flux/2i5P1/src/optimise/train.jl:99\n"
     ]
    },
    {
     "name": "stdout",
     "output_type": "stream",
     "text": [
      "loss(data[1]) = 0.014103417322901926\n",
      "loss(data[1]) = 0.01403955391237272\n",
      "loss(data[1]) = 0.014100175478855595\n",
      "loss(data[1]) = 0.01402885703128089\n",
      "loss(data[1]) = 0.014021365052729213\n",
      "loss(data[1]) = 0.013982655182365432\n",
      "loss(data[1]) = 0.014002185318177509\n",
      "loss(data[1]) = 0.013962357598580416\n",
      "loss(data[1]) = 0.013961210374713973\n",
      "loss(data[1]) = 0.013944749260351871\n",
      "loss(data[1]) = 0.013968432677243863\n",
      "loss(data[1]) = 0.013931154294073936\n",
      "loss(data[1]) = 0.01390171266384128\n",
      "loss(data[1]) = 0.013864744783436881\n",
      "loss(data[1]) = 0.013871326029007303\n"
     ]
    }
   ],
   "source": [
    "@epochs 10 Flux.train!(loss, params(m), zip(data), opt, cb=evalcb)"
   ]
  },
  {
   "cell_type": "markdown",
   "metadata": {},
   "source": [
    "## Sample output"
   ]
  },
  {
   "cell_type": "code",
   "execution_count": 8,
   "metadata": {},
   "outputs": [
    {
     "name": "stderr",
     "output_type": "stream",
     "text": [
      "WARNING: using Images.data in module Main conflicts with an existing identifier.\n"
     ]
    }
   ],
   "source": [
    "using Images"
   ]
  },
  {
   "cell_type": "code",
   "execution_count": 11,
   "metadata": {},
   "outputs": [
    {
     "data": {
      "text/plain": [
       "sample (generic function with 1 method)"
      ]
     },
     "execution_count": 11,
     "metadata": {},
     "output_type": "execute_result"
    }
   ],
   "source": [
    "img(x::Vector) = Gray.(reshape(clamp.(x, 0, 1), 28, 28))\n",
    "\n",
    "function sample()\n",
    "  # 20 random digits\n",
    "  before = [imgs[i] for i in rand(1:length(imgs), 20)]\n",
    "  # Before and after images\n",
    "  after = img.(map(x -> m(float(vec(x))), before))\n",
    "  # Stack them all together\n",
    "  hcat(vcat.(before, after)...)\n",
    "end"
   ]
  },
  {
   "cell_type": "code",
   "execution_count": 13,
   "metadata": {},
   "outputs": [
    {
     "name": "stderr",
     "output_type": "stream",
     "text": [
      "┌ Info: Precompiling ImageMagick [6218d12a-5da1-5696-b52f-db25d2ecc6d1]\n",
      "└ @ Base loading.jl:1273\n"
     ]
    }
   ],
   "source": [
    "save(\"sample.jpg\", sample())"
   ]
  },
  {
   "cell_type": "code",
   "execution_count": null,
   "metadata": {},
   "outputs": [],
   "source": []
  }
 ],
 "metadata": {
  "kernelspec": {
   "display_name": "Julia 1.3.1",
   "language": "julia",
   "name": "julia-1.3"
  },
  "language_info": {
   "file_extension": ".jl",
   "mimetype": "application/julia",
   "name": "julia",
   "version": "1.3.1"
  }
 },
 "nbformat": 4,
 "nbformat_minor": 4
}
