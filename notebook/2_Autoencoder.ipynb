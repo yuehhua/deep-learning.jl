{
 "cells": [
  {
   "cell_type": "markdown",
   "metadata": {},
   "source": [
    "# Autoencoder"
   ]
  },
  {
   "cell_type": "code",
   "execution_count": 1,
   "metadata": {},
   "outputs": [],
   "source": [
    "using Flux, Flux.Data.MNIST\n",
    "using Flux: @epochs, onehotbatch, mse, throttle\n",
    "using Base.Iterators: partition\n",
    "using Juno: @progress\n",
    "# using CuArrays"
   ]
  },
  {
   "cell_type": "markdown",
   "metadata": {},
   "source": [
    "## Load data"
   ]
  },
  {
   "cell_type": "code",
   "execution_count": 2,
   "metadata": {},
   "outputs": [],
   "source": [
    "# Encode MNIST images as compressed vectors that can later be decoded back into images.\n",
    "imgs = MNIST.images();"
   ]
  },
  {
   "cell_type": "code",
   "execution_count": 3,
   "metadata": {},
   "outputs": [],
   "source": [
    "# Partition into batches of size 1000\n",
    "data = [float(hcat(vec.(imgs)...)) for imgs in partition(imgs, 1000)];"
   ]
  },
  {
   "cell_type": "markdown",
   "metadata": {},
   "source": [
    "## Model"
   ]
  },
  {
   "cell_type": "code",
   "execution_count": 4,
   "metadata": {},
   "outputs": [
    {
     "data": {
      "text/plain": [
       "Chain(Dense(784, 32, NNlib.relu), Dense(32, 784, NNlib.relu))"
      ]
     },
     "execution_count": 4,
     "metadata": {},
     "output_type": "execute_result"
    }
   ],
   "source": [
    "N = 32 # Size of the encoding\n",
    "\n",
    "encoder = Dense(28^2, N, relu)\n",
    "decoder = Dense(N, 28^2, relu)\n",
    "\n",
    "m = Chain(encoder, decoder)"
   ]
  },
  {
   "cell_type": "markdown",
   "metadata": {},
   "source": [
    "## Loss function"
   ]
  },
  {
   "cell_type": "code",
   "execution_count": 5,
   "metadata": {},
   "outputs": [
    {
     "data": {
      "text/plain": [
       "loss (generic function with 1 method)"
      ]
     },
     "execution_count": 5,
     "metadata": {},
     "output_type": "execute_result"
    }
   ],
   "source": [
    "loss(x) = mse(m(x), x)"
   ]
  },
  {
   "cell_type": "markdown",
   "metadata": {},
   "source": [
    "## Optimizer"
   ]
  },
  {
   "cell_type": "markdown",
   "metadata": {},
   "source": [
    "Evaluation callback function"
   ]
  },
  {
   "cell_type": "code",
   "execution_count": 6,
   "metadata": {},
   "outputs": [
    {
     "data": {
      "text/plain": [
       "ADAM(0.001, (0.9, 0.999), IdDict{Any,Any}())"
      ]
     },
     "execution_count": 6,
     "metadata": {},
     "output_type": "execute_result"
    }
   ],
   "source": [
    "evalcb() = @show(loss(data[1]))\n",
    "opt = ADAM()"
   ]
  },
  {
   "cell_type": "markdown",
   "metadata": {},
   "source": [
    "## Training"
   ]
  },
  {
   "cell_type": "code",
   "execution_count": 7,
   "metadata": {},
   "outputs": [
    {
     "name": "stderr",
     "output_type": "stream",
     "text": [
      "┌ Info: Epoch 1\n",
      "└ @ Main /home/pika/.julia/packages/Flux/T3PhK/src/optimise/train.jl:103\n"
     ]
    },
    {
     "name": "stdout",
     "output_type": "stream",
     "text": [
      "loss(data[1]) = 0.10143132390843942 (tracked)\n",
      "loss(data[1]) = 0.06487017723375788 (tracked)\n",
      "loss(data[1]) = 0.05109868361424779 (tracked)\n"
     ]
    },
    {
     "name": "stderr",
     "output_type": "stream",
     "text": [
      "┌ Info: Epoch 2\n",
      "└ @ Main /home/pika/.julia/packages/Flux/T3PhK/src/optimise/train.jl:103\n"
     ]
    },
    {
     "name": "stdout",
     "output_type": "stream",
     "text": [
      "loss(data[1]) = 0.045234982304229045 (tracked)\n",
      "loss(data[1]) = 0.03674250857078072 (tracked)\n",
      "loss(data[1]) = 0.031240617984398342 (tracked)\n"
     ]
    },
    {
     "name": "stderr",
     "output_type": "stream",
     "text": [
      "┌ Info: Epoch 3\n",
      "└ @ Main /home/pika/.julia/packages/Flux/T3PhK/src/optimise/train.jl:103\n"
     ]
    },
    {
     "name": "stdout",
     "output_type": "stream",
     "text": [
      "loss(data[1]) = 0.029858290504550914 (tracked)\n",
      "loss(data[1]) = 0.026602000670371932 (tracked)\n",
      "loss(data[1]) = 0.024534749546358564 (tracked)\n"
     ]
    },
    {
     "name": "stderr",
     "output_type": "stream",
     "text": [
      "┌ Info: Epoch 4\n",
      "└ @ Main /home/pika/.julia/packages/Flux/T3PhK/src/optimise/train.jl:103\n"
     ]
    },
    {
     "name": "stdout",
     "output_type": "stream",
     "text": [
      "loss(data[1]) = 0.02374443094912763 (tracked)\n",
      "loss(data[1]) = 0.02225817183362645 (tracked)\n",
      "loss(data[1]) = 0.020935166616510723 (tracked)\n"
     ]
    },
    {
     "name": "stderr",
     "output_type": "stream",
     "text": [
      "┌ Info: Epoch 5\n",
      "└ @ Main /home/pika/.julia/packages/Flux/T3PhK/src/optimise/train.jl:103\n"
     ]
    },
    {
     "name": "stdout",
     "output_type": "stream",
     "text": [
      "loss(data[1]) = 0.020404263813002324 (tracked)\n",
      "loss(data[1]) = 0.019693673784473335 (tracked)\n",
      "loss(data[1]) = 0.019289624047367563 (tracked)\n",
      "loss(data[1]) = 0.018807390849681346 (tracked)\n",
      "loss(data[1]) = 0.018284567136729282 (tracked)\n"
     ]
    },
    {
     "name": "stderr",
     "output_type": "stream",
     "text": [
      "┌ Info: Epoch 6\n",
      "└ @ Main /home/pika/.julia/packages/Flux/T3PhK/src/optimise/train.jl:103\n"
     ]
    },
    {
     "name": "stdout",
     "output_type": "stream",
     "text": [
      "loss(data[1]) = 0.018224655930689726 (tracked)\n",
      "loss(data[1]) = 0.017784779507541322 (tracked)\n",
      "loss(data[1]) = 0.017436541043695578 (tracked)\n",
      "loss(data[1]) = 0.017045513268953608 (tracked)\n"
     ]
    },
    {
     "name": "stderr",
     "output_type": "stream",
     "text": [
      "┌ Info: Epoch 7\n",
      "└ @ Main /home/pika/.julia/packages/Flux/T3PhK/src/optimise/train.jl:103\n"
     ]
    },
    {
     "name": "stdout",
     "output_type": "stream",
     "text": [
      "loss(data[1]) = 0.016755984918667647 (tracked)\n",
      "loss(data[1]) = 0.016484850166958092 (tracked)\n",
      "loss(data[1]) = 0.01630692474895048 (tracked)\n",
      "loss(data[1]) = 0.016035606510307592 (tracked)\n",
      "loss(data[1]) = 0.015866883494122026 (tracked)\n"
     ]
    },
    {
     "name": "stderr",
     "output_type": "stream",
     "text": [
      "┌ Info: Epoch 8\n",
      "└ @ Main /home/pika/.julia/packages/Flux/T3PhK/src/optimise/train.jl:103\n"
     ]
    },
    {
     "name": "stdout",
     "output_type": "stream",
     "text": [
      "loss(data[1]) = 0.01578553885580495 (tracked)\n",
      "loss(data[1]) = 0.015678063034902594 (tracked)\n",
      "loss(data[1]) = 0.015551235833276241 (tracked)\n",
      "loss(data[1]) = 0.015484794597874971 (tracked)\n",
      "loss(data[1]) = 0.015381737458824592 (tracked)\n",
      "loss(data[1]) = 0.01525126992440941 (tracked)\n"
     ]
    },
    {
     "name": "stderr",
     "output_type": "stream",
     "text": [
      "┌ Info: Epoch 9\n",
      "└ @ Main /home/pika/.julia/packages/Flux/T3PhK/src/optimise/train.jl:103\n"
     ]
    },
    {
     "name": "stdout",
     "output_type": "stream",
     "text": [
      "loss(data[1]) = 0.015129474657067172 (tracked)\n",
      "loss(data[1]) = 0.01500149688668255 (tracked)\n",
      "loss(data[1]) = 0.014948678820193568 (tracked)\n",
      "loss(data[1]) = 0.014930155856202363 (tracked)\n",
      "loss(data[1]) = 0.014773730296627013 (tracked)\n"
     ]
    },
    {
     "name": "stderr",
     "output_type": "stream",
     "text": [
      "┌ Info: Epoch 10\n",
      "└ @ Main /home/pika/.julia/packages/Flux/T3PhK/src/optimise/train.jl:103\n"
     ]
    },
    {
     "name": "stdout",
     "output_type": "stream",
     "text": [
      "loss(data[1]) = 0.014677877305216901 (tracked)\n",
      "loss(data[1]) = 0.014593874336272829 (tracked)\n",
      "loss(data[1]) = 0.014595970168856508 (tracked)\n",
      "loss(data[1]) = 0.014503345691405847 (tracked)\n",
      "loss(data[1]) = 0.014442656438763184 (tracked)\n"
     ]
    }
   ],
   "source": [
    "@epochs 10 Flux.train!(loss, params(m), zip(data), opt, cb=throttle(evalcb, 5))"
   ]
  },
  {
   "cell_type": "markdown",
   "metadata": {},
   "source": [
    "## Sample output"
   ]
  },
  {
   "cell_type": "code",
   "execution_count": 8,
   "metadata": {},
   "outputs": [],
   "source": [
    "using Images"
   ]
  },
  {
   "cell_type": "code",
   "execution_count": 9,
   "metadata": {},
   "outputs": [
    {
     "data": {
      "text/plain": [
       "sample (generic function with 1 method)"
      ]
     },
     "execution_count": 9,
     "metadata": {},
     "output_type": "execute_result"
    }
   ],
   "source": [
    "img(x::Vector) = Gray.(reshape(clamp.(x, 0, 1), 28, 28))\n",
    "\n",
    "function sample()\n",
    "  # 20 random digits\n",
    "  before = [imgs[i] for i in rand(1:length(imgs), 20)]\n",
    "  # Before and after images\n",
    "  after = img.(map(x -> m(float(vec(x))).data, before))\n",
    "  # Stack them all together\n",
    "  hcat(vcat.(before, after)...)\n",
    "end"
   ]
  },
  {
   "cell_type": "code",
   "execution_count": 10,
   "metadata": {},
   "outputs": [],
   "source": [
    "save(\"sample.jpg\", sample())"
   ]
  },
  {
   "cell_type": "code",
   "execution_count": null,
   "metadata": {},
   "outputs": [],
   "source": []
  }
 ],
 "metadata": {
  "kernelspec": {
   "display_name": "Julia 1.0.3",
   "language": "julia",
   "name": "julia-1.0"
  },
  "language_info": {
   "file_extension": ".jl",
   "mimetype": "application/julia",
   "name": "julia",
   "version": "1.0.3"
  }
 },
 "nbformat": 4,
 "nbformat_minor": 2
}
