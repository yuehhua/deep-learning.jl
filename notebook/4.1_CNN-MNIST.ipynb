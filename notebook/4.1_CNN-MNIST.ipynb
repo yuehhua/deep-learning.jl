{
 "cells": [
  {
   "cell_type": "markdown",
   "metadata": {},
   "source": [
    "# Convolutional neural network"
   ]
  },
  {
   "cell_type": "code",
   "execution_count": 1,
   "metadata": {},
   "outputs": [],
   "source": [
    "using Flux, Flux.Data.MNIST\n",
    "using Flux: @epochs, onehotbatch, onecold, crossentropy, throttle\n",
    "using Base.Iterators: repeated, partition\n",
    "using Statistics: mean\n",
    "# using CuArrays"
   ]
  },
  {
   "cell_type": "markdown",
   "metadata": {},
   "source": [
    "## Load data and preprocessing"
   ]
  },
  {
   "cell_type": "markdown",
   "metadata": {},
   "source": [
    "Classify MNIST digits with a convolutional network"
   ]
  },
  {
   "cell_type": "code",
   "execution_count": 2,
   "metadata": {},
   "outputs": [
    {
     "data": {
      "text/plain": [
       "128"
      ]
     },
     "execution_count": 2,
     "metadata": {},
     "output_type": "execute_result"
    }
   ],
   "source": [
    "batch_size = 128"
   ]
  },
  {
   "cell_type": "code",
   "execution_count": 3,
   "metadata": {},
   "outputs": [
    {
     "data": {
      "text/plain": [
       "minibatch (generic function with 1 method)"
      ]
     },
     "execution_count": 3,
     "metadata": {},
     "output_type": "execute_result"
    }
   ],
   "source": [
    "function minibatch(X, Y, idxs)\n",
    "    X_batch = Array{Float32}(undef, size(X[1])..., 1, length(idxs))\n",
    "    for i in 1:length(idxs)\n",
    "        X_batch[:, :, :, i] = Float32.(X[idxs[i]])\n",
    "    end\n",
    "    Y_batch = onehotbatch(Y[idxs], 0:9)\n",
    "    return (X_batch, Y_batch)\n",
    "end"
   ]
  },
  {
   "cell_type": "code",
   "execution_count": 4,
   "metadata": {},
   "outputs": [],
   "source": [
    "train_labels = MNIST.labels()\n",
    "train_imgs = MNIST.images()\n",
    "mb_idxs = partition(1:length(train_imgs), batch_size)\n",
    "train = [minibatch(train_imgs, train_labels, i) for i in mb_idxs];"
   ]
  },
  {
   "cell_type": "code",
   "execution_count": 5,
   "metadata": {},
   "outputs": [],
   "source": [
    "test_imgs = MNIST.images(:test)\n",
    "test_labels = MNIST.labels(:test)\n",
    "test = minibatch(test_imgs, test_labels, 1:length(test_imgs));"
   ]
  },
  {
   "cell_type": "markdown",
   "metadata": {},
   "source": [
    "## Model"
   ]
  },
  {
   "cell_type": "code",
   "execution_count": 6,
   "metadata": {},
   "outputs": [
    {
     "data": {
      "text/plain": [
       "Chain(Conv((3, 3), 1=>16, NNlib.relu), MaxPool((2, 2), pad = (0, 0, 0, 0), stride = (2, 2)), Conv((3, 3), 16=>32, NNlib.relu), MaxPool((2, 2), pad = (0, 0, 0, 0), stride = (2, 2)), Conv((3, 3), 32=>32, NNlib.relu), MaxPool((2, 2), pad = (0, 0, 0, 0), stride = (2, 2)), getfield(Main, Symbol(\"##5#6\"))(), Dense(800, 10), NNlib.softmax)"
      ]
     },
     "execution_count": 6,
     "metadata": {},
     "output_type": "execute_result"
    }
   ],
   "source": [
    "model = Chain(\n",
    "    Conv((3, 3), 1=>16, pad=(2,2), relu),  # (1, 1, 1) -> (3, 3, 16)\n",
    "    MaxPool((2, 2)),                       # (3, 3, 16) -> (1, 1, 16)\n",
    "    Conv((3, 3), 16=>32, pad=(2,2), relu), # (1, 1, 16) -> (3, 3, 32)\n",
    "    MaxPool((2, 2)),                       # (3, 3, 32) -> (1, 1, 32)\n",
    "    Conv((3, 3), 32=>32, pad=(2,2), relu), # (1, 1, 32) -> (3, 3, 32)\n",
    "    MaxPool((2, 2)),                       # (3, 3, 32) -> (1, 1, 32)\n",
    "    x -> reshape(x, :, size(x, 4)),        # (1, 1, 32) -> 32\n",
    "    Dense(800, 10), softmax)"
   ]
  },
  {
   "cell_type": "code",
   "execution_count": 7,
   "metadata": {},
   "outputs": [
    {
     "data": {
      "text/plain": [
       "Tracked 10×128 Array{Float32,2}:\n",
       " 0.00488587  0.0059864    0.0172354    …  0.0160831    0.0181191  \n",
       " 0.00328304  0.000408046  0.00628934      0.0131039    0.00512937 \n",
       " 0.475399    0.189241     0.681357        0.523271     0.306449   \n",
       " 0.011853    0.0178683    0.000955412     0.0959452    0.034394   \n",
       " 0.159037    0.149042     0.0538785       0.0298879    0.395101   \n",
       " 2.43308e-6  1.94792e-5   1.6662e-5    …  2.38639e-5   4.22073e-5 \n",
       " 7.1593e-5   0.000156501  0.00059031      0.000301392  0.000219752\n",
       " 0.235879    0.0950901    0.138555        0.254942     0.0665807  \n",
       " 0.0162545   0.00619433   0.00344156      0.0128089    0.00580126 \n",
       " 0.0933343   0.535994     0.0976801       0.053633     0.168164   "
      ]
     },
     "execution_count": 7,
     "metadata": {},
     "output_type": "execute_result"
    }
   ],
   "source": [
    "model(train[1][1])"
   ]
  },
  {
   "cell_type": "code",
   "execution_count": 8,
   "metadata": {},
   "outputs": [],
   "source": [
    "# train = gpu.(train)\n",
    "# test = gpu.(test)\n",
    "# model = gpu(model)"
   ]
  },
  {
   "cell_type": "markdown",
   "metadata": {},
   "source": [
    "```julia\n",
    "Conv(size, input=>output, activation)\n",
    "```\n",
    "\n",
    "* size: size of filter\n",
    "* input: input channel size\n",
    "* output: output channel size"
   ]
  },
  {
   "cell_type": "markdown",
   "metadata": {},
   "source": [
    "```julia\n",
    "Conv(k, ch, σ = identity;\n",
    "     init = initn,\n",
    "     stride = map(_->1,k),\n",
    "     pad = map(_->0,k),\n",
    "     dilation = map(_->1,k))\n",
    "\n",
    "Conv((2, 2), 1=>16, relu; init=initn, stride=(1, 1), pad=(0, 0), dilation=(1, 1))\n",
    "```"
   ]
  },
  {
   "cell_type": "markdown",
   "metadata": {},
   "source": [
    "```julia\n",
    "MaxPool(k; pad, stride)\n",
    "```\n",
    "\n",
    "* k: size of filter"
   ]
  },
  {
   "cell_type": "markdown",
   "metadata": {},
   "source": [
    "```julia\n",
    "x -> reshape(x, :, size(x, 4))\n",
    "```\n",
    "\n",
    "拉直"
   ]
  },
  {
   "cell_type": "markdown",
   "metadata": {},
   "source": [
    "## Loss function"
   ]
  },
  {
   "cell_type": "code",
   "execution_count": 9,
   "metadata": {},
   "outputs": [
    {
     "data": {
      "text/plain": [
       "loss (generic function with 1 method)"
      ]
     },
     "execution_count": 9,
     "metadata": {},
     "output_type": "execute_result"
    }
   ],
   "source": [
    "loss(x, y) = crossentropy(model(x), y)"
   ]
  },
  {
   "cell_type": "code",
   "execution_count": 10,
   "metadata": {},
   "outputs": [
    {
     "data": {
      "text/plain": [
       "accuracy (generic function with 1 method)"
      ]
     },
     "execution_count": 10,
     "metadata": {},
     "output_type": "execute_result"
    }
   ],
   "source": [
    "accuracy(x, y) = mean(onecold(model(x)) .== onecold(y))"
   ]
  },
  {
   "cell_type": "markdown",
   "metadata": {},
   "source": [
    "## Optimizer"
   ]
  },
  {
   "cell_type": "code",
   "execution_count": 11,
   "metadata": {},
   "outputs": [
    {
     "data": {
      "text/plain": [
       "ADAM(0.001, (0.9, 0.999), IdDict{Any,Any}())"
      ]
     },
     "execution_count": 11,
     "metadata": {},
     "output_type": "execute_result"
    }
   ],
   "source": [
    "evalcb() = @show(accuracy(test[1], test[2]))\n",
    "opt = ADAM()"
   ]
  },
  {
   "cell_type": "code",
   "execution_count": 12,
   "metadata": {},
   "outputs": [
    {
     "data": {
      "text/plain": [
       "4.2682443f0 (tracked)"
      ]
     },
     "execution_count": 12,
     "metadata": {},
     "output_type": "execute_result"
    }
   ],
   "source": [
    "loss(train[1][1], train[1][2])"
   ]
  },
  {
   "cell_type": "markdown",
   "metadata": {},
   "source": [
    "## Training"
   ]
  },
  {
   "cell_type": "code",
   "execution_count": 13,
   "metadata": {},
   "outputs": [
    {
     "name": "stderr",
     "output_type": "stream",
     "text": [
      "┌ Info: Epoch 1\n",
      "└ @ Main /home/pika/.julia/packages/Flux/qXNjB/src/optimise/train.jl:105\n"
     ]
    },
    {
     "name": "stdout",
     "output_type": "stream",
     "text": [
      "accuracy(test[1], test[2]) = 0.1154\n",
      "accuracy(test[1], test[2]) = 0.702\n",
      "accuracy(test[1], test[2]) = 0.8391\n",
      "accuracy(test[1], test[2]) = 0.8596\n",
      "accuracy(test[1], test[2]) = 0.8807\n",
      "accuracy(test[1], test[2]) = 0.903\n",
      "accuracy(test[1], test[2]) = 0.924\n",
      "accuracy(test[1], test[2]) = 0.9311\n",
      "accuracy(test[1], test[2]) = 0.9303\n",
      "accuracy(test[1], test[2]) = 0.921\n",
      "accuracy(test[1], test[2]) = 0.9232\n",
      "accuracy(test[1], test[2]) = 0.9401\n",
      "accuracy(test[1], test[2]) = 0.9424\n",
      "accuracy(test[1], test[2]) = 0.9408\n",
      "accuracy(test[1], test[2]) = 0.9475\n",
      "accuracy(test[1], test[2]) = 0.9495\n",
      "accuracy(test[1], test[2]) = 0.9561\n",
      "accuracy(test[1], test[2]) = 0.9514\n",
      "accuracy(test[1], test[2]) = 0.951\n",
      "accuracy(test[1], test[2]) = 0.9509\n",
      "accuracy(test[1], test[2]) = 0.9461\n",
      "accuracy(test[1], test[2]) = 0.9595\n",
      "accuracy(test[1], test[2]) = 0.9623\n",
      "accuracy(test[1], test[2]) = 0.9636\n",
      "accuracy(test[1], test[2]) = 0.9633\n",
      "accuracy(test[1], test[2]) = 0.961\n",
      "accuracy(test[1], test[2]) = 0.961\n",
      "accuracy(test[1], test[2]) = 0.9692\n",
      "accuracy(test[1], test[2]) = 0.971\n",
      "accuracy(test[1], test[2]) = 0.9681\n",
      "accuracy(test[1], test[2]) = 0.9668\n"
     ]
    },
    {
     "name": "stderr",
     "output_type": "stream",
     "text": [
      "┌ Info: Epoch 2\n",
      "└ @ Main /home/pika/.julia/packages/Flux/qXNjB/src/optimise/train.jl:105\n"
     ]
    },
    {
     "name": "stdout",
     "output_type": "stream",
     "text": [
      "accuracy(test[1], test[2]) = 0.9662\n",
      "accuracy(test[1], test[2]) = 0.9583\n",
      "accuracy(test[1], test[2]) = 0.9691\n",
      "accuracy(test[1], test[2]) = 0.9737\n",
      "accuracy(test[1], test[2]) = 0.9692\n",
      "accuracy(test[1], test[2]) = 0.9712\n",
      "accuracy(test[1], test[2]) = 0.9534\n",
      "accuracy(test[1], test[2]) = 0.9744\n",
      "accuracy(test[1], test[2]) = 0.9707\n",
      "accuracy(test[1], test[2]) = 0.973\n",
      "accuracy(test[1], test[2]) = 0.9681\n",
      "accuracy(test[1], test[2]) = 0.973\n",
      "accuracy(test[1], test[2]) = 0.9751\n",
      "accuracy(test[1], test[2]) = 0.9747\n",
      "accuracy(test[1], test[2]) = 0.9764\n",
      "accuracy(test[1], test[2]) = 0.9736\n",
      "accuracy(test[1], test[2]) = 0.9725\n",
      "accuracy(test[1], test[2]) = 0.9779\n",
      "accuracy(test[1], test[2]) = 0.969\n",
      "accuracy(test[1], test[2]) = 0.9755\n",
      "accuracy(test[1], test[2]) = 0.9766\n",
      "accuracy(test[1], test[2]) = 0.9785\n",
      "accuracy(test[1], test[2]) = 0.9751\n",
      "accuracy(test[1], test[2]) = 0.977\n",
      "accuracy(test[1], test[2]) = 0.9782\n",
      "accuracy(test[1], test[2]) = 0.9803\n",
      "accuracy(test[1], test[2]) = 0.9739\n",
      "accuracy(test[1], test[2]) = 0.9797\n",
      "accuracy(test[1], test[2]) = 0.979\n",
      "accuracy(test[1], test[2]) = 0.9805\n",
      "accuracy(test[1], test[2]) = 0.9808\n",
      "accuracy(test[1], test[2]) = 0.9794\n",
      "accuracy(test[1], test[2]) = 0.9786\n"
     ]
    },
    {
     "name": "stderr",
     "output_type": "stream",
     "text": [
      "┌ Info: Epoch 3\n",
      "└ @ Main /home/pika/.julia/packages/Flux/qXNjB/src/optimise/train.jl:105\n"
     ]
    },
    {
     "name": "stdout",
     "output_type": "stream",
     "text": [
      "accuracy(test[1], test[2]) = 0.9773\n",
      "accuracy(test[1], test[2]) = 0.9752\n",
      "accuracy(test[1], test[2]) = 0.9796\n",
      "accuracy(test[1], test[2]) = 0.9809\n",
      "accuracy(test[1], test[2]) = 0.9826\n",
      "accuracy(test[1], test[2]) = 0.9829\n",
      "accuracy(test[1], test[2]) = 0.9787\n",
      "accuracy(test[1], test[2]) = 0.9694\n",
      "accuracy(test[1], test[2]) = 0.9824\n",
      "accuracy(test[1], test[2]) = 0.9826\n",
      "accuracy(test[1], test[2]) = 0.9832\n",
      "accuracy(test[1], test[2]) = 0.9826\n",
      "accuracy(test[1], test[2]) = 0.9829\n",
      "accuracy(test[1], test[2]) = 0.9816\n",
      "accuracy(test[1], test[2]) = 0.9799\n",
      "accuracy(test[1], test[2]) = 0.9811\n",
      "accuracy(test[1], test[2]) = 0.9802\n",
      "accuracy(test[1], test[2]) = 0.98\n",
      "accuracy(test[1], test[2]) = 0.9813\n",
      "accuracy(test[1], test[2]) = 0.9814\n",
      "accuracy(test[1], test[2]) = 0.9764\n",
      "accuracy(test[1], test[2]) = 0.9808\n",
      "accuracy(test[1], test[2]) = 0.9822\n",
      "accuracy(test[1], test[2]) = 0.9828\n",
      "accuracy(test[1], test[2]) = 0.9842\n",
      "accuracy(test[1], test[2]) = 0.9833\n",
      "accuracy(test[1], test[2]) = 0.9834\n",
      "accuracy(test[1], test[2]) = 0.9819\n",
      "accuracy(test[1], test[2]) = 0.9853\n",
      "accuracy(test[1], test[2]) = 0.9831\n",
      "accuracy(test[1], test[2]) = 0.9835\n",
      "accuracy(test[1], test[2]) = 0.981\n",
      "accuracy(test[1], test[2]) = 0.9835\n",
      "accuracy(test[1], test[2]) = 0.9837\n",
      "accuracy(test[1], test[2]) = 0.9833\n"
     ]
    },
    {
     "name": "stderr",
     "output_type": "stream",
     "text": [
      "┌ Info: Epoch 4\n",
      "└ @ Main /home/pika/.julia/packages/Flux/qXNjB/src/optimise/train.jl:105\n"
     ]
    },
    {
     "name": "stdout",
     "output_type": "stream",
     "text": [
      "accuracy(test[1], test[2]) = 0.9826\n",
      "accuracy(test[1], test[2]) = 0.9837\n",
      "accuracy(test[1], test[2]) = 0.9834\n",
      "accuracy(test[1], test[2]) = 0.9818\n",
      "accuracy(test[1], test[2]) = 0.9824\n",
      "accuracy(test[1], test[2]) = 0.9833\n",
      "accuracy(test[1], test[2]) = 0.979\n",
      "accuracy(test[1], test[2]) = 0.9787\n",
      "accuracy(test[1], test[2]) = 0.9842\n",
      "accuracy(test[1], test[2]) = 0.986\n",
      "accuracy(test[1], test[2]) = 0.984\n",
      "accuracy(test[1], test[2]) = 0.9854\n",
      "accuracy(test[1], test[2]) = 0.984\n",
      "accuracy(test[1], test[2]) = 0.9869\n",
      "accuracy(test[1], test[2]) = 0.984\n",
      "accuracy(test[1], test[2]) = 0.9868\n",
      "accuracy(test[1], test[2]) = 0.9839\n",
      "accuracy(test[1], test[2]) = 0.9827\n",
      "accuracy(test[1], test[2]) = 0.984\n",
      "accuracy(test[1], test[2]) = 0.9842\n",
      "accuracy(test[1], test[2]) = 0.9833\n",
      "accuracy(test[1], test[2]) = 0.9852\n",
      "accuracy(test[1], test[2]) = 0.9853\n",
      "accuracy(test[1], test[2]) = 0.9845\n",
      "accuracy(test[1], test[2]) = 0.9866\n",
      "accuracy(test[1], test[2]) = 0.9873\n",
      "accuracy(test[1], test[2]) = 0.9852\n",
      "accuracy(test[1], test[2]) = 0.9872\n",
      "accuracy(test[1], test[2]) = 0.9861\n",
      "accuracy(test[1], test[2]) = 0.9865\n",
      "accuracy(test[1], test[2]) = 0.9869\n",
      "accuracy(test[1], test[2]) = 0.9853\n",
      "accuracy(test[1], test[2]) = 0.9852\n"
     ]
    },
    {
     "name": "stderr",
     "output_type": "stream",
     "text": [
      "┌ Info: Epoch 5\n",
      "└ @ Main /home/pika/.julia/packages/Flux/qXNjB/src/optimise/train.jl:105\n"
     ]
    },
    {
     "name": "stdout",
     "output_type": "stream",
     "text": [
      "accuracy(test[1], test[2]) = 0.9859\n",
      "accuracy(test[1], test[2]) = 0.9861\n",
      "accuracy(test[1], test[2]) = 0.987\n",
      "accuracy(test[1], test[2]) = 0.9842\n",
      "accuracy(test[1], test[2]) = 0.9836\n",
      "accuracy(test[1], test[2]) = 0.9788\n",
      "accuracy(test[1], test[2]) = 0.9814\n",
      "accuracy(test[1], test[2]) = 0.9854\n",
      "accuracy(test[1], test[2]) = 0.9844\n",
      "accuracy(test[1], test[2]) = 0.9867\n",
      "accuracy(test[1], test[2]) = 0.9869\n",
      "accuracy(test[1], test[2]) = 0.988\n",
      "accuracy(test[1], test[2]) = 0.9853\n",
      "accuracy(test[1], test[2]) = 0.9853\n",
      "accuracy(test[1], test[2]) = 0.9846\n",
      "accuracy(test[1], test[2]) = 0.9875\n",
      "accuracy(test[1], test[2]) = 0.9844\n",
      "accuracy(test[1], test[2]) = 0.9855\n",
      "accuracy(test[1], test[2]) = 0.986\n",
      "accuracy(test[1], test[2]) = 0.9874\n",
      "accuracy(test[1], test[2]) = 0.9856\n",
      "accuracy(test[1], test[2]) = 0.9855\n",
      "accuracy(test[1], test[2]) = 0.9891\n",
      "accuracy(test[1], test[2]) = 0.9847\n",
      "accuracy(test[1], test[2]) = 0.987\n",
      "accuracy(test[1], test[2]) = 0.9878\n",
      "accuracy(test[1], test[2]) = 0.9844\n",
      "accuracy(test[1], test[2]) = 0.9865\n",
      "accuracy(test[1], test[2]) = 0.9871\n"
     ]
    },
    {
     "name": "stderr",
     "output_type": "stream",
     "text": [
      "┌ Info: Epoch 6\n",
      "└ @ Main /home/pika/.julia/packages/Flux/qXNjB/src/optimise/train.jl:105\n"
     ]
    },
    {
     "name": "stdout",
     "output_type": "stream",
     "text": [
      "accuracy(test[1], test[2]) = 0.9871\n",
      "accuracy(test[1], test[2]) = 0.9877\n",
      "accuracy(test[1], test[2]) = 0.9879\n",
      "accuracy(test[1], test[2]) = 0.9823\n",
      "accuracy(test[1], test[2]) = 0.9835\n",
      "accuracy(test[1], test[2]) = 0.9809\n",
      "accuracy(test[1], test[2]) = 0.9833\n",
      "accuracy(test[1], test[2]) = 0.986\n",
      "accuracy(test[1], test[2]) = 0.9854\n",
      "accuracy(test[1], test[2]) = 0.9874\n",
      "accuracy(test[1], test[2]) = 0.9889\n",
      "accuracy(test[1], test[2]) = 0.9882\n",
      "accuracy(test[1], test[2]) = 0.9871\n",
      "accuracy(test[1], test[2]) = 0.9883\n",
      "accuracy(test[1], test[2]) = 0.987\n",
      "accuracy(test[1], test[2]) = 0.9866\n",
      "accuracy(test[1], test[2]) = 0.9876\n",
      "accuracy(test[1], test[2]) = 0.9841\n",
      "accuracy(test[1], test[2]) = 0.9874\n",
      "accuracy(test[1], test[2]) = 0.988\n",
      "accuracy(test[1], test[2]) = 0.9879\n",
      "accuracy(test[1], test[2]) = 0.9896\n",
      "accuracy(test[1], test[2]) = 0.9864\n",
      "accuracy(test[1], test[2]) = 0.9862\n",
      "accuracy(test[1], test[2]) = 0.9865\n",
      "accuracy(test[1], test[2]) = 0.988\n",
      "accuracy(test[1], test[2]) = 0.9877\n",
      "accuracy(test[1], test[2]) = 0.9856\n"
     ]
    },
    {
     "name": "stderr",
     "output_type": "stream",
     "text": [
      "┌ Info: Epoch 7\n",
      "└ @ Main /home/pika/.julia/packages/Flux/qXNjB/src/optimise/train.jl:105\n"
     ]
    },
    {
     "name": "stdout",
     "output_type": "stream",
     "text": [
      "accuracy(test[1], test[2]) = 0.9881\n",
      "accuracy(test[1], test[2]) = 0.9875\n",
      "accuracy(test[1], test[2]) = 0.9878\n",
      "accuracy(test[1], test[2]) = 0.9818\n",
      "accuracy(test[1], test[2]) = 0.9846\n",
      "accuracy(test[1], test[2]) = 0.9806\n",
      "accuracy(test[1], test[2]) = 0.987\n",
      "accuracy(test[1], test[2]) = 0.9856\n",
      "accuracy(test[1], test[2]) = 0.9864\n",
      "accuracy(test[1], test[2]) = 0.9877\n",
      "accuracy(test[1], test[2]) = 0.9888\n",
      "accuracy(test[1], test[2]) = 0.9882\n",
      "accuracy(test[1], test[2]) = 0.987\n",
      "accuracy(test[1], test[2]) = 0.9882\n",
      "accuracy(test[1], test[2]) = 0.9862\n",
      "accuracy(test[1], test[2]) = 0.9882\n",
      "accuracy(test[1], test[2]) = 0.9871\n",
      "accuracy(test[1], test[2]) = 0.9846\n",
      "accuracy(test[1], test[2]) = 0.9854\n",
      "accuracy(test[1], test[2]) = 0.9894\n",
      "accuracy(test[1], test[2]) = 0.9865\n",
      "accuracy(test[1], test[2]) = 0.9864\n",
      "accuracy(test[1], test[2]) = 0.99\n",
      "accuracy(test[1], test[2]) = 0.9881\n",
      "accuracy(test[1], test[2]) = 0.9887\n",
      "accuracy(test[1], test[2]) = 0.9883\n",
      "accuracy(test[1], test[2]) = 0.9877\n",
      "accuracy(test[1], test[2]) = 0.9871\n"
     ]
    },
    {
     "name": "stderr",
     "output_type": "stream",
     "text": [
      "┌ Info: Epoch 8\n",
      "└ @ Main /home/pika/.julia/packages/Flux/qXNjB/src/optimise/train.jl:105\n"
     ]
    },
    {
     "name": "stdout",
     "output_type": "stream",
     "text": [
      "accuracy(test[1], test[2]) = 0.9884\n",
      "accuracy(test[1], test[2]) = 0.9879\n",
      "accuracy(test[1], test[2]) = 0.988\n",
      "accuracy(test[1], test[2]) = 0.9807\n",
      "accuracy(test[1], test[2]) = 0.9841\n",
      "accuracy(test[1], test[2]) = 0.983\n",
      "accuracy(test[1], test[2]) = 0.9869\n",
      "accuracy(test[1], test[2]) = 0.9846\n",
      "accuracy(test[1], test[2]) = 0.9869\n",
      "accuracy(test[1], test[2]) = 0.988\n",
      "accuracy(test[1], test[2]) = 0.9881\n",
      "accuracy(test[1], test[2]) = 0.9881\n",
      "accuracy(test[1], test[2]) = 0.9878\n",
      "accuracy(test[1], test[2]) = 0.9884\n",
      "accuracy(test[1], test[2]) = 0.9864\n",
      "accuracy(test[1], test[2]) = 0.9881\n",
      "accuracy(test[1], test[2]) = 0.9877\n",
      "accuracy(test[1], test[2]) = 0.9855\n",
      "accuracy(test[1], test[2]) = 0.9861\n",
      "accuracy(test[1], test[2]) = 0.9901\n",
      "accuracy(test[1], test[2]) = 0.9875\n",
      "accuracy(test[1], test[2]) = 0.9907\n",
      "accuracy(test[1], test[2]) = 0.9867\n",
      "accuracy(test[1], test[2]) = 0.9869\n",
      "accuracy(test[1], test[2]) = 0.9865\n",
      "accuracy(test[1], test[2]) = 0.9884\n",
      "accuracy(test[1], test[2]) = 0.9886\n",
      "accuracy(test[1], test[2]) = 0.9864\n"
     ]
    },
    {
     "name": "stderr",
     "output_type": "stream",
     "text": [
      "┌ Info: Epoch 9\n",
      "└ @ Main /home/pika/.julia/packages/Flux/qXNjB/src/optimise/train.jl:105\n"
     ]
    },
    {
     "name": "stdout",
     "output_type": "stream",
     "text": [
      "accuracy(test[1], test[2]) = 0.9882\n",
      "accuracy(test[1], test[2]) = 0.9869\n",
      "accuracy(test[1], test[2]) = 0.9876\n",
      "accuracy(test[1], test[2]) = 0.9826\n",
      "accuracy(test[1], test[2]) = 0.986\n",
      "accuracy(test[1], test[2]) = 0.9812\n",
      "accuracy(test[1], test[2]) = 0.9887\n",
      "accuracy(test[1], test[2]) = 0.9858\n",
      "accuracy(test[1], test[2]) = 0.9861\n",
      "accuracy(test[1], test[2]) = 0.9876\n",
      "accuracy(test[1], test[2]) = 0.9886\n",
      "accuracy(test[1], test[2]) = 0.9883\n",
      "accuracy(test[1], test[2]) = 0.9893\n",
      "accuracy(test[1], test[2]) = 0.9886\n",
      "accuracy(test[1], test[2]) = 0.9869\n",
      "accuracy(test[1], test[2]) = 0.9879\n",
      "accuracy(test[1], test[2]) = 0.9864\n",
      "accuracy(test[1], test[2]) = 0.9865\n",
      "accuracy(test[1], test[2]) = 0.9868\n",
      "accuracy(test[1], test[2]) = 0.9896\n",
      "accuracy(test[1], test[2]) = 0.9862\n",
      "accuracy(test[1], test[2]) = 0.9907\n",
      "accuracy(test[1], test[2]) = 0.9868\n",
      "accuracy(test[1], test[2]) = 0.9867\n",
      "accuracy(test[1], test[2]) = 0.9862\n",
      "accuracy(test[1], test[2]) = 0.9881\n",
      "accuracy(test[1], test[2]) = 0.9864\n",
      "accuracy(test[1], test[2]) = 0.9882\n",
      "accuracy(test[1], test[2]) = 0.986\n"
     ]
    },
    {
     "name": "stderr",
     "output_type": "stream",
     "text": [
      "┌ Info: Epoch 10\n",
      "└ @ Main /home/pika/.julia/packages/Flux/qXNjB/src/optimise/train.jl:105\n"
     ]
    },
    {
     "name": "stdout",
     "output_type": "stream",
     "text": [
      "accuracy(test[1], test[2]) = 0.989\n",
      "accuracy(test[1], test[2]) = 0.9869\n",
      "accuracy(test[1], test[2]) = 0.987\n",
      "accuracy(test[1], test[2]) = 0.9881\n",
      "accuracy(test[1], test[2]) = 0.9836\n",
      "accuracy(test[1], test[2]) = 0.9855\n",
      "accuracy(test[1], test[2]) = 0.9877\n",
      "accuracy(test[1], test[2]) = 0.9872\n",
      "accuracy(test[1], test[2]) = 0.9795\n",
      "accuracy(test[1], test[2]) = 0.9861\n",
      "accuracy(test[1], test[2]) = 0.9886\n",
      "accuracy(test[1], test[2]) = 0.9867\n",
      "accuracy(test[1], test[2]) = 0.988\n",
      "accuracy(test[1], test[2]) = 0.9869\n",
      "accuracy(test[1], test[2]) = 0.9887\n",
      "accuracy(test[1], test[2]) = 0.9885\n",
      "accuracy(test[1], test[2]) = 0.9877\n",
      "accuracy(test[1], test[2]) = 0.9858\n",
      "accuracy(test[1], test[2]) = 0.9889\n",
      "accuracy(test[1], test[2]) = 0.9884\n",
      "accuracy(test[1], test[2]) = 0.9861\n",
      "accuracy(test[1], test[2]) = 0.9871\n",
      "accuracy(test[1], test[2]) = 0.9875\n",
      "accuracy(test[1], test[2]) = 0.9862\n",
      "accuracy(test[1], test[2]) = 0.9859\n",
      "accuracy(test[1], test[2]) = 0.9878\n",
      "accuracy(test[1], test[2]) = 0.9877\n",
      "accuracy(test[1], test[2]) = 0.9893\n",
      "accuracy(test[1], test[2]) = 0.9873\n",
      "accuracy(test[1], test[2]) = 0.9842\n",
      "accuracy(test[1], test[2]) = 0.9902\n",
      "accuracy(test[1], test[2]) = 0.9877\n",
      "accuracy(test[1], test[2]) = 0.9881\n",
      "accuracy(test[1], test[2]) = 0.988\n",
      "accuracy(test[1], test[2]) = 0.9885\n",
      "accuracy(test[1], test[2]) = 0.9877\n"
     ]
    }
   ],
   "source": [
    "@epochs 10 Flux.train!(loss, params(model), train, opt, cb=throttle(evalcb, 10))"
   ]
  },
  {
   "cell_type": "code",
   "execution_count": null,
   "metadata": {},
   "outputs": [],
   "source": []
  }
 ],
 "metadata": {
  "kernelspec": {
   "display_name": "Julia 1.1.0",
   "language": "julia",
   "name": "julia-1.1"
  },
  "language_info": {
   "file_extension": ".jl",
   "mimetype": "application/julia",
   "name": "julia",
   "version": "1.1.0"
  }
 },
 "nbformat": 4,
 "nbformat_minor": 2
}
