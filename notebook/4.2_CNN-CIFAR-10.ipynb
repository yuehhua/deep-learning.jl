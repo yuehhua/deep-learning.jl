{
 "cells": [
  {
   "cell_type": "markdown",
   "metadata": {},
   "source": [
    "# Convolutional neural network"
   ]
  },
  {
   "cell_type": "code",
   "execution_count": 1,
   "metadata": {},
   "outputs": [
    {
     "name": "stderr",
     "output_type": "stream",
     "text": [
      "┌ Info: Precompiling Flux [587475ba-b771-5e3f-ad9e-33799f191a9c]\n",
      "└ @ Base loading.jl:1192\n"
     ]
    }
   ],
   "source": [
    "using MLDatasets\n",
    "using Flux\n",
    "using Flux: @epochs, onehotbatch, onecold, crossentropy, throttle\n",
    "using Base.Iterators: repeated, partition\n",
    "using Statistics: mean\n",
    "# using CuArrays"
   ]
  },
  {
   "cell_type": "markdown",
   "metadata": {},
   "source": [
    "## Load data"
   ]
  },
  {
   "cell_type": "markdown",
   "metadata": {},
   "source": [
    "Classify CIFAR10 with a convolutional network"
   ]
  },
  {
   "cell_type": "code",
   "execution_count": 2,
   "metadata": {},
   "outputs": [
    {
     "data": {
      "text/plain": [
       "(FixedPointNumbers.Normed{UInt8,8}[0.62 0.596 … 0.239 0.212; 0.624 0.592 … 0.192 0.22; … ; 0.494 0.49 … 0.114 0.133; 0.455 0.467 … 0.078 0.082]\n",
       "\n",
       "FixedPointNumbers.Normed{UInt8,8}[0.439 0.439 … 0.455 0.42; 0.435 0.431 … 0.4 0.412; … ; 0.357 0.357 … 0.322 0.329; 0.333 0.345 … 0.251 0.263]\n",
       "\n",
       "FixedPointNumbers.Normed{UInt8,8}[0.192 0.2 … 0.659 0.627; 0.184 0.157 … 0.58 0.584; … ; 0.141 0.125 … 0.494 0.506; 0.129 0.133 … 0.42 0.431]\n",
       "\n",
       "FixedPointNumbers.Normed{UInt8,8}[0.922 0.933 … 0.322 0.333; 0.906 0.922 … 0.18 0.243; … ; 0.914 0.925 … 0.725 0.706; 0.91 0.922 … 0.733 0.729]\n",
       "\n",
       "FixedPointNumbers.Normed{UInt8,8}[0.922 0.933 … 0.376 0.396; 0.906 0.922 … 0.224 0.294; … ; 0.914 0.925 … 0.784 0.765; 0.91 0.922 … 0.792 0.784]\n",
       "\n",
       "FixedPointNumbers.Normed{UInt8,8}[0.922 0.933 … 0.322 0.325; 0.906 0.922 … 0.141 0.188; … ; 0.914 0.925 … 0.769 0.749; 0.91 0.922 … 0.784 0.78]\n",
       "\n",
       "FixedPointNumbers.Normed{UInt8,8}[0.62 0.667 … 0.09 0.11; 0.62 0.675 … 0.106 0.118; … ; 0.929 0.965 … 0.016 0.016; 0.933 0.965 … 0.02 0.027]\n",
       "\n",
       "FixedPointNumbers.Normed{UInt8,8}[0.745 0.784 … 0.133 0.161; 0.733 0.78 … 0.149 0.169; … ; 0.937 0.965 … 0.024 0.02; 0.945 0.969 … 0.027 0.031]\n",
       "\n",
       "FixedPointNumbers.Normed{UInt8,8}[0.871 0.898 … 0.153 0.184; 0.855 0.886 … 0.169 0.196; … ; 0.953 0.98 … 0.012 0.012; 0.965 0.984 … 0.012 0.027]\n",
       "\n",
       "...\n",
       "\n",
       "FixedPointNumbers.Normed{UInt8,8}[0.078 0.082 … 0.129 0.122; 0.075 0.078 … 0.133 0.125; … ; 0.047 0.039 … 0.106 0.102; 0.051 0.047 … 0.098 0.098]\n",
       "\n",
       "FixedPointNumbers.Normed{UInt8,8}[0.059 0.063 … 0.098 0.09; 0.055 0.063 … 0.102 0.094; … ; 0.043 0.035 … 0.094 0.09; 0.047 0.043 … 0.086 0.078]\n",
       "\n",
       "FixedPointNumbers.Normed{UInt8,8}[0.047 0.051 … 0.055 0.047; 0.043 0.051 … 0.059 0.051; … ; 0.035 0.027 … 0.22 0.208; 0.039 0.035 … 0.184 0.184]\n",
       "\n",
       "FixedPointNumbers.Normed{UInt8,8}[0.098 0.047 … 0.404 0.373; 0.059 0.078 … 0.408 0.373; … ; 0.361 0.584 … 0.388 0.373; 0.294 0.408 … 0.361 0.361]\n",
       "\n",
       "FixedPointNumbers.Normed{UInt8,8}[0.157 0.098 … 0.518 0.494; 0.141 0.145 … 0.514 0.482; … ; 0.443 0.659 … 0.498 0.482; 0.349 0.459 … 0.475 0.471]\n",
       "\n",
       "FixedPointNumbers.Normed{UInt8,8}[0.047 0.024 … 0.325 0.306; 0.012 0.027 … 0.325 0.298; … ; 0.439 0.694 … 0.329 0.318; 0.361 0.514 … 0.31 0.314]\n",
       "\n",
       "FixedPointNumbers.Normed{UInt8,8}[0.286 0.271 … 0.451 0.455; 0.384 0.329 … 0.482 0.475; … ; 0.529 0.278 … 0.259 0.267; 0.796 0.471 … 0.106 0.106]\n",
       "\n",
       "FixedPointNumbers.Normed{UInt8,8}[0.306 0.286 … 0.475 0.471; 0.404 0.349 … 0.486 0.478; … ; 0.584 0.322 … 0.255 0.255; 0.843 0.522 … 0.106 0.102]\n",
       "\n",
       "FixedPointNumbers.Normed{UInt8,8}[0.294 0.275 … 0.357 0.353; 0.443 0.38 … 0.373 0.369; … ; 0.604 0.314 … 0.231 0.227; 0.875 0.529 … 0.106 0.102], [3, 8, 8, 0, 6, 6, 1, 6, 3, 1  …  7, 0, 3, 5, 3, 8, 3, 5, 1, 7])"
      ]
     },
     "execution_count": 2,
     "metadata": {},
     "output_type": "execute_result"
    }
   ],
   "source": [
    "train_x, train_y = CIFAR10.traindata()\n",
    "test_x,  test_y  = CIFAR10.testdata()"
   ]
  },
  {
   "cell_type": "code",
   "execution_count": 3,
   "metadata": {},
   "outputs": [
    {
     "data": {
      "text/plain": [
       "10×10000 Flux.OneHotMatrix{Array{Flux.OneHotVector,1}}:\n",
       " false  false  false   true  false  …  false  false  false  false  false\n",
       " false  false  false  false  false     false  false  false   true  false\n",
       " false  false  false  false  false     false  false  false  false  false\n",
       "  true  false  false  false  false     false   true  false  false  false\n",
       " false  false  false  false  false     false  false  false  false  false\n",
       " false  false  false  false  false  …  false  false   true  false  false\n",
       " false  false  false  false   true     false  false  false  false  false\n",
       " false  false  false  false  false     false  false  false  false   true\n",
       " false   true   true  false  false      true  false  false  false  false\n",
       " false  false  false  false  false     false  false  false  false  false"
      ]
     },
     "execution_count": 3,
     "metadata": {},
     "output_type": "execute_result"
    }
   ],
   "source": [
    "train_x = Float64.(train_x / 255)\n",
    "train_y = onehotbatch(train_y, 0:9)\n",
    "test_x = Float64.(test_x / 255)\n",
    "test_y = onehotbatch(test_y, 0:9)"
   ]
  },
  {
   "cell_type": "markdown",
   "metadata": {},
   "source": [
    "## Preprocessing"
   ]
  },
  {
   "cell_type": "code",
   "execution_count": 4,
   "metadata": {},
   "outputs": [],
   "source": [
    "# Partition into batches of size 1,000\n",
    "train = [(train_x[:, :, :, i:(i+999)], train_y[:, i:(i+999)]) for i = 1:1000:50_000];\n",
    "# train = gpu.(train)"
   ]
  },
  {
   "cell_type": "code",
   "execution_count": 5,
   "metadata": {},
   "outputs": [
    {
     "data": {
      "text/plain": [
       "10×1000 Flux.OneHotMatrix{Array{Flux.OneHotVector,1}}:\n",
       " false  false  false   true  false  …  false  false  false  false  false\n",
       " false  false  false  false  false     false  false   true  false  false\n",
       " false  false  false  false  false     false  false  false  false  false\n",
       "  true  false  false  false  false      true  false  false   true  false\n",
       " false  false  false  false  false     false  false  false  false  false\n",
       " false  false  false  false  false  …  false  false  false  false  false\n",
       " false  false  false  false   true     false  false  false  false  false\n",
       " false  false  false  false  false     false  false  false  false  false\n",
       " false   true   true  false  false     false   true  false  false   true\n",
       " false  false  false  false  false     false  false  false  false  false"
      ]
     },
     "execution_count": 5,
     "metadata": {},
     "output_type": "execute_result"
    }
   ],
   "source": [
    "# Prepare test set (first 1,000 images)\n",
    "test_x = test_x[:, :, :, 1:1000]# |> gpu\n",
    "test_y = test_y[:, 1:1000]# |> gpu"
   ]
  },
  {
   "cell_type": "markdown",
   "metadata": {},
   "source": [
    "## Model"
   ]
  },
  {
   "cell_type": "code",
   "execution_count": 6,
   "metadata": {},
   "outputs": [
    {
     "data": {
      "text/plain": [
       "Chain(Conv((3, 3), 3=>32, NNlib.relu), Conv((3, 3), 32=>64, NNlib.relu), MaxPool((2, 2), pad = (0, 0), stride = (2, 2)), BatchNorm(64), Conv((3, 3), 64=>128, NNlib.relu), MaxPool((2, 2), pad = (0, 0), stride = (2, 2)), Conv((2, 2), 128=>128, NNlib.relu), MaxPool((2, 2), pad = (0, 0), stride = (2, 2)), BatchNorm(128), getfield(Main, Symbol(\"##5#6\"))(), Dense(512, 1500, NNlib.relu), BatchNorm(1500), Dense(1500, 10), NNlib.softmax)"
      ]
     },
     "execution_count": 6,
     "metadata": {},
     "output_type": "execute_result"
    }
   ],
   "source": [
    "m = Chain(\n",
    "    Conv((3, 3), 3=>32, relu),  # (32, 32, 3) -> (30, 30, 32)\n",
    "    Conv((3, 3), 32=>64, relu),  # (30, 30, 32) -> (28, 28, 64)\n",
    "    MaxPool((2, 2); stride=2),  # (28, 28, 64) -> (14, 14, 64)\n",
    "    BatchNorm(64),\n",
    "#     Dropout(0.25),\n",
    "    Conv((3, 3), 64=>128, relu),  # (14, 14, 64) -> (12, 12, 128)\n",
    "    MaxPool((2, 2); stride=2),  # (12, 12, 128) -> (6, 6, 128)\n",
    "    Conv((2, 2), 128=>128, relu),  # (6, 6, 128) -> (5, 5, 128)\n",
    "    MaxPool((2, 2); stride=2),  # (5, 5, 128) -> (2, 2, 128)\n",
    "    BatchNorm(128),\n",
    "#     Dropout(0.25),\n",
    "    x -> reshape(x, :, size(x, 4)),  # (2, 2, 128) -> 512\n",
    "    Dense(512, 1500, relu),\n",
    "    BatchNorm(1500),\n",
    "#     Dropout(0.5),\n",
    "    Dense(1500, 10), softmax)# |> gpu"
   ]
  },
  {
   "cell_type": "code",
   "execution_count": 7,
   "metadata": {},
   "outputs": [
    {
     "data": {
      "text/plain": [
       "Tracked 10×1000 Array{Float64,2}:\n",
       " 0.0568679  0.0103461   0.00703472  …  0.0392362   0.130936     0.244954  \n",
       " 0.0270128  0.0046239   0.022868       0.111868    0.00116973   0.028365  \n",
       " 0.0213119  0.0113251   0.100495       0.00824322  0.00134271   0.174683  \n",
       " 0.0612366  0.191805    0.565134       0.0136359   0.00539958   0.0704018 \n",
       " 0.0151398  0.00521066  0.00566327     0.526132    0.000660848  0.0676    \n",
       " 0.0280726  0.0688699   0.0108432   …  0.0250514   0.569193     0.121266  \n",
       " 0.0611917  0.179117    0.0073833      0.0530104   0.00380535   0.0566555 \n",
       " 0.0110749  0.171776    0.098394       0.105363    0.0076263    0.00394231\n",
       " 0.699222   0.00477428  0.175787       0.110197    0.00107982   0.174497  \n",
       " 0.0188699  0.352152    0.00639764     0.00726344  0.278786     0.0576363 "
      ]
     },
     "execution_count": 7,
     "metadata": {},
     "output_type": "execute_result"
    }
   ],
   "source": [
    "m(train[1][1])  # test if model works"
   ]
  },
  {
   "cell_type": "markdown",
   "metadata": {},
   "source": [
    "## Loss function"
   ]
  },
  {
   "cell_type": "code",
   "execution_count": 8,
   "metadata": {},
   "outputs": [
    {
     "data": {
      "text/plain": [
       "loss (generic function with 1 method)"
      ]
     },
     "execution_count": 8,
     "metadata": {},
     "output_type": "execute_result"
    }
   ],
   "source": [
    "loss(x, y) = crossentropy(m(x), y)"
   ]
  },
  {
   "cell_type": "code",
   "execution_count": 9,
   "metadata": {},
   "outputs": [
    {
     "data": {
      "text/plain": [
       "accuracy (generic function with 1 method)"
      ]
     },
     "execution_count": 9,
     "metadata": {},
     "output_type": "execute_result"
    }
   ],
   "source": [
    "accuracy(x, y) = mean(onecold(m(x)) .== onecold(y))"
   ]
  },
  {
   "cell_type": "markdown",
   "metadata": {},
   "source": [
    "## Optimizer"
   ]
  },
  {
   "cell_type": "code",
   "execution_count": 10,
   "metadata": {},
   "outputs": [
    {
     "data": {
      "text/plain": [
       "#43 (generic function with 1 method)"
      ]
     },
     "execution_count": 10,
     "metadata": {},
     "output_type": "execute_result"
    }
   ],
   "source": [
    "evalcb = throttle(() -> @show(accuracy(test_x, test_y)), 10)\n",
    "opt = ADAM(params(m))"
   ]
  },
  {
   "cell_type": "markdown",
   "metadata": {},
   "source": [
    "## Training"
   ]
  },
  {
   "cell_type": "code",
   "execution_count": 11,
   "metadata": {},
   "outputs": [
    {
     "name": "stderr",
     "output_type": "stream",
     "text": [
      "┌ Info: Epoch 1\n",
      "└ @ Main /home/pika/.julia/packages/Flux/rcN9D/src/optimise/train.jl:93\n"
     ]
    },
    {
     "name": "stdout",
     "output_type": "stream",
     "text": [
      "accuracy(test_x, test_y) = 0.203\n",
      "accuracy(test_x, test_y) = 0.238\n",
      "accuracy(test_x, test_y) = 0.29\n",
      "accuracy(test_x, test_y) = 0.324\n",
      "accuracy(test_x, test_y) = 0.369\n",
      "accuracy(test_x, test_y) = 0.383\n",
      "accuracy(test_x, test_y) = 0.385\n",
      "accuracy(test_x, test_y) = 0.393\n",
      "accuracy(test_x, test_y) = 0.426\n",
      "accuracy(test_x, test_y) = 0.416\n",
      "accuracy(test_x, test_y) = 0.446\n",
      "accuracy(test_x, test_y) = 0.461\n",
      "accuracy(test_x, test_y) = 0.472\n",
      "accuracy(test_x, test_y) = 0.479\n",
      "accuracy(test_x, test_y) = 0.462\n",
      "accuracy(test_x, test_y) = 0.481\n",
      "accuracy(test_x, test_y) = 0.479\n"
     ]
    },
    {
     "name": "stderr",
     "output_type": "stream",
     "text": [
      "┌ Info: Epoch 2\n",
      "└ @ Main /home/pika/.julia/packages/Flux/rcN9D/src/optimise/train.jl:93\n"
     ]
    },
    {
     "name": "stdout",
     "output_type": "stream",
     "text": [
      "accuracy(test_x, test_y) = 0.512\n",
      "accuracy(test_x, test_y) = 0.494\n",
      "accuracy(test_x, test_y) = 0.519\n",
      "accuracy(test_x, test_y) = 0.482\n",
      "accuracy(test_x, test_y) = 0.504\n",
      "accuracy(test_x, test_y) = 0.523\n",
      "accuracy(test_x, test_y) = 0.514\n",
      "accuracy(test_x, test_y) = 0.501\n",
      "accuracy(test_x, test_y) = 0.53\n",
      "accuracy(test_x, test_y) = 0.534\n",
      "accuracy(test_x, test_y) = 0.496\n",
      "accuracy(test_x, test_y) = 0.53\n",
      "accuracy(test_x, test_y) = 0.528\n",
      "accuracy(test_x, test_y) = 0.526\n",
      "accuracy(test_x, test_y) = 0.55\n",
      "accuracy(test_x, test_y) = 0.542\n",
      "accuracy(test_x, test_y) = 0.55\n"
     ]
    },
    {
     "name": "stderr",
     "output_type": "stream",
     "text": [
      "┌ Info: Epoch 3\n",
      "└ @ Main /home/pika/.julia/packages/Flux/rcN9D/src/optimise/train.jl:93\n"
     ]
    },
    {
     "name": "stdout",
     "output_type": "stream",
     "text": [
      "accuracy(test_x, test_y) = 0.566\n",
      "accuracy(test_x, test_y) = 0.559\n",
      "accuracy(test_x, test_y) = 0.563\n",
      "accuracy(test_x, test_y) = 0.544\n",
      "accuracy(test_x, test_y) = 0.534\n",
      "accuracy(test_x, test_y) = 0.523\n",
      "accuracy(test_x, test_y) = 0.548\n",
      "accuracy(test_x, test_y) = 0.544\n",
      "accuracy(test_x, test_y) = 0.567\n",
      "accuracy(test_x, test_y) = 0.568\n",
      "accuracy(test_x, test_y) = 0.568\n",
      "accuracy(test_x, test_y) = 0.595\n",
      "accuracy(test_x, test_y) = 0.551\n",
      "accuracy(test_x, test_y) = 0.566\n",
      "accuracy(test_x, test_y) = 0.59\n",
      "accuracy(test_x, test_y) = 0.573\n",
      "accuracy(test_x, test_y) = 0.583\n"
     ]
    },
    {
     "name": "stderr",
     "output_type": "stream",
     "text": [
      "┌ Info: Epoch 4\n",
      "└ @ Main /home/pika/.julia/packages/Flux/rcN9D/src/optimise/train.jl:93\n"
     ]
    },
    {
     "name": "stdout",
     "output_type": "stream",
     "text": [
      "accuracy(test_x, test_y) = 0.588\n",
      "accuracy(test_x, test_y) = 0.588\n",
      "accuracy(test_x, test_y) = 0.603\n",
      "accuracy(test_x, test_y) = 0.563\n",
      "accuracy(test_x, test_y) = 0.568\n",
      "accuracy(test_x, test_y) = 0.569\n",
      "accuracy(test_x, test_y) = 0.594\n",
      "accuracy(test_x, test_y) = 0.597\n",
      "accuracy(test_x, test_y) = 0.601\n",
      "accuracy(test_x, test_y) = 0.586\n",
      "accuracy(test_x, test_y) = 0.576\n",
      "accuracy(test_x, test_y) = 0.594\n",
      "accuracy(test_x, test_y) = 0.595\n",
      "accuracy(test_x, test_y) = 0.605\n",
      "accuracy(test_x, test_y) = 0.582\n",
      "accuracy(test_x, test_y) = 0.59\n",
      "accuracy(test_x, test_y) = 0.58\n"
     ]
    },
    {
     "name": "stderr",
     "output_type": "stream",
     "text": [
      "┌ Info: Epoch 5\n",
      "└ @ Main /home/pika/.julia/packages/Flux/rcN9D/src/optimise/train.jl:93\n"
     ]
    },
    {
     "name": "stdout",
     "output_type": "stream",
     "text": [
      "accuracy(test_x, test_y) = 0.61\n",
      "accuracy(test_x, test_y) = 0.606\n",
      "accuracy(test_x, test_y) = 0.601\n",
      "accuracy(test_x, test_y) = 0.596\n",
      "accuracy(test_x, test_y) = 0.597\n",
      "accuracy(test_x, test_y) = 0.596\n",
      "accuracy(test_x, test_y) = 0.615\n",
      "accuracy(test_x, test_y) = 0.609\n",
      "accuracy(test_x, test_y) = 0.61\n",
      "accuracy(test_x, test_y) = 0.621\n",
      "accuracy(test_x, test_y) = 0.589\n",
      "accuracy(test_x, test_y) = 0.614\n",
      "accuracy(test_x, test_y) = 0.621\n",
      "accuracy(test_x, test_y) = 0.614\n",
      "accuracy(test_x, test_y) = 0.611\n",
      "accuracy(test_x, test_y) = 0.601\n",
      "accuracy(test_x, test_y) = 0.61\n"
     ]
    },
    {
     "name": "stderr",
     "output_type": "stream",
     "text": [
      "┌ Info: Epoch 6\n",
      "└ @ Main /home/pika/.julia/packages/Flux/rcN9D/src/optimise/train.jl:93\n"
     ]
    },
    {
     "name": "stdout",
     "output_type": "stream",
     "text": [
      "accuracy(test_x, test_y) = 0.634\n",
      "accuracy(test_x, test_y) = 0.628\n",
      "accuracy(test_x, test_y) = 0.635\n",
      "accuracy(test_x, test_y) = 0.615\n",
      "accuracy(test_x, test_y) = 0.61\n",
      "accuracy(test_x, test_y) = 0.587\n",
      "accuracy(test_x, test_y) = 0.596\n",
      "accuracy(test_x, test_y) = 0.599\n",
      "accuracy(test_x, test_y) = 0.61\n",
      "accuracy(test_x, test_y) = 0.62\n",
      "accuracy(test_x, test_y) = 0.627\n",
      "accuracy(test_x, test_y) = 0.627\n",
      "accuracy(test_x, test_y) = 0.624\n",
      "accuracy(test_x, test_y) = 0.626\n",
      "accuracy(test_x, test_y) = 0.643\n",
      "accuracy(test_x, test_y) = 0.642\n",
      "accuracy(test_x, test_y) = 0.65\n"
     ]
    },
    {
     "name": "stderr",
     "output_type": "stream",
     "text": [
      "┌ Info: Epoch 7\n",
      "└ @ Main /home/pika/.julia/packages/Flux/rcN9D/src/optimise/train.jl:93\n"
     ]
    },
    {
     "name": "stdout",
     "output_type": "stream",
     "text": [
      "accuracy(test_x, test_y) = 0.647\n",
      "accuracy(test_x, test_y) = 0.635\n",
      "accuracy(test_x, test_y) = 0.647\n",
      "accuracy(test_x, test_y) = 0.648\n",
      "accuracy(test_x, test_y) = 0.63\n",
      "accuracy(test_x, test_y) = 0.635\n",
      "accuracy(test_x, test_y) = 0.638\n",
      "accuracy(test_x, test_y) = 0.635\n",
      "accuracy(test_x, test_y) = 0.632\n",
      "accuracy(test_x, test_y) = 0.631\n",
      "accuracy(test_x, test_y) = 0.623\n",
      "accuracy(test_x, test_y) = 0.652\n",
      "accuracy(test_x, test_y) = 0.64\n",
      "accuracy(test_x, test_y) = 0.654\n",
      "accuracy(test_x, test_y) = 0.652\n",
      "accuracy(test_x, test_y) = 0.646\n",
      "accuracy(test_x, test_y) = 0.668\n"
     ]
    },
    {
     "name": "stderr",
     "output_type": "stream",
     "text": [
      "┌ Info: Epoch 8\n",
      "└ @ Main /home/pika/.julia/packages/Flux/rcN9D/src/optimise/train.jl:93\n"
     ]
    },
    {
     "name": "stdout",
     "output_type": "stream",
     "text": [
      "accuracy(test_x, test_y) = 0.647\n",
      "accuracy(test_x, test_y) = 0.658\n",
      "accuracy(test_x, test_y) = 0.641\n",
      "accuracy(test_x, test_y) = 0.646\n",
      "accuracy(test_x, test_y) = 0.652\n",
      "accuracy(test_x, test_y) = 0.647\n",
      "accuracy(test_x, test_y) = 0.626\n",
      "accuracy(test_x, test_y) = 0.64\n",
      "accuracy(test_x, test_y) = 0.627\n",
      "accuracy(test_x, test_y) = 0.612\n",
      "accuracy(test_x, test_y) = 0.626\n",
      "accuracy(test_x, test_y) = 0.651\n",
      "accuracy(test_x, test_y) = 0.661\n",
      "accuracy(test_x, test_y) = 0.668\n",
      "accuracy(test_x, test_y) = 0.648\n",
      "accuracy(test_x, test_y) = 0.646\n",
      "accuracy(test_x, test_y) = 0.653\n"
     ]
    },
    {
     "name": "stderr",
     "output_type": "stream",
     "text": [
      "┌ Info: Epoch 9\n",
      "└ @ Main /home/pika/.julia/packages/Flux/rcN9D/src/optimise/train.jl:93\n"
     ]
    },
    {
     "name": "stdout",
     "output_type": "stream",
     "text": [
      "accuracy(test_x, test_y) = 0.67\n",
      "accuracy(test_x, test_y) = 0.651\n",
      "accuracy(test_x, test_y) = 0.658\n"
     ]
    },
    {
     "ename": "InterruptException",
     "evalue": "InterruptException:",
     "output_type": "error",
     "traceback": [
      "InterruptException:",
      "",
      "Stacktrace:",
      " [1] #train!#121(::getfield(Flux, Symbol(\"#throttled#18\")){getfield(Flux, Symbol(\"##throttled#10#14\")){Bool,Bool,getfield(Main, Symbol(\"##7#8\")),Int64}}, ::Function, ::Function, ::Array{Tuple{Array{Float64,4},Flux.OneHotMatrix{Array{Flux.OneHotVector,1}}},1}, ::getfield(Flux.Optimise, Symbol(\"##43#47\"))) at /home/pika/.julia/packages/Juno/46C8i/src/progress.jl:113",
      " [2] (::getfield(Flux.Optimise, Symbol(\"#kw##train!\")))(::NamedTuple{(:cb,),Tuple{getfield(Flux, Symbol(\"#throttled#18\")){getfield(Flux, Symbol(\"##throttled#10#14\")){Bool,Bool,getfield(Main, Symbol(\"##7#8\")),Int64}}}}, ::typeof(Flux.Optimise.train!), ::Function, ::Array{Tuple{Array{Float64,4},Flux.OneHotMatrix{Array{Flux.OneHotVector,1}}},1}, ::Function) at ./none:0",
      " [3] top-level scope at /home/pika/.julia/packages/Juno/46C8i/src/progress.jl:109"
     ]
    }
   ],
   "source": [
    "@epochs 10 Flux.train!(loss, train, opt, cb=evalcb)"
   ]
  },
  {
   "cell_type": "code",
   "execution_count": null,
   "metadata": {},
   "outputs": [],
   "source": []
  }
 ],
 "metadata": {
  "kernelspec": {
   "display_name": "Julia 1.0.2",
   "language": "julia",
   "name": "julia-1.0"
  },
  "language_info": {
   "file_extension": ".jl",
   "mimetype": "application/julia",
   "name": "julia",
   "version": "1.0.2"
  }
 },
 "nbformat": 4,
 "nbformat_minor": 2
}
