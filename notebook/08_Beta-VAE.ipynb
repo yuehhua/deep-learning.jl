{
 "cells": [
  {
   "cell_type": "markdown",
   "metadata": {},
   "source": [
    "# $\\beta$-variational autoencoder"
   ]
  },
  {
   "cell_type": "code",
   "execution_count": 1,
   "metadata": {},
   "outputs": [
    {
     "name": "stderr",
     "output_type": "stream",
     "text": [
      "WARNING: using Distributions.params in module Main conflicts with an existing identifier.\n"
     ]
    }
   ],
   "source": [
    "using Flux, Flux.Data.MNIST\n",
    "using Flux: @epochs, throttle, params\n",
    "using Distributions\n",
    "import Distributions: logpdf\n",
    "# using CuArrays"
   ]
  },
  {
   "cell_type": "markdown",
   "metadata": {},
   "source": [
    "**For numerically stable, extend distributions slightly to have a logpdf for `p` close to 1 or 0.**"
   ]
  },
  {
   "cell_type": "code",
   "execution_count": 2,
   "metadata": {},
   "outputs": [
    {
     "data": {
      "text/plain": [
       "logpdf (generic function with 64 methods)"
      ]
     },
     "execution_count": 2,
     "metadata": {},
     "output_type": "execute_result"
    }
   ],
   "source": [
    "logpdf(b::Bernoulli, y::Bool) = y * log(b.p + eps()) + (1 - y) * log(1 - b.p + eps())"
   ]
  },
  {
   "cell_type": "markdown",
   "metadata": {},
   "source": [
    "# Load data"
   ]
  },
  {
   "cell_type": "code",
   "execution_count": 3,
   "metadata": {},
   "outputs": [],
   "source": [
    "X = MNIST.images();"
   ]
  },
  {
   "cell_type": "markdown",
   "metadata": {},
   "source": [
    "## Binarise"
   ]
  },
  {
   "cell_type": "code",
   "execution_count": 4,
   "metadata": {},
   "outputs": [
    {
     "data": {
      "text/plain": [
       "784×60000 BitArray{2}:\n",
       " 0  0  0  0  0  0  0  0  0  0  0  0  0  …  0  0  0  0  0  0  0  0  0  0  0  0\n",
       " 0  0  0  0  0  0  0  0  0  0  0  0  0     0  0  0  0  0  0  0  0  0  0  0  0\n",
       " 0  0  0  0  0  0  0  0  0  0  0  0  0     0  0  0  0  0  0  0  0  0  0  0  0\n",
       " 0  0  0  0  0  0  0  0  0  0  0  0  0     0  0  0  0  0  0  0  0  0  0  0  0\n",
       " 0  0  0  0  0  0  0  0  0  0  0  0  0     0  0  0  0  0  0  0  0  0  0  0  0\n",
       " 0  0  0  0  0  0  0  0  0  0  0  0  0  …  0  0  0  0  0  0  0  0  0  0  0  0\n",
       " 0  0  0  0  0  0  0  0  0  0  0  0  0     0  0  0  0  0  0  0  0  0  0  0  0\n",
       " 0  0  0  0  0  0  0  0  0  0  0  0  0     0  0  0  0  0  0  0  0  0  0  0  0\n",
       " 0  0  0  0  0  0  0  0  0  0  0  0  0     0  0  0  0  0  0  0  0  0  0  0  0\n",
       " 0  0  0  0  0  0  0  0  0  0  0  0  0     0  0  0  0  0  0  0  0  0  0  0  0\n",
       " 0  0  0  0  0  0  0  0  0  0  0  0  0  …  0  0  0  0  0  0  0  0  0  0  0  0\n",
       " 0  0  0  0  0  0  0  0  0  0  0  0  0     0  0  0  0  0  0  0  0  0  0  0  0\n",
       " 0  0  0  0  0  0  0  0  0  0  0  0  0     0  0  0  0  0  0  0  0  0  0  0  0\n",
       " ⋮              ⋮              ⋮        ⋱        ⋮              ⋮           \n",
       " 0  0  0  0  0  0  0  0  0  0  0  0  0     0  0  0  0  0  0  0  0  0  0  0  0\n",
       " 0  0  0  0  0  0  0  0  0  0  0  0  0     0  0  0  0  0  0  0  0  0  0  0  0\n",
       " 0  0  0  0  0  0  0  0  0  0  0  0  0     0  0  0  0  0  0  0  0  0  0  0  0\n",
       " 0  0  0  0  0  0  0  0  0  0  0  0  0  …  0  0  0  0  0  0  0  0  0  0  0  0\n",
       " 0  0  0  0  0  0  0  0  0  0  0  0  0     0  0  0  0  0  0  0  0  0  0  0  0\n",
       " 0  0  0  0  0  0  0  0  0  0  0  0  0     0  0  0  0  0  0  0  0  0  0  0  0\n",
       " 0  0  0  0  0  0  0  0  0  0  0  0  0     0  0  0  0  0  0  0  0  0  0  0  0\n",
       " 0  0  0  0  0  0  0  0  0  0  0  0  0     0  0  0  0  0  0  0  0  0  0  0  0\n",
       " 0  0  0  0  0  0  0  0  0  0  0  0  0  …  0  0  0  0  0  0  0  0  0  0  0  0\n",
       " 0  0  0  0  0  0  0  0  0  0  0  0  0     0  0  0  0  0  0  0  0  0  0  0  0\n",
       " 0  0  0  0  0  0  0  0  0  0  0  0  0     0  0  0  0  0  0  0  0  0  0  0  0\n",
       " 0  0  0  0  0  0  0  0  0  0  0  0  0     0  0  0  0  0  0  0  0  0  0  0  0"
      ]
     },
     "execution_count": 4,
     "metadata": {},
     "output_type": "execute_result"
    }
   ],
   "source": [
    "X = float.(hcat(vec.(X)...)) .> 0.5"
   ]
  },
  {
   "cell_type": "markdown",
   "metadata": {},
   "source": [
    "## Mini-batches"
   ]
  },
  {
   "cell_type": "code",
   "execution_count": 5,
   "metadata": {},
   "outputs": [
    {
     "data": {
      "text/plain": [
       "600-element Array{BitArray{2},1}:\n",
       " [0 0 … 0 0; 0 0 … 0 0; … ; 0 0 … 0 0; 0 0 … 0 0]\n",
       " [0 0 … 0 0; 0 0 … 0 0; … ; 0 0 … 0 0; 0 0 … 0 0]\n",
       " [0 0 … 0 0; 0 0 … 0 0; … ; 0 0 … 0 0; 0 0 … 0 0]\n",
       " [0 0 … 0 0; 0 0 … 0 0; … ; 0 0 … 0 0; 0 0 … 0 0]\n",
       " [0 0 … 0 0; 0 0 … 0 0; … ; 0 0 … 0 0; 0 0 … 0 0]\n",
       " [0 0 … 0 0; 0 0 … 0 0; … ; 0 0 … 0 0; 0 0 … 0 0]\n",
       " [0 0 … 0 0; 0 0 … 0 0; … ; 0 0 … 0 0; 0 0 … 0 0]\n",
       " [0 0 … 0 0; 0 0 … 0 0; … ; 0 0 … 0 0; 0 0 … 0 0]\n",
       " [0 0 … 0 0; 0 0 … 0 0; … ; 0 0 … 0 0; 0 0 … 0 0]\n",
       " [0 0 … 0 0; 0 0 … 0 0; … ; 0 0 … 0 0; 0 0 … 0 0]\n",
       " [0 0 … 0 0; 0 0 … 0 0; … ; 0 0 … 0 0; 0 0 … 0 0]\n",
       " [0 0 … 0 0; 0 0 … 0 0; … ; 0 0 … 0 0; 0 0 … 0 0]\n",
       " [0 0 … 0 0; 0 0 … 0 0; … ; 0 0 … 0 0; 0 0 … 0 0]\n",
       " ⋮\n",
       " [0 0 … 0 0; 0 0 … 0 0; … ; 0 0 … 0 0; 0 0 … 0 0]\n",
       " [0 0 … 0 0; 0 0 … 0 0; … ; 0 0 … 0 0; 0 0 … 0 0]\n",
       " [0 0 … 0 0; 0 0 … 0 0; … ; 0 0 … 0 0; 0 0 … 0 0]\n",
       " [0 0 … 0 0; 0 0 … 0 0; … ; 0 0 … 0 0; 0 0 … 0 0]\n",
       " [0 0 … 0 0; 0 0 … 0 0; … ; 0 0 … 0 0; 0 0 … 0 0]\n",
       " [0 0 … 0 0; 0 0 … 0 0; … ; 0 0 … 0 0; 0 0 … 0 0]\n",
       " [0 0 … 0 0; 0 0 … 0 0; … ; 0 0 … 0 0; 0 0 … 0 0]\n",
       " [0 0 … 0 0; 0 0 … 0 0; … ; 0 0 … 0 0; 0 0 … 0 0]\n",
       " [0 0 … 0 0; 0 0 … 0 0; … ; 0 0 … 0 0; 0 0 … 0 0]\n",
       " [0 0 … 0 0; 0 0 … 0 0; … ; 0 0 … 0 0; 0 0 … 0 0]\n",
       " [0 0 … 0 0; 0 0 … 0 0; … ; 0 0 … 0 0; 0 0 … 0 0]\n",
       " [0 0 … 0 0; 0 0 … 0 0; … ; 0 0 … 0 0; 0 0 … 0 0]"
      ]
     },
     "execution_count": 5,
     "metadata": {},
     "output_type": "execute_result"
    }
   ],
   "source": [
    "N, M = size(X, 2), 100\n",
    "data = [X[:,i] for i in Iterators.partition(1:N,M)]"
   ]
  },
  {
   "cell_type": "markdown",
   "metadata": {},
   "source": [
    "# Define Model"
   ]
  },
  {
   "cell_type": "code",
   "execution_count": 6,
   "metadata": {},
   "outputs": [
    {
     "data": {
      "text/plain": [
       "Chain(Dense(5, 500, tanh), Dense(500, 784, σ))"
      ]
     },
     "execution_count": 6,
     "metadata": {},
     "output_type": "execute_result"
    }
   ],
   "source": [
    "# Dimensions (D -> Dh -> Dz -> Dh -> D)\n",
    "Dz, Dh, D = 5, 500, 28^2\n",
    "β = 2\n",
    "\n",
    "# Encoder\n",
    "A, μ, logσ = Dense(D, Dh, tanh), Dense(Dh, Dz), Dense(Dh, Dz)\n",
    "g(X) = (h = A(X); (μ(h), logσ(h)))\n",
    "z(μ, logσ) = μ + exp(logσ) * randn()\n",
    "\n",
    "# Decoder\n",
    "f = Chain(Dense(Dz, Dh, tanh), Dense(Dh, D, σ))"
   ]
  },
  {
   "cell_type": "markdown",
   "metadata": {},
   "source": [
    "# Loss function and ELBO"
   ]
  },
  {
   "cell_type": "code",
   "execution_count": 7,
   "metadata": {},
   "outputs": [
    {
     "data": {
      "text/plain": [
       "modelsample (generic function with 1 method)"
      ]
     },
     "execution_count": 7,
     "metadata": {},
     "output_type": "execute_result"
    }
   ],
   "source": [
    "# KL-divergence between approximation posterior and N(0, 1) prior.\n",
    "kl_q_p(μ, logσ) = 0.5 * sum(exp.(2 .* logσ) + μ.^2 .- 1 .+ logσ.^2)\n",
    "\n",
    "# logp(x|z) - conditional probability of data given latents.\n",
    "logp_x_z(x, z) = sum(logpdf.(Bernoulli.(f(z)), x))\n",
    "\n",
    "# Monte Carlo estimator of mean ELBO using M samples.\n",
    "L̄(X) = ((μ̂, logσ̂) = g(X); (logp_x_z(X, z.(μ̂, logσ̂)) - β * kl_q_p(μ̂, logσ̂)) / M)\n",
    "\n",
    "loss(X) = -L̄(X) + 0.01 * sum(x->sum(x.^2), params(f))\n",
    "\n",
    "# Sample from the learned model.\n",
    "modelsample() = rand.(Bernoulli.(f(z.(zeros(Dz), zeros(Dz)))))"
   ]
  },
  {
   "cell_type": "markdown",
   "metadata": {},
   "source": [
    "# Learning"
   ]
  },
  {
   "cell_type": "code",
   "execution_count": 8,
   "metadata": {},
   "outputs": [
    {
     "name": "stderr",
     "output_type": "stream",
     "text": [
      "┌ Info: Epoch 1\n",
      "└ @ Main /home/yuehhua/.julia/packages/Flux/Fj3bt/src/optimise/train.jl:121\n"
     ]
    },
    {
     "name": "stdout",
     "output_type": "stream",
     "text": [
      "-(L̄(X[:, rand(1:N, M)])) = 546.1610727177351\n",
      "-(L̄(X[:, rand(1:N, M)])) = 213.3832641424489\n",
      "-(L̄(X[:, rand(1:N, M)])) = 196.60931167495124\n",
      "-(L̄(X[:, rand(1:N, M)])) = 185.77055199168817\n",
      "-(L̄(X[:, rand(1:N, M)])) = 173.49973063496117\n",
      "-(L̄(X[:, rand(1:N, M)])) = 174.96237527696044\n",
      "-(L̄(X[:, rand(1:N, M)])) = 174.5052165376622\n",
      "-(L̄(X[:, rand(1:N, M)])) = 167.9713418206042\n",
      "-(L̄(X[:, rand(1:N, M)])) = 174.87622953899452\n",
      "-(L̄(X[:, rand(1:N, M)])) = 174.53430368502603\n",
      "-(L̄(X[:, rand(1:N, M)])) = 176.01295460856446\n",
      "-(L̄(X[:, rand(1:N, M)])) = 172.9049593277661\n",
      "-(L̄(X[:, rand(1:N, M)])) = 163.9593267978114\n",
      "-(L̄(X[:, rand(1:N, M)])) = 173.23970672429977\n"
     ]
    },
    {
     "name": "stderr",
     "output_type": "stream",
     "text": [
      "┌ Info: Epoch 2\n",
      "└ @ Main /home/yuehhua/.julia/packages/Flux/Fj3bt/src/optimise/train.jl:121\n"
     ]
    },
    {
     "name": "stdout",
     "output_type": "stream",
     "text": [
      "-(L̄(X[:, rand(1:N, M)])) = 165.78650407778107\n",
      "-(L̄(X[:, rand(1:N, M)])) = 163.9335055994556\n",
      "-(L̄(X[:, rand(1:N, M)])) = 164.1849055124217\n",
      "-(L̄(X[:, rand(1:N, M)])) = 161.72780596811205\n",
      "-(L̄(X[:, rand(1:N, M)])) = 171.323078284675\n",
      "-(L̄(X[:, rand(1:N, M)])) = 172.3162659488449\n",
      "-(L̄(X[:, rand(1:N, M)])) = 160.9627313530683\n",
      "-(L̄(X[:, rand(1:N, M)])) = 153.7854391960724\n",
      "-(L̄(X[:, rand(1:N, M)])) = 154.96869187359076\n",
      "-(L̄(X[:, rand(1:N, M)])) = 160.2170826972586\n",
      "-(L̄(X[:, rand(1:N, M)])) = 159.0839512498177\n",
      "-(L̄(X[:, rand(1:N, M)])) = 161.67495475031308\n",
      "-(L̄(X[:, rand(1:N, M)])) = 163.91301064078053\n"
     ]
    },
    {
     "name": "stderr",
     "output_type": "stream",
     "text": [
      "┌ Info: Epoch 3\n",
      "└ @ Main /home/yuehhua/.julia/packages/Flux/Fj3bt/src/optimise/train.jl:121\n"
     ]
    },
    {
     "name": "stdout",
     "output_type": "stream",
     "text": [
      "-(L̄(X[:, rand(1:N, M)])) = 168.9295800931025\n",
      "-(L̄(X[:, rand(1:N, M)])) = 157.7221454549756\n",
      "-(L̄(X[:, rand(1:N, M)])) = 164.18522081315044\n",
      "-(L̄(X[:, rand(1:N, M)])) = 164.05971570446528\n",
      "-(L̄(X[:, rand(1:N, M)])) = 157.840468791587\n",
      "-(L̄(X[:, rand(1:N, M)])) = 164.20323363372302\n",
      "-(L̄(X[:, rand(1:N, M)])) = 156.41675220477026\n",
      "-(L̄(X[:, rand(1:N, M)])) = 161.5022686672569\n",
      "-(L̄(X[:, rand(1:N, M)])) = 153.92443874145218\n",
      "-(L̄(X[:, rand(1:N, M)])) = 157.11920603257994\n",
      "-(L̄(X[:, rand(1:N, M)])) = 161.07139583195269\n",
      "-(L̄(X[:, rand(1:N, M)])) = 163.12706489529074\n",
      "-(L̄(X[:, rand(1:N, M)])) = 158.81918276686224\n",
      "-(L̄(X[:, rand(1:N, M)])) = 161.90397481768122\n"
     ]
    },
    {
     "name": "stderr",
     "output_type": "stream",
     "text": [
      "┌ Info: Epoch 4\n",
      "└ @ Main /home/yuehhua/.julia/packages/Flux/Fj3bt/src/optimise/train.jl:121\n"
     ]
    },
    {
     "name": "stdout",
     "output_type": "stream",
     "text": [
      "-(L̄(X[:, rand(1:N, M)])) = 165.98247385499005\n",
      "-(L̄(X[:, rand(1:N, M)])) = 156.279943163065\n",
      "-(L̄(X[:, rand(1:N, M)])) = 156.85914938593552\n",
      "-(L̄(X[:, rand(1:N, M)])) = 154.7305835481507\n",
      "-(L̄(X[:, rand(1:N, M)])) = 158.00143051786603\n",
      "-(L̄(X[:, rand(1:N, M)])) = 154.70340335662533\n",
      "-(L̄(X[:, rand(1:N, M)])) = 159.51532314278492\n",
      "-(L̄(X[:, rand(1:N, M)])) = 151.11829530457112\n",
      "-(L̄(X[:, rand(1:N, M)])) = 162.71839517698172\n",
      "-(L̄(X[:, rand(1:N, M)])) = 153.8136360458141\n",
      "-(L̄(X[:, rand(1:N, M)])) = 153.11729608216064\n",
      "-(L̄(X[:, rand(1:N, M)])) = 155.23612119027905\n",
      "-(L̄(X[:, rand(1:N, M)])) = 157.53606306601344\n"
     ]
    },
    {
     "name": "stderr",
     "output_type": "stream",
     "text": [
      "┌ Info: Epoch 5\n",
      "└ @ Main /home/yuehhua/.julia/packages/Flux/Fj3bt/src/optimise/train.jl:121\n"
     ]
    },
    {
     "name": "stdout",
     "output_type": "stream",
     "text": [
      "-(L̄(X[:, rand(1:N, M)])) = 156.80547246847175\n",
      "-(L̄(X[:, rand(1:N, M)])) = 156.91851793742086\n",
      "-(L̄(X[:, rand(1:N, M)])) = 148.78056381871914\n",
      "-(L̄(X[:, rand(1:N, M)])) = 151.84390222071477\n",
      "-(L̄(X[:, rand(1:N, M)])) = 159.0458740649267\n",
      "-(L̄(X[:, rand(1:N, M)])) = 149.71656080146306\n",
      "-(L̄(X[:, rand(1:N, M)])) = 152.23794635436002\n",
      "-(L̄(X[:, rand(1:N, M)])) = 152.14742580005816\n",
      "-(L̄(X[:, rand(1:N, M)])) = 146.662333108082\n",
      "-(L̄(X[:, rand(1:N, M)])) = 153.4659875020513\n",
      "-(L̄(X[:, rand(1:N, M)])) = 154.39522564742998\n",
      "-(L̄(X[:, rand(1:N, M)])) = 153.39976142253425\n",
      "-(L̄(X[:, rand(1:N, M)])) = 152.6236269705001\n",
      "-(L̄(X[:, rand(1:N, M)])) = 149.51247770403253\n"
     ]
    },
    {
     "name": "stderr",
     "output_type": "stream",
     "text": [
      "┌ Info: Epoch 6\n",
      "└ @ Main /home/yuehhua/.julia/packages/Flux/Fj3bt/src/optimise/train.jl:121\n"
     ]
    },
    {
     "name": "stdout",
     "output_type": "stream",
     "text": [
      "-(L̄(X[:, rand(1:N, M)])) = 151.05370492017602\n",
      "-(L̄(X[:, rand(1:N, M)])) = 152.48933506067732\n",
      "-(L̄(X[:, rand(1:N, M)])) = 140.2174289656961\n",
      "-(L̄(X[:, rand(1:N, M)])) = 156.5434934375831\n",
      "-(L̄(X[:, rand(1:N, M)])) = 154.93187766013273\n",
      "-(L̄(X[:, rand(1:N, M)])) = 156.85095048087737\n",
      "-(L̄(X[:, rand(1:N, M)])) = 151.89831862421448\n",
      "-(L̄(X[:, rand(1:N, M)])) = 152.410165256123\n",
      "-(L̄(X[:, rand(1:N, M)])) = 151.94719756765272\n",
      "-(L̄(X[:, rand(1:N, M)])) = 141.94465971869545\n",
      "-(L̄(X[:, rand(1:N, M)])) = 150.6372129760154\n",
      "-(L̄(X[:, rand(1:N, M)])) = 152.89084535310315\n",
      "-(L̄(X[:, rand(1:N, M)])) = 150.24827004629267\n",
      "-(L̄(X[:, rand(1:N, M)])) = 151.28491821852194\n"
     ]
    },
    {
     "name": "stderr",
     "output_type": "stream",
     "text": [
      "┌ Info: Epoch 7\n",
      "└ @ Main /home/yuehhua/.julia/packages/Flux/Fj3bt/src/optimise/train.jl:121\n"
     ]
    },
    {
     "name": "stdout",
     "output_type": "stream",
     "text": [
      "-(L̄(X[:, rand(1:N, M)])) = 145.46795515786496\n",
      "-(L̄(X[:, rand(1:N, M)])) = 151.56326656021602\n",
      "-(L̄(X[:, rand(1:N, M)])) = 148.79184585525107\n",
      "-(L̄(X[:, rand(1:N, M)])) = 151.67230999809001\n",
      "-(L̄(X[:, rand(1:N, M)])) = 153.07298623950498\n",
      "-(L̄(X[:, rand(1:N, M)])) = 142.38280421937415\n",
      "-(L̄(X[:, rand(1:N, M)])) = 156.7254122494012\n",
      "-(L̄(X[:, rand(1:N, M)])) = 148.24253885081015\n",
      "-(L̄(X[:, rand(1:N, M)])) = 149.35615488116366\n",
      "-(L̄(X[:, rand(1:N, M)])) = 154.54883378566413\n",
      "-(L̄(X[:, rand(1:N, M)])) = 150.4988632728684\n",
      "-(L̄(X[:, rand(1:N, M)])) = 142.48343785836104\n",
      "-(L̄(X[:, rand(1:N, M)])) = 146.25005476087208\n"
     ]
    },
    {
     "name": "stderr",
     "output_type": "stream",
     "text": [
      "┌ Info: Epoch 8\n",
      "└ @ Main /home/yuehhua/.julia/packages/Flux/Fj3bt/src/optimise/train.jl:121\n"
     ]
    },
    {
     "name": "stdout",
     "output_type": "stream",
     "text": [
      "-(L̄(X[:, rand(1:N, M)])) = 147.08972480531548\n",
      "-(L̄(X[:, rand(1:N, M)])) = 153.45731042063332\n",
      "-(L̄(X[:, rand(1:N, M)])) = 148.48322583179345\n",
      "-(L̄(X[:, rand(1:N, M)])) = 144.7362887682248\n",
      "-(L̄(X[:, rand(1:N, M)])) = 150.72069298090693\n",
      "-(L̄(X[:, rand(1:N, M)])) = 144.983706579597\n",
      "-(L̄(X[:, rand(1:N, M)])) = 149.20849445469904\n",
      "-(L̄(X[:, rand(1:N, M)])) = 149.32374689799937\n",
      "-(L̄(X[:, rand(1:N, M)])) = 145.99695607193254\n",
      "-(L̄(X[:, rand(1:N, M)])) = 144.13619332000528\n",
      "-(L̄(X[:, rand(1:N, M)])) = 147.40730895505408\n",
      "-(L̄(X[:, rand(1:N, M)])) = 149.37388026844854\n",
      "-(L̄(X[:, rand(1:N, M)])) = 158.53454391885222\n"
     ]
    },
    {
     "name": "stderr",
     "output_type": "stream",
     "text": [
      "┌ Info: Epoch 9\n",
      "└ @ Main /home/yuehhua/.julia/packages/Flux/Fj3bt/src/optimise/train.jl:121\n"
     ]
    },
    {
     "name": "stdout",
     "output_type": "stream",
     "text": [
      "-(L̄(X[:, rand(1:N, M)])) = 147.40043473483627\n",
      "-(L̄(X[:, rand(1:N, M)])) = 150.68261635727544\n",
      "-(L̄(X[:, rand(1:N, M)])) = 146.8343245335061\n",
      "-(L̄(X[:, rand(1:N, M)])) = 149.00434675414027\n",
      "-(L̄(X[:, rand(1:N, M)])) = 149.7725541630081\n",
      "-(L̄(X[:, rand(1:N, M)])) = 148.6570610956676\n",
      "-(L̄(X[:, rand(1:N, M)])) = 155.65189411756413\n",
      "-(L̄(X[:, rand(1:N, M)])) = 141.78608376865708\n",
      "-(L̄(X[:, rand(1:N, M)])) = 142.9771419542146\n",
      "-(L̄(X[:, rand(1:N, M)])) = 151.3683356886959\n",
      "-(L̄(X[:, rand(1:N, M)])) = 149.70029616439436\n",
      "-(L̄(X[:, rand(1:N, M)])) = 149.96069420331082\n",
      "-(L̄(X[:, rand(1:N, M)])) = 147.57021607845846\n",
      "-(L̄(X[:, rand(1:N, M)])) = 150.91445356830653\n"
     ]
    },
    {
     "name": "stderr",
     "output_type": "stream",
     "text": [
      "┌ Info: Epoch 10\n",
      "└ @ Main /home/yuehhua/.julia/packages/Flux/Fj3bt/src/optimise/train.jl:121\n"
     ]
    },
    {
     "name": "stdout",
     "output_type": "stream",
     "text": [
      "-(L̄(X[:, rand(1:N, M)])) = 150.95949209566325\n",
      "-(L̄(X[:, rand(1:N, M)])) = 138.0281324324919\n",
      "-(L̄(X[:, rand(1:N, M)])) = 145.61387397027374\n",
      "-(L̄(X[:, rand(1:N, M)])) = 147.3387607585317\n",
      "-(L̄(X[:, rand(1:N, M)])) = 149.62891295824573\n",
      "-(L̄(X[:, rand(1:N, M)])) = 146.82606303685188\n",
      "-(L̄(X[:, rand(1:N, M)])) = 145.31980195796962\n",
      "-(L̄(X[:, rand(1:N, M)])) = 155.19789914285474\n",
      "-(L̄(X[:, rand(1:N, M)])) = 150.86086697675074\n",
      "-(L̄(X[:, rand(1:N, M)])) = 145.3388792208747\n",
      "-(L̄(X[:, rand(1:N, M)])) = 147.74668473623015\n",
      "-(L̄(X[:, rand(1:N, M)])) = 143.66070167468067\n",
      "-(L̄(X[:, rand(1:N, M)])) = 146.1365329136349\n"
     ]
    }
   ],
   "source": [
    "evalcb = throttle(() -> @show(-L̄(X[:, rand(1:N, M)])), 30)\n",
    "opt = ADAM()\n",
    "@epochs 10 Flux.train!(loss, params(A, μ, logσ, f), zip(data), opt, cb=evalcb)"
   ]
  },
  {
   "cell_type": "markdown",
   "metadata": {},
   "source": [
    "# Sample Output"
   ]
  },
  {
   "cell_type": "code",
   "execution_count": 9,
   "metadata": {},
   "outputs": [
    {
     "name": "stderr",
     "output_type": "stream",
     "text": [
      "WARNING: using Images.data in module Main conflicts with an existing identifier.\n"
     ]
    }
   ],
   "source": [
    "using Images\n",
    "\n",
    "img(x) = Gray.(reshape(x, 28, 28))\n",
    "\n",
    "cd(@__DIR__)\n",
    "sample = hcat(img.([modelsample() for i = 1:10])...)\n",
    "save(\"beta-vae-sample.png\", sample)"
   ]
  },
  {
   "cell_type": "code",
   "execution_count": null,
   "metadata": {},
   "outputs": [],
   "source": []
  }
 ],
 "metadata": {
  "kernelspec": {
   "display_name": "Julia 1.4.2",
   "language": "julia",
   "name": "julia-1.4"
  },
  "language_info": {
   "file_extension": ".jl",
   "mimetype": "application/julia",
   "name": "julia",
   "version": "1.4.2"
  }
 },
 "nbformat": 4,
 "nbformat_minor": 4
}
