{
 "cells": [
  {
   "cell_type": "markdown",
   "metadata": {},
   "source": [
    "# Recurrent neural network"
   ]
  },
  {
   "cell_type": "markdown",
   "metadata": {},
   "source": [
    "Character-level language model"
   ]
  },
  {
   "cell_type": "markdown",
   "metadata": {},
   "source": [
    "<img src=\"http://karpathy.github.io/assets/rnn/charseq.jpeg\">"
   ]
  },
  {
   "cell_type": "code",
   "execution_count": 1,
   "metadata": {},
   "outputs": [],
   "source": [
    "using Flux\n",
    "using Flux: onehot, argmax, chunk, batchseq, throttle, crossentropy\n",
    "using StatsBase: wsample\n",
    "using Base.Iterators: partition"
   ]
  },
  {
   "cell_type": "markdown",
   "metadata": {},
   "source": [
    "## Download data"
   ]
  },
  {
   "cell_type": "code",
   "execution_count": 2,
   "metadata": {},
   "outputs": [
    {
     "data": {
      "text/plain": [
       "true"
      ]
     },
     "execution_count": 2,
     "metadata": {},
     "output_type": "execute_result"
    }
   ],
   "source": [
    "isfile(\"input.txt\") ||\n",
    "  download(\"http://cs.stanford.edu/people/karpathy/char-rnn/shakespeare_input.txt\", \"input.txt\")"
   ]
  },
  {
   "cell_type": "markdown",
   "metadata": {},
   "source": [
    "## Preprocessing"
   ]
  },
  {
   "cell_type": "code",
   "execution_count": 3,
   "metadata": {},
   "outputs": [
    {
     "data": {
      "text/plain": [
       "68-element Flux.OneHotVector:\n",
       " false\n",
       " false\n",
       " false\n",
       " false\n",
       " false\n",
       " false\n",
       " false\n",
       " false\n",
       " false\n",
       " false\n",
       " false\n",
       " false\n",
       " false\n",
       "     ⋮\n",
       " false\n",
       " false\n",
       " false\n",
       " false\n",
       " false\n",
       " false\n",
       " false\n",
       " false\n",
       " false\n",
       " false\n",
       " false\n",
       "  true"
      ]
     },
     "execution_count": 3,
     "metadata": {},
     "output_type": "execute_result"
    }
   ],
   "source": [
    "text = collect(readstring(\"input.txt\"))\n",
    "alphabet = [unique(text)..., '_']\n",
    "text = map(ch -> onehot(ch, alphabet), text)\n",
    "stop = onehot('_', alphabet)"
   ]
  },
  {
   "cell_type": "code",
   "execution_count": 4,
   "metadata": {},
   "outputs": [
    {
     "data": {
      "text/plain": [
       "50"
      ]
     },
     "execution_count": 4,
     "metadata": {},
     "output_type": "execute_result"
    }
   ],
   "source": [
    "N = length(alphabet)\n",
    "seqlen = 50\n",
    "nbatch = 50"
   ]
  },
  {
   "cell_type": "code",
   "execution_count": 5,
   "metadata": {},
   "outputs": [
    {
     "data": {
      "text/plain": [
       "1830-element Array{Array{Flux.OneHotMatrix{Array{Flux.OneHotVector,1}},1},1}:\n",
       " Flux.OneHotMatrix{Array{Flux.OneHotVector,1}}[Bool[false false … false false; true false … false false; … ; false false … false false; false false … false false], Bool[false false … false false; false false … false false; … ; false false … false false; false false … false false], Bool[false false … false false; false false … false false; … ; false false … false false; false false … false false], Bool[false false … false false; false false … false false; … ; false false … false false; false false … false false], Bool[false false … false false; false false … false false; … ; false false … false false; false false … false false], Bool[false false … false false; false false … false false; … ; false false … false false; false false … false false], Bool[false false … false false; true false … false false; … ; false false … false false; false false … false false], Bool[false false … false false; false false … false true; … ; false false … false false; false false … false false], Bool[false false … false false; true false … false false; … ; false false … false false; false false … false false], Bool[false false … false false; false false … false false; … ; false false … false false; false false … false false]  …  Bool[false false … false false; false false … false false; … ; false false … false false; false false … false false], Bool[false false … false false; false false … false false; … ; false false … false false; false false … false false], Bool[false false … false false; false false … false false; … ; false false … false false; false false … false false], Bool[false false … false false; false false … false false; … ; false false … false false; false false … false false], Bool[false false … false false; false false … false false; … ; false false … false false; false false … false false], Bool[false false … false false; false false … false false; … ; false false … false false; false false … false false], Bool[false false … false false; false false … true false; … ; false false … false false; false false … false false], Bool[false false … false false; false false … false false; … ; false false … false false; false false … false false], Bool[false false … false false; false false … false false; … ; false false … false false; false false … false false], Bool[false false … false false; false false … false false; … ; false false … false false; false false … false false]]     \n",
       " Flux.OneHotMatrix{Array{Flux.OneHotVector,1}}[Bool[false false … false false; false false … false false; … ; false false … false false; false false … false false], Bool[false false … false false; false false … false false; … ; false false … false false; false false … false false], Bool[false false … false false; false false … false false; … ; false false … false false; false false … false false], Bool[false false … false false; false false … false false; … ; false false … false false; false false … false false], Bool[false false … false false; false false … false false; … ; false false … false false; false false … false false], Bool[false false … false false; false false … false false; … ; false false … false false; false false … false false], Bool[false false … false false; false false … false false; … ; false false … false false; false false … false false], Bool[false false … false true; false false … false false; … ; false false … false false; false false … false false], Bool[false false … false false; false false … false false; … ; false false … false false; false false … false false], Bool[false false … false false; false false … false false; … ; false false … false false; false false … false false]  …  Bool[false false … false false; true false … false false; … ; false false … false false; false false … false false], Bool[false false … false false; false false … false false; … ; false false … false false; false false … false false], Bool[false false … false false; false false … false false; … ; false false … false false; false false … false false], Bool[false false … false false; false false … false false; … ; false false … false false; false false … false false], Bool[false false … false false; false false … false false; … ; false false … false false; false false … false false], Bool[false false … false false; false false … false false; … ; false false … false false; false false … false false], Bool[false false … false false; false false … false false; … ; false false … false false; false false … false false], Bool[false false … false false; false false … true false; … ; false false … false false; false false … false false], Bool[false false … false false; false false … false false; … ; false false … false false; false false … false false], Bool[false false … false false; false false … false false; … ; false false … false false; false false … false false]]   \n",
       " Flux.OneHotMatrix{Array{Flux.OneHotVector,1}}[Bool[false false … false false; false false … false false; … ; false false … false false; false false … false false], Bool[false false … false false; false false … false false; … ; false false … false false; false false … false false], Bool[false false … false false; false false … false false; … ; false false … false false; false false … false false], Bool[false false … false false; false false … false true; … ; false false … false false; false false … false false], Bool[false false … false false; false false … false false; … ; false false … false false; false false … false false], Bool[false false … false false; false false … false false; … ; false false … false false; false false … false false], Bool[false false … false false; false false … false false; … ; false false … false false; false false … false false], Bool[false false … false false; false false … false false; … ; false false … false false; false false … false false], Bool[false false … false false; false false … false false; … ; false false … false false; false false … false false], Bool[false false … false false; false false … false false; … ; false false … false false; false false … false false]  …  Bool[false false … false false; false false … false false; … ; false false … false false; false false … false false], Bool[false false … false false; false false … false false; … ; false false … false false; false false … false false], Bool[false false … false false; true false … false false; … ; false false … false false; false false … false false], Bool[false false … false false; false false … false false; … ; false false … false false; false false … false false], Bool[false false … false false; false false … false false; … ; false false … false false; false false … false false], Bool[false false … false false; false true … false false; … ; false false … false false; false false … false false], Bool[false false … false false; false false … true true; … ; false false … false false; false false … false false], Bool[false false … false false; false false … false false; … ; false false … false false; false false … false false], Bool[false false … false false; false false … false false; … ; false false … false false; false false … false false], Bool[false false … false false; false false … false false; … ; false false … false false; false false … false false]]     \n",
       " Flux.OneHotMatrix{Array{Flux.OneHotVector,1}}[Bool[false false … false false; false false … false false; … ; false false … false false; false false … false false], Bool[false false … false false; false false … false false; … ; false false … false false; false false … false false], Bool[false false … false false; false false … false false; … ; false false … false false; false false … false false], Bool[false false … false false; false false … false false; … ; false false … false false; false false … false false], Bool[false false … false false; false false … false false; … ; false false … false false; false false … false false], Bool[false false … false false; false false … false false; … ; false false … false false; false false … false false], Bool[false false … false false; false true … false false; … ; false false … false false; false false … false false], Bool[false false … false false; false false … false false; … ; false false … false false; false false … false false], Bool[false false … false false; false false … false false; … ; false false … false false; false false … false false], Bool[false false … false false; false false … false false; … ; false false … false false; false false … false false]  …  Bool[false true … false false; true false … false true; … ; false false … false false; false false … false false], Bool[false false … false false; false true … false false; … ; false false … false false; false false … false false], Bool[false false … false false; false false … false false; … ; false false … false false; false false … false false], Bool[false false … false false; false false … false false; … ; false false … false false; false false … false false], Bool[false false … false false; false false … false false; … ; false false … false false; false false … false false], Bool[false false … false false; false false … false false; … ; false false … false false; false false … false false], Bool[false false … false false; false false … false false; … ; false false … false false; false false … false false], Bool[false false … false false; false false … false false; … ; false false … false false; false false … false false], Bool[false false … false false; false false … false false; … ; false false … false false; false false … false false], Bool[false false … false false; false false … false false; … ; false false … false false; false false … false false]]     \n",
       " Flux.OneHotMatrix{Array{Flux.OneHotVector,1}}[Bool[false false … false false; false false … false false; … ; false false … false false; false false … false false], Bool[false false … false false; false false … false true; … ; false false … false false; false false … false false], Bool[false false … false false; false false … false false; … ; false false … false false; false false … false false], Bool[false false … false false; false false … false false; … ; false false … false false; false false … false false], Bool[false false … false false; false false … false false; … ; false false … false false; false false … false false], Bool[false false … false false; false false … false false; … ; false false … false false; false false … false false], Bool[false false … false false; false false … false false; … ; false false … false false; false false … false false], Bool[false false … false false; true false … false false; … ; false false … false false; false false … false false], Bool[false false … false false; false false … false false; … ; false false … false false; false false … false false], Bool[false false … false false; false false … false false; … ; false false … false false; false false … false false]  …  Bool[false false … false false; false false … false false; … ; false false … false false; false false … false false], Bool[false false … false false; false false … false false; … ; false false … false false; false false … false false], Bool[false false … false false; false false … false false; … ; false false … false false; false false … false false], Bool[false false … false false; false false … false false; … ; false false … false false; false false … false false], Bool[false false … false false; false false … false false; … ; false false … false false; false false … false false], Bool[false false … false false; false false … false false; … ; false false … false false; false false … false false], Bool[false false … false false; false false … false false; … ; false false … false false; false false … false false], Bool[false false … false false; false false … false true; … ; false false … false false; false false … false false], Bool[false false … false false; false false … false false; … ; false false … false false; false false … false false], Bool[false false … false false; false false … false false; … ; false false … false false; false false … false false]]   \n",
       " Flux.OneHotMatrix{Array{Flux.OneHotVector,1}}[Bool[false false … false false; false false … false false; … ; false false … false false; false false … false false], Bool[false false … false false; false false … false false; … ; false false … false false; false false … false false], Bool[false false … false false; false false … false false; … ; false false … false false; false false … false false], Bool[false false … false false; false false … false false; … ; false false … false false; false false … false false], Bool[false false … false false; false false … false true; … ; false false … false false; false false … false false], Bool[false false … false false; false false … false false; … ; false false … false false; false false … false false], Bool[false false … false false; false false … false true; … ; false false … false false; false false … false false], Bool[false false … false false; false false … false false; … ; false false … false false; false false … false false], Bool[false false … false false; false false … false false; … ; false false … false false; false false … false false], Bool[false false … false false; false false … false false; … ; false false … false false; false false … false false]  …  Bool[false false … false false; false false … false false; … ; false false … false false; false false … false false], Bool[false false … false false; false false … false false; … ; false false … false false; false false … false false], Bool[false false … false false; false false … false false; … ; false false … false false; false false … false false], Bool[false false … false false; false false … false false; … ; false false … false false; false false … false false], Bool[false false … false false; false false … false false; … ; false false … false false; false false … false false], Bool[false false … false false; false false … false false; … ; false false … false false; false false … false false], Bool[false false … false false; false false … false false; … ; false false … false false; false false … false false], Bool[false false … false false; false false … false false; … ; false false … false false; false false … false false], Bool[false false … false false; false false … false false; … ; false false … false false; false false … false false], Bool[false false … false false; false false … false false; … ; false false … false false; false false … false false]]  \n",
       " Flux.OneHotMatrix{Array{Flux.OneHotVector,1}}[Bool[false false … false false; false true … false false; … ; false false … false false; false false … false false], Bool[false false … false false; true false … false false; … ; false false … false false; false false … false false], Bool[false false … false false; false false … false false; … ; false false … false false; false false … false false], Bool[false false … false false; false false … false false; … ; false false … false false; false false … false false], Bool[false false … false false; false false … false false; … ; false false … false false; false false … false false], Bool[false false … false false; false false … false false; … ; false false … false false; false false … false false], Bool[false false … false false; true false … false false; … ; false false … false false; false false … false false], Bool[false false … false false; false false … false false; … ; false false … false false; false false … false false], Bool[false false … false false; false false … false true; … ; false false … false false; false false … false false], Bool[false false … false false; false false … false false; … ; false false … false false; false false … false false]  …  Bool[false false … false false; false false … false false; … ; false false … false false; false false … false false], Bool[false false … false false; false false … false false; … ; false false … false false; false false … false false], Bool[false false … false false; false false … false false; … ; false false … false false; false false … false false], Bool[false false … false false; true false … false false; … ; false false … false false; false false … false false], Bool[false false … false false; false false … false false; … ; false false … false false; false false … false false], Bool[false false … true false; false false … false false; … ; false false … false false; false false … false false], Bool[false false … false false; false false … false false; … ; false false … false false; false false … false false], Bool[false false … false false; false false … false false; … ; false false … false false; false false … false false], Bool[false false … false false; false false … false false; … ; false false … false false; false false … false false], Bool[false false … false false; false false … false false; … ; false false … false false; false false … false false]]      \n",
       " Flux.OneHotMatrix{Array{Flux.OneHotVector,1}}[Bool[false false … false false; false false … false false; … ; false false … false false; false false … false false], Bool[false false … false false; false false … false false; … ; false false … false false; false false … false false], Bool[false false … false false; false false … false true; … ; false false … false false; false false … false false], Bool[false false … false false; false false … false false; … ; false false … false false; false false … false false], Bool[false false … false false; false false … false false; … ; false false … false false; false false … false false], Bool[false false … false false; false false … false false; … ; false false … false false; false false … false false], Bool[false false … false false; false false … false false; … ; false false … false false; false false … false false], Bool[false false … false false; false false … false false; … ; false false … false false; false false … false false], Bool[false false … false false; false false … false false; … ; false false … false false; false false … false false], Bool[false false … false false; true false … false false; … ; false false … false false; false false … false false]  …  Bool[false false … false false; false false … false false; … ; false false … false false; false false … false false], Bool[false false … false false; false false … false false; … ; false false … false false; false false … false false], Bool[false false … false false; false false … false false; … ; false false … false false; false false … false false], Bool[false false … false false; false false … false false; … ; false false … false false; false false … false false], Bool[false false … false false; false false … false false; … ; false false … false false; false false … false false], Bool[false false … false false; false false … false false; … ; false false … false false; false false … false false], Bool[false false … false false; true false … false false; … ; false false … false false; false false … false false], Bool[false false … false false; false true … false false; … ; false false … false false; false false … false false], Bool[false false … false false; false false … false false; … ; false false … false false; false false … false false], Bool[false false … false false; false false … true false; … ; false false … false false; false false … false false]]     \n",
       " Flux.OneHotMatrix{Array{Flux.OneHotVector,1}}[Bool[false false … false false; false false … false false; … ; false false … false false; false false … false false], Bool[false false … false false; false false … false false; … ; false false … false false; false false … false false], Bool[false false … false false; false false … false false; … ; false false … false false; false false … false false], Bool[false false … false false; false false … false false; … ; false false … false false; false false … false false], Bool[false false … false false; false false … false false; … ; false false … false false; false false … false false], Bool[false false … false false; false false … false false; … ; false false … false false; false false … false false], Bool[false false … false false; false false … false false; … ; false false … false false; false false … false false], Bool[false false … false false; false false … false false; … ; false false … false false; false false … false false], Bool[false false … false false; false false … false false; … ; false false … false false; false false … false false], Bool[false false … false false; false false … false false; … ; false false … false false; false false … false false]  …  Bool[false false … false false; false false … false false; … ; false false … false false; false false … false false], Bool[false false … false false; false false … false false; … ; false false … false false; false false … false false], Bool[false false … false false; false false … false false; … ; false false … false false; false false … false false], Bool[false false … false false; false false … false false; … ; false false … false false; false false … false false], Bool[false false … false false; false false … false false; … ; false false … false false; false false … false false], Bool[false false … false false; false false … false false; … ; false false … false false; false false … false false], Bool[false false … false false; false false … false false; … ; false false … false false; false false … false false], Bool[false false … false false; false false … false false; … ; false false … false false; false false … false false], Bool[false false … false false; false false … false false; … ; false false … false false; false false … false false], Bool[false false … false false; false false … false false; … ; false false … false false; false false … false false]]\n",
       " Flux.OneHotMatrix{Array{Flux.OneHotVector,1}}[Bool[false false … false false; false false … false false; … ; false false … false false; false false … false false], Bool[false false … false false; false false … false false; … ; false false … false false; false false … false false], Bool[false false … false false; false false … false false; … ; false false … false false; false false … false false], Bool[false false … false false; true false … false false; … ; false false … false false; false false … false false], Bool[false false … false false; false false … false false; … ; false false … false false; false false … false false], Bool[false false … false false; true false … false false; … ; false false … false false; false false … false false], Bool[false false … false false; false false … false false; … ; false false … false false; false false … false false], Bool[false false … false false; false false … false false; … ; false false … false false; false false … false false], Bool[false false … false false; false false … false false; … ; false false … false false; false false … false false], Bool[false false … false false; false false … false false; … ; false false … false false; false false … false false]  …  Bool[false false … false false; false false … false false; … ; false false … false false; false false … false false], Bool[false false … false false; false false … false false; … ; false false … false false; false false … false false], Bool[false false … false false; false false … false false; … ; false false … false false; false false … false false], Bool[false false … false false; false false … false false; … ; false false … false false; false false … false false], Bool[false false … false false; false false … false false; … ; false false … false false; false false … false false], Bool[false false … false false; false false … false false; … ; false false … false false; false false … false false], Bool[false false … false false; false false … false false; … ; false false … false false; false false … false false], Bool[false false … false false; false false … false false; … ; false false … false false; false false … false false], Bool[false false … false false; false false … false false; … ; false false … false false; false false … false false], Bool[false false … false false; false false … false false; … ; false false … false false; false false … false false]]  \n",
       " Flux.OneHotMatrix{Array{Flux.OneHotVector,1}}[Bool[false false … false false; false false … false false; … ; false false … false false; false false … false false], Bool[false false … false false; true false … false true; … ; false false … false false; false false … false false], Bool[false false … false false; false false … false false; … ; false false … false false; false false … false false], Bool[false false … false false; true false … false false; … ; false false … false false; false false … false false], Bool[false false … false false; false false … false false; … ; false false … false false; false false … false false], Bool[false false … false false; false false … false false; … ; false false … false false; false false … false false], Bool[false false … false false; false false … false false; … ; false false … false false; false false … false false], Bool[false false … false false; false false … false false; … ; false false … false false; false false … false false], Bool[false false … false false; false false … false false; … ; false false … false false; false false … false false], Bool[false false … false false; false false … false false; … ; false false … false false; false false … false false]  …  Bool[false false … false false; false false … false false; … ; false false … false false; false false … false false], Bool[false false … false false; false false … false false; … ; false false … false false; false false … false false], Bool[false false … false false; true false … false false; … ; false false … false false; false false … false false], Bool[false false … false false; false false … false false; … ; false false … false false; false false … false false], Bool[false false … false false; false false … false false; … ; false false … false false; false false … false false], Bool[false false … false false; false false … false false; … ; false false … false false; false false … false false], Bool[false false … false false; false false … false true; … ; false false … false false; false false … false false], Bool[false false … false false; false false … false false; … ; false false … false false; false false … false false], Bool[false false … false false; false false … false false; … ; false false … false false; false false … false false], Bool[false false … false false; false false … false false; … ; false false … false false; false false … false false]]     \n",
       " Flux.OneHotMatrix{Array{Flux.OneHotVector,1}}[Bool[false false … false false; false false … false false; … ; false false … false false; false false … false false], Bool[false false … false false; true false … false false; … ; false false … false false; false false … false false], Bool[false false … false false; false false … false false; … ; false false … false false; false false … false false], Bool[false false … false false; false true … false false; … ; false false … false false; false false … false false], Bool[false false … false false; false false … false false; … ; false false … false false; false false … false false], Bool[false false … false false; false true … false false; … ; false false … false false; false false … false false], Bool[false false … false false; false false … false false; … ; false false … false false; false false … false false], Bool[false false … false false; false false … false false; … ; false false … false false; false false … false false], Bool[false false … false false; false false … false false; … ; false false … false false; false false … false false], Bool[false false … false false; false false … false false; … ; false false … false false; false false … false false]  …  Bool[false false … false false; false false … false false; … ; false false … false false; false false … false false], Bool[false false … false false; true false … true false; … ; false false … false false; false false … false false], Bool[false false … false false; false false … false false; … ; false false … false false; false false … false false], Bool[false false … false false; false true … false false; … ; false false … false false; false false … false false], Bool[false false … false false; false false … false false; … ; false false … false false; false false … false false], Bool[false false … false false; false false … false false; … ; false false … false false; false false … false false], Bool[false false … false false; false false … false false; … ; false false … false false; false false … false false], Bool[false false … false false; false false … false false; … ; false false … false false; false false … false false], Bool[false false … false false; false false … false false; … ; false false … false false; false false … false false], Bool[false false … false false; false false … false false; … ; false false … false false; false false … false false]]      \n",
       " Flux.OneHotMatrix{Array{Flux.OneHotVector,1}}[Bool[false false … false false; false false … true false; … ; false false … false false; false false … false false], Bool[false false … false false; false true … false false; … ; false false … false false; false false … false false], Bool[false false … false false; false false … false false; … ; false false … false false; false false … false false], Bool[false false … false false; false false … false false; … ; false false … false false; false false … false false], Bool[false false … false false; false false … true false; … ; false false … false false; false false … false false], Bool[false false … false false; false false … false false; … ; false false … false false; false false … false false], Bool[false false … false false; false false … false false; … ; false false … false false; false false … false false], Bool[false false … false false; false false … true false; … ; false false … false false; false false … false false], Bool[false false … false false; false false … false false; … ; false false … false false; false false … false false], Bool[false false … false false; false false … false false; … ; false false … false false; false false … false false]  …  Bool[false false … false false; false false … false false; … ; false false … false false; false false … false false], Bool[false false … false false; false false … false false; … ; false false … false false; false false … false false], Bool[false false … false false; false false … false false; … ; false false … false false; false false … false false], Bool[false false … false false; false false … false false; … ; false false … false false; false false … false false], Bool[false false … false false; false false … false false; … ; false false … false false; false false … false false], Bool[false false … false false; false false … false false; … ; false false … false false; false false … false false], Bool[false false … false false; false false … false false; … ; false false … false false; false false … false false], Bool[false false … false false; false false … false false; … ; false false … false false; false false … false false], Bool[false false … false false; false false … false false; … ; false false … false false; false false … false false], Bool[false false … false false; true false … true false; … ; false false … false false; false false … false false]]      \n",
       " ⋮                                                                                                                                                                                                                                                                                                                                                                                                                                                                                                                                                                                                                                                                                                                                                                                                                                                                                                                                                                                                                                                                                                                                                                                                                                                                                                                                                                                                                                                                                                                                                                                                                                                                                                                                                                                                                                                                                                                                                                                                                                                                                                                                                                                                                                                                                                                                                                                                                                                                                                       \n",
       " Flux.OneHotMatrix{Array{Flux.OneHotVector,1}}[Bool[false false … false false; false false … false false; … ; false false … false false; false false … false false], Bool[false false … false false; false false … false false; … ; false false … false false; false false … false false], Bool[false false … false false; false false … false false; … ; false false … false false; false false … false false], Bool[false false … false false; false false … false false; … ; false false … false false; false false … false false], Bool[false false … false false; false false … false false; … ; false false … false false; false false … false false], Bool[false false … false false; false true … false false; … ; false false … false false; false false … false false], Bool[false false … false false; false false … false false; … ; false false … false false; false false … false false], Bool[false false … false false; false false … false false; … ; false false … false false; false false … false false], Bool[false false … false false; false false … false false; … ; false false … false false; false false … false false], Bool[false false … false false; false false … false false; … ; false false … false false; false false … false false]  …  Bool[false false … false false; false false … false false; … ; false false … false false; false false … false false], Bool[false false … false false; false false … false false; … ; false false … false false; false false … false false], Bool[false false … false false; false false … false false; … ; false false … false false; false false … false false], Bool[false false … false false; false false … false false; … ; false false … false false; false false … false false], Bool[false false … false false; false false … false false; … ; false false … false false; false false … false false], Bool[false false … false false; false false … false false; … ; false false … false false; false false … false false], Bool[false false … false false; false false … false false; … ; false false … false false; false false … false false], Bool[false false … false false; false false … false false; … ; false false … false false; false false … false false], Bool[false false … false false; false false … false false; … ; false false … false false; false false … false false], Bool[false false … false false; false false … false false; … ; false false … false false; false false … false false]] \n",
       " Flux.OneHotMatrix{Array{Flux.OneHotVector,1}}[Bool[false false … false false; false false … false false; … ; false false … false false; false false … false false], Bool[false false … false false; false false … false false; … ; false false … false false; false false … false false], Bool[false false … false false; false false … false false; … ; false false … false false; false false … false false], Bool[false false … false false; false false … false false; … ; false false … false false; false false … false false], Bool[false false … false false; false false … false false; … ; false false … false false; false false … false false], Bool[false false … false false; false false … false false; … ; false false … false false; false false … false false], Bool[false false … false false; false false … false false; … ; false false … false false; false false … false false], Bool[false false … false false; false false … false false; … ; false false … false false; false false … false false], Bool[false false … false false; false false … false false; … ; false false … false false; false false … false false], Bool[false false … false false; false false … true false; … ; false false … false false; false false … false false]  …  Bool[false false … false false; true false … false false; … ; false false … false false; false false … false false], Bool[false false … false false; false false … false false; … ; false false … false false; false false … false false], Bool[false false … false false; false false … true false; … ; false false … false false; false false … false false], Bool[false false … false false; false false … false false; … ; false false … false false; false false … false false], Bool[false false … false false; false false … false false; … ; false false … false false; false false … false false], Bool[false false … false false; false false … false false; … ; false false … false false; false false … false false], Bool[false false … false false; false false … false false; … ; false false … false false; false false … false false], Bool[false false … false false; true false … false false; … ; false false … false false; false false … false false], Bool[false false … false false; false false … false true; … ; false false … false false; false false … false false], Bool[false false … false false; false false … false false; … ; false false … false false; false false … false false]]     \n",
       " Flux.OneHotMatrix{Array{Flux.OneHotVector,1}}[Bool[false false … false false; false false … false false; … ; false false … false false; false false … false false], Bool[false false … false false; false false … false false; … ; false false … false false; false false … false false], Bool[false false … false false; false false … false false; … ; false false … false false; false false … false false], Bool[false false … false false; false false … false false; … ; false false … false false; false false … false false], Bool[false false … false false; false false … false false; … ; false false … false false; false false … false false], Bool[false false … false false; false false … false false; … ; false false … false false; false false … false false], Bool[false false … false false; false false … false false; … ; false false … false false; false false … false false], Bool[false false … false false; false false … false false; … ; false false … false false; false false … false false], Bool[false false … false false; false false … false false; … ; false false … false false; false false … false false], Bool[false false … false false; false true … false false; … ; false false … false false; false false … false false]  …  Bool[false false … false false; false false … false false; … ; false false … false false; false false … false false], Bool[false false … false false; false false … false false; … ; false false … false false; false false … false false], Bool[false false … false false; false false … false false; … ; false false … false false; false false … false false], Bool[false false … false false; false false … true false; … ; false false … false false; false false … false false], Bool[false false … false false; false false … false false; … ; false false … false false; false false … false false], Bool[false false … false false; false false … false true; … ; false false … false false; false false … false false], Bool[false false … false false; false false … false false; … ; false false … false false; false false … false false], Bool[false false … false false; false false … false false; … ; false false … false false; false false … false false], Bool[false false … false false; false false … false false; … ; false false … false false; false false … false false], Bool[false false … false false; false false … false false; … ; false false … false false; false false … false false]]   \n",
       " Flux.OneHotMatrix{Array{Flux.OneHotVector,1}}[Bool[false false … false false; false false … false false; … ; false false … false false; false false … false false], Bool[false false … false false; false false … false false; … ; false false … false false; false false … false false], Bool[false false … false false; false false … false false; … ; false false … false false; false false … false false], Bool[false false … false false; false false … false false; … ; false false … false false; false false … false false], Bool[false false … false false; false false … false false; … ; false false … false false; false false … false false], Bool[false false … false false; false false … false false; … ; false false … false false; false false … false false], Bool[false false … false false; false false … false false; … ; false false … false false; false false … false false], Bool[false false … false false; false false … false false; … ; false false … false false; false false … false false], Bool[false false … false false; false false … false false; … ; false false … false false; false false … false false], Bool[false false … false false; false false … false false; … ; false false … false false; false false … false false]  …  Bool[false false … false false; false false … false false; … ; false false … false false; false false … false false], Bool[false false … false false; false false … false false; … ; false false … false false; false false … false false], Bool[false false … false false; false false … false false; … ; false false … false false; false false … false false], Bool[false false … false false; false false … false false; … ; false false … false false; false false … false false], Bool[false false … false false; false false … false false; … ; false false … false false; false false … false false], Bool[false false … false false; false false … true false; … ; false false … false false; false false … false false], Bool[false false … false false; false false … false false; … ; false false … false false; false false … false false], Bool[false false … false false; false false … false false; … ; false false … false false; false false … false false], Bool[false false … false false; false false … false false; … ; false false … false false; false false … false false], Bool[false false … false false; false false … false false; … ; false false … false false; false false … false false]] \n",
       " Flux.OneHotMatrix{Array{Flux.OneHotVector,1}}[Bool[false false … false false; true false … false false; … ; false false … false false; false false … false false], Bool[false false … false false; false false … false false; … ; false false … false false; false false … false false], Bool[false false … false false; false false … false false; … ; false false … false false; false false … false false], Bool[false false … false false; false false … false false; … ; false false … false false; false false … false false], Bool[false false … false false; false false … false false; … ; false false … false false; false false … false false], Bool[false false … false false; false false … false false; … ; false false … false false; false false … false false], Bool[false false … false false; false false … false false; … ; false false … false false; false false … false false], Bool[false false … false false; false false … false true; … ; false false … false false; false false … false false], Bool[false false … false false; false false … false false; … ; false false … false false; false false … false false], Bool[false false … false false; false false … false false; … ; false false … false false; false false … false false]  …  Bool[false false … false false; false false … false false; … ; false false … false false; false false … false false], Bool[false false … false false; false false … false false; … ; false false … false false; false false … false false], Bool[false false … false false; false false … false false; … ; false false … false false; false false … false false], Bool[false false … false false; false false … false false; … ; false false … false false; false false … false false], Bool[false false … false false; false false … true false; … ; false false … false false; false false … false false], Bool[false false … false false; false false … false false; … ; false false … false false; false false … false false], Bool[false false … false false; false false … false false; … ; false false … false false; false false … false false], Bool[false false … false false; false false … false true; … ; false false … false false; false false … false false], Bool[false false … false false; false false … false false; … ; false false … false false; false false … false false], Bool[false false … false false; false false … false false; … ; false false … false false; false false … false false]]    \n",
       " Flux.OneHotMatrix{Array{Flux.OneHotVector,1}}[Bool[false false … false false; false false … false false; … ; false false … false false; false false … false false], Bool[false false … false false; false false … false false; … ; false false … false false; false false … false false], Bool[false false … false false; false false … false false; … ; false false … false false; false false … false false], Bool[false false … false false; false false … false false; … ; false false … false false; false false … false false], Bool[false false … false false; false false … true false; … ; false false … false false; false false … false false], Bool[false false … false false; false false … false true; … ; false false … false false; false false … false false], Bool[false false … false false; false false … false false; … ; false false … false false; false false … false false], Bool[false false … false false; false false … false false; … ; false false … false false; false false … false false], Bool[false false … false false; false false … false false; … ; false false … false false; false false … false false], Bool[false false … false false; false false … false false; … ; false false … false false; false false … false false]  …  Bool[false false … false false; false false … true false; … ; false false … false false; false false … false false], Bool[false false … false false; false false … false false; … ; false false … false false; false false … false false], Bool[false false … false false; false false … false false; … ; false false … false false; false false … false false], Bool[false false … false false; false false … false false; … ; false false … false false; false false … false false], Bool[false false … false false; false false … true false; … ; false false … false false; false false … false false], Bool[false false … false false; false false … false true; … ; false false … false false; false false … false false], Bool[false false … false false; false true … false false; … ; false false … false false; false false … false false], Bool[false false … false false; false false … false false; … ; false false … false false; false false … false false], Bool[false false … false false; false false … false false; … ; false false … false false; false false … false false], Bool[false false … false false; false false … true false; … ; false false … false false; false false … false false]]       \n",
       " Flux.OneHotMatrix{Array{Flux.OneHotVector,1}}[Bool[false false … false false; false false … false false; … ; false false … false false; false false … false false], Bool[false false … false false; false false … false false; … ; false false … false false; false false … false false], Bool[false false … false false; false false … false false; … ; false false … false false; false false … false false], Bool[false false … false false; false false … false false; … ; false false … false false; false false … false false], Bool[false false … false false; false false … false false; … ; false false … false false; false false … false false], Bool[false false … false false; false false … true false; … ; false false … false false; false false … false false], Bool[false false … false false; false false … false false; … ; false false … false false; false false … false false], Bool[false false … false false; false false … false false; … ; false false … false false; false false … false false], Bool[false false … false false; false false … false false; … ; false false … false false; false false … false false], Bool[false false … false false; false false … false false; … ; false false … false false; false false … false false]  …  Bool[false false … false false; false false … false false; … ; false false … false false; false false … false false], Bool[false false … false false; false false … false true; … ; false false … false false; false false … false false], Bool[false false … false false; false false … false false; … ; false false … false false; false false … false false], Bool[false false … false false; false false … true false; … ; false false … false false; false false … false false], Bool[false false … false false; false false … false false; … ; false false … false false; false false … false false], Bool[false false … false false; false false … false true; … ; false false … false false; false false … false false], Bool[false false … false false; false false … true false; … ; false false … false false; false false … false false], Bool[false false … false false; false false … false false; … ; false false … false false; false false … false false], Bool[false false … false false; false false … false false; … ; false false … false false; false false … false false], Bool[false false … false false; false false … false false; … ; false false … false false; false false … false false]]     \n",
       " Flux.OneHotMatrix{Array{Flux.OneHotVector,1}}[Bool[false false … false false; false false … false false; … ; false false … false false; false false … false false], Bool[false false … false false; false false … false true; … ; false false … false false; false false … false false], Bool[false false … false false; false false … false false; … ; false false … false false; false false … false false], Bool[false false … false false; false false … false false; … ; false false … false false; false false … false false], Bool[false false … false false; false false … false false; … ; false false … false false; false false … false false], Bool[false false … false false; false false … true false; … ; false false … false false; false false … false false], Bool[false false … false false; false false … false false; … ; false false … false false; false false … false false], Bool[false false … false false; false false … false false; … ; false false … false false; false false … false false], Bool[false false … false false; false false … false false; … ; false false … false false; false false … false false], Bool[false false … false false; false false … false false; … ; false false … false false; false false … false false]  …  Bool[false false … false false; false false … false false; … ; false false … false false; false false … false false], Bool[false false … false false; false false … false false; … ; false false … false false; false false … false false], Bool[false false … false false; false false … false true; … ; false false … false false; false false … false false], Bool[false false … false false; false false … false false; … ; false false … false false; false false … false false], Bool[false false … false false; false false … true false; … ; false false … false false; false false … false false], Bool[false false … false false; false false … false false; … ; false false … false false; false false … false false], Bool[false false … false false; false false … false false; … ; false false … false false; false false … false false], Bool[false false … false false; false false … false false; … ; false false … false false; false false … false false], Bool[false false … false false; false false … false false; … ; false false … false false; false false … false false], Bool[false false … false false; false false … false false; … ; false false … false false; false false … false false]]    \n",
       " Flux.OneHotMatrix{Array{Flux.OneHotVector,1}}[Bool[false false … false false; false false … false false; … ; false false … false false; false false … false false], Bool[false false … false false; false false … false false; … ; false false … false false; false false … false false], Bool[false false … false false; false false … false false; … ; false false … false false; false false … false false], Bool[false false … false false; false false … false false; … ; false false … false false; false false … false false], Bool[false false … false false; false false … false false; … ; false false … false false; false false … false false], Bool[false false … false false; false false … false false; … ; false false … false false; false false … false false], Bool[false false … false false; false false … false false; … ; false false … false false; false false … false false], Bool[false false … false false; false false … false false; … ; false false … false false; false false … false false], Bool[false false … false false; false false … false false; … ; false false … false false; false false … false false], Bool[false false … false false; false false … false false; … ; false false … false false; false false … false false]  …  Bool[false false … false false; false false … false false; … ; false false … false false; false false … false false], Bool[false false … false false; false true … false false; … ; false false … false false; false false … false false], Bool[false false … false false; false false … false false; … ; false false … false false; false false … false false], Bool[false false … false false; false false … false false; … ; false false … false false; false false … false false], Bool[false false … false false; false false … false false; … ; false false … false false; false false … false false], Bool[false false … false false; false false … false false; … ; false false … false false; false false … false false], Bool[false false … false false; false false … false false; … ; false false … false false; false false … false false], Bool[false false … false false; false false … false false; … ; false false … false false; false false … false false], Bool[false false … false false; false false … false false; … ; false false … false false; false false … false false], Bool[false false … false false; false false … false false; … ; false false … false false; false false … false false]] \n",
       " Flux.OneHotMatrix{Array{Flux.OneHotVector,1}}[Bool[false false … false false; false false … false false; … ; false false … false false; false false … false false], Bool[false false … false false; false false … false false; … ; false false … false false; false false … false false], Bool[false false … false false; false false … false false; … ; false false … false false; false false … false false], Bool[false false … false false; false false … false false; … ; false false … false false; false false … false false], Bool[false false … false false; false false … false false; … ; false false … false false; false false … false false], Bool[false false … false false; false false … false true; … ; false false … false false; false false … false false], Bool[false false … false false; false false … false false; … ; false false … false false; false false … false false], Bool[false false … false false; false false … false false; … ; false false … false false; false false … false false], Bool[false false … false false; false false … false false; … ; false false … false false; false false … false false], Bool[false false … false false; false false … true false; … ; false false … false false; false false … false false]  …  Bool[false false … false false; false false … false false; … ; false false … false false; false false … false false], Bool[false false … false false; false false … false false; … ; false false … false false; false false … false false], Bool[false false … false false; false false … false false; … ; false false … false false; false false … false false], Bool[false false … false false; false false … false false; … ; false false … false false; false false … false false], Bool[false false … false false; false false … false false; … ; false false … false false; false false … false false], Bool[false false … false false; false false … false false; … ; false false … false false; false false … false false], Bool[false false … false false; false false … true false; … ; false false … false false; false false … false false], Bool[false false … false false; false false … false false; … ; false false … false false; false false … false false], Bool[false false … false false; false false … false false; … ; false false … false false; false false … false false], Bool[false false … false false; false false … false false; … ; false false … false false; false false … false false]]   \n",
       " Flux.OneHotMatrix{Array{Flux.OneHotVector,1}}[Bool[false false … false false; false false … false false; … ; false false … false false; false false … false false], Bool[false false … false false; false false … false false; … ; false false … false false; false false … false false], Bool[false false … false false; false false … false false; … ; false false … false false; false false … false false], Bool[false false … false false; false false … false false; … ; false false … false false; false false … false false], Bool[false false … false false; false false … false false; … ; false false … false false; false false … false false], Bool[false false … false false; false false … true false; … ; false false … false false; false false … false false], Bool[false false … false false; false false … false false; … ; false false … false false; false false … false false], Bool[false false … false false; false false … false false; … ; false false … false false; false false … false false], Bool[false false … false false; false false … true false; … ; false false … false false; false false … false false], Bool[false false … false false; false false … false false; … ; false false … false false; false false … false false]  …  Bool[false false … false false; false false … false false; … ; false false … false false; false false … false false], Bool[false false … false false; false true … false false; … ; false false … false false; false false … false false], Bool[false false … false false; false false … false false; … ; false false … false false; false false … false false], Bool[false false … false false; false false … false false; … ; false false … false false; false false … false false], Bool[false false … false false; false false … false false; … ; false false … false false; false false … false false], Bool[false false … false false; false true … false false; … ; false false … false false; false false … false false], Bool[false false … false false; false false … false false; … ; false false … false false; false false … false false], Bool[false false … false false; false false … false false; … ; false false … false false; false false … false false], Bool[false false … false false; true false … false false; … ; false false … false false; false false … false false], Bool[false false … false false; false false … false false; … ; false false … false false; false false … false false]]     \n",
       " Flux.OneHotMatrix{Array{Flux.OneHotVector,1}}[Bool[false false … false false; false false … false false; … ; false false … false false; false false … false false], Bool[false false … false false; false false … false false; … ; false false … false false; false false … false false], Bool[false false … false false; false false … false false; … ; false false … false false; false false … false false], Bool[false false … false false; false false … false false; … ; false false … false false; false false … false false], Bool[false false … false false; false false … false false; … ; false false … false false; false false … false true], Bool[false false … false false; false false … false false; … ; false false … false false; false false … false true], Bool[false false … false false; false false … false false; … ; false false … false false; false false … false true], Bool[false false … false false; false false … false false; … ; false false … false false; false false … false true], Bool[false false … false false; false false … false false; … ; false false … false false; false false … false true], Bool[false false … false false; false false … false false; … ; false false … false false; false false … false true], Bool[false false … false false; false false … false false; … ; false false … false false; false false … false true], Bool[false false … false false; false false … false false; … ; false false … false false; false false … false true], Bool[false false … false false; false false … false false; … ; false false … false false; false false … false true], Bool[false false … false false; false false … false false; … ; false false … false false; false false … false true], Bool[false false … false false; false false … false false; … ; false false … false false; false false … false true], Bool[false false … false false; false false … false false; … ; false false … false false; false false … false true], Bool[false false … false false; false false … false false; … ; false false … false false; false false … false true]]                                                                                                                                                                                                                                                                                                                                                                                  "
      ]
     },
     "execution_count": 5,
     "metadata": {},
     "output_type": "execute_result"
    }
   ],
   "source": [
    "Xs = collect(partition(batchseq(chunk(text, nbatch), stop), seqlen))\n",
    "Ys = collect(partition(batchseq(chunk(text[2:end], nbatch), stop), seqlen))"
   ]
  },
  {
   "cell_type": "markdown",
   "metadata": {},
   "source": [
    "## Model"
   ]
  },
  {
   "cell_type": "code",
   "execution_count": 6,
   "metadata": {},
   "outputs": [
    {
     "data": {
      "text/plain": [
       "Chain(Recur(LSTMCell(68, 128)), Recur(LSTMCell(128, 128)), Dense(128, 68), NNlib.softmax)"
      ]
     },
     "execution_count": 6,
     "metadata": {},
     "output_type": "execute_result"
    }
   ],
   "source": [
    "m = Chain(\n",
    "    LSTM(N, 128),\n",
    "    LSTM(128, 128),\n",
    "    Dense(128, N),\n",
    "    softmax)"
   ]
  },
  {
   "cell_type": "markdown",
   "metadata": {},
   "source": [
    "## Loss function"
   ]
  },
  {
   "cell_type": "code",
   "execution_count": 7,
   "metadata": {},
   "outputs": [
    {
     "data": {
      "text/plain": [
       "loss (generic function with 1 method)"
      ]
     },
     "execution_count": 7,
     "metadata": {},
     "output_type": "execute_result"
    }
   ],
   "source": [
    "function loss(xs, ys)\n",
    "  l = sum(crossentropy.(m.(xs), ys))\n",
    "  Flux.truncate!(m)\n",
    "  return l\n",
    "end"
   ]
  },
  {
   "cell_type": "markdown",
   "metadata": {},
   "source": [
    "## Optimizer"
   ]
  },
  {
   "cell_type": "code",
   "execution_count": 8,
   "metadata": {},
   "outputs": [
    {
     "data": {
      "text/plain": [
       "(::#5) (generic function with 1 method)"
      ]
     },
     "execution_count": 8,
     "metadata": {},
     "output_type": "execute_result"
    }
   ],
   "source": [
    "opt = ADAM(params(m), 0.01)\n",
    "evalcb = () -> @show loss(Xs[5], Ys[5])"
   ]
  },
  {
   "cell_type": "markdown",
   "metadata": {},
   "source": [
    "## Training"
   ]
  },
  {
   "cell_type": "code",
   "execution_count": 9,
   "metadata": {},
   "outputs": [
    {
     "name": "stdout",
     "output_type": "stream",
     "text": [
      "loss(Xs[5], Ys[5]) = 203.09646060497474 (tracked)\n",
      "loss(Xs[5], Ys[5]) = 167.96401284221164 (tracked)\n",
      "loss(Xs[5], Ys[5]) = 167.4380732455794 (tracked)\n",
      "loss(Xs[5], Ys[5]) = 166.7097275145148 (tracked)\n",
      "loss(Xs[5], Ys[5]) = 172.0107039964805 (tracked)\n",
      "loss(Xs[5], Ys[5]) = 159.11203261176658 (tracked)\n",
      "loss(Xs[5], Ys[5]) = 153.0698478097455 (tracked)\n",
      "loss(Xs[5], Ys[5]) = 147.56649215170836 (tracked)\n",
      "loss(Xs[5], Ys[5]) = 142.2601354434028 (tracked)\n",
      "loss(Xs[5], Ys[5]) = 136.8592694689727 (tracked)\n",
      "loss(Xs[5], Ys[5]) = 133.02964763432954 (tracked)\n",
      "loss(Xs[5], Ys[5]) = 130.24398393163756 (tracked)\n",
      "loss(Xs[5], Ys[5]) = 128.48116252447937 (tracked)\n",
      "loss(Xs[5], Ys[5]) = 126.07221310477959 (tracked)\n",
      "loss(Xs[5], Ys[5]) = 125.20465019120205 (tracked)\n",
      "loss(Xs[5], Ys[5]) = 122.96120997247715 (tracked)\n",
      "loss(Xs[5], Ys[5]) = 121.63600463262587 (tracked)\n",
      "loss(Xs[5], Ys[5]) = 120.95785408175782 (tracked)\n",
      "loss(Xs[5], Ys[5]) = 120.21419281049805 (tracked)\n",
      "loss(Xs[5], Ys[5]) = 118.57510972650697 (tracked)\n",
      "loss(Xs[5], Ys[5]) = 117.15547329099178 (tracked)\n",
      "loss(Xs[5], Ys[5]) = 116.6885597503945 (tracked)\n",
      "loss(Xs[5], Ys[5]) = 116.4098364806213 (tracked)\n",
      "loss(Xs[5], Ys[5]) = 114.39888204669889 (tracked)\n",
      "loss(Xs[5], Ys[5]) = 113.92652480978607 (tracked)\n",
      "loss(Xs[5], Ys[5]) = 111.87099981119718 (tracked)\n",
      "loss(Xs[5], Ys[5]) = 111.78971998208058 (tracked)\n",
      "loss(Xs[5], Ys[5]) = 111.43396226037079 (tracked)\n",
      "loss(Xs[5], Ys[5]) = 111.22917886352504 (tracked)\n",
      "loss(Xs[5], Ys[5]) = 110.68175513117937 (tracked)\n",
      "loss(Xs[5], Ys[5]) = 110.05677461038478 (tracked)\n",
      "loss(Xs[5], Ys[5]) = 109.7377854427189 (tracked)\n",
      "loss(Xs[5], Ys[5]) = 109.41137291706697 (tracked)\n",
      "loss(Xs[5], Ys[5]) = 107.98142628730625 (tracked)\n",
      "loss(Xs[5], Ys[5]) = 108.32152672558593 (tracked)\n",
      "loss(Xs[5], Ys[5]) = 106.63608474348527 (tracked)\n",
      "loss(Xs[5], Ys[5]) = 106.3818477992601 (tracked)\n",
      "loss(Xs[5], Ys[5]) = 105.07436779087558 (tracked)\n",
      "loss(Xs[5], Ys[5]) = 104.74310061975805 (tracked)\n",
      "loss(Xs[5], Ys[5]) = 105.46384215500235 (tracked)\n",
      "loss(Xs[5], Ys[5]) = 103.54732621440398 (tracked)\n",
      "loss(Xs[5], Ys[5]) = 103.50195496015083 (tracked)\n",
      "loss(Xs[5], Ys[5]) = 103.32209380376584 (tracked)\n",
      "loss(Xs[5], Ys[5]) = 103.42591941151362 (tracked)\n",
      "loss(Xs[5], Ys[5]) = 102.94148096416986 (tracked)\n",
      "loss(Xs[5], Ys[5]) = 101.93135039048727 (tracked)\n",
      "loss(Xs[5], Ys[5]) = 101.17983458842347 (tracked)\n",
      "loss(Xs[5], Ys[5]) = 102.05144938937538 (tracked)\n",
      "loss(Xs[5], Ys[5]) = 102.14375750519243 (tracked)\n",
      "loss(Xs[5], Ys[5]) = 101.22316580689582 (tracked)\n",
      "loss(Xs[5], Ys[5]) = 100.2942547716312 (tracked)\n",
      "loss(Xs[5], Ys[5]) = 99.88013172798289 (tracked)\n",
      "loss(Xs[5], Ys[5]) = 99.29944985470274 (tracked)\n",
      "loss(Xs[5], Ys[5]) = 99.1749337209282 (tracked)\n",
      "loss(Xs[5], Ys[5]) = 98.99698168595069 (tracked)\n",
      "loss(Xs[5], Ys[5]) = 98.95879865517608 (tracked)\n",
      "loss(Xs[5], Ys[5]) = 99.30795500845817 (tracked)\n",
      "loss(Xs[5], Ys[5]) = 99.60431879063697 (tracked)\n",
      "loss(Xs[5], Ys[5]) = 96.93951652981602 (tracked)\n",
      "loss(Xs[5], Ys[5]) = 97.4828538365701 (tracked)\n",
      "loss(Xs[5], Ys[5]) = 97.90511379078445 (tracked)\n",
      "loss(Xs[5], Ys[5]) = 96.84320338349148 (tracked)\n",
      "loss(Xs[5], Ys[5]) = 96.84466029955546 (tracked)\n",
      "loss(Xs[5], Ys[5]) = 96.47976162925075 (tracked)\n",
      "loss(Xs[5], Ys[5]) = 95.35328389198564 (tracked)\n",
      "loss(Xs[5], Ys[5]) = 96.70356701498405 (tracked)\n",
      "loss(Xs[5], Ys[5]) = 96.11492646208967 (tracked)\n",
      "loss(Xs[5], Ys[5]) = 97.13456924949439 (tracked)\n",
      "loss(Xs[5], Ys[5]) = 96.78505232441164 (tracked)\n",
      "loss(Xs[5], Ys[5]) = 95.328168780816 (tracked)\n",
      "loss(Xs[5], Ys[5]) = 95.2286213165471 (tracked)\n",
      "loss(Xs[5], Ys[5]) = 95.17691664651011 (tracked)\n",
      "loss(Xs[5], Ys[5]) = 95.7750460249325 (tracked)\n",
      "loss(Xs[5], Ys[5]) = 96.09778199743067 (tracked)\n",
      "loss(Xs[5], Ys[5]) = 94.53565256433085 (tracked)\n",
      "loss(Xs[5], Ys[5]) = 94.42342883044601 (tracked)\n",
      "loss(Xs[5], Ys[5]) = 95.0911188409315 (tracked)\n",
      "loss(Xs[5], Ys[5]) = 95.28903580155428 (tracked)\n",
      "loss(Xs[5], Ys[5]) = 94.57974105750786 (tracked)\n",
      "loss(Xs[5], Ys[5]) = 93.42410072493828 (tracked)\n",
      "loss(Xs[5], Ys[5]) = 93.62294045003317 (tracked)\n",
      "loss(Xs[5], Ys[5]) = 94.3494893885118 (tracked)\n",
      "loss(Xs[5], Ys[5]) = 94.06826461082709 (tracked)\n",
      "loss(Xs[5], Ys[5]) = 92.60839173725003 (tracked)\n",
      "loss(Xs[5], Ys[5]) = 93.84092682795591 (tracked)\n",
      "loss(Xs[5], Ys[5]) = 92.42593024364112 (tracked)\n",
      "loss(Xs[5], Ys[5]) = 92.66842395166968 (tracked)\n",
      "loss(Xs[5], Ys[5]) = 93.70949122858377 (tracked)\n",
      "loss(Xs[5], Ys[5]) = 93.98635975069483 (tracked)\n",
      "loss(Xs[5], Ys[5]) = 92.81579732850703 (tracked)\n",
      "loss(Xs[5], Ys[5]) = 92.43363652827637 (tracked)\n",
      "loss(Xs[5], Ys[5]) = 93.07497949412601 (tracked)\n",
      "loss(Xs[5], Ys[5]) = 91.38226372929628 (tracked)\n",
      "loss(Xs[5], Ys[5]) = 92.08877141110138 (tracked)\n",
      "loss(Xs[5], Ys[5]) = 91.94059264611894 (tracked)\n",
      "loss(Xs[5], Ys[5]) = 92.15424501966922 (tracked)\n",
      "loss(Xs[5], Ys[5]) = 91.71269772486401 (tracked)\n",
      "loss(Xs[5], Ys[5]) = 91.94635879822846 (tracked)\n",
      "loss(Xs[5], Ys[5]) = 91.63909604118597 (tracked)\n",
      "loss(Xs[5], Ys[5]) = 92.33874255064771 (tracked)\n",
      "loss(Xs[5], Ys[5]) = 92.69270520375268 (tracked)\n",
      "loss(Xs[5], Ys[5]) = 92.28348533836733 (tracked)\n",
      "loss(Xs[5], Ys[5]) = 92.49395512451774 (tracked)\n",
      "loss(Xs[5], Ys[5]) = 91.50418880932405 (tracked)\n",
      "loss(Xs[5], Ys[5]) = 91.29267153734737 (tracked)\n",
      "loss(Xs[5], Ys[5]) = 90.862560383344 (tracked)\n",
      "loss(Xs[5], Ys[5]) = 91.81936559163904 (tracked)\n",
      "loss(Xs[5], Ys[5]) = 90.98060021784232 (tracked)\n",
      "loss(Xs[5], Ys[5]) = 91.09848249000859 (tracked)\n",
      "loss(Xs[5], Ys[5]) = 91.0659226335982 (tracked)\n",
      "loss(Xs[5], Ys[5]) = 90.33113515768684 (tracked)\n",
      "loss(Xs[5], Ys[5]) = 91.00882454854303 (tracked)\n",
      "loss(Xs[5], Ys[5]) = 90.07299512562047 (tracked)\n",
      "loss(Xs[5], Ys[5]) = 90.7617961284737 (tracked)\n",
      "loss(Xs[5], Ys[5]) = 89.78157502969685 (tracked)\n",
      "loss(Xs[5], Ys[5]) = 92.51422088283162 (tracked)\n",
      "loss(Xs[5], Ys[5]) = 90.37826195383292 (tracked)\n",
      "loss(Xs[5], Ys[5]) = 91.15934968697222 (tracked)\n",
      "loss(Xs[5], Ys[5]) = 89.22457657501761 (tracked)\n",
      "loss(Xs[5], Ys[5]) = 90.75278341996994 (tracked)\n",
      "loss(Xs[5], Ys[5]) = 91.27643335405418 (tracked)\n",
      "loss(Xs[5], Ys[5]) = 90.62673787581818 (tracked)\n",
      "loss(Xs[5], Ys[5]) = 90.20587367316926 (tracked)\n",
      "loss(Xs[5], Ys[5]) = 91.00626328215284 (tracked)\n",
      "loss(Xs[5], Ys[5]) = 89.64874463697643 (tracked)\n",
      "loss(Xs[5], Ys[5]) = 89.72496519427762 (tracked)\n",
      "loss(Xs[5], Ys[5]) = 90.02840520062715 (tracked)\n",
      "loss(Xs[5], Ys[5]) = 89.30848857531292 (tracked)\n",
      "loss(Xs[5], Ys[5]) = 91.21340416967432 (tracked)\n",
      "loss(Xs[5], Ys[5]) = 89.72471881161415 (tracked)\n",
      "loss(Xs[5], Ys[5]) = 89.60911395460519 (tracked)\n",
      "loss(Xs[5], Ys[5]) = 89.56233892708605 (tracked)\n",
      "loss(Xs[5], Ys[5]) = 90.76830234657999 (tracked)\n",
      "loss(Xs[5], Ys[5]) = 88.8266975525279 (tracked)\n",
      "loss(Xs[5], Ys[5]) = 89.90353016494898 (tracked)\n",
      "loss(Xs[5], Ys[5]) = 90.28492988621038 (tracked)\n",
      "loss(Xs[5], Ys[5]) = 89.77124534268191 (tracked)\n",
      "loss(Xs[5], Ys[5]) = 89.16958205872447 (tracked)\n",
      "loss(Xs[5], Ys[5]) = 89.9670923837268 (tracked)\n",
      "loss(Xs[5], Ys[5]) = 89.0203836735415 (tracked)\n",
      "loss(Xs[5], Ys[5]) = 90.58619460055603 (tracked)\n",
      "loss(Xs[5], Ys[5]) = 89.26324767104657 (tracked)\n",
      "loss(Xs[5], Ys[5]) = 88.99478374544714 (tracked)\n",
      "loss(Xs[5], Ys[5]) = 89.07046215416267 (tracked)\n",
      "loss(Xs[5], Ys[5]) = 90.18082908184095 (tracked)\n",
      "loss(Xs[5], Ys[5]) = 89.15407848502215 (tracked)\n",
      "loss(Xs[5], Ys[5]) = 87.38670091529812 (tracked)\n",
      "loss(Xs[5], Ys[5]) = 88.59422390139633 (tracked)\n",
      "loss(Xs[5], Ys[5]) = 87.27295484981909 (tracked)\n",
      "loss(Xs[5], Ys[5]) = 88.06545743421277 (tracked)\n",
      "loss(Xs[5], Ys[5]) = 87.58616347750466 (tracked)\n",
      "loss(Xs[5], Ys[5]) = 87.50064311559771 (tracked)\n",
      "loss(Xs[5], Ys[5]) = 86.87340755550593 (tracked)\n",
      "loss(Xs[5], Ys[5]) = 87.4405584394014 (tracked)\n",
      "loss(Xs[5], Ys[5]) = 85.5152327357679 (tracked)\n",
      "loss(Xs[5], Ys[5]) = 87.74838242746102 (tracked)\n",
      "loss(Xs[5], Ys[5]) = 86.50913924172853 (tracked)\n",
      "loss(Xs[5], Ys[5]) = 87.04975994023484 (tracked)\n",
      "loss(Xs[5], Ys[5]) = 88.05447177547383 (tracked)\n",
      "loss(Xs[5], Ys[5]) = 87.3338663781481 (tracked)\n",
      "loss(Xs[5], Ys[5]) = 87.42596949150175 (tracked)\n",
      "loss(Xs[5], Ys[5]) = 87.1840453903311 (tracked)\n",
      "loss(Xs[5], Ys[5]) = 87.44838265030026 (tracked)\n",
      "loss(Xs[5], Ys[5]) = 86.58291633421666 (tracked)\n",
      "loss(Xs[5], Ys[5]) = 86.46580835416462 (tracked)\n",
      "loss(Xs[5], Ys[5]) = 87.75627663997737 (tracked)\n",
      "loss(Xs[5], Ys[5]) = 87.19121061581727 (tracked)\n",
      "loss(Xs[5], Ys[5]) = 86.46487257551779 (tracked)\n",
      "loss(Xs[5], Ys[5]) = 86.97513740922162 (tracked)\n",
      "loss(Xs[5], Ys[5]) = 86.308507099623 (tracked)\n",
      "loss(Xs[5], Ys[5]) = 86.82319358108877 (tracked)\n",
      "loss(Xs[5], Ys[5]) = 86.00508093384471 (tracked)\n",
      "loss(Xs[5], Ys[5]) = 86.58833417437143 (tracked)\n",
      "loss(Xs[5], Ys[5]) = 87.2928297989932 (tracked)\n",
      "loss(Xs[5], Ys[5]) = 85.62641388623211 (tracked)\n",
      "loss(Xs[5], Ys[5]) = 87.02784912646443 (tracked)\n",
      "loss(Xs[5], Ys[5]) = 85.69664735216645 (tracked)\n",
      "loss(Xs[5], Ys[5]) = 86.52040840443868 (tracked)\n",
      "loss(Xs[5], Ys[5]) = 85.26735191392801 (tracked)\n",
      "loss(Xs[5], Ys[5]) = 86.12845772330903 (tracked)\n",
      "loss(Xs[5], Ys[5]) = 85.268626206617 (tracked)\n",
      "loss(Xs[5], Ys[5]) = 84.9417163060918 (tracked)\n",
      "loss(Xs[5], Ys[5]) = 84.9328950475263 (tracked)\n",
      "loss(Xs[5], Ys[5]) = 83.63519602724844 (tracked)\n",
      "loss(Xs[5], Ys[5]) = 84.722372679742 (tracked)\n",
      "loss(Xs[5], Ys[5]) = 84.55002997589591 (tracked)\n",
      "loss(Xs[5], Ys[5]) = 83.33226265842472 (tracked)\n",
      "loss(Xs[5], Ys[5]) = 84.86866166193492 (tracked)\n",
      "loss(Xs[5], Ys[5]) = 85.51756480058452 (tracked)\n",
      "loss(Xs[5], Ys[5]) = 84.25681390416915 (tracked)\n"
     ]
    }
   ],
   "source": [
    "Flux.train!(loss, zip(Xs, Ys), opt, cb=throttle(evalcb, 30))"
   ]
  },
  {
   "cell_type": "markdown",
   "metadata": {},
   "source": [
    "## Sampling"
   ]
  },
  {
   "cell_type": "code",
   "execution_count": 10,
   "metadata": {},
   "outputs": [
    {
     "data": {
      "text/plain": [
       "sample (generic function with 1 method)"
      ]
     },
     "execution_count": 10,
     "metadata": {},
     "output_type": "execute_result"
    }
   ],
   "source": [
    "function sample(m, alphabet, len; temp=1)\n",
    "    Flux.reset!(m)\n",
    "    buf = IOBuffer()\n",
    "    c = rand(alphabet)\n",
    "    for i = 1:len\n",
    "        write(buf, c)\n",
    "        c = wsample(alphabet, m(onehot(c, alphabet)).data)\n",
    "    end\n",
    "    return String(take!(buf))\n",
    "end"
   ]
  },
  {
   "cell_type": "code",
   "execution_count": 11,
   "metadata": {},
   "outputs": [
    {
     "name": "stdout",
     "output_type": "stream",
     "text": [
      "ee and\n",
      "My lost slaply vanwillow'd the hard; a fashs as uncleen to exchise,\n",
      "In rest the cursed for of this rest my which or\n",
      "will one again? well hespined you, and who morrowite,\n",
      "Watter, but can meanys to him, on alpeal: and Elyes,\n",
      "When thou commandend and-younger it lay confesn a cale;\n",
      "Keep hithing clontion.\n",
      "\n",
      "First KING HENRY IVELVIIA:\n",
      "The sther reep, they the rid is prince you mistrand so,\n",
      "It leave a flends a time, mounded mine Engrialind,\n",
      "Nothing with an ase tarking! life him,\n",
      "Their maints: I that tark: for be authing's ridgast:\n",
      "Brave for a wich indufight indeed soft couse;\n",
      "I could scorn juttius what before;\n",
      "Help arm the king bind he lay?\n",
      "\n",
      "BERTRAM:\n",
      "What hand of the such to my trullly soft,\n",
      "As much' honain for our thround meerds of grace him.\n",
      "\n",
      "PHIMONIUS AFRE:\n",
      "Then will entrepale, your loved a havasior no treasoathied.\n",
      "\n",
      "PROSPERO:\n",
      "What, I came\n",
      "To ormoral names them we shall best honour, no put wife to her offections comile now,\n",
      "Let you will, blood,--Her earty.\n",
      "\n",
      "Second Cable not the lords\n"
     ]
    }
   ],
   "source": [
    "sample(m, alphabet, 1000) |> println"
   ]
  },
  {
   "cell_type": "code",
   "execution_count": null,
   "metadata": {},
   "outputs": [],
   "source": []
  }
 ],
 "metadata": {
  "kernelspec": {
   "display_name": "Julia 0.6.2",
   "language": "julia",
   "name": "julia-0.6"
  },
  "language_info": {
   "file_extension": ".jl",
   "mimetype": "application/julia",
   "name": "julia",
   "version": "0.6.3"
  }
 },
 "nbformat": 4,
 "nbformat_minor": 2
}
