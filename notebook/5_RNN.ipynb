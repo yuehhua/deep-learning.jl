{
 "cells": [
  {
   "cell_type": "markdown",
   "metadata": {},
   "source": [
    "# Recurrent neural network"
   ]
  },
  {
   "cell_type": "markdown",
   "metadata": {},
   "source": [
    "Character-level language model"
   ]
  },
  {
   "cell_type": "markdown",
   "metadata": {},
   "source": [
    "<img src=\"http://karpathy.github.io/assets/rnn/charseq.jpeg\">"
   ]
  },
  {
   "cell_type": "code",
   "execution_count": 1,
   "metadata": {},
   "outputs": [],
   "source": [
    "using Flux\n",
    "using Flux: @epochs, onehot, chunk, batchseq, throttle, crossentropy\n",
    "using StatsBase: wsample\n",
    "using Base.Iterators: partition\n",
    "using CuArrays"
   ]
  },
  {
   "cell_type": "markdown",
   "metadata": {},
   "source": [
    "## Download data"
   ]
  },
  {
   "cell_type": "code",
   "execution_count": 2,
   "metadata": {},
   "outputs": [
    {
     "data": {
      "text/plain": [
       "true"
      ]
     },
     "execution_count": 2,
     "metadata": {},
     "output_type": "execute_result"
    }
   ],
   "source": [
    "isfile(\"input.txt\") ||\n",
    "  download(\"http://cs.stanford.edu/people/karpathy/char-rnn/shakespeare_input.txt\", \"input.txt\")CuArrays"
   ]
  },
  {
   "cell_type": "markdown",
   "metadata": {},
   "source": [
    "## Preprocessing"
   ]
  },
  {
   "cell_type": "code",
   "execution_count": 3,
   "metadata": {},
   "outputs": [],
   "source": [
    "text = collect(String(read(\"input.txt\")))\n",
    "alphabet = [unique(text)..., '_']\n",
    "text = map(ch -> onehot(ch, alphabet), text)\n",
    "stop = onehot('_', alphabet);"
   ]
  },
  {
   "cell_type": "code",
   "execution_count": 4,
   "metadata": {},
   "outputs": [
    {
     "data": {
      "text/plain": [
       "50"
      ]
     },
     "execution_count": 4,
     "metadata": {},
     "output_type": "execute_result"
    }
   ],
   "source": [
    "N = length(alphabet)\n",
    "seqlen = 50\n",
    "nbatch = 50"
   ]
  },
  {
   "cell_type": "code",
   "execution_count": 5,
   "metadata": {},
   "outputs": [],
   "source": [
    "Xs = collect(partition(batchseq(chunk(text, nbatch), stop), seqlen))\n",
    "Ys = collect(partition(batchseq(chunk(text[2:end], nbatch), stop), seqlen));"
   ]
  },
  {
   "cell_type": "markdown",
   "metadata": {},
   "source": [
    "## Model"
   ]
  },
  {
   "cell_type": "code",
   "execution_count": 6,
   "metadata": {},
   "outputs": [
    {
     "data": {
      "text/plain": [
       "Chain(Recur(LSTMCell(68, 128)), Recur(LSTMCell(128, 128)), Dense(128, 68), softmax)"
      ]
     },
     "execution_count": 6,
     "metadata": {},
     "output_type": "execute_result"
    }
   ],
   "source": [
    "m = Chain(\n",
    "    LSTM(N, 128),\n",
    "    LSTM(128, 128),\n",
    "    Dense(128, N),\n",
    "    softmax)"
   ]
  },
  {
   "cell_type": "markdown",
   "metadata": {},
   "source": [
    "## Loss function"
   ]
  },
  {
   "cell_type": "code",
   "execution_count": 7,
   "metadata": {},
   "outputs": [
    {
     "data": {
      "text/plain": [
       "loss (generic function with 1 method)"
      ]
     },
     "execution_count": 7,
     "metadata": {},
     "output_type": "execute_result"
    }
   ],
   "source": [
    "function loss(xs, ys)\n",
    "    l = sum(crossentropy.(m.(xs), ys))\n",
    "    Flux.reset!(m)\n",
    "    return l\n",
    "end"
   ]
  },
  {
   "cell_type": "markdown",
   "metadata": {},
   "source": [
    "## Optimizer"
   ]
  },
  {
   "cell_type": "code",
   "execution_count": 8,
   "metadata": {},
   "outputs": [
    {
     "data": {
      "text/plain": [
       "evalcb (generic function with 1 method)"
      ]
     },
     "execution_count": 8,
     "metadata": {},
     "output_type": "execute_result"
    }
   ],
   "source": [
    "opt = ADAM(0.01)\n",
    "evalcb() = @show loss(Xs[5], Ys[5])"
   ]
  },
  {
   "cell_type": "markdown",
   "metadata": {},
   "source": [
    "## Training"
   ]
  },
  {
   "cell_type": "code",
   "execution_count": 9,
   "metadata": {},
   "outputs": [
    {
     "name": "stderr",
     "output_type": "stream",
     "text": [
      "┌ Info: Epoch 1\n",
      "└ @ Main /home/yuehhua/.julia/packages/Flux/2i5P1/src/optimise/train.jl:99\n"
     ]
    },
    {
     "name": "stdout",
     "output_type": "stream",
     "text": [
      "loss(Xs[5], Ys[5]) = 196.29782f0\n",
      "loss(Xs[5], Ys[5]) = 168.7379f0\n",
      "loss(Xs[5], Ys[5]) = 167.81807f0\n",
      "loss(Xs[5], Ys[5]) = 167.81956f0\n",
      "loss(Xs[5], Ys[5]) = 168.42319f0\n",
      "loss(Xs[5], Ys[5]) = 168.04958f0\n",
      "loss(Xs[5], Ys[5]) = 168.03412f0\n",
      "loss(Xs[5], Ys[5]) = 167.85292f0\n",
      "loss(Xs[5], Ys[5]) = 168.15042f0\n",
      "loss(Xs[5], Ys[5]) = 168.10759f0\n",
      "loss(Xs[5], Ys[5]) = 168.03957f0\n",
      "loss(Xs[5], Ys[5]) = 168.34824f0\n",
      "loss(Xs[5], Ys[5]) = 167.94077f0\n",
      "loss(Xs[5], Ys[5]) = 168.39522f0\n",
      "loss(Xs[5], Ys[5]) = 167.70534f0\n",
      "loss(Xs[5], Ys[5]) = 167.69283f0\n",
      "loss(Xs[5], Ys[5]) = 168.48396f0\n",
      "loss(Xs[5], Ys[5]) = 168.29532f0\n",
      "loss(Xs[5], Ys[5]) = 168.53442f0\n",
      "loss(Xs[5], Ys[5]) = 167.75645f0\n"
     ]
    },
    {
     "name": "stderr",
     "output_type": "stream",
     "text": [
      "┌ Info: Epoch 2\n",
      "└ @ Main /home/yuehhua/.julia/packages/Flux/2i5P1/src/optimise/train.jl:99\n"
     ]
    },
    {
     "name": "stdout",
     "output_type": "stream",
     "text": [
      "loss(Xs[5], Ys[5]) = 168.4532f0\n",
      "loss(Xs[5], Ys[5]) = 167.8475f0\n",
      "loss(Xs[5], Ys[5]) = 167.47672f0\n",
      "loss(Xs[5], Ys[5]) = 167.34839f0\n",
      "loss(Xs[5], Ys[5]) = 167.8128f0\n",
      "loss(Xs[5], Ys[5]) = 167.47623f0\n",
      "loss(Xs[5], Ys[5]) = 167.63483f0\n",
      "loss(Xs[5], Ys[5]) = 167.7313f0\n",
      "loss(Xs[5], Ys[5]) = 167.53249f0\n",
      "loss(Xs[5], Ys[5]) = 167.68056f0\n",
      "loss(Xs[5], Ys[5]) = 167.01086f0\n",
      "loss(Xs[5], Ys[5]) = 166.74171f0\n",
      "loss(Xs[5], Ys[5]) = 166.25209f0\n",
      "loss(Xs[5], Ys[5]) = 165.73651f0\n",
      "loss(Xs[5], Ys[5]) = 165.16168f0\n",
      "loss(Xs[5], Ys[5]) = 164.9013f0\n",
      "loss(Xs[5], Ys[5]) = 164.63634f0\n",
      "loss(Xs[5], Ys[5]) = 164.3064f0\n",
      "loss(Xs[5], Ys[5]) = 164.13612f0\n",
      "loss(Xs[5], Ys[5]) = 162.87486f0\n",
      "loss(Xs[5], Ys[5]) = 161.37503f0\n",
      "loss(Xs[5], Ys[5]) = 158.08737f0\n",
      "loss(Xs[5], Ys[5]) = 155.00578f0\n",
      "loss(Xs[5], Ys[5]) = 152.86896f0\n"
     ]
    },
    {
     "name": "stderr",
     "output_type": "stream",
     "text": [
      "┌ Info: Epoch 3\n",
      "└ @ Main /home/yuehhua/.julia/packages/Flux/2i5P1/src/optimise/train.jl:99\n"
     ]
    },
    {
     "name": "stdout",
     "output_type": "stream",
     "text": [
      "loss(Xs[5], Ys[5]) = 152.41394f0\n",
      "loss(Xs[5], Ys[5]) = 149.46277f0\n",
      "loss(Xs[5], Ys[5]) = 147.84923f0\n",
      "loss(Xs[5], Ys[5]) = 149.60577f0\n",
      "loss(Xs[5], Ys[5]) = 145.96623f0\n",
      "loss(Xs[5], Ys[5]) = 145.66422f0\n",
      "loss(Xs[5], Ys[5]) = 147.59682f0\n",
      "loss(Xs[5], Ys[5]) = 146.56323f0\n",
      "loss(Xs[5], Ys[5]) = 150.19762f0\n",
      "loss(Xs[5], Ys[5]) = 149.22984f0\n",
      "loss(Xs[5], Ys[5]) = 148.08849f0\n",
      "loss(Xs[5], Ys[5]) = 146.63953f0\n",
      "loss(Xs[5], Ys[5]) = 146.9025f0\n",
      "loss(Xs[5], Ys[5]) = 150.44743f0\n",
      "loss(Xs[5], Ys[5]) = 145.1392f0\n",
      "loss(Xs[5], Ys[5]) = 144.57774f0\n",
      "loss(Xs[5], Ys[5]) = 144.30167f0\n",
      "loss(Xs[5], Ys[5]) = 144.52188f0\n",
      "loss(Xs[5], Ys[5]) = 142.05896f0\n",
      "loss(Xs[5], Ys[5]) = 141.5173f0\n",
      "loss(Xs[5], Ys[5]) = 140.72392f0\n",
      "loss(Xs[5], Ys[5]) = 142.2347f0\n",
      "loss(Xs[5], Ys[5]) = 170.7372f0\n",
      "loss(Xs[5], Ys[5]) = 155.88963f0\n",
      "loss(Xs[5], Ys[5]) = 165.90833f0\n"
     ]
    },
    {
     "name": "stderr",
     "output_type": "stream",
     "text": [
      "┌ Info: Epoch 4\n",
      "└ @ Main /home/yuehhua/.julia/packages/Flux/2i5P1/src/optimise/train.jl:99\n"
     ]
    },
    {
     "name": "stdout",
     "output_type": "stream",
     "text": [
      "loss(Xs[5], Ys[5]) = 166.26042f0\n",
      "loss(Xs[5], Ys[5]) = 162.83278f0\n",
      "loss(Xs[5], Ys[5]) = 161.90129f0\n",
      "loss(Xs[5], Ys[5]) = 162.99934f0\n",
      "loss(Xs[5], Ys[5]) = 202.80118f0\n",
      "loss(Xs[5], Ys[5]) = 170.65627f0\n",
      "loss(Xs[5], Ys[5]) = 168.18155f0\n",
      "loss(Xs[5], Ys[5]) = 167.49104f0\n",
      "loss(Xs[5], Ys[5]) = 167.1406f0\n",
      "loss(Xs[5], Ys[5]) = 168.0301f0\n",
      "loss(Xs[5], Ys[5]) = 168.35104f0\n",
      "loss(Xs[5], Ys[5]) = 168.02083f0\n",
      "loss(Xs[5], Ys[5]) = 167.62605f0\n",
      "loss(Xs[5], Ys[5]) = 169.52359f0\n",
      "loss(Xs[5], Ys[5]) = 167.58008f0\n",
      "loss(Xs[5], Ys[5]) = 167.66658f0\n",
      "loss(Xs[5], Ys[5]) = 169.04176f0\n",
      "loss(Xs[5], Ys[5]) = 167.5872f0\n",
      "loss(Xs[5], Ys[5]) = 167.88509f0\n",
      "loss(Xs[5], Ys[5]) = 166.78961f0\n",
      "loss(Xs[5], Ys[5]) = 165.6094f0\n",
      "loss(Xs[5], Ys[5]) = 165.26924f0\n"
     ]
    },
    {
     "name": "stderr",
     "output_type": "stream",
     "text": [
      "┌ Info: Epoch 5\n",
      "└ @ Main /home/yuehhua/.julia/packages/Flux/2i5P1/src/optimise/train.jl:99\n"
     ]
    },
    {
     "name": "stdout",
     "output_type": "stream",
     "text": [
      "loss(Xs[5], Ys[5]) = 165.06433f0\n",
      "loss(Xs[5], Ys[5]) = 163.28801f0\n",
      "loss(Xs[5], Ys[5]) = 160.95926f0\n",
      "loss(Xs[5], Ys[5]) = 162.40448f0\n",
      "loss(Xs[5], Ys[5]) = 162.15633f0\n",
      "loss(Xs[5], Ys[5]) = 167.62325f0\n",
      "loss(Xs[5], Ys[5]) = 166.66963f0\n",
      "loss(Xs[5], Ys[5]) = 166.52834f0\n",
      "loss(Xs[5], Ys[5]) = 166.09325f0\n",
      "loss(Xs[5], Ys[5]) = 166.96078f0\n",
      "loss(Xs[5], Ys[5]) = 167.04877f0\n",
      "loss(Xs[5], Ys[5]) = 167.08018f0\n",
      "loss(Xs[5], Ys[5]) = 166.61067f0\n",
      "loss(Xs[5], Ys[5]) = 161.5909f0\n",
      "loss(Xs[5], Ys[5]) = 161.64499f0\n",
      "loss(Xs[5], Ys[5]) = 161.21397f0\n",
      "loss(Xs[5], Ys[5]) = 164.01053f0\n",
      "loss(Xs[5], Ys[5]) = 163.63864f0\n",
      "loss(Xs[5], Ys[5]) = 165.86086f0\n",
      "loss(Xs[5], Ys[5]) = 167.78708f0\n",
      "loss(Xs[5], Ys[5]) = 168.20183f0\n",
      "loss(Xs[5], Ys[5]) = 167.1101f0\n"
     ]
    },
    {
     "name": "stderr",
     "output_type": "stream",
     "text": [
      "┌ Info: Epoch 6\n",
      "└ @ Main /home/yuehhua/.julia/packages/Flux/2i5P1/src/optimise/train.jl:99\n"
     ]
    },
    {
     "name": "stdout",
     "output_type": "stream",
     "text": [
      "loss(Xs[5], Ys[5]) = 166.51495f0\n",
      "loss(Xs[5], Ys[5]) = 167.04291f0\n",
      "loss(Xs[5], Ys[5]) = 168.38882f0\n",
      "loss(Xs[5], Ys[5]) = 167.6848f0\n",
      "loss(Xs[5], Ys[5]) = 168.72707f0\n",
      "loss(Xs[5], Ys[5]) = 167.10767f0\n",
      "loss(Xs[5], Ys[5]) = 167.67046f0\n",
      "loss(Xs[5], Ys[5]) = 167.14622f0\n",
      "loss(Xs[5], Ys[5]) = 167.44229f0\n",
      "loss(Xs[5], Ys[5]) = 167.8726f0\n",
      "loss(Xs[5], Ys[5]) = 166.87134f0\n",
      "loss(Xs[5], Ys[5]) = 167.91068f0\n",
      "loss(Xs[5], Ys[5]) = 167.68265f0\n",
      "loss(Xs[5], Ys[5]) = 168.12315f0\n",
      "loss(Xs[5], Ys[5]) = 167.16997f0\n",
      "loss(Xs[5], Ys[5]) = 169.62457f0\n",
      "loss(Xs[5], Ys[5]) = 167.96577f0\n",
      "loss(Xs[5], Ys[5]) = 166.2087f0\n",
      "loss(Xs[5], Ys[5]) = 164.58978f0\n",
      "loss(Xs[5], Ys[5]) = 164.94624f0\n",
      "loss(Xs[5], Ys[5]) = 165.65279f0\n",
      "loss(Xs[5], Ys[5]) = 167.11296f0\n",
      "loss(Xs[5], Ys[5]) = 165.43365f0\n"
     ]
    },
    {
     "name": "stderr",
     "output_type": "stream",
     "text": [
      "┌ Info: Epoch 7\n",
      "└ @ Main /home/yuehhua/.julia/packages/Flux/2i5P1/src/optimise/train.jl:99\n"
     ]
    },
    {
     "name": "stdout",
     "output_type": "stream",
     "text": [
      "loss(Xs[5], Ys[5]) = 164.7974f0\n",
      "loss(Xs[5], Ys[5]) = 166.50026f0\n",
      "loss(Xs[5], Ys[5]) = 165.60341f0\n",
      "loss(Xs[5], Ys[5]) = 165.49095f0\n",
      "loss(Xs[5], Ys[5]) = 163.27304f0\n",
      "loss(Xs[5], Ys[5]) = 160.1047f0\n",
      "loss(Xs[5], Ys[5]) = 160.71657f0\n",
      "loss(Xs[5], Ys[5]) = 156.91574f0\n",
      "loss(Xs[5], Ys[5]) = 159.81125f0\n",
      "loss(Xs[5], Ys[5]) = 156.89055f0\n",
      "loss(Xs[5], Ys[5]) = 165.76819f0\n",
      "loss(Xs[5], Ys[5]) = 162.60904f0\n",
      "loss(Xs[5], Ys[5]) = 163.01083f0\n",
      "loss(Xs[5], Ys[5]) = 163.61075f0\n",
      "loss(Xs[5], Ys[5]) = 163.47795f0\n",
      "loss(Xs[5], Ys[5]) = 167.41824f0\n",
      "loss(Xs[5], Ys[5]) = 165.51192f0\n",
      "loss(Xs[5], Ys[5]) = 164.72421f0\n",
      "loss(Xs[5], Ys[5]) = 167.58214f0\n",
      "loss(Xs[5], Ys[5]) = 168.5141f0\n",
      "loss(Xs[5], Ys[5]) = 171.08968f0\n",
      "loss(Xs[5], Ys[5]) = 169.13731f0\n"
     ]
    },
    {
     "name": "stderr",
     "output_type": "stream",
     "text": [
      "┌ Info: Epoch 8\n",
      "└ @ Main /home/yuehhua/.julia/packages/Flux/2i5P1/src/optimise/train.jl:99\n"
     ]
    },
    {
     "name": "stdout",
     "output_type": "stream",
     "text": [
      "loss(Xs[5], Ys[5]) = 168.45049f0\n",
      "loss(Xs[5], Ys[5]) = 168.30182f0\n",
      "loss(Xs[5], Ys[5]) = 167.73198f0\n",
      "loss(Xs[5], Ys[5]) = 168.2007f0\n",
      "loss(Xs[5], Ys[5]) = 168.40344f0\n",
      "loss(Xs[5], Ys[5]) = 167.99107f0\n",
      "loss(Xs[5], Ys[5]) = 167.98953f0\n",
      "loss(Xs[5], Ys[5]) = 167.33028f0\n",
      "loss(Xs[5], Ys[5]) = 168.23798f0\n",
      "loss(Xs[5], Ys[5]) = 167.58928f0\n",
      "loss(Xs[5], Ys[5]) = 167.28317f0\n",
      "loss(Xs[5], Ys[5]) = 167.6174f0\n",
      "loss(Xs[5], Ys[5]) = 167.26097f0\n",
      "loss(Xs[5], Ys[5]) = 167.39742f0\n",
      "loss(Xs[5], Ys[5]) = 166.91249f0\n",
      "loss(Xs[5], Ys[5]) = 167.04086f0\n",
      "loss(Xs[5], Ys[5]) = 167.46112f0\n",
      "loss(Xs[5], Ys[5]) = 166.72363f0\n",
      "loss(Xs[5], Ys[5]) = 165.93913f0\n",
      "loss(Xs[5], Ys[5]) = 166.25717f0\n",
      "loss(Xs[5], Ys[5]) = 165.01721f0\n",
      "loss(Xs[5], Ys[5]) = 164.52182f0\n",
      "loss(Xs[5], Ys[5]) = 164.6081f0\n",
      "loss(Xs[5], Ys[5]) = 165.50789f0\n",
      "loss(Xs[5], Ys[5]) = 165.50307f0\n"
     ]
    },
    {
     "name": "stderr",
     "output_type": "stream",
     "text": [
      "┌ Info: Epoch 9\n",
      "└ @ Main /home/yuehhua/.julia/packages/Flux/2i5P1/src/optimise/train.jl:99\n"
     ]
    },
    {
     "name": "stdout",
     "output_type": "stream",
     "text": [
      "loss(Xs[5], Ys[5]) = 165.52336f0\n",
      "loss(Xs[5], Ys[5]) = 165.59875f0\n",
      "loss(Xs[5], Ys[5]) = 166.73637f0\n",
      "loss(Xs[5], Ys[5]) = 166.0372f0\n",
      "loss(Xs[5], Ys[5]) = 166.0334f0\n",
      "loss(Xs[5], Ys[5]) = 166.50314f0\n",
      "loss(Xs[5], Ys[5]) = 165.52846f0\n",
      "loss(Xs[5], Ys[5]) = 165.41101f0\n",
      "loss(Xs[5], Ys[5]) = 167.16405f0\n",
      "loss(Xs[5], Ys[5]) = 168.03386f0\n",
      "loss(Xs[5], Ys[5]) = 168.07646f0\n",
      "loss(Xs[5], Ys[5]) = 167.95976f0\n",
      "loss(Xs[5], Ys[5]) = 168.24438f0\n",
      "loss(Xs[5], Ys[5]) = 167.3345f0\n",
      "loss(Xs[5], Ys[5]) = 167.14984f0\n",
      "loss(Xs[5], Ys[5]) = 166.40466f0\n",
      "loss(Xs[5], Ys[5]) = 166.45137f0\n",
      "loss(Xs[5], Ys[5]) = 166.18651f0\n",
      "loss(Xs[5], Ys[5]) = 166.30598f0\n",
      "loss(Xs[5], Ys[5]) = 165.27869f0\n",
      "loss(Xs[5], Ys[5]) = 164.78f0\n",
      "loss(Xs[5], Ys[5]) = 165.80664f0\n",
      "loss(Xs[5], Ys[5]) = 166.43628f0\n"
     ]
    },
    {
     "name": "stderr",
     "output_type": "stream",
     "text": [
      "┌ Info: Epoch 10\n",
      "└ @ Main /home/yuehhua/.julia/packages/Flux/2i5P1/src/optimise/train.jl:99\n"
     ]
    },
    {
     "name": "stdout",
     "output_type": "stream",
     "text": [
      "loss(Xs[5], Ys[5]) = 166.54372f0\n",
      "loss(Xs[5], Ys[5]) = 166.34227f0\n",
      "loss(Xs[5], Ys[5]) = 168.52495f0\n",
      "loss(Xs[5], Ys[5]) = 168.01495f0\n",
      "loss(Xs[5], Ys[5]) = 167.33472f0\n",
      "loss(Xs[5], Ys[5]) = 167.37161f0\n",
      "loss(Xs[5], Ys[5]) = 166.69885f0\n",
      "loss(Xs[5], Ys[5]) = 166.59048f0\n",
      "loss(Xs[5], Ys[5]) = 167.62424f0\n",
      "loss(Xs[5], Ys[5]) = 166.84758f0\n",
      "loss(Xs[5], Ys[5]) = 166.76443f0\n",
      "loss(Xs[5], Ys[5]) = 167.15128f0\n",
      "loss(Xs[5], Ys[5]) = 167.33199f0\n",
      "loss(Xs[5], Ys[5]) = 166.72868f0\n",
      "loss(Xs[5], Ys[5]) = 167.27429f0\n",
      "loss(Xs[5], Ys[5]) = 166.69878f0\n",
      "loss(Xs[5], Ys[5]) = 166.58568f0\n",
      "loss(Xs[5], Ys[5]) = 166.77077f0\n",
      "loss(Xs[5], Ys[5]) = 166.2737f0\n",
      "loss(Xs[5], Ys[5]) = 166.35228f0\n",
      "loss(Xs[5], Ys[5]) = 166.56717f0\n",
      "loss(Xs[5], Ys[5]) = 167.08582f0\n",
      "loss(Xs[5], Ys[5]) = 166.86716f0\n",
      "loss(Xs[5], Ys[5]) = 166.65967f0\n"
     ]
    }
   ],
   "source": [
    "@epochs 10 Flux.train!(loss, params(m), zip(Xs, Ys), opt, cb=throttle(evalcb, 30))"
   ]
  },
  {
   "cell_type": "markdown",
   "metadata": {},
   "source": [
    "## Sampling"
   ]
  },
  {
   "cell_type": "code",
   "execution_count": 12,
   "metadata": {},
   "outputs": [
    {
     "data": {
      "text/plain": [
       "sample (generic function with 1 method)"
      ]
     },
     "execution_count": 12,
     "metadata": {},
     "output_type": "execute_result"
    }
   ],
   "source": [
    "function sample(m, alphabet, len; temp=1)\n",
    "    Flux.reset!(m)\n",
    "    buf = IOBuffer()\n",
    "    c = rand(alphabet)\n",
    "    for i = 1:len\n",
    "        write(buf, c)\n",
    "        c = wsample(alphabet, m(onehot(c, alphabet)))\n",
    "    end\n",
    "    return String(take!(buf))\n",
    "end"
   ]
  },
  {
   "cell_type": "code",
   "execution_count": 13,
   "metadata": {},
   "outputs": [
    {
     "name": "stdout",
     "output_type": "stream",
     "text": [
      "it lp\n",
      "iaafeiwaw \n",
      "ta rto\n",
      "idnpabaie ay  B utnWnftier lYs\n",
      "toydsa hhhy ,rs: te Ralieirreowd enrrn w.nl?g yiiwn gstn E\n",
      "e arpi\n",
      ",,bt doootrnaslub o,bG  l  gesd E oOtgnlrholnnnrp uLt ados  aueo \n",
      "\n",
      "   eetilyayu  ttl  mnlo?:slayp  yfst  d s\n",
      "lb  iytmHeEl:\n",
      " ptunioofbA nndoeww ft:\n",
      "JmVrtuyrCd n bytuotp no  oCrc\n",
      "Fed  meto;rU\n",
      "l rshl 'oelsnnd.  rswS ynd.yekwtmh\n",
      "m renf.np\n",
      "etm,wIliodem swetepanucm.\n",
      "n sog mbL n yts wil.orndtsuwo hoy:w urld u y sebH\n",
      "erefcrusLwrwno\n",
      "m\n",
      "tdyo\n",
      "ederooS ,erHphw E\n",
      "frrs,  tAlnon huwuys r hi aSue,Bs:ystPerh  h  uhnoTmwouP uuUsErry  ,tEshtt,cestm\n",
      "ac dDn,uet smtEefsTlENGaR rBihm\n",
      "e rd, y   b\n",
      "\n",
      "ch he wSr   t noA\n",
      "ir u dmepa ;e t d?  .svy  rusrhw oeMese seIUtilt:Cp  icpeo 'Fhvutrlt yyrAo auid mono'uY teE\n",
      "tftutesos lAhkgirwl:m\n",
      "t cl \n",
      "hm K e hpaBhekswfbe\n",
      "HeAk,oGlittonet mu :t\n",
      "rs,oeIwu?,ESHTrncttn lrm\n",
      "nolrnrd.es jT :vt rebe r\n",
      "lh,f G nlmnf :ryyidVks\n",
      "n rfWtCarodmIs \n",
      "ve.uA wledosi  aeu:bo,AlN hwksooy\n",
      "e\n",
      "setmEnocno I:wturt  es .t\n",
      "tyo?rmwertelinfL tolseogyA    . t,dfk \n",
      "ac fyynywursOod,ybprL e au:Stt,e\n"
     ]
    }
   ],
   "source": [
    "sample(m, alphabet, 1000) |> println"
   ]
  },
  {
   "cell_type": "code",
   "execution_count": null,
   "metadata": {},
   "outputs": [],
   "source": []
  }
 ],
 "metadata": {
  "kernelspec": {
   "display_name": "Julia 1.3.1",
   "language": "julia",
   "name": "julia-1.3"
  },
  "language_info": {
   "file_extension": ".jl",
   "mimetype": "application/julia",
   "name": "julia",
   "version": "1.3.1"
  }
 },
 "nbformat": 4,
 "nbformat_minor": 4
}
