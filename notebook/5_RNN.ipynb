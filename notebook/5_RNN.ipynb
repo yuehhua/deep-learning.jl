{
 "cells": [
  {
   "cell_type": "markdown",
   "metadata": {},
   "source": [
    "# Recurrent neural network"
   ]
  },
  {
   "cell_type": "markdown",
   "metadata": {},
   "source": [
    "Character-level language model"
   ]
  },
  {
   "cell_type": "markdown",
   "metadata": {},
   "source": [
    "<img src=\"http://karpathy.github.io/assets/rnn/charseq.jpeg\">"
   ]
  },
  {
   "cell_type": "code",
   "execution_count": 1,
   "metadata": {},
   "outputs": [],
   "source": [
    "using Flux\n",
    "using Flux: onehot, chunk, batchseq, throttle, crossentropy\n",
    "using StatsBase: wsample\n",
    "using Base.Iterators: partition"
   ]
  },
  {
   "cell_type": "markdown",
   "metadata": {},
   "source": [
    "## Download data"
   ]
  },
  {
   "cell_type": "code",
   "execution_count": 2,
   "metadata": {},
   "outputs": [
    {
     "data": {
      "text/plain": [
       "true"
      ]
     },
     "execution_count": 2,
     "metadata": {},
     "output_type": "execute_result"
    }
   ],
   "source": [
    "isfile(\"input.txt\") ||\n",
    "  download(\"http://cs.stanford.edu/people/karpathy/char-rnn/shakespeare_input.txt\", \"input.txt\")"
   ]
  },
  {
   "cell_type": "markdown",
   "metadata": {},
   "source": [
    "## Preprocessing"
   ]
  },
  {
   "cell_type": "code",
   "execution_count": 3,
   "metadata": {},
   "outputs": [
    {
     "data": {
      "text/plain": [
       "68-element Flux.OneHotVector:\n",
       " false\n",
       " false\n",
       " false\n",
       " false\n",
       " false\n",
       " false\n",
       " false\n",
       " false\n",
       " false\n",
       " false\n",
       " false\n",
       " false\n",
       " false\n",
       "     ⋮\n",
       " false\n",
       " false\n",
       " false\n",
       " false\n",
       " false\n",
       " false\n",
       " false\n",
       " false\n",
       " false\n",
       " false\n",
       " false\n",
       "  true"
      ]
     },
     "execution_count": 3,
     "metadata": {},
     "output_type": "execute_result"
    }
   ],
   "source": [
    "text = collect(String(read(\"input.txt\")))\n",
    "alphabet = [unique(text)..., '_']\n",
    "text = map(ch -> onehot(ch, alphabet), text)\n",
    "stop = onehot('_', alphabet)"
   ]
  },
  {
   "cell_type": "code",
   "execution_count": 4,
   "metadata": {},
   "outputs": [
    {
     "data": {
      "text/plain": [
       "50"
      ]
     },
     "execution_count": 4,
     "metadata": {},
     "output_type": "execute_result"
    }
   ],
   "source": [
    "N = length(alphabet)\n",
    "seqlen = 50\n",
    "nbatch = 50"
   ]
  },
  {
   "cell_type": "code",
   "execution_count": 5,
   "metadata": {},
   "outputs": [
    {
     "data": {
      "text/plain": [
       "1830-element Array{Array{Flux.OneHotMatrix{Array{Flux.OneHotVector,1}},1},1}:\n",
       " [[false false … false false; true false … false false; … ; false false … false false; false false … false false], [false false … false false; false false … false false; … ; false false … false false; false false … false false], [false false … false false; false false … false false; … ; false false … false false; false false … false false], [false false … false false; false false … false false; … ; false false … false false; false false … false false], [false false … false false; false false … false false; … ; false false … false false; false false … false false], [false false … false false; false false … false false; … ; false false … false false; false false … false false], [false false … false false; true false … false false; … ; false false … false false; false false … false false], [false false … false false; false false … false true; … ; false false … false false; false false … false false], [false false … false false; true false … false false; … ; false false … false false; false false … false false], [false false … false false; false false … false false; … ; false false … false false; false false … false false]  …  [false false … false false; false false … false false; … ; false false … false false; false false … false false], [false false … false false; false false … false false; … ; false false … false false; false false … false false], [false false … false false; false false … false false; … ; false false … false false; false false … false false], [false false … false false; false false … false false; … ; false false … false false; false false … false false], [false false … false false; false false … false false; … ; false false … false false; false false … false false], [false false … false false; false false … false false; … ; false false … false false; false false … false false], [false false … false false; false false … true false; … ; false false … false false; false false … false false], [false false … false false; false false … false false; … ; false false … false false; false false … false false], [false false … false false; false false … false false; … ; false false … false false; false false … false false], [false false … false false; false false … false false; … ; false false … false false; false false … false false]]     \n",
       " [[false false … false false; false false … false false; … ; false false … false false; false false … false false], [false false … false false; false false … false false; … ; false false … false false; false false … false false], [false false … false false; false false … false false; … ; false false … false false; false false … false false], [false false … false false; false false … false false; … ; false false … false false; false false … false false], [false false … false false; false false … false false; … ; false false … false false; false false … false false], [false false … false false; false false … false false; … ; false false … false false; false false … false false], [false false … false false; false false … false false; … ; false false … false false; false false … false false], [false false … false true; false false … false false; … ; false false … false false; false false … false false], [false false … false false; false false … false false; … ; false false … false false; false false … false false], [false false … false false; false false … false false; … ; false false … false false; false false … false false]  …  [false false … false false; true false … false false; … ; false false … false false; false false … false false], [false false … false false; false false … false false; … ; false false … false false; false false … false false], [false false … false false; false false … false false; … ; false false … false false; false false … false false], [false false … false false; false false … false false; … ; false false … false false; false false … false false], [false false … false false; false false … false false; … ; false false … false false; false false … false false], [false false … false false; false false … false false; … ; false false … false false; false false … false false], [false false … false false; false false … false false; … ; false false … false false; false false … false false], [false false … false false; false false … true false; … ; false false … false false; false false … false false], [false false … false false; false false … false false; … ; false false … false false; false false … false false], [false false … false false; false false … false false; … ; false false … false false; false false … false false]]   \n",
       " [[false false … false false; false false … false false; … ; false false … false false; false false … false false], [false false … false false; false false … false false; … ; false false … false false; false false … false false], [false false … false false; false false … false false; … ; false false … false false; false false … false false], [false false … false false; false false … false true; … ; false false … false false; false false … false false], [false false … false false; false false … false false; … ; false false … false false; false false … false false], [false false … false false; false false … false false; … ; false false … false false; false false … false false], [false false … false false; false false … false false; … ; false false … false false; false false … false false], [false false … false false; false false … false false; … ; false false … false false; false false … false false], [false false … false false; false false … false false; … ; false false … false false; false false … false false], [false false … false false; false false … false false; … ; false false … false false; false false … false false]  …  [false false … false false; false false … false false; … ; false false … false false; false false … false false], [false false … false false; false false … false false; … ; false false … false false; false false … false false], [false false … false false; true false … false false; … ; false false … false false; false false … false false], [false false … false false; false false … false false; … ; false false … false false; false false … false false], [false false … false false; false false … false false; … ; false false … false false; false false … false false], [false false … false false; false true … false false; … ; false false … false false; false false … false false], [false false … false false; false false … true true; … ; false false … false false; false false … false false], [false false … false false; false false … false false; … ; false false … false false; false false … false false], [false false … false false; false false … false false; … ; false false … false false; false false … false false], [false false … false false; false false … false false; … ; false false … false false; false false … false false]]     \n",
       " [[false false … false false; false false … false false; … ; false false … false false; false false … false false], [false false … false false; false false … false false; … ; false false … false false; false false … false false], [false false … false false; false false … false false; … ; false false … false false; false false … false false], [false false … false false; false false … false false; … ; false false … false false; false false … false false], [false false … false false; false false … false false; … ; false false … false false; false false … false false], [false false … false false; false false … false false; … ; false false … false false; false false … false false], [false false … false false; false true … false false; … ; false false … false false; false false … false false], [false false … false false; false false … false false; … ; false false … false false; false false … false false], [false false … false false; false false … false false; … ; false false … false false; false false … false false], [false false … false false; false false … false false; … ; false false … false false; false false … false false]  …  [false true … false false; true false … false true; … ; false false … false false; false false … false false], [false false … false false; false true … false false; … ; false false … false false; false false … false false], [false false … false false; false false … false false; … ; false false … false false; false false … false false], [false false … false false; false false … false false; … ; false false … false false; false false … false false], [false false … false false; false false … false false; … ; false false … false false; false false … false false], [false false … false false; false false … false false; … ; false false … false false; false false … false false], [false false … false false; false false … false false; … ; false false … false false; false false … false false], [false false … false false; false false … false false; … ; false false … false false; false false … false false], [false false … false false; false false … false false; … ; false false … false false; false false … false false], [false false … false false; false false … false false; … ; false false … false false; false false … false false]]     \n",
       " [[false false … false false; false false … false false; … ; false false … false false; false false … false false], [false false … false false; false false … false true; … ; false false … false false; false false … false false], [false false … false false; false false … false false; … ; false false … false false; false false … false false], [false false … false false; false false … false false; … ; false false … false false; false false … false false], [false false … false false; false false … false false; … ; false false … false false; false false … false false], [false false … false false; false false … false false; … ; false false … false false; false false … false false], [false false … false false; false false … false false; … ; false false … false false; false false … false false], [false false … false false; true false … false false; … ; false false … false false; false false … false false], [false false … false false; false false … false false; … ; false false … false false; false false … false false], [false false … false false; false false … false false; … ; false false … false false; false false … false false]  …  [false false … false false; false false … false false; … ; false false … false false; false false … false false], [false false … false false; false false … false false; … ; false false … false false; false false … false false], [false false … false false; false false … false false; … ; false false … false false; false false … false false], [false false … false false; false false … false false; … ; false false … false false; false false … false false], [false false … false false; false false … false false; … ; false false … false false; false false … false false], [false false … false false; false false … false false; … ; false false … false false; false false … false false], [false false … false false; false false … false false; … ; false false … false false; false false … false false], [false false … false false; false false … false true; … ; false false … false false; false false … false false], [false false … false false; false false … false false; … ; false false … false false; false false … false false], [false false … false false; false false … false false; … ; false false … false false; false false … false false]]   \n",
       " [[false false … false false; false false … false false; … ; false false … false false; false false … false false], [false false … false false; false false … false false; … ; false false … false false; false false … false false], [false false … false false; false false … false false; … ; false false … false false; false false … false false], [false false … false false; false false … false false; … ; false false … false false; false false … false false], [false false … false false; false false … false true; … ; false false … false false; false false … false false], [false false … false false; false false … false false; … ; false false … false false; false false … false false], [false false … false false; false false … false true; … ; false false … false false; false false … false false], [false false … false false; false false … false false; … ; false false … false false; false false … false false], [false false … false false; false false … false false; … ; false false … false false; false false … false false], [false false … false false; false false … false false; … ; false false … false false; false false … false false]  …  [false false … false false; false false … false false; … ; false false … false false; false false … false false], [false false … false false; false false … false false; … ; false false … false false; false false … false false], [false false … false false; false false … false false; … ; false false … false false; false false … false false], [false false … false false; false false … false false; … ; false false … false false; false false … false false], [false false … false false; false false … false false; … ; false false … false false; false false … false false], [false false … false false; false false … false false; … ; false false … false false; false false … false false], [false false … false false; false false … false false; … ; false false … false false; false false … false false], [false false … false false; false false … false false; … ; false false … false false; false false … false false], [false false … false false; false false … false false; … ; false false … false false; false false … false false], [false false … false false; false false … false false; … ; false false … false false; false false … false false]]  \n",
       " [[false false … false false; false true … false false; … ; false false … false false; false false … false false], [false false … false false; true false … false false; … ; false false … false false; false false … false false], [false false … false false; false false … false false; … ; false false … false false; false false … false false], [false false … false false; false false … false false; … ; false false … false false; false false … false false], [false false … false false; false false … false false; … ; false false … false false; false false … false false], [false false … false false; false false … false false; … ; false false … false false; false false … false false], [false false … false false; true false … false false; … ; false false … false false; false false … false false], [false false … false false; false false … false false; … ; false false … false false; false false … false false], [false false … false false; false false … false true; … ; false false … false false; false false … false false], [false false … false false; false false … false false; … ; false false … false false; false false … false false]  …  [false false … false false; false false … false false; … ; false false … false false; false false … false false], [false false … false false; false false … false false; … ; false false … false false; false false … false false], [false false … false false; false false … false false; … ; false false … false false; false false … false false], [false false … false false; true false … false false; … ; false false … false false; false false … false false], [false false … false false; false false … false false; … ; false false … false false; false false … false false], [false false … true false; false false … false false; … ; false false … false false; false false … false false], [false false … false false; false false … false false; … ; false false … false false; false false … false false], [false false … false false; false false … false false; … ; false false … false false; false false … false false], [false false … false false; false false … false false; … ; false false … false false; false false … false false], [false false … false false; false false … false false; … ; false false … false false; false false … false false]]      \n",
       " [[false false … false false; false false … false false; … ; false false … false false; false false … false false], [false false … false false; false false … false false; … ; false false … false false; false false … false false], [false false … false false; false false … false true; … ; false false … false false; false false … false false], [false false … false false; false false … false false; … ; false false … false false; false false … false false], [false false … false false; false false … false false; … ; false false … false false; false false … false false], [false false … false false; false false … false false; … ; false false … false false; false false … false false], [false false … false false; false false … false false; … ; false false … false false; false false … false false], [false false … false false; false false … false false; … ; false false … false false; false false … false false], [false false … false false; false false … false false; … ; false false … false false; false false … false false], [false false … false false; true false … false false; … ; false false … false false; false false … false false]  …  [false false … false false; false false … false false; … ; false false … false false; false false … false false], [false false … false false; false false … false false; … ; false false … false false; false false … false false], [false false … false false; false false … false false; … ; false false … false false; false false … false false], [false false … false false; false false … false false; … ; false false … false false; false false … false false], [false false … false false; false false … false false; … ; false false … false false; false false … false false], [false false … false false; false false … false false; … ; false false … false false; false false … false false], [false false … false false; true false … false false; … ; false false … false false; false false … false false], [false false … false false; false true … false false; … ; false false … false false; false false … false false], [false false … false false; false false … false false; … ; false false … false false; false false … false false], [false false … false false; false false … true false; … ; false false … false false; false false … false false]]     \n",
       " [[false false … false false; false false … false false; … ; false false … false false; false false … false false], [false false … false false; false false … false false; … ; false false … false false; false false … false false], [false false … false false; false false … false false; … ; false false … false false; false false … false false], [false false … false false; false false … false false; … ; false false … false false; false false … false false], [false false … false false; false false … false false; … ; false false … false false; false false … false false], [false false … false false; false false … false false; … ; false false … false false; false false … false false], [false false … false false; false false … false false; … ; false false … false false; false false … false false], [false false … false false; false false … false false; … ; false false … false false; false false … false false], [false false … false false; false false … false false; … ; false false … false false; false false … false false], [false false … false false; false false … false false; … ; false false … false false; false false … false false]  …  [false false … false false; false false … false false; … ; false false … false false; false false … false false], [false false … false false; false false … false false; … ; false false … false false; false false … false false], [false false … false false; false false … false false; … ; false false … false false; false false … false false], [false false … false false; false false … false false; … ; false false … false false; false false … false false], [false false … false false; false false … false false; … ; false false … false false; false false … false false], [false false … false false; false false … false false; … ; false false … false false; false false … false false], [false false … false false; false false … false false; … ; false false … false false; false false … false false], [false false … false false; false false … false false; … ; false false … false false; false false … false false], [false false … false false; false false … false false; … ; false false … false false; false false … false false], [false false … false false; false false … false false; … ; false false … false false; false false … false false]]\n",
       " [[false false … false false; false false … false false; … ; false false … false false; false false … false false], [false false … false false; false false … false false; … ; false false … false false; false false … false false], [false false … false false; false false … false false; … ; false false … false false; false false … false false], [false false … false false; true false … false false; … ; false false … false false; false false … false false], [false false … false false; false false … false false; … ; false false … false false; false false … false false], [false false … false false; true false … false false; … ; false false … false false; false false … false false], [false false … false false; false false … false false; … ; false false … false false; false false … false false], [false false … false false; false false … false false; … ; false false … false false; false false … false false], [false false … false false; false false … false false; … ; false false … false false; false false … false false], [false false … false false; false false … false false; … ; false false … false false; false false … false false]  …  [false false … false false; false false … false false; … ; false false … false false; false false … false false], [false false … false false; false false … false false; … ; false false … false false; false false … false false], [false false … false false; false false … false false; … ; false false … false false; false false … false false], [false false … false false; false false … false false; … ; false false … false false; false false … false false], [false false … false false; false false … false false; … ; false false … false false; false false … false false], [false false … false false; false false … false false; … ; false false … false false; false false … false false], [false false … false false; false false … false false; … ; false false … false false; false false … false false], [false false … false false; false false … false false; … ; false false … false false; false false … false false], [false false … false false; false false … false false; … ; false false … false false; false false … false false], [false false … false false; false false … false false; … ; false false … false false; false false … false false]]  \n",
       " [[false false … false false; false false … false false; … ; false false … false false; false false … false false], [false false … false false; true false … false true; … ; false false … false false; false false … false false], [false false … false false; false false … false false; … ; false false … false false; false false … false false], [false false … false false; true false … false false; … ; false false … false false; false false … false false], [false false … false false; false false … false false; … ; false false … false false; false false … false false], [false false … false false; false false … false false; … ; false false … false false; false false … false false], [false false … false false; false false … false false; … ; false false … false false; false false … false false], [false false … false false; false false … false false; … ; false false … false false; false false … false false], [false false … false false; false false … false false; … ; false false … false false; false false … false false], [false false … false false; false false … false false; … ; false false … false false; false false … false false]  …  [false false … false false; false false … false false; … ; false false … false false; false false … false false], [false false … false false; false false … false false; … ; false false … false false; false false … false false], [false false … false false; true false … false false; … ; false false … false false; false false … false false], [false false … false false; false false … false false; … ; false false … false false; false false … false false], [false false … false false; false false … false false; … ; false false … false false; false false … false false], [false false … false false; false false … false false; … ; false false … false false; false false … false false], [false false … false false; false false … false true; … ; false false … false false; false false … false false], [false false … false false; false false … false false; … ; false false … false false; false false … false false], [false false … false false; false false … false false; … ; false false … false false; false false … false false], [false false … false false; false false … false false; … ; false false … false false; false false … false false]]     \n",
       " [[false false … false false; false false … false false; … ; false false … false false; false false … false false], [false false … false false; true false … false false; … ; false false … false false; false false … false false], [false false … false false; false false … false false; … ; false false … false false; false false … false false], [false false … false false; false true … false false; … ; false false … false false; false false … false false], [false false … false false; false false … false false; … ; false false … false false; false false … false false], [false false … false false; false true … false false; … ; false false … false false; false false … false false], [false false … false false; false false … false false; … ; false false … false false; false false … false false], [false false … false false; false false … false false; … ; false false … false false; false false … false false], [false false … false false; false false … false false; … ; false false … false false; false false … false false], [false false … false false; false false … false false; … ; false false … false false; false false … false false]  …  [false false … false false; false false … false false; … ; false false … false false; false false … false false], [false false … false false; true false … true false; … ; false false … false false; false false … false false], [false false … false false; false false … false false; … ; false false … false false; false false … false false], [false false … false false; false true … false false; … ; false false … false false; false false … false false], [false false … false false; false false … false false; … ; false false … false false; false false … false false], [false false … false false; false false … false false; … ; false false … false false; false false … false false], [false false … false false; false false … false false; … ; false false … false false; false false … false false], [false false … false false; false false … false false; … ; false false … false false; false false … false false], [false false … false false; false false … false false; … ; false false … false false; false false … false false], [false false … false false; false false … false false; … ; false false … false false; false false … false false]]      \n",
       " [[false false … false false; false false … true false; … ; false false … false false; false false … false false], [false false … false false; false true … false false; … ; false false … false false; false false … false false], [false false … false false; false false … false false; … ; false false … false false; false false … false false], [false false … false false; false false … false false; … ; false false … false false; false false … false false], [false false … false false; false false … true false; … ; false false … false false; false false … false false], [false false … false false; false false … false false; … ; false false … false false; false false … false false], [false false … false false; false false … false false; … ; false false … false false; false false … false false], [false false … false false; false false … true false; … ; false false … false false; false false … false false], [false false … false false; false false … false false; … ; false false … false false; false false … false false], [false false … false false; false false … false false; … ; false false … false false; false false … false false]  …  [false false … false false; false false … false false; … ; false false … false false; false false … false false], [false false … false false; false false … false false; … ; false false … false false; false false … false false], [false false … false false; false false … false false; … ; false false … false false; false false … false false], [false false … false false; false false … false false; … ; false false … false false; false false … false false], [false false … false false; false false … false false; … ; false false … false false; false false … false false], [false false … false false; false false … false false; … ; false false … false false; false false … false false], [false false … false false; false false … false false; … ; false false … false false; false false … false false], [false false … false false; false false … false false; … ; false false … false false; false false … false false], [false false … false false; false false … false false; … ; false false … false false; false false … false false], [false false … false false; true false … true false; … ; false false … false false; false false … false false]]      \n",
       " ⋮                                                                                                                                                                                                                                                                                                                                                                                                                                                                                                                                                                                                                                                                                                                                                                                                                                                                                                                                                                                                                                                                                                                                                                                                                                                                                                                                                                                                                                                                                                                                                                                                                                                                                                                                                                                                                                                                                                                                                                                                                                                                                                                                                                                                                                                                                                                                                                          \n",
       " [[false false … false false; false false … false false; … ; false false … false false; false false … false false], [false false … false false; false false … false false; … ; false false … false false; false false … false false], [false false … false false; false false … false false; … ; false false … false false; false false … false false], [false false … false false; false false … false false; … ; false false … false false; false false … false false], [false false … false false; false false … false false; … ; false false … false false; false false … false false], [false false … false false; false true … false false; … ; false false … false false; false false … false false], [false false … false false; false false … false false; … ; false false … false false; false false … false false], [false false … false false; false false … false false; … ; false false … false false; false false … false false], [false false … false false; false false … false false; … ; false false … false false; false false … false false], [false false … false false; false false … false false; … ; false false … false false; false false … false false]  …  [false false … false false; false false … false false; … ; false false … false false; false false … false false], [false false … false false; false false … false false; … ; false false … false false; false false … false false], [false false … false false; false false … false false; … ; false false … false false; false false … false false], [false false … false false; false false … false false; … ; false false … false false; false false … false false], [false false … false false; false false … false false; … ; false false … false false; false false … false false], [false false … false false; false false … false false; … ; false false … false false; false false … false false], [false false … false false; false false … false false; … ; false false … false false; false false … false false], [false false … false false; false false … false false; … ; false false … false false; false false … false false], [false false … false false; false false … false false; … ; false false … false false; false false … false false], [false false … false false; false false … false false; … ; false false … false false; false false … false false]] \n",
       " [[false false … false false; false false … false false; … ; false false … false false; false false … false false], [false false … false false; false false … false false; … ; false false … false false; false false … false false], [false false … false false; false false … false false; … ; false false … false false; false false … false false], [false false … false false; false false … false false; … ; false false … false false; false false … false false], [false false … false false; false false … false false; … ; false false … false false; false false … false false], [false false … false false; false false … false false; … ; false false … false false; false false … false false], [false false … false false; false false … false false; … ; false false … false false; false false … false false], [false false … false false; false false … false false; … ; false false … false false; false false … false false], [false false … false false; false false … false false; … ; false false … false false; false false … false false], [false false … false false; false false … true false; … ; false false … false false; false false … false false]  …  [false false … false false; true false … false false; … ; false false … false false; false false … false false], [false false … false false; false false … false false; … ; false false … false false; false false … false false], [false false … false false; false false … true false; … ; false false … false false; false false … false false], [false false … false false; false false … false false; … ; false false … false false; false false … false false], [false false … false false; false false … false false; … ; false false … false false; false false … false false], [false false … false false; false false … false false; … ; false false … false false; false false … false false], [false false … false false; false false … false false; … ; false false … false false; false false … false false], [false false … false false; true false … false false; … ; false false … false false; false false … false false], [false false … false false; false false … false true; … ; false false … false false; false false … false false], [false false … false false; false false … false false; … ; false false … false false; false false … false false]]     \n",
       " [[false false … false false; false false … false false; … ; false false … false false; false false … false false], [false false … false false; false false … false false; … ; false false … false false; false false … false false], [false false … false false; false false … false false; … ; false false … false false; false false … false false], [false false … false false; false false … false false; … ; false false … false false; false false … false false], [false false … false false; false false … false false; … ; false false … false false; false false … false false], [false false … false false; false false … false false; … ; false false … false false; false false … false false], [false false … false false; false false … false false; … ; false false … false false; false false … false false], [false false … false false; false false … false false; … ; false false … false false; false false … false false], [false false … false false; false false … false false; … ; false false … false false; false false … false false], [false false … false false; false true … false false; … ; false false … false false; false false … false false]  …  [false false … false false; false false … false false; … ; false false … false false; false false … false false], [false false … false false; false false … false false; … ; false false … false false; false false … false false], [false false … false false; false false … false false; … ; false false … false false; false false … false false], [false false … false false; false false … true false; … ; false false … false false; false false … false false], [false false … false false; false false … false false; … ; false false … false false; false false … false false], [false false … false false; false false … false true; … ; false false … false false; false false … false false], [false false … false false; false false … false false; … ; false false … false false; false false … false false], [false false … false false; false false … false false; … ; false false … false false; false false … false false], [false false … false false; false false … false false; … ; false false … false false; false false … false false], [false false … false false; false false … false false; … ; false false … false false; false false … false false]]   \n",
       " [[false false … false false; false false … false false; … ; false false … false false; false false … false false], [false false … false false; false false … false false; … ; false false … false false; false false … false false], [false false … false false; false false … false false; … ; false false … false false; false false … false false], [false false … false false; false false … false false; … ; false false … false false; false false … false false], [false false … false false; false false … false false; … ; false false … false false; false false … false false], [false false … false false; false false … false false; … ; false false … false false; false false … false false], [false false … false false; false false … false false; … ; false false … false false; false false … false false], [false false … false false; false false … false false; … ; false false … false false; false false … false false], [false false … false false; false false … false false; … ; false false … false false; false false … false false], [false false … false false; false false … false false; … ; false false … false false; false false … false false]  …  [false false … false false; false false … false false; … ; false false … false false; false false … false false], [false false … false false; false false … false false; … ; false false … false false; false false … false false], [false false … false false; false false … false false; … ; false false … false false; false false … false false], [false false … false false; false false … false false; … ; false false … false false; false false … false false], [false false … false false; false false … false false; … ; false false … false false; false false … false false], [false false … false false; false false … true false; … ; false false … false false; false false … false false], [false false … false false; false false … false false; … ; false false … false false; false false … false false], [false false … false false; false false … false false; … ; false false … false false; false false … false false], [false false … false false; false false … false false; … ; false false … false false; false false … false false], [false false … false false; false false … false false; … ; false false … false false; false false … false false]] \n",
       " [[false false … false false; true false … false false; … ; false false … false false; false false … false false], [false false … false false; false false … false false; … ; false false … false false; false false … false false], [false false … false false; false false … false false; … ; false false … false false; false false … false false], [false false … false false; false false … false false; … ; false false … false false; false false … false false], [false false … false false; false false … false false; … ; false false … false false; false false … false false], [false false … false false; false false … false false; … ; false false … false false; false false … false false], [false false … false false; false false … false false; … ; false false … false false; false false … false false], [false false … false false; false false … false true; … ; false false … false false; false false … false false], [false false … false false; false false … false false; … ; false false … false false; false false … false false], [false false … false false; false false … false false; … ; false false … false false; false false … false false]  …  [false false … false false; false false … false false; … ; false false … false false; false false … false false], [false false … false false; false false … false false; … ; false false … false false; false false … false false], [false false … false false; false false … false false; … ; false false … false false; false false … false false], [false false … false false; false false … false false; … ; false false … false false; false false … false false], [false false … false false; false false … true false; … ; false false … false false; false false … false false], [false false … false false; false false … false false; … ; false false … false false; false false … false false], [false false … false false; false false … false false; … ; false false … false false; false false … false false], [false false … false false; false false … false true; … ; false false … false false; false false … false false], [false false … false false; false false … false false; … ; false false … false false; false false … false false], [false false … false false; false false … false false; … ; false false … false false; false false … false false]]    \n",
       " [[false false … false false; false false … false false; … ; false false … false false; false false … false false], [false false … false false; false false … false false; … ; false false … false false; false false … false false], [false false … false false; false false … false false; … ; false false … false false; false false … false false], [false false … false false; false false … false false; … ; false false … false false; false false … false false], [false false … false false; false false … true false; … ; false false … false false; false false … false false], [false false … false false; false false … false true; … ; false false … false false; false false … false false], [false false … false false; false false … false false; … ; false false … false false; false false … false false], [false false … false false; false false … false false; … ; false false … false false; false false … false false], [false false … false false; false false … false false; … ; false false … false false; false false … false false], [false false … false false; false false … false false; … ; false false … false false; false false … false false]  …  [false false … false false; false false … true false; … ; false false … false false; false false … false false], [false false … false false; false false … false false; … ; false false … false false; false false … false false], [false false … false false; false false … false false; … ; false false … false false; false false … false false], [false false … false false; false false … false false; … ; false false … false false; false false … false false], [false false … false false; false false … true false; … ; false false … false false; false false … false false], [false false … false false; false false … false true; … ; false false … false false; false false … false false], [false false … false false; false true … false false; … ; false false … false false; false false … false false], [false false … false false; false false … false false; … ; false false … false false; false false … false false], [false false … false false; false false … false false; … ; false false … false false; false false … false false], [false false … false false; false false … true false; … ; false false … false false; false false … false false]]       \n",
       " [[false false … false false; false false … false false; … ; false false … false false; false false … false false], [false false … false false; false false … false false; … ; false false … false false; false false … false false], [false false … false false; false false … false false; … ; false false … false false; false false … false false], [false false … false false; false false … false false; … ; false false … false false; false false … false false], [false false … false false; false false … false false; … ; false false … false false; false false … false false], [false false … false false; false false … true false; … ; false false … false false; false false … false false], [false false … false false; false false … false false; … ; false false … false false; false false … false false], [false false … false false; false false … false false; … ; false false … false false; false false … false false], [false false … false false; false false … false false; … ; false false … false false; false false … false false], [false false … false false; false false … false false; … ; false false … false false; false false … false false]  …  [false false … false false; false false … false false; … ; false false … false false; false false … false false], [false false … false false; false false … false true; … ; false false … false false; false false … false false], [false false … false false; false false … false false; … ; false false … false false; false false … false false], [false false … false false; false false … true false; … ; false false … false false; false false … false false], [false false … false false; false false … false false; … ; false false … false false; false false … false false], [false false … false false; false false … false true; … ; false false … false false; false false … false false], [false false … false false; false false … true false; … ; false false … false false; false false … false false], [false false … false false; false false … false false; … ; false false … false false; false false … false false], [false false … false false; false false … false false; … ; false false … false false; false false … false false], [false false … false false; false false … false false; … ; false false … false false; false false … false false]]     \n",
       " [[false false … false false; false false … false false; … ; false false … false false; false false … false false], [false false … false false; false false … false true; … ; false false … false false; false false … false false], [false false … false false; false false … false false; … ; false false … false false; false false … false false], [false false … false false; false false … false false; … ; false false … false false; false false … false false], [false false … false false; false false … false false; … ; false false … false false; false false … false false], [false false … false false; false false … true false; … ; false false … false false; false false … false false], [false false … false false; false false … false false; … ; false false … false false; false false … false false], [false false … false false; false false … false false; … ; false false … false false; false false … false false], [false false … false false; false false … false false; … ; false false … false false; false false … false false], [false false … false false; false false … false false; … ; false false … false false; false false … false false]  …  [false false … false false; false false … false false; … ; false false … false false; false false … false false], [false false … false false; false false … false false; … ; false false … false false; false false … false false], [false false … false false; false false … false true; … ; false false … false false; false false … false false], [false false … false false; false false … false false; … ; false false … false false; false false … false false], [false false … false false; false false … true false; … ; false false … false false; false false … false false], [false false … false false; false false … false false; … ; false false … false false; false false … false false], [false false … false false; false false … false false; … ; false false … false false; false false … false false], [false false … false false; false false … false false; … ; false false … false false; false false … false false], [false false … false false; false false … false false; … ; false false … false false; false false … false false], [false false … false false; false false … false false; … ; false false … false false; false false … false false]]    \n",
       " [[false false … false false; false false … false false; … ; false false … false false; false false … false false], [false false … false false; false false … false false; … ; false false … false false; false false … false false], [false false … false false; false false … false false; … ; false false … false false; false false … false false], [false false … false false; false false … false false; … ; false false … false false; false false … false false], [false false … false false; false false … false false; … ; false false … false false; false false … false false], [false false … false false; false false … false false; … ; false false … false false; false false … false false], [false false … false false; false false … false false; … ; false false … false false; false false … false false], [false false … false false; false false … false false; … ; false false … false false; false false … false false], [false false … false false; false false … false false; … ; false false … false false; false false … false false], [false false … false false; false false … false false; … ; false false … false false; false false … false false]  …  [false false … false false; false false … false false; … ; false false … false false; false false … false false], [false false … false false; false true … false false; … ; false false … false false; false false … false false], [false false … false false; false false … false false; … ; false false … false false; false false … false false], [false false … false false; false false … false false; … ; false false … false false; false false … false false], [false false … false false; false false … false false; … ; false false … false false; false false … false false], [false false … false false; false false … false false; … ; false false … false false; false false … false false], [false false … false false; false false … false false; … ; false false … false false; false false … false false], [false false … false false; false false … false false; … ; false false … false false; false false … false false], [false false … false false; false false … false false; … ; false false … false false; false false … false false], [false false … false false; false false … false false; … ; false false … false false; false false … false false]] \n",
       " [[false false … false false; false false … false false; … ; false false … false false; false false … false false], [false false … false false; false false … false false; … ; false false … false false; false false … false false], [false false … false false; false false … false false; … ; false false … false false; false false … false false], [false false … false false; false false … false false; … ; false false … false false; false false … false false], [false false … false false; false false … false false; … ; false false … false false; false false … false false], [false false … false false; false false … false true; … ; false false … false false; false false … false false], [false false … false false; false false … false false; … ; false false … false false; false false … false false], [false false … false false; false false … false false; … ; false false … false false; false false … false false], [false false … false false; false false … false false; … ; false false … false false; false false … false false], [false false … false false; false false … true false; … ; false false … false false; false false … false false]  …  [false false … false false; false false … false false; … ; false false … false false; false false … false false], [false false … false false; false false … false false; … ; false false … false false; false false … false false], [false false … false false; false false … false false; … ; false false … false false; false false … false false], [false false … false false; false false … false false; … ; false false … false false; false false … false false], [false false … false false; false false … false false; … ; false false … false false; false false … false false], [false false … false false; false false … false false; … ; false false … false false; false false … false false], [false false … false false; false false … true false; … ; false false … false false; false false … false false], [false false … false false; false false … false false; … ; false false … false false; false false … false false], [false false … false false; false false … false false; … ; false false … false false; false false … false false], [false false … false false; false false … false false; … ; false false … false false; false false … false false]]   \n",
       " [[false false … false false; false false … false false; … ; false false … false false; false false … false false], [false false … false false; false false … false false; … ; false false … false false; false false … false false], [false false … false false; false false … false false; … ; false false … false false; false false … false false], [false false … false false; false false … false false; … ; false false … false false; false false … false false], [false false … false false; false false … false false; … ; false false … false false; false false … false false], [false false … false false; false false … true false; … ; false false … false false; false false … false false], [false false … false false; false false … false false; … ; false false … false false; false false … false false], [false false … false false; false false … false false; … ; false false … false false; false false … false false], [false false … false false; false false … true false; … ; false false … false false; false false … false false], [false false … false false; false false … false false; … ; false false … false false; false false … false false]  …  [false false … false false; false false … false false; … ; false false … false false; false false … false false], [false false … false false; false true … false false; … ; false false … false false; false false … false false], [false false … false false; false false … false false; … ; false false … false false; false false … false false], [false false … false false; false false … false false; … ; false false … false false; false false … false false], [false false … false false; false false … false false; … ; false false … false false; false false … false false], [false false … false false; false true … false false; … ; false false … false false; false false … false false], [false false … false false; false false … false false; … ; false false … false false; false false … false false], [false false … false false; false false … false false; … ; false false … false false; false false … false false], [false false … false false; true false … false false; … ; false false … false false; false false … false false], [false false … false false; false false … false false; … ; false false … false false; false false … false false]]     \n",
       " [[false false … false false; false false … false false; … ; false false … false false; false false … false false], [false false … false false; false false … false false; … ; false false … false false; false false … false false], [false false … false false; false false … false false; … ; false false … false false; false false … false false], [false false … false false; false false … false false; … ; false false … false false; false false … false false], [false false … false false; false false … false false; … ; false false … false false; false false … false true], [false false … false false; false false … false false; … ; false false … false false; false false … false true], [false false … false false; false false … false false; … ; false false … false false; false false … false true], [false false … false false; false false … false false; … ; false false … false false; false false … false true], [false false … false false; false false … false false; … ; false false … false false; false false … false true], [false false … false false; false false … false false; … ; false false … false false; false false … false true], [false false … false false; false false … false false; … ; false false … false false; false false … false true], [false false … false false; false false … false false; … ; false false … false false; false false … false true], [false false … false false; false false … false false; … ; false false … false false; false false … false true], [false false … false false; false false … false false; … ; false false … false false; false false … false true], [false false … false false; false false … false false; … ; false false … false false; false false … false true], [false false … false false; false false … false false; … ; false false … false false; false false … false true], [false false … false false; false false … false false; … ; false false … false false; false false … false true]]                                                                                                                                                                                                                                                                                                                                                                      "
      ]
     },
     "execution_count": 5,
     "metadata": {},
     "output_type": "execute_result"
    }
   ],
   "source": [
    "Xs = collect(partition(batchseq(chunk(text, nbatch), stop), seqlen))\n",
    "Ys = collect(partition(batchseq(chunk(text[2:end], nbatch), stop), seqlen))"
   ]
  },
  {
   "cell_type": "markdown",
   "metadata": {},
   "source": [
    "## Model"
   ]
  },
  {
   "cell_type": "code",
   "execution_count": 6,
   "metadata": {},
   "outputs": [
    {
     "data": {
      "text/plain": [
       "Chain(Recur(LSTMCell(68, 128)), Recur(LSTMCell(128, 128)), Dense(128, 68), NNlib.softmax)"
      ]
     },
     "execution_count": 6,
     "metadata": {},
     "output_type": "execute_result"
    }
   ],
   "source": [
    "m = Chain(\n",
    "    LSTM(N, 128),\n",
    "    LSTM(128, 128),\n",
    "    Dense(128, N),\n",
    "    softmax)"
   ]
  },
  {
   "cell_type": "markdown",
   "metadata": {},
   "source": [
    "## Loss function"
   ]
  },
  {
   "cell_type": "code",
   "execution_count": 7,
   "metadata": {},
   "outputs": [
    {
     "data": {
      "text/plain": [
       "loss (generic function with 1 method)"
      ]
     },
     "execution_count": 7,
     "metadata": {},
     "output_type": "execute_result"
    }
   ],
   "source": [
    "function loss(xs, ys)\n",
    "  l = sum(crossentropy.(m.(xs), ys))\n",
    "  Flux.truncate!(m)\n",
    "  return l\n",
    "end"
   ]
  },
  {
   "cell_type": "markdown",
   "metadata": {},
   "source": [
    "## Optimizer"
   ]
  },
  {
   "cell_type": "code",
   "execution_count": 8,
   "metadata": {},
   "outputs": [
    {
     "data": {
      "text/plain": [
       "#5 (generic function with 1 method)"
      ]
     },
     "execution_count": 8,
     "metadata": {},
     "output_type": "execute_result"
    }
   ],
   "source": [
    "opt = ADAM(params(m), 0.01)\n",
    "evalcb = () -> @show loss(Xs[5], Ys[5])"
   ]
  },
  {
   "cell_type": "markdown",
   "metadata": {},
   "source": [
    "## Training"
   ]
  },
  {
   "cell_type": "code",
   "execution_count": 9,
   "metadata": {},
   "outputs": [
    {
     "name": "stdout",
     "output_type": "stream",
     "text": [
      "loss(Xs[5], Ys[5]) = 202.45528293464412 (tracked)\n",
      "loss(Xs[5], Ys[5]) = 167.75381373898688 (tracked)\n",
      "loss(Xs[5], Ys[5]) = 167.14824138044773 (tracked)\n",
      "loss(Xs[5], Ys[5]) = 163.43542053861623 (tracked)\n",
      "loss(Xs[5], Ys[5]) = 154.93595763773237 (tracked)\n",
      "loss(Xs[5], Ys[5]) = 145.1697120910843 (tracked)\n",
      "loss(Xs[5], Ys[5]) = 136.49327767515427 (tracked)\n",
      "loss(Xs[5], Ys[5]) = 130.9153451688647 (tracked)\n",
      "loss(Xs[5], Ys[5]) = 126.65639836622245 (tracked)\n",
      "loss(Xs[5], Ys[5]) = 124.21062477185251 (tracked)\n",
      "loss(Xs[5], Ys[5]) = 122.30418090567937 (tracked)\n",
      "loss(Xs[5], Ys[5]) = 120.76118972360231 (tracked)\n",
      "loss(Xs[5], Ys[5]) = 118.91092914991603 (tracked)\n",
      "loss(Xs[5], Ys[5]) = 117.6279769838344 (tracked)\n",
      "loss(Xs[5], Ys[5]) = 116.52415935235881 (tracked)\n",
      "loss(Xs[5], Ys[5]) = 115.05858543676312 (tracked)\n",
      "loss(Xs[5], Ys[5]) = 113.90204807897454 (tracked)\n",
      "loss(Xs[5], Ys[5]) = 113.69725005157423 (tracked)\n",
      "loss(Xs[5], Ys[5]) = 113.07024491715369 (tracked)\n",
      "loss(Xs[5], Ys[5]) = 112.16889728181485 (tracked)\n",
      "loss(Xs[5], Ys[5]) = 110.84323305432648 (tracked)\n",
      "loss(Xs[5], Ys[5]) = 110.98729026613036 (tracked)\n",
      "loss(Xs[5], Ys[5]) = 109.83174860334333 (tracked)\n",
      "loss(Xs[5], Ys[5]) = 110.31790877654348 (tracked)\n",
      "loss(Xs[5], Ys[5]) = 108.76407616539804 (tracked)\n",
      "loss(Xs[5], Ys[5]) = 108.26684810171483 (tracked)\n",
      "loss(Xs[5], Ys[5]) = 107.2616126940378 (tracked)\n",
      "loss(Xs[5], Ys[5]) = 106.84498582320997 (tracked)\n",
      "loss(Xs[5], Ys[5]) = 106.21298985883462 (tracked)\n",
      "loss(Xs[5], Ys[5]) = 106.30167990205722 (tracked)\n",
      "loss(Xs[5], Ys[5]) = 105.54089959741353 (tracked)\n",
      "loss(Xs[5], Ys[5]) = 104.38267890544809 (tracked)\n",
      "loss(Xs[5], Ys[5]) = 103.82777596196924 (tracked)\n",
      "loss(Xs[5], Ys[5]) = 103.48634284513399 (tracked)\n",
      "loss(Xs[5], Ys[5]) = 103.59008572891291 (tracked)\n",
      "loss(Xs[5], Ys[5]) = 102.9275548919341 (tracked)\n",
      "loss(Xs[5], Ys[5]) = 102.04098574877705 (tracked)\n",
      "loss(Xs[5], Ys[5]) = 102.0269991816353 (tracked)\n",
      "loss(Xs[5], Ys[5]) = 101.85748208726746 (tracked)\n",
      "loss(Xs[5], Ys[5]) = 101.34221948298902 (tracked)\n",
      "loss(Xs[5], Ys[5]) = 99.67167945204662 (tracked)\n",
      "loss(Xs[5], Ys[5]) = 101.37829498987342 (tracked)\n",
      "loss(Xs[5], Ys[5]) = 101.23672392160009 (tracked)\n",
      "loss(Xs[5], Ys[5]) = 99.91053176567527 (tracked)\n",
      "loss(Xs[5], Ys[5]) = 99.45766698213134 (tracked)\n",
      "loss(Xs[5], Ys[5]) = 98.78162448421287 (tracked)\n",
      "loss(Xs[5], Ys[5]) = 98.7249257527128 (tracked)\n",
      "loss(Xs[5], Ys[5]) = 99.64811471882524 (tracked)\n",
      "loss(Xs[5], Ys[5]) = 97.79575449030456 (tracked)\n",
      "loss(Xs[5], Ys[5]) = 97.97515468759458 (tracked)\n",
      "loss(Xs[5], Ys[5]) = 98.25273727477914 (tracked)\n",
      "loss(Xs[5], Ys[5]) = 98.77563586473465 (tracked)\n",
      "loss(Xs[5], Ys[5]) = 96.84431124639804 (tracked)\n",
      "loss(Xs[5], Ys[5]) = 96.26538994472166 (tracked)\n",
      "loss(Xs[5], Ys[5]) = 96.6045894980185 (tracked)\n",
      "loss(Xs[5], Ys[5]) = 97.09123624393074 (tracked)\n",
      "loss(Xs[5], Ys[5]) = 96.07315402071877 (tracked)\n",
      "loss(Xs[5], Ys[5]) = 95.80200175738361 (tracked)\n",
      "loss(Xs[5], Ys[5]) = 95.4867886842598 (tracked)\n",
      "loss(Xs[5], Ys[5]) = 96.21719679651551 (tracked)\n",
      "loss(Xs[5], Ys[5]) = 95.0569961516966 (tracked)\n",
      "loss(Xs[5], Ys[5]) = 95.34982625691914 (tracked)\n",
      "loss(Xs[5], Ys[5]) = 95.05411510064414 (tracked)\n",
      "loss(Xs[5], Ys[5]) = 94.84132810119755 (tracked)\n",
      "loss(Xs[5], Ys[5]) = 94.73953830481679 (tracked)\n",
      "loss(Xs[5], Ys[5]) = 93.96232282901677 (tracked)\n",
      "loss(Xs[5], Ys[5]) = 94.46352051201089 (tracked)\n",
      "loss(Xs[5], Ys[5]) = 93.99864685270748 (tracked)\n",
      "loss(Xs[5], Ys[5]) = 93.44994476660511 (tracked)\n",
      "loss(Xs[5], Ys[5]) = 93.6165517732308 (tracked)\n",
      "loss(Xs[5], Ys[5]) = 93.0625228933697 (tracked)\n",
      "loss(Xs[5], Ys[5]) = 94.45299609905985 (tracked)\n",
      "loss(Xs[5], Ys[5]) = 92.00500950702255 (tracked)\n",
      "loss(Xs[5], Ys[5]) = 93.04459795302192 (tracked)\n",
      "loss(Xs[5], Ys[5]) = 92.18936480658273 (tracked)\n",
      "loss(Xs[5], Ys[5]) = 92.61517276565701 (tracked)\n",
      "loss(Xs[5], Ys[5]) = 91.71325215444757 (tracked)\n",
      "loss(Xs[5], Ys[5]) = 92.03736498824964 (tracked)\n",
      "loss(Xs[5], Ys[5]) = 92.25556739884578 (tracked)\n",
      "loss(Xs[5], Ys[5]) = 91.37217844338073 (tracked)\n",
      "loss(Xs[5], Ys[5]) = 92.38080602886897 (tracked)\n",
      "loss(Xs[5], Ys[5]) = 92.61468392874788 (tracked)\n",
      "loss(Xs[5], Ys[5]) = 92.23758443368571 (tracked)\n",
      "loss(Xs[5], Ys[5]) = 91.10908965937756 (tracked)\n",
      "loss(Xs[5], Ys[5]) = 91.6776209156141 (tracked)\n",
      "loss(Xs[5], Ys[5]) = 90.68115148946644 (tracked)\n",
      "loss(Xs[5], Ys[5]) = 91.88645810011751 (tracked)\n",
      "loss(Xs[5], Ys[5]) = 91.5410079686241 (tracked)\n",
      "loss(Xs[5], Ys[5]) = 91.43188322591105 (tracked)\n",
      "loss(Xs[5], Ys[5]) = 90.76374927458815 (tracked)\n",
      "loss(Xs[5], Ys[5]) = 90.64345895983712 (tracked)\n",
      "loss(Xs[5], Ys[5]) = 90.76967440719469 (tracked)\n",
      "loss(Xs[5], Ys[5]) = 90.75454146646048 (tracked)\n",
      "loss(Xs[5], Ys[5]) = 88.5793601784976 (tracked)\n",
      "loss(Xs[5], Ys[5]) = 90.21555212318482 (tracked)\n",
      "loss(Xs[5], Ys[5]) = 90.96880388300998 (tracked)\n",
      "loss(Xs[5], Ys[5]) = 90.73636282410627 (tracked)\n",
      "loss(Xs[5], Ys[5]) = 90.45430044132469 (tracked)\n",
      "loss(Xs[5], Ys[5]) = 89.37386649898119 (tracked)\n",
      "loss(Xs[5], Ys[5]) = 89.84656364409754 (tracked)\n",
      "loss(Xs[5], Ys[5]) = 90.10215611072402 (tracked)\n",
      "loss(Xs[5], Ys[5]) = 89.98259236593788 (tracked)\n",
      "loss(Xs[5], Ys[5]) = 90.65432467904515 (tracked)\n",
      "loss(Xs[5], Ys[5]) = 90.1109705568349 (tracked)\n",
      "loss(Xs[5], Ys[5]) = 88.70100699605652 (tracked)\n",
      "loss(Xs[5], Ys[5]) = 89.84121279364989 (tracked)\n",
      "loss(Xs[5], Ys[5]) = 90.15999745264435 (tracked)\n",
      "loss(Xs[5], Ys[5]) = 91.06768241198641 (tracked)\n",
      "loss(Xs[5], Ys[5]) = 89.9344470954535 (tracked)\n",
      "loss(Xs[5], Ys[5]) = 88.293971428432 (tracked)\n",
      "loss(Xs[5], Ys[5]) = 88.48002613704415 (tracked)\n",
      "loss(Xs[5], Ys[5]) = 89.10939171028964 (tracked)\n",
      "loss(Xs[5], Ys[5]) = 88.3363179340615 (tracked)\n",
      "loss(Xs[5], Ys[5]) = 88.53034413647525 (tracked)\n",
      "loss(Xs[5], Ys[5]) = 89.16490667329177 (tracked)\n",
      "loss(Xs[5], Ys[5]) = 88.66344596143603 (tracked)\n",
      "loss(Xs[5], Ys[5]) = 88.77969364062692 (tracked)\n",
      "loss(Xs[5], Ys[5]) = 88.67850967196001 (tracked)\n",
      "loss(Xs[5], Ys[5]) = 88.72992023310812 (tracked)\n",
      "loss(Xs[5], Ys[5]) = 87.47431157632194 (tracked)\n",
      "loss(Xs[5], Ys[5]) = 88.95402014581157 (tracked)\n",
      "loss(Xs[5], Ys[5]) = 89.10173377844553 (tracked)\n",
      "loss(Xs[5], Ys[5]) = 87.42394548539218 (tracked)\n",
      "loss(Xs[5], Ys[5]) = 88.66179026891263 (tracked)\n",
      "loss(Xs[5], Ys[5]) = 89.0962129125934 (tracked)\n",
      "loss(Xs[5], Ys[5]) = 88.51379030099203 (tracked)\n",
      "loss(Xs[5], Ys[5]) = 87.34343825160725 (tracked)\n",
      "loss(Xs[5], Ys[5]) = 88.19550179944642 (tracked)\n",
      "loss(Xs[5], Ys[5]) = 87.50464809528735 (tracked)\n",
      "loss(Xs[5], Ys[5]) = 87.70234728721042 (tracked)\n",
      "loss(Xs[5], Ys[5]) = 88.09297187971994 (tracked)\n",
      "loss(Xs[5], Ys[5]) = 89.31375988826551 (tracked)\n",
      "loss(Xs[5], Ys[5]) = 88.20979691221999 (tracked)\n",
      "loss(Xs[5], Ys[5]) = 88.1835182126928 (tracked)\n",
      "loss(Xs[5], Ys[5]) = 88.73969341448601 (tracked)\n",
      "loss(Xs[5], Ys[5]) = 87.74219295789192 (tracked)\n",
      "loss(Xs[5], Ys[5]) = 87.2114086760458 (tracked)\n",
      "loss(Xs[5], Ys[5]) = 89.19181747941121 (tracked)\n",
      "loss(Xs[5], Ys[5]) = 86.74858635411364 (tracked)\n",
      "loss(Xs[5], Ys[5]) = 86.80836673184393 (tracked)\n",
      "loss(Xs[5], Ys[5]) = 87.20829738941077 (tracked)\n",
      "loss(Xs[5], Ys[5]) = 88.63547354795648 (tracked)\n",
      "loss(Xs[5], Ys[5]) = 87.3882014223184 (tracked)\n",
      "loss(Xs[5], Ys[5]) = 88.56831760106336 (tracked)\n",
      "loss(Xs[5], Ys[5]) = 88.62717717202334 (tracked)\n",
      "loss(Xs[5], Ys[5]) = 86.90898638740569 (tracked)\n",
      "loss(Xs[5], Ys[5]) = 87.44176047295015 (tracked)\n",
      "loss(Xs[5], Ys[5]) = 87.50012475833229 (tracked)\n",
      "loss(Xs[5], Ys[5]) = 88.00111400158174 (tracked)\n",
      "loss(Xs[5], Ys[5]) = 86.225329711158 (tracked)\n",
      "loss(Xs[5], Ys[5]) = 87.2909660068679 (tracked)\n",
      "loss(Xs[5], Ys[5]) = 86.44796471804042 (tracked)\n",
      "loss(Xs[5], Ys[5]) = 86.23760658484198 (tracked)\n",
      "loss(Xs[5], Ys[5]) = 85.42814994438346 (tracked)\n",
      "loss(Xs[5], Ys[5]) = 84.98337373140807 (tracked)\n",
      "loss(Xs[5], Ys[5]) = 85.17335244192166 (tracked)\n",
      "loss(Xs[5], Ys[5]) = 84.75676401276863 (tracked)\n",
      "loss(Xs[5], Ys[5]) = 85.2090706841723 (tracked)\n",
      "loss(Xs[5], Ys[5]) = 84.99839608067555 (tracked)\n",
      "loss(Xs[5], Ys[5]) = 84.83677062343 (tracked)\n",
      "loss(Xs[5], Ys[5]) = 84.98804724731895 (tracked)\n",
      "loss(Xs[5], Ys[5]) = 84.51040597079127 (tracked)\n",
      "loss(Xs[5], Ys[5]) = 84.10046941600163 (tracked)\n",
      "loss(Xs[5], Ys[5]) = 84.18951114970507 (tracked)\n",
      "loss(Xs[5], Ys[5]) = 85.16510049515186 (tracked)\n",
      "loss(Xs[5], Ys[5]) = 86.2353835331096 (tracked)\n",
      "loss(Xs[5], Ys[5]) = 85.44074257005727 (tracked)\n",
      "loss(Xs[5], Ys[5]) = 84.63024413961516 (tracked)\n",
      "loss(Xs[5], Ys[5]) = 84.72093156924674 (tracked)\n",
      "loss(Xs[5], Ys[5]) = 83.77233572056481 (tracked)\n",
      "loss(Xs[5], Ys[5]) = 85.62442824220939 (tracked)\n",
      "loss(Xs[5], Ys[5]) = 83.98907263722108 (tracked)\n",
      "loss(Xs[5], Ys[5]) = 84.77302584616879 (tracked)\n",
      "loss(Xs[5], Ys[5]) = 83.93693999161245 (tracked)\n",
      "loss(Xs[5], Ys[5]) = 83.96444690122333 (tracked)\n",
      "loss(Xs[5], Ys[5]) = 83.60215997207607 (tracked)\n",
      "loss(Xs[5], Ys[5]) = 83.38113859875399 (tracked)\n",
      "loss(Xs[5], Ys[5]) = 82.5594997594428 (tracked)\n",
      "loss(Xs[5], Ys[5]) = 81.88923721195594 (tracked)\n",
      "loss(Xs[5], Ys[5]) = 82.50527535799662 (tracked)\n",
      "loss(Xs[5], Ys[5]) = 82.27875759526505 (tracked)\n",
      "loss(Xs[5], Ys[5]) = 81.66240079425255 (tracked)\n"
     ]
    }
   ],
   "source": [
    "Flux.train!(loss, zip(Xs, Ys), opt, cb=throttle(evalcb, 30))"
   ]
  },
  {
   "cell_type": "markdown",
   "metadata": {},
   "source": [
    "## Sampling"
   ]
  },
  {
   "cell_type": "code",
   "execution_count": 10,
   "metadata": {},
   "outputs": [
    {
     "data": {
      "text/plain": [
       "sample (generic function with 1 method)"
      ]
     },
     "execution_count": 10,
     "metadata": {},
     "output_type": "execute_result"
    }
   ],
   "source": [
    "function sample(m, alphabet, len; temp=1)\n",
    "    Flux.reset!(m)\n",
    "    buf = IOBuffer()\n",
    "    c = rand(alphabet)\n",
    "    for i = 1:len\n",
    "        write(buf, c)\n",
    "        c = wsample(alphabet, m(onehot(c, alphabet)).data)\n",
    "    end\n",
    "    return String(take!(buf))\n",
    "end"
   ]
  },
  {
   "cell_type": "code",
   "execution_count": 11,
   "metadata": {},
   "outputs": [
    {
     "name": "stdout",
     "output_type": "stream",
     "text": [
      "BONXBY:\n",
      "Peondly, he hast ay me, he the valeptrac's from's\n",
      "it be his man agrentlest abrand.\n",
      "\n",
      "Servant:\n",
      "So you could not digries Tortharly? He sumply,\n",
      "And the effend them's yourself.\n",
      "\n",
      "PERICLEA:\n",
      "Profi's best they the eariSher friends,\n",
      "More follow is me. Nor my grown expeeding virt.\n",
      "\n",
      "QUEEN MARG EVALIN:\n",
      "Shall have myself if touch empeny to\n",
      "stay is san night. Verlontawed\n",
      "O. There to salthind;\n",
      "And he be ford, be York, reclailer; and to did tell sez;\n",
      "The recent thy pizals he is to be hild that be:\n",
      "But drut your your will be which the head,\n",
      "My free to me here.\n",
      "\n",
      "ROMEO:\n",
      "When\n",
      "Through thee he should marry chastes forse.\n",
      "\n",
      "DUNREW:\n",
      "Nay, you leave?\n",
      "\n",
      "MACBETH:\n",
      "What me.\n",
      "\n",
      "MARIA:\n",
      "He instincm, my chalf.\n",
      "Then, in hand. I did eld this, I will Pescent\n",
      "A winged, and told by thy where thine? Theressed and betther\n",
      "Of this heart and ill his strange be do.\n",
      "\n",
      "LUCILUS:\n",
      "For some arm of leose his name:\n",
      "A ore revenss.\n",
      "\n",
      "Second Servil.N Coldame\n",
      "Kild:\n",
      "Ay, my inviten, what all your scever of\n",
      "heart. Whire where; and m'stain so\n",
      "\n"
     ]
    }
   ],
   "source": [
    "sample(m, alphabet, 1000) |> println"
   ]
  },
  {
   "cell_type": "code",
   "execution_count": null,
   "metadata": {},
   "outputs": [],
   "source": []
  }
 ],
 "metadata": {
  "kernelspec": {
   "display_name": "Julia 1.0.2",
   "language": "julia",
   "name": "julia-1.0"
  },
  "language_info": {
   "file_extension": ".jl",
   "mimetype": "application/julia",
   "name": "julia",
   "version": "1.0.2"
  }
 },
 "nbformat": 4,
 "nbformat_minor": 2
}
