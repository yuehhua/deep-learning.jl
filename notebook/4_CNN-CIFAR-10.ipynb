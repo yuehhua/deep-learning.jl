{
 "cells": [
  {
   "cell_type": "markdown",
   "metadata": {},
   "source": [
    "# Convolutional neural network"
   ]
  },
  {
   "cell_type": "code",
   "execution_count": 1,
   "metadata": {},
   "outputs": [],
   "source": [
    "using MLDatasets\n",
    "using Flux\n",
    "using Flux: @epochs, onehotbatch, onecold, crossentropy, throttle\n",
    "using Base.Iterators: repeated, partition\n",
    "using Statistics: mean\n",
    "# using CuArrays"
   ]
  },
  {
   "cell_type": "markdown",
   "metadata": {},
   "source": [
    "## Load data"
   ]
  },
  {
   "cell_type": "markdown",
   "metadata": {},
   "source": [
    "Classify MNIST digits with a convolutional network"
   ]
  },
  {
   "cell_type": "code",
   "execution_count": 2,
   "metadata": {},
   "outputs": [
    {
     "data": {
      "text/plain": [
       "(FixedPointNumbers.Normed{UInt8,8}[0.62 0.596 … 0.239 0.212; 0.624 0.592 … 0.192 0.22; … ; 0.494 0.49 … 0.114 0.133; 0.455 0.467 … 0.078 0.082]\n",
       "\n",
       "FixedPointNumbers.Normed{UInt8,8}[0.439 0.439 … 0.455 0.42; 0.435 0.431 … 0.4 0.412; … ; 0.357 0.357 … 0.322 0.329; 0.333 0.345 … 0.251 0.263]\n",
       "\n",
       "FixedPointNumbers.Normed{UInt8,8}[0.192 0.2 … 0.659 0.627; 0.184 0.157 … 0.58 0.584; … ; 0.141 0.125 … 0.494 0.506; 0.129 0.133 … 0.42 0.431]\n",
       "\n",
       "FixedPointNumbers.Normed{UInt8,8}[0.922 0.933 … 0.322 0.333; 0.906 0.922 … 0.18 0.243; … ; 0.914 0.925 … 0.725 0.706; 0.91 0.922 … 0.733 0.729]\n",
       "\n",
       "FixedPointNumbers.Normed{UInt8,8}[0.922 0.933 … 0.376 0.396; 0.906 0.922 … 0.224 0.294; … ; 0.914 0.925 … 0.784 0.765; 0.91 0.922 … 0.792 0.784]\n",
       "\n",
       "FixedPointNumbers.Normed{UInt8,8}[0.922 0.933 … 0.322 0.325; 0.906 0.922 … 0.141 0.188; … ; 0.914 0.925 … 0.769 0.749; 0.91 0.922 … 0.784 0.78]\n",
       "\n",
       "FixedPointNumbers.Normed{UInt8,8}[0.62 0.667 … 0.09 0.11; 0.62 0.675 … 0.106 0.118; … ; 0.929 0.965 … 0.016 0.016; 0.933 0.965 … 0.02 0.027]\n",
       "\n",
       "FixedPointNumbers.Normed{UInt8,8}[0.745 0.784 … 0.133 0.161; 0.733 0.78 … 0.149 0.169; … ; 0.937 0.965 … 0.024 0.02; 0.945 0.969 … 0.027 0.031]\n",
       "\n",
       "FixedPointNumbers.Normed{UInt8,8}[0.871 0.898 … 0.153 0.184; 0.855 0.886 … 0.169 0.196; … ; 0.953 0.98 … 0.012 0.012; 0.965 0.984 … 0.012 0.027]\n",
       "\n",
       "...\n",
       "\n",
       "FixedPointNumbers.Normed{UInt8,8}[0.078 0.082 … 0.129 0.122; 0.075 0.078 … 0.133 0.125; … ; 0.047 0.039 … 0.106 0.102; 0.051 0.047 … 0.098 0.098]\n",
       "\n",
       "FixedPointNumbers.Normed{UInt8,8}[0.059 0.063 … 0.098 0.09; 0.055 0.063 … 0.102 0.094; … ; 0.043 0.035 … 0.094 0.09; 0.047 0.043 … 0.086 0.078]\n",
       "\n",
       "FixedPointNumbers.Normed{UInt8,8}[0.047 0.051 … 0.055 0.047; 0.043 0.051 … 0.059 0.051; … ; 0.035 0.027 … 0.22 0.208; 0.039 0.035 … 0.184 0.184]\n",
       "\n",
       "FixedPointNumbers.Normed{UInt8,8}[0.098 0.047 … 0.404 0.373; 0.059 0.078 … 0.408 0.373; … ; 0.361 0.584 … 0.388 0.373; 0.294 0.408 … 0.361 0.361]\n",
       "\n",
       "FixedPointNumbers.Normed{UInt8,8}[0.157 0.098 … 0.518 0.494; 0.141 0.145 … 0.514 0.482; … ; 0.443 0.659 … 0.498 0.482; 0.349 0.459 … 0.475 0.471]\n",
       "\n",
       "FixedPointNumbers.Normed{UInt8,8}[0.047 0.024 … 0.325 0.306; 0.012 0.027 … 0.325 0.298; … ; 0.439 0.694 … 0.329 0.318; 0.361 0.514 … 0.31 0.314]\n",
       "\n",
       "FixedPointNumbers.Normed{UInt8,8}[0.286 0.271 … 0.451 0.455; 0.384 0.329 … 0.482 0.475; … ; 0.529 0.278 … 0.259 0.267; 0.796 0.471 … 0.106 0.106]\n",
       "\n",
       "FixedPointNumbers.Normed{UInt8,8}[0.306 0.286 … 0.475 0.471; 0.404 0.349 … 0.486 0.478; … ; 0.584 0.322 … 0.255 0.255; 0.843 0.522 … 0.106 0.102]\n",
       "\n",
       "FixedPointNumbers.Normed{UInt8,8}[0.294 0.275 … 0.357 0.353; 0.443 0.38 … 0.373 0.369; … ; 0.604 0.314 … 0.231 0.227; 0.875 0.529 … 0.106 0.102], [3, 8, 8, 0, 6, 6, 1, 6, 3, 1  …  7, 0, 3, 5, 3, 8, 3, 5, 1, 7])"
      ]
     },
     "execution_count": 2,
     "metadata": {},
     "output_type": "execute_result"
    }
   ],
   "source": [
    "train_x, train_y = CIFAR10.traindata()\n",
    "test_x,  test_y  = CIFAR10.testdata()"
   ]
  },
  {
   "cell_type": "code",
   "execution_count": 3,
   "metadata": {},
   "outputs": [
    {
     "data": {
      "text/plain": [
       "10×10000 Flux.OneHotMatrix{Array{Flux.OneHotVector,1}}:\n",
       " false  false  false   true  false  …  false  false  false  false  false\n",
       " false  false  false  false  false     false  false  false   true  false\n",
       " false  false  false  false  false     false  false  false  false  false\n",
       "  true  false  false  false  false     false   true  false  false  false\n",
       " false  false  false  false  false     false  false  false  false  false\n",
       " false  false  false  false  false  …  false  false   true  false  false\n",
       " false  false  false  false   true     false  false  false  false  false\n",
       " false  false  false  false  false     false  false  false  false   true\n",
       " false   true   true  false  false      true  false  false  false  false\n",
       " false  false  false  false  false     false  false  false  false  false"
      ]
     },
     "execution_count": 3,
     "metadata": {},
     "output_type": "execute_result"
    }
   ],
   "source": [
    "train_x = Float64.(train_x / 255)\n",
    "train_y = onehotbatch(train_y, 0:9)\n",
    "test_x = Float64.(test_x / 255)\n",
    "test_y = onehotbatch(test_y, 0:9)"
   ]
  },
  {
   "cell_type": "markdown",
   "metadata": {},
   "source": [
    "## Preprocessing"
   ]
  },
  {
   "cell_type": "code",
   "execution_count": 4,
   "metadata": {},
   "outputs": [],
   "source": [
    "# Partition into batches of size 1,000\n",
    "train = [(train_x[:, :, :, i:(i+999)], train_y[:, i:(i+999)]) for i = 1:1000:50_000];\n",
    "# train = gpu.(train)"
   ]
  },
  {
   "cell_type": "code",
   "execution_count": 5,
   "metadata": {},
   "outputs": [
    {
     "data": {
      "text/plain": [
       "10×1000 Flux.OneHotMatrix{Array{Flux.OneHotVector,1}}:\n",
       " false  false  false   true  false  …  false  false  false  false  false\n",
       " false  false  false  false  false     false  false   true  false  false\n",
       " false  false  false  false  false     false  false  false  false  false\n",
       "  true  false  false  false  false      true  false  false   true  false\n",
       " false  false  false  false  false     false  false  false  false  false\n",
       " false  false  false  false  false  …  false  false  false  false  false\n",
       " false  false  false  false   true     false  false  false  false  false\n",
       " false  false  false  false  false     false  false  false  false  false\n",
       " false   true   true  false  false     false   true  false  false   true\n",
       " false  false  false  false  false     false  false  false  false  false"
      ]
     },
     "execution_count": 5,
     "metadata": {},
     "output_type": "execute_result"
    }
   ],
   "source": [
    "# Prepare test set (first 1,000 images)\n",
    "test_x = test_x[:, :, :, 1:1000]# |> gpu\n",
    "test_y = test_y[:, 1:1000]# |> gpu"
   ]
  },
  {
   "cell_type": "markdown",
   "metadata": {},
   "source": [
    "## Model"
   ]
  },
  {
   "cell_type": "code",
   "execution_count": 6,
   "metadata": {},
   "outputs": [
    {
     "data": {
      "text/plain": [
       "Chain(Conv((3, 3), 3=>32, NNlib.relu), Conv((3, 3), 32=>64, NNlib.relu), MaxPool((2, 2), pad = (0, 0), stride = (2, 2)), BatchNorm(64), Conv((3, 3), 64=>128, NNlib.relu), MaxPool((2, 2), pad = (0, 0), stride = (2, 2)), Conv((2, 2), 128=>128, NNlib.relu), MaxPool((2, 2), pad = (0, 0), stride = (2, 2)), BatchNorm(128), getfield(Main, Symbol(\"##5#6\"))(), Dense(512, 1500, NNlib.relu), BatchNorm(1500), Dense(1500, 10), NNlib.softmax)"
      ]
     },
     "execution_count": 6,
     "metadata": {},
     "output_type": "execute_result"
    }
   ],
   "source": [
    "m = Chain(\n",
    "    Conv((3, 3), 3=>32, relu),  # (32, 32, 3) -> (30, 30, 32)\n",
    "    Conv((3, 3), 32=>64, relu),  # (30, 30, 32) -> (28, 28, 64)\n",
    "    MaxPool((2, 2); stride=2),  # (28, 28, 64) -> (14, 14, 64)\n",
    "    BatchNorm(64),\n",
    "#     Dropout(0.25),\n",
    "    Conv((3, 3), 64=>128, relu),  # (14, 14, 64) -> (12, 12, 128)\n",
    "    MaxPool((2, 2); stride=2),  # (12, 12, 128) -> (6, 6, 128)\n",
    "    Conv((2, 2), 128=>128, relu),  # (6, 6, 128) -> (5, 5, 128)\n",
    "    MaxPool((2, 2); stride=2),  # (5, 5, 128) -> (2, 2, 128)\n",
    "    BatchNorm(128),\n",
    "#     Dropout(0.25),\n",
    "    x -> reshape(x, :, size(x, 4)),  # (2, 2, 128) -> 512\n",
    "    Dense(512, 1500, relu),\n",
    "    BatchNorm(1500),\n",
    "#     Dropout(0.5),\n",
    "    Dense(1500, 10), softmax)# |> gpu"
   ]
  },
  {
   "cell_type": "code",
   "execution_count": 7,
   "metadata": {},
   "outputs": [
    {
     "data": {
      "text/plain": [
       "Tracked 10×1000 Array{Float64,2}:\n",
       " 0.40891     0.317849    0.110271    …  0.049612    0.0234114  0.0105068\n",
       " 0.0385509   0.00186091  0.0269249      0.200287    0.341255   0.130925 \n",
       " 0.0302261   0.0332867   0.405741       0.122652    0.175817   0.0454539\n",
       " 0.273067    0.0189853   0.162143       0.0737403   0.307202   0.0227735\n",
       " 0.0383755   0.110287    0.00979033     0.110497    0.0165328  0.194926 \n",
       " 0.0727444   0.0113008   0.0149627   …  0.0134456   0.0122279  0.195315 \n",
       " 0.00817208  0.377087    0.0401661      0.0443034   0.0263315  0.0203326\n",
       " 0.0398294   0.0100822   0.0255684      0.193098    0.042487   0.329965 \n",
       " 0.0257418   0.0281576   0.0958805      0.185488    0.014231   0.0382532\n",
       " 0.0643833   0.0911041   0.108553       0.00687646  0.0405051  0.0115492"
      ]
     },
     "execution_count": 7,
     "metadata": {},
     "output_type": "execute_result"
    }
   ],
   "source": [
    "m(train[1][1])  # test if model works"
   ]
  },
  {
   "cell_type": "markdown",
   "metadata": {},
   "source": [
    "## Loss function"
   ]
  },
  {
   "cell_type": "code",
   "execution_count": 8,
   "metadata": {},
   "outputs": [
    {
     "data": {
      "text/plain": [
       "loss (generic function with 1 method)"
      ]
     },
     "execution_count": 8,
     "metadata": {},
     "output_type": "execute_result"
    }
   ],
   "source": [
    "loss(x, y) = crossentropy(m(x), y)"
   ]
  },
  {
   "cell_type": "code",
   "execution_count": 9,
   "metadata": {},
   "outputs": [
    {
     "data": {
      "text/plain": [
       "accuracy (generic function with 1 method)"
      ]
     },
     "execution_count": 9,
     "metadata": {},
     "output_type": "execute_result"
    }
   ],
   "source": [
    "accuracy(x, y) = mean(onecold(m(x)) .== onecold(y))"
   ]
  },
  {
   "cell_type": "markdown",
   "metadata": {},
   "source": [
    "## Optimizer"
   ]
  },
  {
   "cell_type": "code",
   "execution_count": 10,
   "metadata": {},
   "outputs": [
    {
     "data": {
      "text/plain": [
       "#43 (generic function with 1 method)"
      ]
     },
     "execution_count": 10,
     "metadata": {},
     "output_type": "execute_result"
    }
   ],
   "source": [
    "evalcb = throttle(() -> @show(accuracy(test_x, test_y)), 10)\n",
    "opt = ADAM(params(m))"
   ]
  },
  {
   "cell_type": "markdown",
   "metadata": {},
   "source": [
    "## Training"
   ]
  },
  {
   "cell_type": "code",
   "execution_count": null,
   "metadata": {},
   "outputs": [
    {
     "name": "stderr",
     "output_type": "stream",
     "text": [
      "┌ Info: Epoch 1\n",
      "└ @ Main /home/pika/.julia/packages/Flux/rcN9D/src/optimise/train.jl:93\n"
     ]
    },
    {
     "name": "stdout",
     "output_type": "stream",
     "text": [
      "accuracy(test_x, test_y) = 0.215\n"
     ]
    }
   ],
   "source": [
    "@epochs 5 Flux.train!(loss, train, opt, cb=evalcb)"
   ]
  },
  {
   "cell_type": "code",
   "execution_count": null,
   "metadata": {},
   "outputs": [],
   "source": []
  }
 ],
 "metadata": {
  "kernelspec": {
   "display_name": "Julia 1.0.1",
   "language": "julia",
   "name": "julia-1.0"
  },
  "language_info": {
   "file_extension": ".jl",
   "mimetype": "application/julia",
   "name": "julia",
   "version": "1.0.1"
  }
 },
 "nbformat": 4,
 "nbformat_minor": 2
}
