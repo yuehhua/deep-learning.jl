{
 "cells": [
  {
   "cell_type": "markdown",
   "metadata": {},
   "source": [
    "# Convolutional neural network"
   ]
  },
  {
   "cell_type": "code",
   "execution_count": 1,
   "metadata": {},
   "outputs": [
    {
     "name": "stderr",
     "output_type": "stream",
     "text": [
      "\u001b[1m\u001b[33mWARNING: \u001b[39m\u001b[22m\u001b[33mRegisterDataDep(name::String, message::String, remotepath, hash=nothing; fetch_method=download, post_fetch_method=identity) is deprecated, use register(DataDep(name::String, message::String, remotepath, hash; fetch_method=fetch_method, post_fetch_method=post_fetch_method)) instead.\u001b[39m\n",
      "Stacktrace:\n",
      " [1] \u001b[1mdepwarn\u001b[22m\u001b[22m\u001b[1m(\u001b[22m\u001b[22m::String, ::Symbol\u001b[1m)\u001b[22m\u001b[22m at \u001b[1m./deprecated.jl:70\u001b[22m\u001b[22m\n",
      " [2] \u001b[1m#RegisterDataDep#31\u001b[22m\u001b[22m\u001b[1m(\u001b[22m\u001b[22m::Function, ::Function, ::Function, ::String, ::String, ::String, ::String\u001b[1m)\u001b[22m\u001b[22m at \u001b[1m./deprecated.jl:57\u001b[22m\u001b[22m\n",
      " [3] \u001b[1m(::DataDeps.#kw##RegisterDataDep)\u001b[22m\u001b[22m\u001b[1m(\u001b[22m\u001b[22m::Array{Any,1}, ::DataDeps.#RegisterDataDep, ::String, ::String, ::String, ::String\u001b[1m)\u001b[22m\u001b[22m at \u001b[1m./<missing>:0\u001b[22m\u001b[22m\n",
      " [4] \u001b[1m__init__\u001b[22m\u001b[22m\u001b[1m(\u001b[22m\u001b[22m\u001b[1m)\u001b[22m\u001b[22m at \u001b[1m/home/pika/.julia/v0.6/MLDatasets/src/CIFAR10/CIFAR10.jl:60\u001b[22m\u001b[22m\n",
      " [5] \u001b[1m_require_from_serialized\u001b[22m\u001b[22m\u001b[1m(\u001b[22m\u001b[22m::Int64, ::Symbol, ::String, ::Bool\u001b[1m)\u001b[22m\u001b[22m at \u001b[1m./loading.jl:200\u001b[22m\u001b[22m\n",
      " [6] \u001b[1m_require_search_from_serialized\u001b[22m\u001b[22m\u001b[1m(\u001b[22m\u001b[22m::Int64, ::Symbol, ::String, ::Bool\u001b[1m)\u001b[22m\u001b[22m at \u001b[1m./loading.jl:236\u001b[22m\u001b[22m\n",
      " [7] \u001b[1m_require\u001b[22m\u001b[22m\u001b[1m(\u001b[22m\u001b[22m::Symbol\u001b[1m)\u001b[22m\u001b[22m at \u001b[1m./loading.jl:441\u001b[22m\u001b[22m\n",
      " [8] \u001b[1mrequire\u001b[22m\u001b[22m\u001b[1m(\u001b[22m\u001b[22m::Symbol\u001b[1m)\u001b[22m\u001b[22m at \u001b[1m./loading.jl:405\u001b[22m\u001b[22m\n",
      " [9] \u001b[1mexecute_request\u001b[22m\u001b[22m\u001b[1m(\u001b[22m\u001b[22m::ZMQ.Socket, ::IJulia.Msg\u001b[1m)\u001b[22m\u001b[22m at \u001b[1m/home/pika/.julia/v0.6/IJulia/src/execute_request.jl:158\u001b[22m\u001b[22m\n",
      " [10] \u001b[1m(::Compat.#inner#18{Array{Any,1},IJulia.#execute_request,Tuple{ZMQ.Socket,IJulia.Msg}})\u001b[22m\u001b[22m\u001b[1m(\u001b[22m\u001b[22m\u001b[1m)\u001b[22m\u001b[22m at \u001b[1m/home/pika/.julia/v0.6/Compat/src/Compat.jl:378\u001b[22m\u001b[22m\n",
      " [11] \u001b[1meventloop\u001b[22m\u001b[22m\u001b[1m(\u001b[22m\u001b[22m::ZMQ.Socket\u001b[1m)\u001b[22m\u001b[22m at \u001b[1m/home/pika/.julia/v0.6/IJulia/src/eventloop.jl:8\u001b[22m\u001b[22m\n",
      " [12] \u001b[1m(::IJulia.##14#17)\u001b[22m\u001b[22m\u001b[1m(\u001b[22m\u001b[22m\u001b[1m)\u001b[22m\u001b[22m at \u001b[1m./task.jl:335\u001b[22m\u001b[22m\n",
      "while loading In[1], in expression starting on line 1\n",
      "\u001b[1m\u001b[33mWARNING: \u001b[39m\u001b[22m\u001b[33mRegisterDataDep(name::String, message::String, remotepath, hash=nothing; fetch_method=download, post_fetch_method=identity) is deprecated, use register(DataDep(name::String, message::String, remotepath, hash; fetch_method=fetch_method, post_fetch_method=post_fetch_method)) instead.\u001b[39m\n",
      "Stacktrace:\n",
      " [1] \u001b[1mdepwarn\u001b[22m\u001b[22m\u001b[1m(\u001b[22m\u001b[22m::String, ::Symbol\u001b[1m)\u001b[22m\u001b[22m at \u001b[1m./deprecated.jl:70\u001b[22m\u001b[22m\n",
      " [2] \u001b[1m#RegisterDataDep#31\u001b[22m\u001b[22m\u001b[1m(\u001b[22m\u001b[22m::Function, ::Function, ::Function, ::String, ::String, ::String, ::String\u001b[1m)\u001b[22m\u001b[22m at \u001b[1m./deprecated.jl:57\u001b[22m\u001b[22m\n",
      " [3] \u001b[1m(::DataDeps.#kw##RegisterDataDep)\u001b[22m\u001b[22m\u001b[1m(\u001b[22m\u001b[22m::Array{Any,1}, ::DataDeps.#RegisterDataDep, ::String, ::String, ::String, ::String\u001b[1m)\u001b[22m\u001b[22m at \u001b[1m./<missing>:0\u001b[22m\u001b[22m\n",
      " [4] \u001b[1m__init__\u001b[22m\u001b[22m\u001b[1m(\u001b[22m\u001b[22m\u001b[1m)\u001b[22m\u001b[22m at \u001b[1m/home/pika/.julia/v0.6/MLDatasets/src/CIFAR100/CIFAR100.jl:47\u001b[22m\u001b[22m\n",
      " [5] \u001b[1m_require_from_serialized\u001b[22m\u001b[22m\u001b[1m(\u001b[22m\u001b[22m::Int64, ::Symbol, ::String, ::Bool\u001b[1m)\u001b[22m\u001b[22m at \u001b[1m./loading.jl:200\u001b[22m\u001b[22m\n",
      " [6] \u001b[1m_require_search_from_serialized\u001b[22m\u001b[22m\u001b[1m(\u001b[22m\u001b[22m::Int64, ::Symbol, ::String, ::Bool\u001b[1m)\u001b[22m\u001b[22m at \u001b[1m./loading.jl:236\u001b[22m\u001b[22m\n",
      " [7] \u001b[1m_require\u001b[22m\u001b[22m\u001b[1m(\u001b[22m\u001b[22m::Symbol\u001b[1m)\u001b[22m\u001b[22m at \u001b[1m./loading.jl:441\u001b[22m\u001b[22m\n",
      " [8] \u001b[1mrequire\u001b[22m\u001b[22m\u001b[1m(\u001b[22m\u001b[22m::Symbol\u001b[1m)\u001b[22m\u001b[22m at \u001b[1m./loading.jl:405\u001b[22m\u001b[22m\n",
      " [9] \u001b[1mexecute_request\u001b[22m\u001b[22m\u001b[1m(\u001b[22m\u001b[22m::ZMQ.Socket, ::IJulia.Msg\u001b[1m)\u001b[22m\u001b[22m at \u001b[1m/home/pika/.julia/v0.6/IJulia/src/execute_request.jl:158\u001b[22m\u001b[22m\n",
      " [10] \u001b[1m(::Compat.#inner#18{Array{Any,1},IJulia.#execute_request,Tuple{ZMQ.Socket,IJulia.Msg}})\u001b[22m\u001b[22m\u001b[1m(\u001b[22m\u001b[22m\u001b[1m)\u001b[22m\u001b[22m at \u001b[1m/home/pika/.julia/v0.6/Compat/src/Compat.jl:378\u001b[22m\u001b[22m\n",
      " [11] \u001b[1meventloop\u001b[22m\u001b[22m\u001b[1m(\u001b[22m\u001b[22m::ZMQ.Socket\u001b[1m)\u001b[22m\u001b[22m at \u001b[1m/home/pika/.julia/v0.6/IJulia/src/eventloop.jl:8\u001b[22m\u001b[22m\n",
      " [12] \u001b[1m(::IJulia.##14#17)\u001b[22m\u001b[22m\u001b[1m(\u001b[22m\u001b[22m\u001b[1m)\u001b[22m\u001b[22m at \u001b[1m./task.jl:335\u001b[22m\u001b[22m\n",
      "while loading In[1], in expression starting on line 1\n",
      "\u001b[1m\u001b[33mWARNING: \u001b[39m\u001b[22m\u001b[33mRegisterDataDep(name::String, message::String, remotepath, hash=nothing; fetch_method=download, post_fetch_method=identity) is deprecated, use register(DataDep(name::String, message::String, remotepath, hash; fetch_method=fetch_method, post_fetch_method=post_fetch_method)) instead.\u001b[39m\n",
      "Stacktrace:\n",
      " [1] \u001b[1mdepwarn\u001b[22m\u001b[22m\u001b[1m(\u001b[22m\u001b[22m::String, ::Symbol\u001b[1m)\u001b[22m\u001b[22m at \u001b[1m./deprecated.jl:70\u001b[22m\u001b[22m\n",
      " [2] \u001b[1m#RegisterDataDep#31\u001b[22m\u001b[22m\u001b[1m(\u001b[22m\u001b[22m::Function, ::Function, ::Function, ::String, ::String, ::Array{String,1}, ::String\u001b[1m)\u001b[22m\u001b[22m at \u001b[1m./deprecated.jl:57\u001b[22m\u001b[22m\n",
      " [3] \u001b[1mRegisterDataDep\u001b[22m\u001b[22m\u001b[1m(\u001b[22m\u001b[22m::String, ::String, ::Array{String,1}, ::String\u001b[1m)\u001b[22m\u001b[22m at \u001b[1m./deprecated.jl:57\u001b[22m\u001b[22m\n",
      " [4] \u001b[1m__init__\u001b[22m\u001b[22m\u001b[1m(\u001b[22m\u001b[22m\u001b[1m)\u001b[22m\u001b[22m at \u001b[1m/home/pika/.julia/v0.6/MLDatasets/src/MNIST/MNIST.jl:42\u001b[22m\u001b[22m\n",
      " [5] \u001b[1m_require_from_serialized\u001b[22m\u001b[22m\u001b[1m(\u001b[22m\u001b[22m::Int64, ::Symbol, ::String, ::Bool\u001b[1m)\u001b[22m\u001b[22m at \u001b[1m./loading.jl:200\u001b[22m\u001b[22m\n",
      " [6] \u001b[1m_require_search_from_serialized\u001b[22m\u001b[22m\u001b[1m(\u001b[22m\u001b[22m::Int64, ::Symbol, ::String, ::Bool\u001b[1m)\u001b[22m\u001b[22m at \u001b[1m./loading.jl:236\u001b[22m\u001b[22m\n",
      " [7] \u001b[1m_require\u001b[22m\u001b[22m\u001b[1m(\u001b[22m\u001b[22m::Symbol\u001b[1m)\u001b[22m\u001b[22m at \u001b[1m./loading.jl:441\u001b[22m\u001b[22m\n",
      " [8] \u001b[1mrequire\u001b[22m\u001b[22m\u001b[1m(\u001b[22m\u001b[22m::Symbol\u001b[1m)\u001b[22m\u001b[22m at \u001b[1m./loading.jl:405\u001b[22m\u001b[22m\n",
      " [9] \u001b[1mexecute_request\u001b[22m\u001b[22m\u001b[1m(\u001b[22m\u001b[22m::ZMQ.Socket, ::IJulia.Msg\u001b[1m)\u001b[22m\u001b[22m at \u001b[1m/home/pika/.julia/v0.6/IJulia/src/execute_request.jl:158\u001b[22m\u001b[22m\n",
      " [10] \u001b[1m(::Compat.#inner#18{Array{Any,1},IJulia.#execute_request,Tuple{ZMQ.Socket,IJulia.Msg}})\u001b[22m\u001b[22m\u001b[1m(\u001b[22m\u001b[22m\u001b[1m)\u001b[22m\u001b[22m at \u001b[1m/home/pika/.julia/v0.6/Compat/src/Compat.jl:378\u001b[22m\u001b[22m\n",
      " [11] \u001b[1meventloop\u001b[22m\u001b[22m\u001b[1m(\u001b[22m\u001b[22m::ZMQ.Socket\u001b[1m)\u001b[22m\u001b[22m at \u001b[1m/home/pika/.julia/v0.6/IJulia/src/eventloop.jl:8\u001b[22m\u001b[22m\n",
      " [12] \u001b[1m(::IJulia.##14#17)\u001b[22m\u001b[22m\u001b[1m(\u001b[22m\u001b[22m\u001b[1m)\u001b[22m\u001b[22m at \u001b[1m./task.jl:335\u001b[22m\u001b[22m\n",
      "while loading In[1], in expression starting on line 1\n",
      "\u001b[1m\u001b[33mWARNING: \u001b[39m\u001b[22m\u001b[33mRegisterDataDep(name::String, message::String, remotepath, hash=nothing; fetch_method=download, post_fetch_method=identity) is deprecated, use register(DataDep(name::String, message::String, remotepath, hash; fetch_method=fetch_method, post_fetch_method=post_fetch_method)) instead.\u001b[39m\n",
      "Stacktrace:\n",
      " [1] \u001b[1mdepwarn\u001b[22m\u001b[22m\u001b[1m(\u001b[22m\u001b[22m::String, ::Symbol\u001b[1m)\u001b[22m\u001b[22m at \u001b[1m./deprecated.jl:70\u001b[22m\u001b[22m\n",
      " [2] \u001b[1m#RegisterDataDep#31\u001b[22m\u001b[22m\u001b[1m(\u001b[22m\u001b[22m::Function, ::Function, ::Function, ::String, ::String, ::Array{String,1}, ::String\u001b[1m)\u001b[22m\u001b[22m at \u001b[1m./deprecated.jl:57\u001b[22m\u001b[22m\n",
      " [3] \u001b[1mRegisterDataDep\u001b[22m\u001b[22m\u001b[1m(\u001b[22m\u001b[22m::String, ::String, ::Array{String,1}, ::String\u001b[1m)\u001b[22m\u001b[22m at \u001b[1m./deprecated.jl:57\u001b[22m\u001b[22m\n",
      " [4] \u001b[1m__init__\u001b[22m\u001b[22m\u001b[1m(\u001b[22m\u001b[22m\u001b[1m)\u001b[22m\u001b[22m at \u001b[1m/home/pika/.julia/v0.6/MLDatasets/src/FashionMNIST/FashionMNIST.jl:56\u001b[22m\u001b[22m\n",
      " [5] \u001b[1m_require_from_serialized\u001b[22m\u001b[22m\u001b[1m(\u001b[22m\u001b[22m::Int64, ::Symbol, ::String, ::Bool\u001b[1m)\u001b[22m\u001b[22m at \u001b[1m./loading.jl:200\u001b[22m\u001b[22m\n",
      " [6] \u001b[1m_require_search_from_serialized\u001b[22m\u001b[22m\u001b[1m(\u001b[22m\u001b[22m::Int64, ::Symbol, ::String, ::Bool\u001b[1m)\u001b[22m\u001b[22m at \u001b[1m./loading.jl:236\u001b[22m\u001b[22m\n",
      " [7] \u001b[1m_require\u001b[22m\u001b[22m\u001b[1m(\u001b[22m\u001b[22m::Symbol\u001b[1m)\u001b[22m\u001b[22m at \u001b[1m./loading.jl:441\u001b[22m\u001b[22m\n",
      " [8] \u001b[1mrequire\u001b[22m\u001b[22m\u001b[1m(\u001b[22m\u001b[22m::Symbol\u001b[1m)\u001b[22m\u001b[22m at \u001b[1m./loading.jl:405\u001b[22m\u001b[22m\n",
      " [9] \u001b[1mexecute_request\u001b[22m\u001b[22m\u001b[1m(\u001b[22m\u001b[22m::ZMQ.Socket, ::IJulia.Msg\u001b[1m)\u001b[22m\u001b[22m at \u001b[1m/home/pika/.julia/v0.6/IJulia/src/execute_request.jl:158\u001b[22m\u001b[22m\n",
      " [10] \u001b[1m(::Compat.#inner#18{Array{Any,1},IJulia.#execute_request,Tuple{ZMQ.Socket,IJulia.Msg}})\u001b[22m\u001b[22m\u001b[1m(\u001b[22m\u001b[22m\u001b[1m)\u001b[22m\u001b[22m at \u001b[1m/home/pika/.julia/v0.6/Compat/src/Compat.jl:378\u001b[22m\u001b[22m\n",
      " [11] \u001b[1meventloop\u001b[22m\u001b[22m\u001b[1m(\u001b[22m\u001b[22m::ZMQ.Socket\u001b[1m)\u001b[22m\u001b[22m at \u001b[1m/home/pika/.julia/v0.6/IJulia/src/eventloop.jl:8\u001b[22m\u001b[22m\n",
      " [12] \u001b[1m(::IJulia.##14#17)\u001b[22m\u001b[22m\u001b[1m(\u001b[22m\u001b[22m\u001b[1m)\u001b[22m\u001b[22m at \u001b[1m./task.jl:335\u001b[22m\u001b[22m\n",
      "while loading In[1], in expression starting on line 1\n",
      "\u001b[1m\u001b[33mWARNING: \u001b[39m\u001b[22m\u001b[33mRegisterDataDep(name::String, message::String, remotepath, hash=nothing; fetch_method=download, post_fetch_method=identity) is deprecated, use register(DataDep(name::String, message::String, remotepath, hash; fetch_method=fetch_method, post_fetch_method=post_fetch_method)) instead.\u001b[39m\n",
      "Stacktrace:\n",
      " [1] \u001b[1mdepwarn\u001b[22m\u001b[22m\u001b[1m(\u001b[22m\u001b[22m::String, ::Symbol\u001b[1m)\u001b[22m\u001b[22m at \u001b[1m./deprecated.jl:70\u001b[22m\u001b[22m\n",
      " [2] \u001b[1m#RegisterDataDep#31\u001b[22m\u001b[22m\u001b[1m(\u001b[22m\u001b[22m::Function, ::Function, ::Function, ::String, ::String, ::Array{String,1}, ::String\u001b[1m)\u001b[22m\u001b[22m at \u001b[1m./deprecated.jl:57\u001b[22m\u001b[22m\n",
      " [3] \u001b[1mRegisterDataDep\u001b[22m\u001b[22m\u001b[1m(\u001b[22m\u001b[22m::String, ::String, ::Array{String,1}, ::String\u001b[1m)\u001b[22m\u001b[22m at \u001b[1m./deprecated.jl:57\u001b[22m\u001b[22m\n",
      " [4] \u001b[1m__init__\u001b[22m\u001b[22m\u001b[1m(\u001b[22m\u001b[22m\u001b[1m)\u001b[22m\u001b[22m at \u001b[1m/home/pika/.julia/v0.6/MLDatasets/src/PTBLM/PTBLM.jl:52\u001b[22m\u001b[22m\n",
      " [5] \u001b[1m_require_from_serialized\u001b[22m\u001b[22m\u001b[1m(\u001b[22m\u001b[22m::Int64, ::Symbol, ::String, ::Bool\u001b[1m)\u001b[22m\u001b[22m at \u001b[1m./loading.jl:200\u001b[22m\u001b[22m\n",
      " [6] \u001b[1m_require_search_from_serialized\u001b[22m\u001b[22m\u001b[1m(\u001b[22m\u001b[22m::Int64, ::Symbol, ::String, ::Bool\u001b[1m)\u001b[22m\u001b[22m at \u001b[1m./loading.jl:236\u001b[22m\u001b[22m\n",
      " [7] \u001b[1m_require\u001b[22m\u001b[22m\u001b[1m(\u001b[22m\u001b[22m::Symbol\u001b[1m)\u001b[22m\u001b[22m at \u001b[1m./loading.jl:441\u001b[22m\u001b[22m\n",
      " [8] \u001b[1mrequire\u001b[22m\u001b[22m\u001b[1m(\u001b[22m\u001b[22m::Symbol\u001b[1m)\u001b[22m\u001b[22m at \u001b[1m./loading.jl:405\u001b[22m\u001b[22m\n",
      " [9] \u001b[1mexecute_request\u001b[22m\u001b[22m\u001b[1m(\u001b[22m\u001b[22m::ZMQ.Socket, ::IJulia.Msg\u001b[1m)\u001b[22m\u001b[22m at \u001b[1m/home/pika/.julia/v0.6/IJulia/src/execute_request.jl:158\u001b[22m\u001b[22m\n",
      " [10] \u001b[1m(::Compat.#inner#18{Array{Any,1},IJulia.#execute_request,Tuple{ZMQ.Socket,IJulia.Msg}})\u001b[22m\u001b[22m\u001b[1m(\u001b[22m\u001b[22m\u001b[1m)\u001b[22m\u001b[22m at \u001b[1m/home/pika/.julia/v0.6/Compat/src/Compat.jl:378\u001b[22m\u001b[22m\n",
      " [11] \u001b[1meventloop\u001b[22m\u001b[22m\u001b[1m(\u001b[22m\u001b[22m::ZMQ.Socket\u001b[1m)\u001b[22m\u001b[22m at \u001b[1m/home/pika/.julia/v0.6/IJulia/src/eventloop.jl:8\u001b[22m\u001b[22m\n",
      " [12] \u001b[1m(::IJulia.##14#17)\u001b[22m\u001b[22m\u001b[1m(\u001b[22m\u001b[22m\u001b[1m)\u001b[22m\u001b[22m at \u001b[1m./task.jl:335\u001b[22m\u001b[22m\n",
      "while loading In[1], in expression starting on line 1\n",
      "\u001b[1m\u001b[33mWARNING: \u001b[39m\u001b[22m\u001b[33mRegisterDataDep(name::String, message::String, remotepath, hash=nothing; fetch_method=download, post_fetch_method=identity) is deprecated, use register(DataDep(name::String, message::String, remotepath, hash; fetch_method=fetch_method, post_fetch_method=post_fetch_method)) instead.\u001b[39m\n",
      "Stacktrace:\n",
      " [1] \u001b[1mdepwarn\u001b[22m\u001b[22m\u001b[1m(\u001b[22m\u001b[22m::String, ::Symbol\u001b[1m)\u001b[22m\u001b[22m at \u001b[1m./deprecated.jl:70\u001b[22m\u001b[22m\n",
      " [2] \u001b[1m#RegisterDataDep#31\u001b[22m\u001b[22m\u001b[1m(\u001b[22m\u001b[22m::Function, ::Function, ::Function, ::String, ::String, ::Array{String,1}, ::String\u001b[1m)\u001b[22m\u001b[22m at \u001b[1m./deprecated.jl:57\u001b[22m\u001b[22m\n",
      " [3] \u001b[1mRegisterDataDep\u001b[22m\u001b[22m\u001b[1m(\u001b[22m\u001b[22m::String, ::String, ::Array{String,1}, ::String\u001b[1m)\u001b[22m\u001b[22m at \u001b[1m./deprecated.jl:57\u001b[22m\u001b[22m\n",
      " [4] \u001b[1m__init__\u001b[22m\u001b[22m\u001b[1m(\u001b[22m\u001b[22m\u001b[1m)\u001b[22m\u001b[22m at \u001b[1m/home/pika/.julia/v0.6/MLDatasets/src/UD_English/UD_English.jl:37\u001b[22m\u001b[22m\n",
      " [5] \u001b[1m_require_from_serialized\u001b[22m\u001b[22m\u001b[1m(\u001b[22m\u001b[22m::Int64, ::Symbol, ::String, ::Bool\u001b[1m)\u001b[22m\u001b[22m at \u001b[1m./loading.jl:200\u001b[22m\u001b[22m\n",
      " [6] \u001b[1m_require_search_from_serialized\u001b[22m\u001b[22m\u001b[1m(\u001b[22m\u001b[22m::Int64, ::Symbol, ::String, ::Bool\u001b[1m)\u001b[22m\u001b[22m at \u001b[1m./loading.jl:236\u001b[22m\u001b[22m\n",
      " [7] \u001b[1m_require\u001b[22m\u001b[22m\u001b[1m(\u001b[22m\u001b[22m::Symbol\u001b[1m)\u001b[22m\u001b[22m at \u001b[1m./loading.jl:441\u001b[22m\u001b[22m\n",
      " [8] \u001b[1mrequire\u001b[22m\u001b[22m\u001b[1m(\u001b[22m\u001b[22m::Symbol\u001b[1m)\u001b[22m\u001b[22m at \u001b[1m./loading.jl:405\u001b[22m\u001b[22m\n",
      " [9] \u001b[1mexecute_request\u001b[22m\u001b[22m\u001b[1m(\u001b[22m\u001b[22m::ZMQ.Socket, ::IJulia.Msg\u001b[1m)\u001b[22m\u001b[22m at \u001b[1m/home/pika/.julia/v0.6/IJulia/src/execute_request.jl:158\u001b[22m\u001b[22m\n",
      " [10] \u001b[1m(::Compat.#inner#18{Array{Any,1},IJulia.#execute_request,Tuple{ZMQ.Socket,IJulia.Msg}})\u001b[22m\u001b[22m\u001b[1m(\u001b[22m\u001b[22m\u001b[1m)\u001b[22m\u001b[22m at \u001b[1m/home/pika/.julia/v0.6/Compat/src/Compat.jl:378\u001b[22m\u001b[22m\n",
      " [11] \u001b[1meventloop\u001b[22m\u001b[22m\u001b[1m(\u001b[22m\u001b[22m::ZMQ.Socket\u001b[1m)\u001b[22m\u001b[22m at \u001b[1m/home/pika/.julia/v0.6/IJulia/src/eventloop.jl:8\u001b[22m\u001b[22m\n",
      " [12] \u001b[1m(::IJulia.##14#17)\u001b[22m\u001b[22m\u001b[1m(\u001b[22m\u001b[22m\u001b[1m)\u001b[22m\u001b[22m at \u001b[1m./task.jl:335\u001b[22m\u001b[22m\n",
      "while loading In[1], in expression starting on line 1\n"
     ]
    }
   ],
   "source": [
    "using MLDatasets\n",
    "using Flux\n",
    "using Flux: @epochs, onehotbatch, argmax, crossentropy, throttle\n",
    "using Base.Iterators: repeated, partition\n",
    "# using CuArrays"
   ]
  },
  {
   "cell_type": "markdown",
   "metadata": {},
   "source": [
    "## Load data"
   ]
  },
  {
   "cell_type": "markdown",
   "metadata": {},
   "source": [
    "Classify MNIST digits with a convolutional network"
   ]
  },
  {
   "cell_type": "code",
   "execution_count": 2,
   "metadata": {},
   "outputs": [
    {
     "data": {
      "text/plain": [
       "(FixedPointNumbers.Normed{UInt8,8}[0.62N0f8 0.596N0f8 … 0.239N0f8 0.212N0f8; 0.624N0f8 0.592N0f8 … 0.192N0f8 0.22N0f8; … ; 0.494N0f8 0.49N0f8 … 0.114N0f8 0.133N0f8; 0.455N0f8 0.467N0f8 … 0.078N0f8 0.082N0f8]\n",
       "\n",
       "FixedPointNumbers.Normed{UInt8,8}[0.439N0f8 0.439N0f8 … 0.455N0f8 0.42N0f8; 0.435N0f8 0.431N0f8 … 0.4N0f8 0.412N0f8; … ; 0.357N0f8 0.357N0f8 … 0.322N0f8 0.329N0f8; 0.333N0f8 0.345N0f8 … 0.251N0f8 0.263N0f8]\n",
       "\n",
       "FixedPointNumbers.Normed{UInt8,8}[0.192N0f8 0.2N0f8 … 0.659N0f8 0.627N0f8; 0.184N0f8 0.157N0f8 … 0.58N0f8 0.584N0f8; … ; 0.141N0f8 0.125N0f8 … 0.494N0f8 0.506N0f8; 0.129N0f8 0.133N0f8 … 0.42N0f8 0.431N0f8]\n",
       "\n",
       "FixedPointNumbers.Normed{UInt8,8}[0.922N0f8 0.933N0f8 … 0.322N0f8 0.333N0f8; 0.906N0f8 0.922N0f8 … 0.18N0f8 0.243N0f8; … ; 0.914N0f8 0.925N0f8 … 0.725N0f8 0.706N0f8; 0.91N0f8 0.922N0f8 … 0.733N0f8 0.729N0f8]\n",
       "\n",
       "FixedPointNumbers.Normed{UInt8,8}[0.922N0f8 0.933N0f8 … 0.376N0f8 0.396N0f8; 0.906N0f8 0.922N0f8 … 0.224N0f8 0.294N0f8; … ; 0.914N0f8 0.925N0f8 … 0.784N0f8 0.765N0f8; 0.91N0f8 0.922N0f8 … 0.792N0f8 0.784N0f8]\n",
       "\n",
       "FixedPointNumbers.Normed{UInt8,8}[0.922N0f8 0.933N0f8 … 0.322N0f8 0.325N0f8; 0.906N0f8 0.922N0f8 … 0.141N0f8 0.188N0f8; … ; 0.914N0f8 0.925N0f8 … 0.769N0f8 0.749N0f8; 0.91N0f8 0.922N0f8 … 0.784N0f8 0.78N0f8]\n",
       "\n",
       "FixedPointNumbers.Normed{UInt8,8}[0.62N0f8 0.667N0f8 … 0.09N0f8 0.11N0f8; 0.62N0f8 0.675N0f8 … 0.106N0f8 0.118N0f8; … ; 0.929N0f8 0.965N0f8 … 0.016N0f8 0.016N0f8; 0.933N0f8 0.965N0f8 … 0.02N0f8 0.027N0f8]\n",
       "\n",
       "FixedPointNumbers.Normed{UInt8,8}[0.745N0f8 0.784N0f8 … 0.133N0f8 0.161N0f8; 0.733N0f8 0.78N0f8 … 0.149N0f8 0.169N0f8; … ; 0.937N0f8 0.965N0f8 … 0.024N0f8 0.02N0f8; 0.945N0f8 0.969N0f8 … 0.027N0f8 0.031N0f8]\n",
       "\n",
       "FixedPointNumbers.Normed{UInt8,8}[0.871N0f8 0.898N0f8 … 0.153N0f8 0.184N0f8; 0.855N0f8 0.886N0f8 … 0.169N0f8 0.196N0f8; … ; 0.953N0f8 0.98N0f8 … 0.012N0f8 0.012N0f8; 0.965N0f8 0.984N0f8 … 0.012N0f8 0.027N0f8]\n",
       "\n",
       "...\n",
       "\n",
       "FixedPointNumbers.Normed{UInt8,8}[0.078N0f8 0.082N0f8 … 0.129N0f8 0.122N0f8; 0.075N0f8 0.078N0f8 … 0.133N0f8 0.125N0f8; … ; 0.047N0f8 0.039N0f8 … 0.106N0f8 0.102N0f8; 0.051N0f8 0.047N0f8 … 0.098N0f8 0.098N0f8]\n",
       "\n",
       "FixedPointNumbers.Normed{UInt8,8}[0.059N0f8 0.063N0f8 … 0.098N0f8 0.09N0f8; 0.055N0f8 0.063N0f8 … 0.102N0f8 0.094N0f8; … ; 0.043N0f8 0.035N0f8 … 0.094N0f8 0.09N0f8; 0.047N0f8 0.043N0f8 … 0.086N0f8 0.078N0f8]\n",
       "\n",
       "FixedPointNumbers.Normed{UInt8,8}[0.047N0f8 0.051N0f8 … 0.055N0f8 0.047N0f8; 0.043N0f8 0.051N0f8 … 0.059N0f8 0.051N0f8; … ; 0.035N0f8 0.027N0f8 … 0.22N0f8 0.208N0f8; 0.039N0f8 0.035N0f8 … 0.184N0f8 0.184N0f8]\n",
       "\n",
       "FixedPointNumbers.Normed{UInt8,8}[0.098N0f8 0.047N0f8 … 0.404N0f8 0.373N0f8; 0.059N0f8 0.078N0f8 … 0.408N0f8 0.373N0f8; … ; 0.361N0f8 0.584N0f8 … 0.388N0f8 0.373N0f8; 0.294N0f8 0.408N0f8 … 0.361N0f8 0.361N0f8]\n",
       "\n",
       "FixedPointNumbers.Normed{UInt8,8}[0.157N0f8 0.098N0f8 … 0.518N0f8 0.494N0f8; 0.141N0f8 0.145N0f8 … 0.514N0f8 0.482N0f8; … ; 0.443N0f8 0.659N0f8 … 0.498N0f8 0.482N0f8; 0.349N0f8 0.459N0f8 … 0.475N0f8 0.471N0f8]\n",
       "\n",
       "FixedPointNumbers.Normed{UInt8,8}[0.047N0f8 0.024N0f8 … 0.325N0f8 0.306N0f8; 0.012N0f8 0.027N0f8 … 0.325N0f8 0.298N0f8; … ; 0.439N0f8 0.694N0f8 … 0.329N0f8 0.318N0f8; 0.361N0f8 0.514N0f8 … 0.31N0f8 0.314N0f8]\n",
       "\n",
       "FixedPointNumbers.Normed{UInt8,8}[0.286N0f8 0.271N0f8 … 0.451N0f8 0.455N0f8; 0.384N0f8 0.329N0f8 … 0.482N0f8 0.475N0f8; … ; 0.529N0f8 0.278N0f8 … 0.259N0f8 0.267N0f8; 0.796N0f8 0.471N0f8 … 0.106N0f8 0.106N0f8]\n",
       "\n",
       "FixedPointNumbers.Normed{UInt8,8}[0.306N0f8 0.286N0f8 … 0.475N0f8 0.471N0f8; 0.404N0f8 0.349N0f8 … 0.486N0f8 0.478N0f8; … ; 0.584N0f8 0.322N0f8 … 0.255N0f8 0.255N0f8; 0.843N0f8 0.522N0f8 … 0.106N0f8 0.102N0f8]\n",
       "\n",
       "FixedPointNumbers.Normed{UInt8,8}[0.294N0f8 0.275N0f8 … 0.357N0f8 0.353N0f8; 0.443N0f8 0.38N0f8 … 0.373N0f8 0.369N0f8; … ; 0.604N0f8 0.314N0f8 … 0.231N0f8 0.227N0f8; 0.875N0f8 0.529N0f8 … 0.106N0f8 0.102N0f8], [3, 8, 8, 0, 6, 6, 1, 6, 3, 1  …  7, 0, 3, 5, 3, 8, 3, 5, 1, 7])"
      ]
     },
     "execution_count": 2,
     "metadata": {},
     "output_type": "execute_result"
    }
   ],
   "source": [
    "train_x, train_y = CIFAR10.traindata()\n",
    "test_x,  test_y  = CIFAR10.testdata()"
   ]
  },
  {
   "cell_type": "code",
   "execution_count": 3,
   "metadata": {},
   "outputs": [
    {
     "data": {
      "text/plain": [
       "10×10000 Flux.OneHotMatrix{Array{Flux.OneHotVector,1}}:\n",
       " false  false  false   true  false  …  false  false  false  false  false\n",
       " false  false  false  false  false     false  false  false   true  false\n",
       " false  false  false  false  false     false  false  false  false  false\n",
       "  true  false  false  false  false     false   true  false  false  false\n",
       " false  false  false  false  false     false  false  false  false  false\n",
       " false  false  false  false  false  …  false  false   true  false  false\n",
       " false  false  false  false   true     false  false  false  false  false\n",
       " false  false  false  false  false     false  false  false  false   true\n",
       " false   true   true  false  false      true  false  false  false  false\n",
       " false  false  false  false  false     false  false  false  false  false"
      ]
     },
     "execution_count": 3,
     "metadata": {},
     "output_type": "execute_result"
    }
   ],
   "source": [
    "train_x = Float64.(train_x / 255)\n",
    "train_y = onehotbatch(train_y, 0:9)\n",
    "test_x = Float64.(test_x / 255)\n",
    "test_y = onehotbatch(test_y, 0:9)"
   ]
  },
  {
   "cell_type": "markdown",
   "metadata": {},
   "source": [
    "## Preprocessing"
   ]
  },
  {
   "cell_type": "code",
   "execution_count": 4,
   "metadata": {},
   "outputs": [],
   "source": [
    "# Partition into batches of size 1,000\n",
    "train = [(train_x[:, :, :, i:(i+999)], train_y[:, i:(i+999)]) for i = 1:1000:50_000];\n",
    "# train = gpu.(train)"
   ]
  },
  {
   "cell_type": "code",
   "execution_count": 5,
   "metadata": {},
   "outputs": [
    {
     "data": {
      "text/plain": [
       "10×1000 Flux.OneHotMatrix{Array{Flux.OneHotVector,1}}:\n",
       " false  false  false   true  false  …  false  false  false  false  false\n",
       " false  false  false  false  false     false  false   true  false  false\n",
       " false  false  false  false  false     false  false  false  false  false\n",
       "  true  false  false  false  false      true  false  false   true  false\n",
       " false  false  false  false  false     false  false  false  false  false\n",
       " false  false  false  false  false  …  false  false  false  false  false\n",
       " false  false  false  false   true     false  false  false  false  false\n",
       " false  false  false  false  false     false  false  false  false  false\n",
       " false   true   true  false  false     false   true  false  false   true\n",
       " false  false  false  false  false     false  false  false  false  false"
      ]
     },
     "execution_count": 5,
     "metadata": {},
     "output_type": "execute_result"
    }
   ],
   "source": [
    "# Prepare test set (first 1,000 images)\n",
    "test_x = test_x[:, :, :, 1:1000]# |> gpu\n",
    "test_y = test_y[:, 1:1000]# |> gpu"
   ]
  },
  {
   "cell_type": "markdown",
   "metadata": {},
   "source": [
    "## Model"
   ]
  },
  {
   "cell_type": "code",
   "execution_count": 6,
   "metadata": {},
   "outputs": [
    {
     "data": {
      "text/plain": [
       "Chain(Conv((3, 3), 3=>32, NNlib.relu), Conv((3, 3), 32=>64, NNlib.relu), #3, BatchNorm(64), Conv((3, 3), 64=>128, NNlib.relu), #4, Conv((2, 2), 128=>128, NNlib.relu), #5, BatchNorm(128), #6, Dense(512, 1500, NNlib.relu), BatchNorm(1500), Dense(1500, 10), NNlib.softmax)"
      ]
     },
     "execution_count": 6,
     "metadata": {},
     "output_type": "execute_result"
    }
   ],
   "source": [
    "m = Chain(\n",
    "    Conv((3, 3), 3=>32, relu),  # (32, 32, 3) -> (30, 30, 32)\n",
    "    Conv((3, 3), 32=>64, relu),  # (30, 30, 32) -> (28, 28, 64)\n",
    "    x -> maxpool(x, (2, 2); stride=2),  # (28, 28, 64) -> (14, 14, 64)\n",
    "    BatchNorm(64),\n",
    "#     Dropout(0.25),\n",
    "    Conv((3, 3), 64=>128, relu),  # (14, 14, 64) -> (12, 12, 128)\n",
    "    x -> maxpool(x, (2, 2); stride=2),  # (12, 12, 128) -> (6, 6, 128)\n",
    "    Conv((2, 2), 128=>128, relu),  # (6, 6, 128) -> (5, 5, 128)\n",
    "    x -> maxpool(x, (2, 2); stride=2),  # (5, 5, 128) -> (2, 2, 128)\n",
    "    BatchNorm(128),\n",
    "#     Dropout(0.25),\n",
    "    x -> reshape(x, :, size(x, 4)),  # (2, 2, 128) -> 512\n",
    "    Dense(512, 1500, relu),\n",
    "    BatchNorm(1500),\n",
    "#     Dropout(0.5),\n",
    "    Dense(1500, 10), softmax)# |> gpu"
   ]
  },
  {
   "cell_type": "code",
   "execution_count": 7,
   "metadata": {},
   "outputs": [
    {
     "data": {
      "text/plain": [
       "Tracked 10×1000 Array{Float64,2}:\n",
       " 0.0738703   0.226183   0.104323     …  0.304167   0.0051662   0.00391455\n",
       " 0.0146821   0.0292849  0.0292691       0.0479552  0.0820759   0.0418958 \n",
       " 0.00646479  0.0185909  0.0424737       0.0133645  0.281906    0.1245    \n",
       " 0.0666114   0.160932   0.0808966       0.0631955  0.00928798  0.0262703 \n",
       " 0.0136798   0.105351   0.0144587       0.101268   0.0540482   0.14778   \n",
       " 0.127966    0.134166   0.575405     …  0.15226    0.112548    0.0525409 \n",
       " 0.0632751   0.208754   0.0994077       0.0126038  0.380322    0.00624554\n",
       " 0.481846    0.0219483  0.0316484       0.0852076  0.00545263  0.298559  \n",
       " 0.0402008   0.0564432  0.000262631     0.156596   0.0500804   0.0139881 \n",
       " 0.111404    0.0383461  0.0218554       0.0633829  0.0191137   0.284306  "
      ]
     },
     "execution_count": 7,
     "metadata": {},
     "output_type": "execute_result"
    }
   ],
   "source": [
    "m(train[1][1])  # test if model works"
   ]
  },
  {
   "cell_type": "markdown",
   "metadata": {},
   "source": [
    "## Loss function"
   ]
  },
  {
   "cell_type": "code",
   "execution_count": 8,
   "metadata": {},
   "outputs": [
    {
     "data": {
      "text/plain": [
       "loss (generic function with 1 method)"
      ]
     },
     "execution_count": 8,
     "metadata": {},
     "output_type": "execute_result"
    }
   ],
   "source": [
    "loss(x, y) = crossentropy(m(x), y)"
   ]
  },
  {
   "cell_type": "code",
   "execution_count": 9,
   "metadata": {},
   "outputs": [
    {
     "data": {
      "text/plain": [
       "accuracy (generic function with 1 method)"
      ]
     },
     "execution_count": 9,
     "metadata": {},
     "output_type": "execute_result"
    }
   ],
   "source": [
    "accuracy(x, y) = mean(argmax(m(x)) .== argmax(y))"
   ]
  },
  {
   "cell_type": "markdown",
   "metadata": {},
   "source": [
    "## Optimizer"
   ]
  },
  {
   "cell_type": "code",
   "execution_count": 10,
   "metadata": {},
   "outputs": [
    {
     "data": {
      "text/plain": [
       "(::#80) (generic function with 1 method)"
      ]
     },
     "execution_count": 10,
     "metadata": {},
     "output_type": "execute_result"
    }
   ],
   "source": [
    "evalcb = throttle(() -> @show(accuracy(test_x, test_y)), 10)\n",
    "opt = ADAM(params(m))"
   ]
  },
  {
   "cell_type": "markdown",
   "metadata": {},
   "source": [
    "## Training"
   ]
  },
  {
   "cell_type": "code",
   "execution_count": 11,
   "metadata": {},
   "outputs": [
    {
     "name": "stderr",
     "output_type": "stream",
     "text": [
      "\u001b[1m\u001b[36mINFO: \u001b[39m\u001b[22m\u001b[36mEpoch 1\n",
      "\u001b[39m"
     ]
    },
    {
     "name": "stdout",
     "output_type": "stream",
     "text": [
      "accuracy(test_x, test_y) = 0.188\n",
      "accuracy(test_x, test_y) = 0.285\n",
      "accuracy(test_x, test_y) = 0.299\n",
      "accuracy(test_x, test_y) = 0.349\n",
      "accuracy(test_x, test_y) = 0.353\n",
      "accuracy(test_x, test_y) = 0.366\n",
      "accuracy(test_x, test_y) = 0.4\n",
      "accuracy(test_x, test_y) = 0.396\n",
      "accuracy(test_x, test_y) = 0.455\n",
      "accuracy(test_x, test_y) = 0.424\n",
      "accuracy(test_x, test_y) = 0.439\n",
      "accuracy(test_x, test_y) = 0.425\n",
      "accuracy(test_x, test_y) = 0.454\n",
      "accuracy(test_x, test_y) = 0.46\n",
      "accuracy(test_x, test_y) = 0.445\n",
      "accuracy(test_x, test_y) = 0.493\n",
      "accuracy(test_x, test_y) = 0.488\n"
     ]
    },
    {
     "name": "stderr",
     "output_type": "stream",
     "text": [
      "\u001b[1m\u001b[36mINFO: \u001b[39m\u001b[22m\u001b[36mEpoch 2\n",
      "\u001b[39m"
     ]
    },
    {
     "name": "stdout",
     "output_type": "stream",
     "text": [
      "accuracy(test_x, test_y) = 0.491\n",
      "accuracy(test_x, test_y) = 0.512\n",
      "accuracy(test_x, test_y) = 0.496\n",
      "accuracy(test_x, test_y) = 0.472\n",
      "accuracy(test_x, test_y) = 0.483\n",
      "accuracy(test_x, test_y) = 0.491\n",
      "accuracy(test_x, test_y) = 0.492\n",
      "accuracy(test_x, test_y) = 0.486\n",
      "accuracy(test_x, test_y) = 0.519\n",
      "accuracy(test_x, test_y) = 0.51\n",
      "accuracy(test_x, test_y) = 0.512\n",
      "accuracy(test_x, test_y) = 0.52\n",
      "accuracy(test_x, test_y) = 0.533\n",
      "accuracy(test_x, test_y) = 0.533\n",
      "accuracy(test_x, test_y) = 0.519\n",
      "accuracy(test_x, test_y) = 0.55\n",
      "accuracy(test_x, test_y) = 0.551\n"
     ]
    },
    {
     "name": "stderr",
     "output_type": "stream",
     "text": [
      "\u001b[1m\u001b[36mINFO: \u001b[39m\u001b[22m\u001b[36mEpoch 3\n",
      "\u001b[39m"
     ]
    },
    {
     "name": "stdout",
     "output_type": "stream",
     "text": [
      "accuracy(test_x, test_y) = 0.538\n",
      "accuracy(test_x, test_y) = 0.552\n",
      "accuracy(test_x, test_y) = 0.535\n",
      "accuracy(test_x, test_y) = 0.533\n",
      "accuracy(test_x, test_y) = 0.535\n",
      "accuracy(test_x, test_y) = 0.54\n",
      "accuracy(test_x, test_y) = 0.558\n",
      "accuracy(test_x, test_y) = 0.538\n",
      "accuracy(test_x, test_y) = 0.558\n",
      "accuracy(test_x, test_y) = 0.562\n",
      "accuracy(test_x, test_y) = 0.56\n",
      "accuracy(test_x, test_y) = 0.554\n"
     ]
    },
    {
     "ename": "LoadError",
     "evalue": "\u001b[91mInterruptException:\u001b[39m",
     "output_type": "error",
     "traceback": [
      "\u001b[91mInterruptException:\u001b[39m",
      "",
      "Stacktrace:",
      " [1] \u001b[1mmap\u001b[22m\u001b[22m\u001b[1m(\u001b[22m\u001b[22m::Flux.Tracker.##47#49{2}, ::Tuple{TrackedArray{…,Array{Float64,4}},TrackedArray{…,Array{Float64,4}}}, ::Tuple{Int64,Int64}\u001b[1m)\u001b[22m\u001b[22m at \u001b[1m./tuple.jl:178\u001b[22m\u001b[22m",
      " [2] \u001b[1mtracked_broadcast\u001b[22m\u001b[22m\u001b[1m(\u001b[22m\u001b[22m::Function, ::TrackedArray{…,Array{Float64,4}}, ::TrackedArray{…,Array{Float64,4}}\u001b[1m)\u001b[22m\u001b[22m at \u001b[1m/home/pika/.julia/v0.6/Flux/src/tracker/array.jl:363\u001b[22m\u001b[22m",
      " [3] \u001b[1m(::Flux.BatchNorm{Base.#identity,TrackedArray{…,Array{Float64,1}},Array{Float64,1},Float64})\u001b[22m\u001b[22m\u001b[1m(\u001b[22m\u001b[22m::TrackedArray{…,Array{Float64,4}}\u001b[1m)\u001b[22m\u001b[22m at \u001b[1m/home/pika/.julia/v0.6/Flux/src/layers/normalise.jl:135\u001b[22m\u001b[22m",
      " [4] \u001b[1mmapfoldl_impl\u001b[22m\u001b[22m\u001b[1m(\u001b[22m\u001b[22m::Base.#identity, ::Flux.##81#82, ::Array{Float64,4}, ::Array{Any,1}, ::Int64\u001b[1m)\u001b[22m\u001b[22m at \u001b[1m./reduce.jl:46\u001b[22m\u001b[22m",
      " [5] \u001b[1m(::Flux.Chain)\u001b[22m\u001b[22m\u001b[1m(\u001b[22m\u001b[22m::Array{Float64,4}\u001b[1m)\u001b[22m\u001b[22m at \u001b[1m/home/pika/.julia/v0.6/Flux/src/layers/basic.jl:31\u001b[22m\u001b[22m",
      " [6] \u001b[1mloss\u001b[22m\u001b[22m\u001b[1m(\u001b[22m\u001b[22m::Array{Float64,4}, ::Flux.OneHotMatrix{Array{Flux.OneHotVector,1}}\u001b[1m)\u001b[22m\u001b[22m at \u001b[1m./In[8]:1\u001b[22m\u001b[22m",
      " [7] \u001b[1mmacro expansion\u001b[22m\u001b[22m at \u001b[1m/home/pika/.julia/v0.6/Flux/src/optimise/train.jl:39\u001b[22m\u001b[22m [inlined]",
      " [8] \u001b[1mmacro expansion\u001b[22m\u001b[22m at \u001b[1m/home/pika/.julia/v0.6/Juno/src/progress.jl:119\u001b[22m\u001b[22m [inlined]",
      " [9] \u001b[1m#train!#146\u001b[22m\u001b[22m\u001b[1m(\u001b[22m\u001b[22m::Flux.#throttled#14, ::Function, ::Function, ::Array{Tuple{Array{Float64,4},Flux.OneHotMatrix{Array{Flux.OneHotVector,1}}},1}, ::Flux.Optimise.##80#84\u001b[1m)\u001b[22m\u001b[22m at \u001b[1m/home/pika/.julia/v0.6/Flux/src/optimise/train.jl:38\u001b[22m\u001b[22m",
      " [10] \u001b[1m(::Flux.Optimise.#kw##train!)\u001b[22m\u001b[22m\u001b[1m(\u001b[22m\u001b[22m::Array{Any,1}, ::Flux.Optimise.#train!, ::Function, ::Array{Tuple{Array{Float64,4},Flux.OneHotMatrix{Array{Flux.OneHotVector,1}}},1}, ::Function\u001b[1m)\u001b[22m\u001b[22m at \u001b[1m./<missing>:0\u001b[22m\u001b[22m",
      " [11] \u001b[1mmacro expansion\u001b[22m\u001b[22m at \u001b[1m/home/pika/.julia/v0.6/Flux/src/optimise/train.jl:65\u001b[22m\u001b[22m [inlined]",
      " [12] \u001b[1mmacro expansion\u001b[22m\u001b[22m at \u001b[1m/home/pika/.julia/v0.6/Juno/src/progress.jl:119\u001b[22m\u001b[22m [inlined]",
      " [13] \u001b[1manonymous\u001b[22m\u001b[22m at \u001b[1m./<missing>:?\u001b[22m\u001b[22m",
      " [14] \u001b[1minclude_string\u001b[22m\u001b[22m\u001b[1m(\u001b[22m\u001b[22m::String, ::String\u001b[1m)\u001b[22m\u001b[22m at \u001b[1m./loading.jl:522\u001b[22m\u001b[22m"
     ]
    }
   ],
   "source": [
    "@epochs 5 Flux.train!(loss, train, opt, cb=evalcb)"
   ]
  },
  {
   "cell_type": "code",
   "execution_count": null,
   "metadata": {},
   "outputs": [],
   "source": []
  }
 ],
 "metadata": {
  "kernelspec": {
   "display_name": "Julia 0.6.2",
   "language": "julia",
   "name": "julia-0.6"
  },
  "language_info": {
   "file_extension": ".jl",
   "mimetype": "application/julia",
   "name": "julia",
   "version": "0.6.3"
  }
 },
 "nbformat": 4,
 "nbformat_minor": 2
}
