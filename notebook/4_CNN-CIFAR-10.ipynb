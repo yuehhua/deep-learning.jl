{
 "cells": [
  {
   "cell_type": "markdown",
   "metadata": {},
   "source": [
    "# Convolutional neural network"
   ]
  },
  {
   "cell_type": "code",
   "execution_count": 1,
   "metadata": {},
   "outputs": [],
   "source": [
    "using MLDatasets\n",
    "using Flux\n",
    "using Flux: @epochs, onehotbatch, onecold, crossentropy, throttle\n",
    "using Base.Iterators: repeated, partition\n",
    "using Statistics: mean\n",
    "# using CuArrays"
   ]
  },
  {
   "cell_type": "markdown",
   "metadata": {},
   "source": [
    "## Load data"
   ]
  },
  {
   "cell_type": "markdown",
   "metadata": {},
   "source": [
    "Classify MNIST digits with a convolutional network"
   ]
  },
  {
   "cell_type": "code",
   "execution_count": 2,
   "metadata": {},
   "outputs": [
    {
     "data": {
      "text/plain": [
       "(FixedPointNumbers.Normed{UInt8,8}[0.62 0.596 … 0.239 0.212; 0.624 0.592 … 0.192 0.22; … ; 0.494 0.49 … 0.114 0.133; 0.455 0.467 … 0.078 0.082]\n",
       "\n",
       "FixedPointNumbers.Normed{UInt8,8}[0.439 0.439 … 0.455 0.42; 0.435 0.431 … 0.4 0.412; … ; 0.357 0.357 … 0.322 0.329; 0.333 0.345 … 0.251 0.263]\n",
       "\n",
       "FixedPointNumbers.Normed{UInt8,8}[0.192 0.2 … 0.659 0.627; 0.184 0.157 … 0.58 0.584; … ; 0.141 0.125 … 0.494 0.506; 0.129 0.133 … 0.42 0.431]\n",
       "\n",
       "FixedPointNumbers.Normed{UInt8,8}[0.922 0.933 … 0.322 0.333; 0.906 0.922 … 0.18 0.243; … ; 0.914 0.925 … 0.725 0.706; 0.91 0.922 … 0.733 0.729]\n",
       "\n",
       "FixedPointNumbers.Normed{UInt8,8}[0.922 0.933 … 0.376 0.396; 0.906 0.922 … 0.224 0.294; … ; 0.914 0.925 … 0.784 0.765; 0.91 0.922 … 0.792 0.784]\n",
       "\n",
       "FixedPointNumbers.Normed{UInt8,8}[0.922 0.933 … 0.322 0.325; 0.906 0.922 … 0.141 0.188; … ; 0.914 0.925 … 0.769 0.749; 0.91 0.922 … 0.784 0.78]\n",
       "\n",
       "FixedPointNumbers.Normed{UInt8,8}[0.62 0.667 … 0.09 0.11; 0.62 0.675 … 0.106 0.118; … ; 0.929 0.965 … 0.016 0.016; 0.933 0.965 … 0.02 0.027]\n",
       "\n",
       "FixedPointNumbers.Normed{UInt8,8}[0.745 0.784 … 0.133 0.161; 0.733 0.78 … 0.149 0.169; … ; 0.937 0.965 … 0.024 0.02; 0.945 0.969 … 0.027 0.031]\n",
       "\n",
       "FixedPointNumbers.Normed{UInt8,8}[0.871 0.898 … 0.153 0.184; 0.855 0.886 … 0.169 0.196; … ; 0.953 0.98 … 0.012 0.012; 0.965 0.984 … 0.012 0.027]\n",
       "\n",
       "...\n",
       "\n",
       "FixedPointNumbers.Normed{UInt8,8}[0.078 0.082 … 0.129 0.122; 0.075 0.078 … 0.133 0.125; … ; 0.047 0.039 … 0.106 0.102; 0.051 0.047 … 0.098 0.098]\n",
       "\n",
       "FixedPointNumbers.Normed{UInt8,8}[0.059 0.063 … 0.098 0.09; 0.055 0.063 … 0.102 0.094; … ; 0.043 0.035 … 0.094 0.09; 0.047 0.043 … 0.086 0.078]\n",
       "\n",
       "FixedPointNumbers.Normed{UInt8,8}[0.047 0.051 … 0.055 0.047; 0.043 0.051 … 0.059 0.051; … ; 0.035 0.027 … 0.22 0.208; 0.039 0.035 … 0.184 0.184]\n",
       "\n",
       "FixedPointNumbers.Normed{UInt8,8}[0.098 0.047 … 0.404 0.373; 0.059 0.078 … 0.408 0.373; … ; 0.361 0.584 … 0.388 0.373; 0.294 0.408 … 0.361 0.361]\n",
       "\n",
       "FixedPointNumbers.Normed{UInt8,8}[0.157 0.098 … 0.518 0.494; 0.141 0.145 … 0.514 0.482; … ; 0.443 0.659 … 0.498 0.482; 0.349 0.459 … 0.475 0.471]\n",
       "\n",
       "FixedPointNumbers.Normed{UInt8,8}[0.047 0.024 … 0.325 0.306; 0.012 0.027 … 0.325 0.298; … ; 0.439 0.694 … 0.329 0.318; 0.361 0.514 … 0.31 0.314]\n",
       "\n",
       "FixedPointNumbers.Normed{UInt8,8}[0.286 0.271 … 0.451 0.455; 0.384 0.329 … 0.482 0.475; … ; 0.529 0.278 … 0.259 0.267; 0.796 0.471 … 0.106 0.106]\n",
       "\n",
       "FixedPointNumbers.Normed{UInt8,8}[0.306 0.286 … 0.475 0.471; 0.404 0.349 … 0.486 0.478; … ; 0.584 0.322 … 0.255 0.255; 0.843 0.522 … 0.106 0.102]\n",
       "\n",
       "FixedPointNumbers.Normed{UInt8,8}[0.294 0.275 … 0.357 0.353; 0.443 0.38 … 0.373 0.369; … ; 0.604 0.314 … 0.231 0.227; 0.875 0.529 … 0.106 0.102], [3, 8, 8, 0, 6, 6, 1, 6, 3, 1  …  7, 0, 3, 5, 3, 8, 3, 5, 1, 7])"
      ]
     },
     "execution_count": 2,
     "metadata": {},
     "output_type": "execute_result"
    }
   ],
   "source": [
    "train_x, train_y = CIFAR10.traindata()\n",
    "test_x,  test_y  = CIFAR10.testdata()"
   ]
  },
  {
   "cell_type": "code",
   "execution_count": 3,
   "metadata": {},
   "outputs": [
    {
     "data": {
      "text/plain": [
       "10×10000 Flux.OneHotMatrix{Array{Flux.OneHotVector,1}}:\n",
       " false  false  false   true  false  …  false  false  false  false  false\n",
       " false  false  false  false  false     false  false  false   true  false\n",
       " false  false  false  false  false     false  false  false  false  false\n",
       "  true  false  false  false  false     false   true  false  false  false\n",
       " false  false  false  false  false     false  false  false  false  false\n",
       " false  false  false  false  false  …  false  false   true  false  false\n",
       " false  false  false  false   true     false  false  false  false  false\n",
       " false  false  false  false  false     false  false  false  false   true\n",
       " false   true   true  false  false      true  false  false  false  false\n",
       " false  false  false  false  false     false  false  false  false  false"
      ]
     },
     "execution_count": 3,
     "metadata": {},
     "output_type": "execute_result"
    }
   ],
   "source": [
    "train_x = Float64.(train_x / 255)\n",
    "train_y = onehotbatch(train_y, 0:9)\n",
    "test_x = Float64.(test_x / 255)\n",
    "test_y = onehotbatch(test_y, 0:9)"
   ]
  },
  {
   "cell_type": "markdown",
   "metadata": {},
   "source": [
    "## Preprocessing"
   ]
  },
  {
   "cell_type": "code",
   "execution_count": 4,
   "metadata": {},
   "outputs": [],
   "source": [
    "# Partition into batches of size 1,000\n",
    "train = [(train_x[:, :, :, i:(i+999)], train_y[:, i:(i+999)]) for i = 1:1000:50_000];\n",
    "# train = gpu.(train)"
   ]
  },
  {
   "cell_type": "code",
   "execution_count": 5,
   "metadata": {},
   "outputs": [
    {
     "data": {
      "text/plain": [
       "10×1000 Flux.OneHotMatrix{Array{Flux.OneHotVector,1}}:\n",
       " false  false  false   true  false  …  false  false  false  false  false\n",
       " false  false  false  false  false     false  false   true  false  false\n",
       " false  false  false  false  false     false  false  false  false  false\n",
       "  true  false  false  false  false      true  false  false   true  false\n",
       " false  false  false  false  false     false  false  false  false  false\n",
       " false  false  false  false  false  …  false  false  false  false  false\n",
       " false  false  false  false   true     false  false  false  false  false\n",
       " false  false  false  false  false     false  false  false  false  false\n",
       " false   true   true  false  false     false   true  false  false   true\n",
       " false  false  false  false  false     false  false  false  false  false"
      ]
     },
     "execution_count": 5,
     "metadata": {},
     "output_type": "execute_result"
    }
   ],
   "source": [
    "# Prepare test set (first 1,000 images)\n",
    "test_x = test_x[:, :, :, 1:1000]# |> gpu\n",
    "test_y = test_y[:, 1:1000]# |> gpu"
   ]
  },
  {
   "cell_type": "markdown",
   "metadata": {},
   "source": [
    "## Model"
   ]
  },
  {
   "cell_type": "code",
   "execution_count": 6,
   "metadata": {},
   "outputs": [
    {
     "data": {
      "text/plain": [
       "Chain(Conv((3, 3), 3=>32, NNlib.relu), Conv((3, 3), 32=>64, NNlib.relu), getfield(Main, Symbol(\"##5#9\"))(), BatchNorm(64), Conv((3, 3), 64=>128, NNlib.relu), getfield(Main, Symbol(\"##6#10\"))(), Conv((2, 2), 128=>128, NNlib.relu), getfield(Main, Symbol(\"##7#11\"))(), BatchNorm(128), getfield(Main, Symbol(\"##8#12\"))(), Dense(512, 1500, NNlib.relu), BatchNorm(1500), Dense(1500, 10), NNlib.softmax)"
      ]
     },
     "execution_count": 6,
     "metadata": {},
     "output_type": "execute_result"
    }
   ],
   "source": [
    "m = Chain(\n",
    "    Conv((3, 3), 3=>32, relu),  # (32, 32, 3) -> (30, 30, 32)\n",
    "    Conv((3, 3), 32=>64, relu),  # (30, 30, 32) -> (28, 28, 64)\n",
    "    x -> maxpool(x, (2, 2); stride=2),  # (28, 28, 64) -> (14, 14, 64)\n",
    "    BatchNorm(64),\n",
    "#     Dropout(0.25),\n",
    "    Conv((3, 3), 64=>128, relu),  # (14, 14, 64) -> (12, 12, 128)\n",
    "    x -> maxpool(x, (2, 2); stride=2),  # (12, 12, 128) -> (6, 6, 128)\n",
    "    Conv((2, 2), 128=>128, relu),  # (6, 6, 128) -> (5, 5, 128)\n",
    "    x -> maxpool(x, (2, 2); stride=2),  # (5, 5, 128) -> (2, 2, 128)\n",
    "    BatchNorm(128),\n",
    "#     Dropout(0.25),\n",
    "    x -> reshape(x, :, size(x, 4)),  # (2, 2, 128) -> 512\n",
    "    Dense(512, 1500, relu),\n",
    "    BatchNorm(1500),\n",
    "#     Dropout(0.5),\n",
    "    Dense(1500, 10), softmax)# |> gpu"
   ]
  },
  {
   "cell_type": "code",
   "execution_count": 7,
   "metadata": {},
   "outputs": [
    {
     "data": {
      "text/plain": [
       "Tracked 10×1000 Array{Float64,2}:\n",
       " 0.0205276  0.10518     0.0423531    …  0.0541638   0.0106      0.139392  \n",
       " 0.239923   0.160242    0.0361944       0.00292145  0.00869964  0.0201769 \n",
       " 0.056292   0.17587     0.00675316      0.143196    0.00742403  0.00874986\n",
       " 0.0310601  0.0601984   0.00134746      0.0368507   0.00255334  0.0595093 \n",
       " 0.0178015  0.0419944   0.119793        0.0485718   0.0799776   0.149576  \n",
       " 0.0368068  0.011981    0.772457     …  0.215175    0.0471264   0.449265  \n",
       " 0.355944   0.00437336  0.00516802      0.105177    0.0924541   0.0455375 \n",
       " 0.0665038  0.0223977   0.00337104      0.0168675   0.024626    0.00619529\n",
       " 0.0603635  0.348615    0.000957903     0.338733    0.662072    0.107867  \n",
       " 0.114778   0.0691486   0.0116045       0.0383439   0.0644668   0.0137314 "
      ]
     },
     "execution_count": 7,
     "metadata": {},
     "output_type": "execute_result"
    }
   ],
   "source": [
    "m(train[1][1])  # test if model works"
   ]
  },
  {
   "cell_type": "markdown",
   "metadata": {},
   "source": [
    "## Loss function"
   ]
  },
  {
   "cell_type": "code",
   "execution_count": 8,
   "metadata": {},
   "outputs": [
    {
     "data": {
      "text/plain": [
       "loss (generic function with 1 method)"
      ]
     },
     "execution_count": 8,
     "metadata": {},
     "output_type": "execute_result"
    }
   ],
   "source": [
    "loss(x, y) = crossentropy(m(x), y)"
   ]
  },
  {
   "cell_type": "code",
   "execution_count": 9,
   "metadata": {},
   "outputs": [
    {
     "data": {
      "text/plain": [
       "accuracy (generic function with 1 method)"
      ]
     },
     "execution_count": 9,
     "metadata": {},
     "output_type": "execute_result"
    }
   ],
   "source": [
    "accuracy(x, y) = mean(onecold(m(x)) .== onecold(y))"
   ]
  },
  {
   "cell_type": "markdown",
   "metadata": {},
   "source": [
    "## Optimizer"
   ]
  },
  {
   "cell_type": "code",
   "execution_count": 10,
   "metadata": {},
   "outputs": [
    {
     "data": {
      "text/plain": [
       "#43 (generic function with 1 method)"
      ]
     },
     "execution_count": 10,
     "metadata": {},
     "output_type": "execute_result"
    }
   ],
   "source": [
    "evalcb = throttle(() -> @show(accuracy(test_x, test_y)), 10)\n",
    "opt = ADAM(params(m))"
   ]
  },
  {
   "cell_type": "markdown",
   "metadata": {},
   "source": [
    "## Training"
   ]
  },
  {
   "cell_type": "code",
   "execution_count": 11,
   "metadata": {},
   "outputs": [
    {
     "name": "stderr",
     "output_type": "stream",
     "text": [
      "┌ Info: Epoch 1\n",
      "└ @ Main /home/pika/.julia/packages/Flux/jbpWo/src/optimise/train.jl:93\n"
     ]
    },
    {
     "name": "stdout",
     "output_type": "stream",
     "text": [
      "accuracy(test_x, test_y) = 0.184\n",
      "accuracy(test_x, test_y) = 0.25\n",
      "accuracy(test_x, test_y) = 0.305\n",
      "accuracy(test_x, test_y) = 0.306\n",
      "accuracy(test_x, test_y) = 0.345\n",
      "accuracy(test_x, test_y) = 0.381\n",
      "accuracy(test_x, test_y) = 0.391\n",
      "accuracy(test_x, test_y) = 0.406\n",
      "accuracy(test_x, test_y) = 0.406\n",
      "accuracy(test_x, test_y) = 0.437\n",
      "accuracy(test_x, test_y) = 0.427\n",
      "accuracy(test_x, test_y) = 0.436\n",
      "accuracy(test_x, test_y) = 0.449\n",
      "accuracy(test_x, test_y) = 0.465\n",
      "accuracy(test_x, test_y) = 0.464\n",
      "accuracy(test_x, test_y) = 0.468\n",
      "accuracy(test_x, test_y) = 0.49\n"
     ]
    },
    {
     "name": "stderr",
     "output_type": "stream",
     "text": [
      "┌ Info: Epoch 2\n",
      "└ @ Main /home/pika/.julia/packages/Flux/jbpWo/src/optimise/train.jl:93\n"
     ]
    },
    {
     "name": "stdout",
     "output_type": "stream",
     "text": [
      "accuracy(test_x, test_y) = 0.506\n",
      "accuracy(test_x, test_y) = 0.498\n",
      "accuracy(test_x, test_y) = 0.511\n",
      "accuracy(test_x, test_y) = 0.506\n",
      "accuracy(test_x, test_y) = 0.491\n",
      "accuracy(test_x, test_y) = 0.499\n",
      "accuracy(test_x, test_y) = 0.504\n",
      "accuracy(test_x, test_y) = 0.525\n",
      "accuracy(test_x, test_y) = 0.544\n",
      "accuracy(test_x, test_y) = 0.498\n",
      "accuracy(test_x, test_y) = 0.516\n",
      "accuracy(test_x, test_y) = 0.529\n",
      "accuracy(test_x, test_y) = 0.506\n",
      "accuracy(test_x, test_y) = 0.546\n",
      "accuracy(test_x, test_y) = 0.542\n",
      "accuracy(test_x, test_y) = 0.541\n",
      "accuracy(test_x, test_y) = 0.542\n"
     ]
    },
    {
     "name": "stderr",
     "output_type": "stream",
     "text": [
      "┌ Info: Epoch 3\n",
      "└ @ Main /home/pika/.julia/packages/Flux/jbpWo/src/optimise/train.jl:93\n"
     ]
    },
    {
     "name": "stdout",
     "output_type": "stream",
     "text": [
      "accuracy(test_x, test_y) = 0.551\n",
      "accuracy(test_x, test_y) = 0.569\n",
      "accuracy(test_x, test_y) = 0.456\n",
      "accuracy(test_x, test_y) = 0.441\n",
      "accuracy(test_x, test_y) = 0.421\n",
      "accuracy(test_x, test_y) = 0.443\n",
      "accuracy(test_x, test_y) = 0.495\n",
      "accuracy(test_x, test_y) = 0.505\n",
      "accuracy(test_x, test_y) = 0.534\n",
      "accuracy(test_x, test_y) = 0.527\n",
      "accuracy(test_x, test_y) = 0.516\n",
      "accuracy(test_x, test_y) = 0.525\n",
      "accuracy(test_x, test_y) = 0.495\n",
      "accuracy(test_x, test_y) = 0.512\n",
      "accuracy(test_x, test_y) = 0.511\n",
      "accuracy(test_x, test_y) = 0.543\n",
      "accuracy(test_x, test_y) = 0.55\n"
     ]
    },
    {
     "name": "stderr",
     "output_type": "stream",
     "text": [
      "┌ Info: Epoch 4\n",
      "└ @ Main /home/pika/.julia/packages/Flux/jbpWo/src/optimise/train.jl:93\n"
     ]
    },
    {
     "name": "stdout",
     "output_type": "stream",
     "text": [
      "accuracy(test_x, test_y) = 0.552\n",
      "accuracy(test_x, test_y) = 0.547\n",
      "accuracy(test_x, test_y) = 0.548\n",
      "accuracy(test_x, test_y) = 0.532\n",
      "accuracy(test_x, test_y) = 0.557\n",
      "accuracy(test_x, test_y) = 0.56\n",
      "accuracy(test_x, test_y) = 0.569\n",
      "accuracy(test_x, test_y) = 0.551\n",
      "accuracy(test_x, test_y) = 0.567\n",
      "accuracy(test_x, test_y) = 0.568\n",
      "accuracy(test_x, test_y) = 0.569\n",
      "accuracy(test_x, test_y) = 0.583\n",
      "accuracy(test_x, test_y) = 0.587\n",
      "accuracy(test_x, test_y) = 0.572\n",
      "accuracy(test_x, test_y) = 0.572\n",
      "accuracy(test_x, test_y) = 0.576\n",
      "accuracy(test_x, test_y) = 0.587\n"
     ]
    },
    {
     "name": "stderr",
     "output_type": "stream",
     "text": [
      "┌ Info: Epoch 5\n",
      "└ @ Main /home/pika/.julia/packages/Flux/jbpWo/src/optimise/train.jl:93\n"
     ]
    },
    {
     "name": "stdout",
     "output_type": "stream",
     "text": [
      "accuracy(test_x, test_y) = 0.599\n",
      "accuracy(test_x, test_y) = 0.578\n",
      "accuracy(test_x, test_y) = 0.594\n",
      "accuracy(test_x, test_y) = 0.583\n",
      "accuracy(test_x, test_y) = 0.592\n",
      "accuracy(test_x, test_y) = 0.58\n",
      "accuracy(test_x, test_y) = 0.606\n",
      "accuracy(test_x, test_y) = 0.6\n",
      "accuracy(test_x, test_y) = 0.593\n",
      "accuracy(test_x, test_y) = 0.595\n",
      "accuracy(test_x, test_y) = 0.606\n",
      "accuracy(test_x, test_y) = 0.619\n",
      "accuracy(test_x, test_y) = 0.606\n",
      "accuracy(test_x, test_y) = 0.609\n",
      "accuracy(test_x, test_y) = 0.603\n",
      "accuracy(test_x, test_y) = 0.589\n",
      "accuracy(test_x, test_y) = 0.6\n"
     ]
    }
   ],
   "source": [
    "@epochs 5 Flux.train!(loss, train, opt, cb=evalcb)"
   ]
  },
  {
   "cell_type": "code",
   "execution_count": null,
   "metadata": {},
   "outputs": [],
   "source": []
  }
 ],
 "metadata": {
  "kernelspec": {
   "display_name": "Julia 1.0.0",
   "language": "julia",
   "name": "julia-1.0"
  },
  "language_info": {
   "file_extension": ".jl",
   "mimetype": "application/julia",
   "name": "julia",
   "version": "1.0.0"
  }
 },
 "nbformat": 4,
 "nbformat_minor": 2
}
